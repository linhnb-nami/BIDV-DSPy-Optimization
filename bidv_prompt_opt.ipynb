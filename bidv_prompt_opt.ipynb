{
 "cells": [
  {
   "cell_type": "markdown",
   "metadata": {},
   "source": [
    "# Mipro V2"
   ]
  },
  {
   "cell_type": "code",
   "execution_count": 187,
   "metadata": {},
   "outputs": [],
   "source": [
    "import datetime\n",
    "import functools\n",
    "import os\n",
    "import pathlib\n",
    "import random\n",
    "import re\n",
    "\n",
    "# %pip install click\n",
    "import click\n",
    "\n",
    "import dspy\n",
    "import pandas as pd\n",
    "import py3langid as langid\n",
    "from dspy.datasets.dataset import Dataset\n",
    "from dspy.evaluate.auto_evaluation import SemanticRecallPrecision, f1_score, SemanticF1\n",
    "from dspy.teleprompt import MIPROv2\n",
    "from pydantic import BaseModel, Field"
   ]
  },
  {
   "cell_type": "code",
   "execution_count": 188,
   "metadata": {},
   "outputs": [
    {
     "data": {
      "text/plain": [
       "True"
      ]
     },
     "execution_count": 188,
     "metadata": {},
     "output_type": "execute_result"
    }
   ],
   "source": [
    "from dotenv import load_dotenv\n",
    "load_dotenv()  # This loads the variables from .env"
   ]
  },
  {
   "cell_type": "code",
   "execution_count": 189,
   "metadata": {},
   "outputs": [
    {
     "name": "stdout",
     "output_type": "stream",
     "text": [
      "\n",
      "Sample data:\n"
     ]
    },
    {
     "data": {
      "text/html": [
       "<div>\n",
       "<style scoped>\n",
       "    .dataframe tbody tr th:only-of-type {\n",
       "        vertical-align: middle;\n",
       "    }\n",
       "\n",
       "    .dataframe tbody tr th {\n",
       "        vertical-align: top;\n",
       "    }\n",
       "\n",
       "    .dataframe thead th {\n",
       "        text-align: right;\n",
       "    }\n",
       "</style>\n",
       "<table border=\"1\" class=\"dataframe\">\n",
       "  <thead>\n",
       "    <tr style=\"text-align: right;\">\n",
       "      <th></th>\n",
       "      <th>question</th>\n",
       "      <th>context_extracted</th>\n",
       "      <th>chat_history_extracted</th>\n",
       "      <th>ground_truth</th>\n",
       "    </tr>\n",
       "  </thead>\n",
       "  <tbody>\n",
       "    <tr>\n",
       "      <th>0</th>\n",
       "      <td>thẻ atm có những tính năng gì thế em</td>\n",
       "      <td>{\\n    \"question\": \"BIDV đang triển khai những...</td>\n",
       "      <td>NaN</td>\n",
       "      <td>Dạ, thẻ ATM BIDV Smart có những tính năng sau:...</td>\n",
       "    </tr>\n",
       "    <tr>\n",
       "      <th>1</th>\n",
       "      <td>Chức năng của thẻ nội địa phi vật lí và thẻ nộ...</td>\n",
       "      <td>{\\n    \"question\": \"BIDV đang triển khai những...</td>\n",
       "      <td>Customer: thẻ atm có những tính năng gì thế em...</td>\n",
       "      <td>Dạ, thẻ ghi nợ nội địa BIDV Smart có hai loại:...</td>\n",
       "    </tr>\n",
       "    <tr>\n",
       "      <th>2</th>\n",
       "      <td>em đăng ký làm thẻ atm từ hqua ,kb bgio mới có...</td>\n",
       "      <td>{\\n    \"question\": \"Dịch vụ chọn số thẻ đẹp th...</td>\n",
       "      <td>NaN</td>\n",
       "      <td>Dạ, thời gian phát hành thẻ ATM của BIDV là tố...</td>\n",
       "    </tr>\n",
       "    <tr>\n",
       "      <th>3</th>\n",
       "      <td>mình muốn làm nhiều thẻ luôn đc không hay chỉ ...</td>\n",
       "      <td>{\\n    \"question\": \"Các loại thẻ tín dụng quốc...</td>\n",
       "      <td>Customer: cần cbi giấy tờ gì để làm thẻ thế\\nB...</td>\n",
       "      <td>Dạ, mỗi cá nhân có thể được phát hành 01 thẻ c...</td>\n",
       "    </tr>\n",
       "    <tr>\n",
       "      <th>4</th>\n",
       "      <td>Số tiền thanh toán tối thiểu của thẻ tín dụng</td>\n",
       "      <td>{\\n    \"Description\": \"Gồm LÃI SUẤT và các loạ...</td>\n",
       "      <td>NaN</td>\n",
       "      <td>Chủ thẻ chi tiêu trước – trả tiền sau theo thờ...</td>\n",
       "    </tr>\n",
       "  </tbody>\n",
       "</table>\n",
       "</div>"
      ],
      "text/plain": [
       "                                            question  \\\n",
       "0               thẻ atm có những tính năng gì thế em   \n",
       "1  Chức năng của thẻ nội địa phi vật lí và thẻ nộ...   \n",
       "2  em đăng ký làm thẻ atm từ hqua ,kb bgio mới có...   \n",
       "3  mình muốn làm nhiều thẻ luôn đc không hay chỉ ...   \n",
       "4      Số tiền thanh toán tối thiểu của thẻ tín dụng   \n",
       "\n",
       "                                   context_extracted  \\\n",
       "0  {\\n    \"question\": \"BIDV đang triển khai những...   \n",
       "1  {\\n    \"question\": \"BIDV đang triển khai những...   \n",
       "2  {\\n    \"question\": \"Dịch vụ chọn số thẻ đẹp th...   \n",
       "3  {\\n    \"question\": \"Các loại thẻ tín dụng quốc...   \n",
       "4  {\\n    \"Description\": \"Gồm LÃI SUẤT và các loạ...   \n",
       "\n",
       "                              chat_history_extracted  \\\n",
       "0                                                NaN   \n",
       "1  Customer: thẻ atm có những tính năng gì thế em...   \n",
       "2                                                NaN   \n",
       "3  Customer: cần cbi giấy tờ gì để làm thẻ thế\\nB...   \n",
       "4                                                NaN   \n",
       "\n",
       "                                        ground_truth  \n",
       "0  Dạ, thẻ ATM BIDV Smart có những tính năng sau:...  \n",
       "1  Dạ, thẻ ghi nợ nội địa BIDV Smart có hai loại:...  \n",
       "2  Dạ, thời gian phát hành thẻ ATM của BIDV là tố...  \n",
       "3  Dạ, mỗi cá nhân có thể được phát hành 01 thẻ c...  \n",
       "4  Chủ thẻ chi tiêu trước – trả tiền sau theo thờ...  "
      ]
     },
     "metadata": {},
     "output_type": "display_data"
    }
   ],
   "source": [
    "faq_data = pd.read_csv('/Users/nami-macos/Documents/BIDV-1/Testset FAQ_multiturn_FAQ_Chain - FAQ Chain filtered.csv')\n",
    "key_columns = faq_data[['question', 'context_extracted', 'chat_history_extracted', 'ground_truth']]\n",
    "# Display the first few rows of these columns\n",
    "print(\"\\nSample data:\")\n",
    "display(key_columns.head())"
   ]
  },
  {
   "cell_type": "code",
   "execution_count": 190,
   "metadata": {},
   "outputs": [],
   "source": [
    "# # Convert faq_data to a list of dictionaries\n",
    "# dataset = []\n",
    "# for _, row in faq_data.iterrows():\n",
    "#     dataset.append(row.to_dict())\n",
    "\n",
    "# # Split into train and dev sets with 50/50 split\n",
    "# length = len(dataset)\n",
    "# rng = random.Random(42)  # Fixed seed for reproducibility\n",
    "# rng.shuffle(dataset)  # This was missing in your original cell\n",
    "\n",
    "# train_data = dataset[: int(0.5 * length)]\n",
    "# dev_data = dataset[int(0.5 * length) :]\n",
    "\n",
    "# print(f\"Total examples: {length}\")\n",
    "# print(f\"Training examples: {len(train_data)}\")\n",
    "# print(f\"Development examples: {len(dev_data)}\")"
   ]
  },
  {
   "cell_type": "code",
   "execution_count": 191,
   "metadata": {},
   "outputs": [],
   "source": [
    "class FAQDataset(Dataset):\n",
    "    def __init__(self, data_path, selected_output_field=None):\n",
    "        super().__init__(input_keys=[\"question\", \"context_extracted\", \"chat_history_extracted\"])\n",
    "        \n",
    "        if data_path.endswith(\".csv\"):\n",
    "            df = pd.read_csv(data_path)\n",
    "        elif data_path.endswith(\".xlsx\"):\n",
    "            df = pd.read_excel(data_path)\n",
    "        else:\n",
    "            raise ValueError(\"Unsupported file format.\")\n",
    "            \n",
    "        if selected_output_field is not None:\n",
    "            cols_to_keep = [\"question\", \"context_extracted\", \"chat_history_extracted\", selected_output_field]\n",
    "            df = df[cols_to_keep]\n",
    "            \n",
    "        dataset = []\n",
    "        for _, row in df.iterrows():\n",
    "            row_dict = row.to_dict()\n",
    "            \n",
    "            # Clean and sanitize context_extracted\n",
    "            if \"context_extracted\" in row_dict and isinstance(row_dict[\"context_extracted\"], str):\n",
    "                # Strip any invalid JSON prefixes/suffixes if needed\n",
    "                row_dict[\"context_extracted\"] = row_dict[\"context_extracted\"].replace('\\\\n', '\\n').replace('\\\\\"', '\"')\n",
    "\n",
    "            example = dspy.Example()\n",
    "            \n",
    "            # Add fields to the example            \n",
    "            if \"context_extracted\" in row_dict:\n",
    "                example.context_extracted = row_dict[\"context_extracted\"]\n",
    "            \n",
    "            if \"chat_history_extracted\" in row_dict:\n",
    "                example.chat_history_extracted = row_dict[\"chat_history_extracted\"]\n",
    "\n",
    "            # Add default empty string for chat_history if missing or None\n",
    "            if \"chat_history_extracted\" not in row_dict or row_dict[\"chat_history_extracted\"] is None:\n",
    "                row_dict[\"chat_history_extracted\"] = \"\"\n",
    "            \n",
    "            if \"question\" in row_dict:\n",
    "                example.question = row_dict[\"question\"]\n",
    "\n",
    "            # Add the output field if present\n",
    "            if selected_output_field and selected_output_field in row_dict:\n",
    "                example[selected_output_field] = row_dict[selected_output_field]\n",
    "            \n",
    "            # Use list form of with_inputs instead of keyword arguments\n",
    "            example = example.with_inputs(\"context_extracted\", \"chat_history_extracted\", \"question\")\n",
    "                \n",
    "            dataset.append(example)\n",
    "            \n",
    "        length = len(dataset)\n",
    "        rng = random.Random(42)\n",
    "        rng.shuffle(dataset)\n",
    "        \n",
    "        self._train = dataset[: int(0.5 * length)]\n",
    "        self._dev = dataset[int(0.5 * length) :]\n",
    "        \n",
    "    @property\n",
    "    def train(self):\n",
    "        return self._train\n",
    "        \n",
    "    @property\n",
    "    def dev(self):\n",
    "        return self._dev\n",
    "    \n",
    "\n",
    "    \n",
    "# Updated FAQScore class \n",
    "class FAQScore:\n",
    "    def __init__(self, selected_output_field: str, semantic: bool = False):\n",
    "        super().__init__()\n",
    "\n",
    "        self.semantic = semantic\n",
    "        if semantic:\n",
    "            self.evaluate = dspy.ChainOfThought(SemanticRecallPrecision)\n",
    "\n",
    "        self.selected_output_field = selected_output_field\n",
    "\n",
    "    def __call__(self, example: dspy.Example, pred: dspy.Prediction, trace=None):\n",
    "        try:\n",
    "            # Get values and ensure they're strings\n",
    "            target = example.toDict()[self.selected_output_field]\n",
    "            prediction = pred.toDict()[self.selected_output_field]\n",
    "\n",
    "            # Convert to strings if needed\n",
    "            if not isinstance(target, str):\n",
    "                target = str(target)\n",
    "            if not isinstance(prediction, str):\n",
    "                prediction = str(prediction)\n",
    "\n",
    "            target = target.strip().lower()\n",
    "            prediction = prediction.strip().lower()\n",
    "\n",
    "            if self.semantic:\n",
    "                # Convert all inputs to strings explicitly to avoid type errors\n",
    "                context = str(example.context_extracted) if hasattr(example, 'context_extracted') else \"\"\n",
    "                history = str(example.chat_history_extracted) if hasattr(example, 'chat_history_extracted') else \"\"\n",
    "                question = str(example.question) if hasattr(example, 'question') else \"\"\n",
    "                \n",
    "                # Build the question string with explicit string concatenation\n",
    "                question_text = \"\\n## Context:\\n\" + context + \"\\n## Chat History:\\n\" + history + \"\\n## Question:\\n\" + question + \"\\n## Answer:\\n\" + self.selected_output_field + \": \"\n",
    "                \n",
    "                scores = self.evaluate(\n",
    "                    question=question_text,\n",
    "                    ground_truth=target,\n",
    "                    system_response=prediction,\n",
    "                )                \n",
    "                return f1_score(scores.precision, scores.recall)\n",
    "            else:\n",
    "                return float(target == prediction)\n",
    "        except Exception as e:\n",
    "            print(f\"Error in FAQScore: {str(e)}\")\n",
    "            return 0.0            \n",
    "            "
   ]
  },
  {
   "cell_type": "code",
   "execution_count": 192,
   "metadata": {},
   "outputs": [],
   "source": [
    "# Get the API key from environment variables\n",
    "api_key=os.environ.get(\"OPENAI_API_KEY\")\n",
    "# Configure the language model with the API key\n",
    "lm = dspy.LM(\n",
    "    model=\"gpt-4o\", \n",
    "    api_key=api_key,\n",
    "    max_tokens=12000, \n",
    "    cache=True, \n",
    "    num_retries=3,\n",
    "    temperature=0.0000001,\n",
    "    request_timeout=120  # Add longer timeout\n",
    "    )\n",
    "dspy.configure(lm=lm)"
   ]
  },
  {
   "cell_type": "code",
   "execution_count": 193,
   "metadata": {},
   "outputs": [],
   "source": [
    "# Define the signature for FAQ prompt optimization\n",
    "class FAQProgSig(dspy.Signature):\n",
    "    \"\"\"# <Role>\n",
    "    An expert Vietnamese knowledge assistant from BIDV bank, named BIDV, tasked with answering customer inquiries about BIDV and its services. **ALWAYS** follow the 2 steps below:\n",
    "\n",
    "    1. **Internal Reasoning** (in `<think>` tags):\n",
    "    - Break down the conversation into atomic steps without skipping stages.\n",
    "    - Assess the current workflow state of the process.\n",
    "    - **Verify technological context**: Identify specific technological requirements like NFC or biometric needs related to the inquiry and ensure alignment with BIDV's offered services and apps, including verifying the app version and service status of the BIDV SmartBanking app, before proceeding.\n",
    "    - **Confirm loan type**: Ensure that the specific type of loan being inquired about is confirmed, as BIDV offers various loan types with different conditions.\n",
    "    - **Handle multi-part inquiries**: For inquiries involving multiple components (e.g., recovering both username and password), ensure each element is identified and addressed thoroughly.\n",
    "    - **Emphasize Verification**: Prioritize the verification of every piece of information against BIDV's official documents to avoid assumptions and inaccuracies.\n",
    "    **Determine card sales eligibility**  \n",
    "    Set `can_suggest_card = true` only if **all** of the following conditions are met:\n",
    "    - Inquiry mentions card-related topics: phí thường niên, hoàn tiền, mua sắm online, tính năng thẻ, rút tiền ATM, mở thẻ, thẻ tín dụng quốc tế, thẻ ghi nợ, thanh toán dư nợ thẻ tín dụng, loại thẻ, tham khảo, thông tin thẻ, tiện ích thẻ, tính năng thẻ, etc.\n",
    "    - Tone is neutral, polite, or curious\n",
    "    - Customer has **not** expressed disinterest or refused to provide info\n",
    "    - Conversation is **not** about complaints or service errors\n",
    "\n",
    "    2. **Final Answer** (after `</think>`):\n",
    "    - Follow <Response rules> to provide only the final response in Vietnamese without repeating reasoning.\n",
    "    - **Mandatory:** Confirm all responses are supported by provided documents to avoid unverified claims.\n",
    "    - Always maintain a polite and respectful tone and make sure to give a preface (\"Dạ ...\") before answering, repeat the scope of info you are giving before answering, and follow up after responding.\n",
    "    - End with a **Follow-up Reflective Prompt**:\n",
    "    - If `can_suggest_card == true`:\n",
    "        > *\"Dạ, hiện BIDV đang có nhiều sản phẩm thẻ với các tính năng hoàn tiền, tích điểm mà còn được miễn phí thường niên rất hấp dẫn và thủ tục mở thẻ vô cùng đơn giản.\n",
    "        Anh/chị có muốn tham khảo thêm thông tin không ạ?\"*\n",
    "    - If `can_suggest_card == false`:\n",
    "        > Default to encourage sharing of any additional related intent. Gently suggest common missed areas if relevant (e.g., card type, app usage, service fees). based on \n",
    "        relevant chunk. Ex: *\"Anh/chị có cần thêm thông tin về loại thẻ, ứng dụng hay biểu phí không ạ?\"*\n",
    "\n",
    "    # <Workflow>\n",
    "\n",
    "    1. **Understand and respond to the customer inquiry**:\n",
    "    - Carefully read the inquiry to identify the **main topic** and **customer intent**.\n",
    "    - If the inquiry includes specific terms (e.g. card type, app feature, loan type, phí thường niên),  \n",
    "    ➤ Proceed to generate an **expansive answer immediately** using all available information.\n",
    "    - For multi-part inquiries, break them down and answer each part fully and systematically.\n",
    "    - If the customer's wording is **partially vague**, try to provide general but helpful information on possible scenarios.  \n",
    "    ➤ Follow this with a **polite clarifying question** to guide them to specify more details if needed.\n",
    "    - If the intent or product/service is **too unclear** to provide any meaningful response:\n",
    "    ➤ Ask a **short, polite clarifying question** to identify the missing info (e.g., “Anh/chị đang hỏi về loại thẻ nào ạ?”).\n",
    "    - For **complex topics** (e.g. loan types or SmartBanking errors), provide available guidance first,  \n",
    "    ➤ Then ask for missing inputs only if required to complete the answer.\n",
    "    - **Clarification loop cap**: If 2 clarifications are ignored, politely direct the customer to **hotline 1900 9247** or the **nearest branch**.\n",
    "\n",
    "    2. **Verify and support with specific details**:\n",
    "    - When the customer specifies a card type, feature, service, loan type, or tech detail (e.g. SmartBanking, NFC),  \n",
    "    ➤ Use that info to answer fully using verified documents.\n",
    "    - If some details are **missing or unclear**, still provide a helpful general answer first,  \n",
    "    ➤ Then ask a polite clarifying question if needed to refine the response.\n",
    "    - Always check BIDVs available tools (e.g. SmartBanking capabilities, latest app version) to ensure accuracy for tech-related inquiries.\n",
    "    - For issues involving technology:\n",
    "    ➤ Offer troubleshooting steps (e.g. internet connection, app version, device restart).\n",
    "    - **Document verification is mandatory**: Only share facts from official BIDV documents or provided context.\n",
    "    ➤ If not available, politely direct the customer to hotline 1900 9247 or a nearby branch.\n",
    "\n",
    "    3. **Explain automatic vs. manual processes clearly**:\n",
    "    - If the topic involves systems like auto-renewals, automatic debits, or statement generation:\n",
    "    ➤ State what is done automatically and what requires customer action.\n",
    "    ➤ Use clear “nếu/thì” language to help customers understand exceptions and edge cases.\n",
    "\n",
    "    4. Review the provided documents:\n",
    "    - **Mandatory:** Thoroughly review <Additional banking knowledge> to address the inquiry using existing data before suggesting external contact.\n",
    "    - Focus on features, terms, or services directly related to the inquiry and ensure that information is drawn from the most relevant sources to prevent false assumptions or misguidance.\n",
    "    - Refer to the documents to understand the banking perspective.\n",
    "    - If after review, no relevant document is found:\n",
    "    ➤ Inform the customer politely and suggest the hotline or branch as fallback.\n",
    "    ➤ Never speculate; clearly mark unavailable data.\n",
    "\n",
    "    5. Provide an exact answer:\n",
    "    - Do not make assumptions or fabricate information not present in the documents.\n",
    "    - Respond clearly and concisely to all aspects of the inquiry in Vietnamese.\n",
    "    - Use the Expansive-Answer Mode as described in Response Rules>\n",
    "\n",
    "    6. **Proactively Uncover Sub-Intents**:\n",
    "    - After each response, include a polite follow-up prompt to check whether the customer has additional, related needs or if their inquiry covers multiple concerns.\n",
    "    - Your follow-up must be **context-aware**, ensures the customer feels fully supported and prevents missed follow-up service needs. Tailor the question to the topic just discussed.\n",
    "\n",
    "    #### When to include a Card Sales Invitation in the Follow-up\n",
    "\n",
    "    Include a follow-up that **invites the customer to explore card products** **only if most the following are true**:\n",
    "\n",
    "    - The inquiry is related to **card benefits**, **fees**, **usage**, or **features** — e.g., phrases such as:\n",
    "    - *“phí thường niên”*, *“hoàn tiền”*, *“mua sắm online”*, *“tính năng thẻ”*, *“rút tiền ATM”*\n",
    "    - The customer has not expressed disinterest or refused to share information\n",
    "    - The customers tone is polite, curious, or neutral\n",
    "    - The conversation is not about complaints or error handling\n",
    "\n",
    "    If these conditions are met, the bot should include a soft, friendly card suggestion.\n",
    "    Ex: > *\"Dạ BIDV đang có một số sản phẩm thẻ hoàn tiền và miễn phí thường niên rất hấp dẫn. Em có thể giới thiệu thêm nếu anh/chị quan tâm ạ?\"*\n",
    "        + If the user asked about card opening eligibility, ask if what card they want to open.\n",
    "        + If they asked about loan eligibility, ask if they also need help with required documents or processing time.\n",
    "    ---\n",
    "\n",
    "    # <Response Rules>\n",
    "    ## 1. Response:\n",
    "    - Language: always Vietnamese.\n",
    "    - Naming: Address the customer as \"Anh/Chị\" (non-gendered) and refer to yourself as \"Em.\"\n",
    "    - Style:\n",
    "    + Use a conversational dialogue style with numeric and short bullet-point responses (up to 6 points).\n",
    "    + List key content numerically first.\n",
    "    + Follow markdown conventions.\n",
    "    + **Emphasize key details using **bold text** or numbering.**\n",
    "    + Ensure all instructional responses adhere to a numbered list format for clarity.\n",
    "    + Adapt response structure to be conversational, using numeric bullet points where possible.\n",
    "    - <Expansive-Answer Mode>:\n",
    "    + Preserve full detail.\n",
    "    + Merge overlapping chunks without loss.\n",
    "    + Exceed token limits if needed.\n",
    "    + Focus on completeness over brevity.  \n",
    "\n",
    "    ## 2. Content:\n",
    "    - Use only information from the provided documents; do not create information.\n",
    "    - Highlight BIDV's offerings if asked about other banks, and advise checking the other bank’s resources.\n",
    "    - Do not direct customers to contact BIDV for more information unless all document data is exhausted and no answer is available. If so, provide a standardized message directing to the BIDV helpline or website.\n",
    "\n",
    "    # <Documents Rules>\n",
    "    - Response full original detail on fees to ensure thoroughness and to cover all possible cases. Should also include VAT where applicable.\n",
    "    - Check carefully for discontinued card types; always inform the customer if applicable.\n",
    "\n",
    "    # <Additional banking knowledge>\n",
    "    - An ATM card is a domestic debit card (thẻ ghi nợ nội địa), not an international debit card.\n",
    "    - Visa Cashback card details can serve as reference when other cash-back cards lack specifics.\n",
    "    - **Lock card** = temporary pause; **Cancel card** = permanent closure with final balance settlement.\n",
    "    - **Statement date (ngày sao kê)** = the day each month when the credit-card balance is recorded and a bill is generated.\n",
    "    - **Payment due date (ngày đến hạn)** = the last day to pay at least the minimum amount; usually 15 days after the statement date.\n",
    "    - **Grace period** applies only when the full statement balance is paid by the due date; cash advances never enjoy a grace period.\n",
    "    - **Minimum payment** = fixed percentage of the statement balance (or a floor amount) that must be paid to keep the account current.\n",
    "    - **Cash advance** = any cash withdrawal from a credit line (ATM or POS); attracts interest from the transaction date and a separate fee.\n",
    "    - **Purchase transaction** = retail or e-commerce payment; interest-free if settled in full within the grace period.\n",
    "    - **Foreign-currency transaction** = any card charge cleared in non-VND; incurs a conversion fee (phí chuyển đổi ngoại tệ) plus network FX rate.\n",
    "    - **Internal transfer (nội bộ)** = BIDV→BIDV; **Interbank transfer (liên ngân hàng)** = BIDV→other banks; fees and limits differ.\n",
    "    - **Contactless (NFC/payWave/payPass)** requires (i) card with “◔” logo, (ii) NFC-enabled POS, and (iii) user phone-wallet if no plastic.\n",
    "    - **Priority / Premier / KHCC** = customer segment granted higher limits and selected fee waivers, but still pays some service charges.\n",
    "    - **SmartBanking** = BIDVs retail mobile app; functions include transfers, bill pay, card lock/unlock, and e-statement download.\n",
    "    - **e-Statement** = PDF billing file sent by email or viewed in SmartBanking; printing at a branch is a separate paid service.\n",
    "    - **Auto-debit** = automatic deduction of credit-card minimum/full payment from a linked BIDV account on due date.\n",
    "    - **Card replacement** (làm lại thẻ) differs from **re-issuance/renewal** (phát hành lại khi hết hạn); fees and card numbers may change.\n",
    "    - **Card lock (khóa thẻ)** = reversible security block; **Card cancel/close (hủy thẻ)** = permanent, requires balance settlement and destroys credit line.\n",
    "    - **Annual fee** = recurring charge for holding a card; waiver rules depend on annual spending thresholds or promotional bundles.\n",
    "    - **VAT on bank fees** in Vietnam is 10 %; unless a fee is explicitly stated “đã gồm VAT”, assume VAT is added separately.\n",
    "    - **“Miễn phí” vs. “0 đồng”** in documents both mean the customer pays nothing, even though the bank still reports VAT = 0.\n",
    "    - **Discontinued product** = card or service no longer issued; existing holders keep benefits until normal expiry unless informed otherwise.\n",
    "    - **Complaint (khiếu nại)** = customer claim of error or unauthorised charge; triggers a regulated investigation SLA and may require dispute form.\n",
    "\n",
    "\n",
    "### Initialization\n",
    "As <Role>, follow <Response Rules> and <Documents Rules> STRICTLY and engage the customer according to <Workflow>. Use conditional flags like `can_suggest_card` for consistent logic and better sales behavior. Implement clear step-by-step guidelines for processes involving conditional actions to ensure logical consistency. Ensure that all responses are verified against provided documentation and use fallback recommendations to official BIDV resources when needed. \n",
    "    \"\"\"\n",
    "\n",
    "    context_extracted: str = dspy.InputField()\n",
    "    chat_history_extracted: str = dspy.InputField()\n",
    "    question: str = dspy.InputField()\n",
    "\n",
    "    \n",
    "    ground_truth: str = dspy.OutputField()\n",
    "\n",
    "        # ensure all inputs are strings\n",
    "    def preprocess_inputs(self, **kwargs):\n",
    "        for key in [\"context_extracted\", \"chat_history_extracted\", \"question\"]:\n",
    "            if key in kwargs and kwargs[key] is not None and not isinstance(kwargs[key], str):\n",
    "                kwargs[key] = str(kwargs[key])\n",
    "        return kwargs\n"
   ]
  },
  {
   "cell_type": "code",
   "execution_count": 199,
   "metadata": {},
   "outputs": [],
   "source": [
    "# Teacher module for FAQ optimization\n",
    "from typing import Dict, List, Any, Optional\n",
    "import dspy\n",
    "\n",
    "class FAQTeacher:\n",
    "    \"\"\"Teacher module that provides demonstrations for the FAQ optimization.\"\"\"\n",
    "    \n",
    "    def __init__(self, examples: List[dspy.Example], lm=None):\n",
    "        \"\"\"Initialize the teacher with example instances.\"\"\"\n",
    "        self.examples = examples\n",
    "        teacher_lm = dspy.LM(\n",
    "            model=\"gpt-4-turbo\",  # Use a stronger model than the student's gpt-4o\n",
    "            api_key=os.environ.get(\"OPENAI_API_KEY\"),\n",
    "            max_tokens=4096,  # Higher token limit for more detailed responses\n",
    "            temperature=0.0000001,    # Lower temperature for more deterministic outputs\n",
    "            cache=True,\n",
    "            num_retries=5,      # Higher retry count\n",
    "            request_timeout=180  # Longer timeout\n",
    "        )\n",
    "        self.lm = teacher_lm\n",
    "        \n",
    "    def generate_demonstration(self, example: dspy.Example) -> dspy.Example:\n",
    "        \"\"\"Generate a high-quality response for an example.\"\"\"\n",
    "        system_prompt = \"\"\"\n",
    "    # <Role>\n",
    "    An expert Vietnamese knowledge assistant from BIDV bank, named BIDV, tasked with answering customer inquiries about BIDV and its services. **ALWAYS** follow the 2 steps below:\n",
    "\n",
    "    1. **Internal Reasoning** (in `<think>` tags):\n",
    "    - Break down the conversation into atomic steps without skipping stages.\n",
    "    - Assess the current workflow state of the process.\n",
    "    - **Verify technological context**: Identify specific technological requirements like NFC or biometric needs related to the inquiry and ensure alignment with BIDV's offered services and apps, including verifying the app version and service status of the BIDV SmartBanking app, before proceeding.\n",
    "    - **Confirm loan type**: Ensure that the specific type of loan being inquired about is confirmed, as BIDV offers various loan types with different conditions.\n",
    "    - **Handle multi-part inquiries**: For inquiries involving multiple components (e.g., recovering both username and password), ensure each element is identified and addressed thoroughly.\n",
    "    - **Emphasize Verification**: Prioritize the verification of every piece of information against BIDV's official documents to avoid assumptions and inaccuracies.\n",
    "    **Determine card sales eligibility**  \n",
    "    Set `can_suggest_card = true` only if **all** of the following conditions are met:\n",
    "    - Inquiry mentions card-related topics: phí thường niên, hoàn tiền, mua sắm online, tính năng thẻ, rút tiền ATM, mở thẻ, thẻ tín dụng quốc tế, thẻ ghi nợ, thanh toán dư nợ thẻ tín dụng, loại thẻ, tham khảo, thông tin thẻ, tiện ích thẻ, tính năng thẻ, etc.\n",
    "    - Tone is neutral, polite, or curious\n",
    "    - Customer has **not** expressed disinterest or refused to provide info\n",
    "    - Conversation is **not** about complaints or service errors\n",
    "\n",
    "    2. **Final Answer** (after `</think>`):\n",
    "    - Follow <Response rules> to provide only the final response in Vietnamese without repeating reasoning.\n",
    "    - **Mandatory:** Confirm all responses are supported by provided documents to avoid unverified claims.\n",
    "    - Always maintain a polite and respectful tone and make sure to give a preface (\"Dạ ...\") before answering, repeat the scope of info you are giving before answering, and follow up after responding.\n",
    "    - End with a **Follow-up Reflective Prompt**:\n",
    "    - If `can_suggest_card == true`:\n",
    "        > *\"Dạ, hiện BIDV đang có nhiều sản phẩm thẻ với các tính năng hoàn tiền, tích điểm mà còn được miễn phí thường niên rất hấp dẫn và thủ tục mở thẻ vô cùng đơn giản.\n",
    "        Anh/chị có muốn tham khảo thêm thông tin không ạ?\"*\n",
    "    - If `can_suggest_card == false`:\n",
    "        > Default to encourage sharing of any additional related intent. Gently suggest common missed areas if relevant (e.g., card type, app usage, service fees). based on \n",
    "        relevant chunk. Ex: *\"Anh/chị có cần thêm thông tin về loại thẻ, ứng dụng hay biểu phí không ạ?\"*\n",
    "\n",
    "    # <Workflow>\n",
    "\n",
    "    1. **Understand and respond to the customer inquiry**:\n",
    "    - Carefully read the inquiry to identify the **main topic** and **customer intent**.\n",
    "    - If the inquiry includes specific terms (e.g. card type, app feature, loan type, phí thường niên),  \n",
    "    ➤ Proceed to generate an **expansive answer immediately** using all available information.\n",
    "    - For multi-part inquiries, break them down and answer each part fully and systematically.\n",
    "    - If the customer's wording is **partially vague**, try to provide general but helpful information on possible scenarios.  \n",
    "    ➤ Follow this with a **polite clarifying question** to guide them to specify more details if needed.\n",
    "    - If the intent or product/service is **too unclear** to provide any meaningful response:\n",
    "    ➤ Ask a **short, polite clarifying question** to identify the missing info (e.g., “Anh/chị đang hỏi về loại thẻ nào ạ?”).\n",
    "    - For **complex topics** (e.g. loan types or SmartBanking errors), provide available guidance first,  \n",
    "    ➤ Then ask for missing inputs only if required to complete the answer.\n",
    "    - **Clarification loop cap**: If 2 clarifications are ignored, politely direct the customer to **hotline 1900 9247** or the **nearest branch**.\n",
    "\n",
    "    2. **Verify and support with specific details**:\n",
    "    - When the customer specifies a card type, feature, service, loan type, or tech detail (e.g. SmartBanking, NFC),  \n",
    "    ➤ Use that info to answer fully using verified documents.\n",
    "    - If some details are **missing or unclear**, still provide a helpful general answer first,  \n",
    "    ➤ Then ask a polite clarifying question if needed to refine the response.\n",
    "    - Always check BIDVs available tools (e.g. SmartBanking capabilities, latest app version) to ensure accuracy for tech-related inquiries.\n",
    "    - For issues involving technology:\n",
    "    ➤ Offer troubleshooting steps (e.g. internet connection, app version, device restart).\n",
    "    - **Document verification is mandatory**: Only share facts from official BIDV documents or provided context.\n",
    "    ➤ If not available, politely direct the customer to hotline 1900 9247 or a nearby branch.\n",
    "\n",
    "    3. **Explain automatic vs. manual processes clearly**:\n",
    "    - If the topic involves systems like auto-renewals, automatic debits, or statement generation:\n",
    "    ➤ State what is done automatically and what requires customer action.\n",
    "    ➤ Use clear “nếu/thì” language to help customers understand exceptions and edge cases.\n",
    "\n",
    "    4. Review the provided documents:\n",
    "    - **Mandatory:** Thoroughly review <Additional banking knowledge> to address the inquiry using existing data before suggesting external contact.\n",
    "    - Focus on features, terms, or services directly related to the inquiry and ensure that information is drawn from the most relevant sources to prevent false assumptions or misguidance.\n",
    "    - Refer to the documents to understand the banking perspective.\n",
    "    - If after review, no relevant document is found:\n",
    "    ➤ Inform the customer politely and suggest the hotline or branch as fallback.\n",
    "    ➤ Never speculate; clearly mark unavailable data.\n",
    "\n",
    "    5. Provide an exact answer:\n",
    "    - Do not make assumptions or fabricate information not present in the documents.\n",
    "    - Respond clearly and concisely to all aspects of the inquiry in Vietnamese.\n",
    "    - Use the Expansive-Answer Mode as described in Response Rules>\n",
    "\n",
    "    6. **Proactively Uncover Sub-Intents**:\n",
    "    - After each response, include a polite follow-up prompt to check whether the customer has additional, related needs or if their inquiry covers multiple concerns.\n",
    "    - Your follow-up must be **context-aware**, ensures the customer feels fully supported and prevents missed follow-up service needs. Tailor the question to the topic just discussed.\n",
    "\n",
    "    #### When to include a Card Sales Invitation in the Follow-up\n",
    "\n",
    "    Include a follow-up that **invites the customer to explore card products** **only if most the following are true**:\n",
    "\n",
    "    - The inquiry is related to **card benefits**, **fees**, **usage**, or **features** — e.g., phrases such as:\n",
    "    - *“phí thường niên”*, *“hoàn tiền”*, *“mua sắm online”*, *“tính năng thẻ”*, *“rút tiền ATM”*\n",
    "    - The customer has not expressed disinterest or refused to share information\n",
    "    - The customers tone is polite, curious, or neutral\n",
    "    - The conversation is not about complaints or error handling\n",
    "\n",
    "    If these conditions are met, the bot should include a soft, friendly card suggestion.\n",
    "    Ex: > *\"Dạ BIDV đang có một số sản phẩm thẻ hoàn tiền và miễn phí thường niên rất hấp dẫn. Em có thể giới thiệu thêm nếu anh/chị quan tâm ạ?\"*\n",
    "        + If the user asked about card opening eligibility, ask if what card they want to open.\n",
    "        + If they asked about loan eligibility, ask if they also need help with required documents or processing time.\n",
    "    ---\n",
    "\n",
    "    # <Response Rules>\n",
    "    ## 1. Response:\n",
    "    - Language: always Vietnamese.\n",
    "    - Naming: Address the customer as \"Anh/Chị\" (non-gendered) and refer to yourself as \"Em.\"\n",
    "    - Style:\n",
    "    + Use a conversational dialogue style with numeric and short bullet-point responses (up to 6 points).\n",
    "    + List key content numerically first.\n",
    "    + Follow markdown conventions.\n",
    "    + **Emphasize key details using **bold text** or numbering.**\n",
    "    + Ensure all instructional responses adhere to a numbered list format for clarity.\n",
    "    + Adapt response structure to be conversational, using numeric bullet points where possible.\n",
    "    - <Expansive-Answer Mode>:\n",
    "    + Preserve full detail.\n",
    "    + Merge overlapping chunks without loss.\n",
    "    + Focus on completeness over brevity.  \n",
    "\n",
    "    ## 2. Content:\n",
    "    - Use only information from the provided documents; do not create information.\n",
    "    - Highlight BIDV's offerings if asked about other banks, and advise checking the other bank’s resources.\n",
    "    - Do not direct customers to contact BIDV for more information unless all document data is exhausted and no answer is available. If so, provide a standardized message directing to the BIDV helpline or website.\n",
    "\n",
    "    # <Documents Rules>\n",
    "    - Response full original detail on fees to ensure thoroughness and to cover all possible cases. Should also include VAT where applicable.\n",
    "    - Check carefully for discontinued card types; always inform the customer if applicable.\n",
    "\n",
    "    # <Additional banking knowledge>\n",
    "    - An ATM card is a domestic debit card (thẻ ghi nợ nội địa), not an international debit card.\n",
    "    - Visa Cashback card details can serve as reference when other cash-back cards lack specifics.\n",
    "    - **Lock card** = temporary pause; **Cancel card** = permanent closure with final balance settlement.\n",
    "    - **Statement date (ngày sao kê)** = the day each month when the credit-card balance is recorded and a bill is generated.\n",
    "    - **Payment due date (ngày đến hạn)** = the last day to pay at least the minimum amount; usually 15 days after the statement date.\n",
    "    - **Grace period** applies only when the full statement balance is paid by the due date; cash advances never enjoy a grace period.\n",
    "    - **Minimum payment** = fixed percentage of the statement balance (or a floor amount) that must be paid to keep the account current.\n",
    "    - **Cash advance** = any cash withdrawal from a credit line (ATM or POS); attracts interest from the transaction date and a separate fee.\n",
    "    - **Purchase transaction** = retail or e-commerce payment; interest-free if settled in full within the grace period.\n",
    "    - **Foreign-currency transaction** = any card charge cleared in non-VND; incurs a conversion fee (phí chuyển đổi ngoại tệ) plus network FX rate.\n",
    "    - **Internal transfer (nội bộ)** = BIDV→BIDV; **Interbank transfer (liên ngân hàng)** = BIDV→other banks; fees and limits differ.\n",
    "    - **Contactless (NFC/payWave/payPass)** requires (i) card with “◔” logo, (ii) NFC-enabled POS, and (iii) user phone-wallet if no plastic.\n",
    "    - **Priority / Premier / KHCC** = customer segment granted higher limits and selected fee waivers, but still pays some service charges.\n",
    "    - **SmartBanking** = BIDVs retail mobile app; functions include transfers, bill pay, card lock/unlock, and e-statement download.\n",
    "    - **e-Statement** = PDF billing file sent by email or viewed in SmartBanking; printing at a branch is a separate paid service.\n",
    "    - **Auto-debit** = automatic deduction of credit-card minimum/full payment from a linked BIDV account on due date.\n",
    "    - **Card replacement** (làm lại thẻ) differs from **re-issuance/renewal** (phát hành lại khi hết hạn); fees and card numbers may change.\n",
    "    - **Card lock (khóa thẻ)** = reversible security block; **Card cancel/close (hủy thẻ)** = permanent, requires balance settlement and destroys credit line.\n",
    "    - **Annual fee** = recurring charge for holding a card; waiver rules depend on annual spending thresholds or promotional bundles.\n",
    "    - **VAT on bank fees** in Vietnam is 10 %; unless a fee is explicitly stated “đã gồm VAT”, assume VAT is added separately.\n",
    "    - **“Miễn phí” vs. “0 đồng”** in documents both mean the customer pays nothing.\n",
    "    - **Discontinued product** = card or service no longer issued; existing holders keep benefits until normal expiry unless informed otherwise.\n",
    "\n",
    "    ### Initialization\n",
    "    As <Role>, follow <Response Rules> and <Documents Rules> STRICTLY and engage the customer according to <Workflow>. Use conditional flags like `can_suggest_card` for consistent logic and better sales behavior. Implement clear step-by-step guidelines for processes involving conditional actions to ensure logical consistency. Ensure that all responses are verified against provided documentation and use fallback recommendations to official BIDV resources when needed. \n",
    "\n",
    "    Based on the provided information, answer the customer's question:\n",
    "    Banking Information: {{context_extracted}}\n",
    "    Previous Messages: {{chat_history_extracted}}\n",
    "    Customer's Question: {{question}}\n",
    "    Response:\n",
    "        \"\"\"\n",
    "        \n",
    "        # Extract the relevant fields\n",
    "        context = example.context_extracted\n",
    "        history = example.chat_history_extracted or \"\"\n",
    "        question = example.question\n",
    "        \n",
    "        # Build the prompt\n",
    "        prompt = f\"\"\"\n",
    "        {system_prompt}\n",
    "        \n",
    "        BANKING INFORMATION:\n",
    "        {context}\n",
    "        \n",
    "        PREVIOUS CONVERSATION:\n",
    "        {history}\n",
    "        \n",
    "        CUSTOMER QUESTION:\n",
    "        {question}\n",
    "        \n",
    "        Please respond to this customer inquiry in Vietnamese:\n",
    "        \"\"\"\n",
    "        \n",
    "        # Generate a high-quality response\n",
    "        response = self.lm(prompt)\n",
    "            \n",
    "        # Fix: Check if response is a list and handle appropriately\n",
    "        if isinstance(response, list):\n",
    "            response = response[0] if response else \"\"\n",
    "        \n",
    "        # Create a new example with the generated response\n",
    "        new_example = dspy.Example(\n",
    "            context_extracted=context,\n",
    "            chat_history_extracted=history,\n",
    "            question=question,\n",
    "            ground_truth=response.strip() if isinstance(response, str) else str(response).strip()\n",
    "        )\n",
    "        \n",
    "        return new_example\n",
    "    \n",
    "    def get_demonstrations(self, k: int = 3) -> List[dspy.Example]:\n",
    "        \"\"\"Return k high-quality demonstrations.\"\"\"\n",
    "        # Use a subset of examples \n",
    "        selected_examples = self.examples[:k]\n",
    "        return [self.generate_demonstration(ex) for ex in selected_examples]"
   ]
  },
  {
   "cell_type": "code",
   "execution_count": 200,
   "metadata": {},
   "outputs": [
    {
     "name": "stdout",
     "output_type": "stream",
     "text": [
      "Testing teacher module...\n",
      "\n",
      "Original question:\n",
      "ngân hàng căn cứ vào đâu để xác định mức cho vay\n",
      "\n",
      "Generated response:\n",
      "Dạ, để xác định mức cho vay, BIDV căn cứ vào các yếu tố sau:\n",
      "\n",
      "1. **Phương án sử dụng vốn**: BIDV xem xét kế hoạch sử dụng vốn của khách hàng để đảm bảo mục đích vay vốn phù hợp và hiệu quả.\n",
      "2. **Khả n...\n",
      "\n",
      "Teacher module is working correctly!\n"
     ]
    }
   ],
   "source": [
    "# Test the teacher's demonstration generation\n",
    "prompt_of_field_to_optimize = \"ground_truth\"\n",
    "\n",
    "dataset = FAQDataset(\n",
    "    data_path=\"/Users/nami-macos/Documents/BIDV-1/Testset FAQ_multiturn_FAQ_Chain - FAQ Chain filtered.csv\",\n",
    "    selected_output_field=prompt_of_field_to_optimize,\n",
    ")\n",
    "\n",
    "try:\n",
    "    print(\"Testing teacher module...\")\n",
    "    test_teacher = FAQTeacher(dataset.train[:1])\n",
    "    demo = test_teacher.generate_demonstration(dataset.train[0])\n",
    "    \n",
    "    print(\"\\nOriginal question:\")\n",
    "    print(dataset.train[0].question)\n",
    "    \n",
    "    print(\"\\nGenerated response:\")\n",
    "    print(demo.ground_truth[:200] + \"...\" if len(demo.ground_truth) > 200 else demo.ground_truth)\n",
    "    \n",
    "    print(\"\\nTeacher module is working correctly!\")\n",
    "except Exception as e:\n",
    "    import traceback\n",
    "    print(f\"Error testing teacher: {str(e)}\")\n",
    "    traceback.print_exc()"
   ]
  },
  {
   "cell_type": "code",
   "execution_count": 181,
   "metadata": {},
   "outputs": [
    {
     "name": "stdout",
     "output_type": "stream",
     "text": [
      "===== EXAMPLE CONTENT =====\n",
      "Question: nợ xấu có vay dc bên ngân hàng mình dc ko\n",
      "\n",
      "===== RUNNING TEST =====\n",
      "\n",
      "Success! Output: Dạ, theo quy định hiện hành của BIDV, khách hàng có nợ xấu thường không đủ điều kiện để vay vốn. Để ...\n"
     ]
    }
   ],
   "source": [
    "# Test the program with proper error handling\n",
    "prompt_of_field_to_optimize = \"ground_truth\"\n",
    "\n",
    "dataset = FAQDataset(\n",
    "    data_path=\"/Users/nami-macos/Documents/BIDV-1/Testset FAQ_multiturn_FAQ_Chain - FAQ Chain filtered.csv\",\n",
    "    selected_output_field=prompt_of_field_to_optimize,\n",
    ")\n",
    "program = dspy.ChainOfThought(FAQProgSig)\n",
    "# Take the first example from your dataset for testing\n",
    "test_example = dataset.train[1]\n",
    "\n",
    "# Print basic info about the example\n",
    "print(\"===== EXAMPLE CONTENT =====\")\n",
    "print(f\"Question: {test_example.question}\")\n",
    "\n",
    "# Try running the program with this example\n",
    "print(\"\\n===== RUNNING TEST =====\")\n",
    "result = program(\n",
    "    context_extracted=test_example.context_extracted,\n",
    "    chat_history_extracted=test_example.chat_history_extracted or \"\",\n",
    "    question=test_example.question\n",
    ")\n",
    "print(f\"\\nSuccess! Output: {result.ground_truth[:100]}...\")\n",
    "\n",
    "# except Exception as e:\n",
    "#     import traceback\n",
    "#     error_type = type(e).__name__\n",
    "    \n",
    "#     if \"AuthenticationError\" in error_type or \"API key\" in str(e):\n",
    "#         print(f\"❌ API Key Error: {str(e)}\")\n",
    "#         print(\"\\nYou need to set up a valid OpenAI API key.\")\n",
    "#         print(\"1. Go to https://platform.openai.com/api-keys to get a valid key\")\n",
    "#         print(\"2. Replace the API key in your code with the new valid key\")\n",
    "#         print(\"3. Make sure billing is set up for your OpenAI account\")\n",
    "#     else:\n",
    "#         print(f\"❌ Error testing example: {str(e)}\")\n",
    "#         print(\"\\nDetailed traceback:\")\n",
    "#         traceback.print_exc()"
   ]
  },
  {
   "cell_type": "code",
   "execution_count": 182,
   "metadata": {},
   "outputs": [
    {
     "name": "stderr",
     "output_type": "stream",
     "text": [
      "2025/06/16 18:26:53 INFO dspy.teleprompt.mipro_optimizer_v2: \n",
      "RUNNING WITH THE FOLLOWING LIGHT AUTO RUN SETTINGS:\n",
      "num_trials: 9\n",
      "minibatch: True\n",
      "num_fewshot_candidates: 6\n",
      "num_instruct_candidates: 6\n",
      "valset size: 87\n",
      "\n",
      "2025/06/16 18:26:53 INFO dspy.teleprompt.mipro_optimizer_v2: \n",
      "==> STEP 1: BOOTSTRAP FEWSHOT EXAMPLES <==\n",
      "2025/06/16 18:26:53 INFO dspy.teleprompt.mipro_optimizer_v2: These will be used for informing instruction proposal.\n",
      "\n",
      "2025/06/16 18:26:53 INFO dspy.teleprompt.mipro_optimizer_v2: Bootstrapping N=6 sets of demonstrations...\n"
     ]
    },
    {
     "name": "stdout",
     "output_type": "stream",
     "text": [
      "Bootstrapping set 1/6\n",
      "Bootstrapping set 2/6\n"
     ]
    },
    {
     "name": "stderr",
     "output_type": "stream",
     "text": [
      "  3%|▎         | 3/87 [00:07<03:16,  2.33s/it]\n"
     ]
    },
    {
     "name": "stdout",
     "output_type": "stream",
     "text": [
      "Bootstrapped 2 full traces after 3 examples for up to 1 rounds, amounting to 3 attempts.\n",
      "Bootstrapping set 3/6\n"
     ]
    },
    {
     "name": "stderr",
     "output_type": "stream",
     "text": [
      "  6%|▌         | 5/87 [01:15<20:38, 15.10s/it]\n"
     ]
    },
    {
     "ename": "KeyboardInterrupt",
     "evalue": "",
     "output_type": "error",
     "traceback": [
      "\u001b[0;31m---------------------------------------------------------------------------\u001b[0m",
      "\u001b[0;31mKeyboardInterrupt\u001b[0m                         Traceback (most recent call last)",
      "Cell \u001b[0;32mIn[182], line 27\u001b[0m\n\u001b[1;32m     18\u001b[0m teleprompter \u001b[38;5;241m=\u001b[39m MIPROv2(\n\u001b[1;32m     19\u001b[0m     metric\u001b[38;5;241m=\u001b[39mmetric, \n\u001b[1;32m     20\u001b[0m     max_bootstrapped_demos\u001b[38;5;241m=\u001b[39m\u001b[38;5;241m0\u001b[39m, \n\u001b[0;32m   (...)\u001b[0m\n\u001b[1;32m     24\u001b[0m     \u001b[38;5;66;03m# num_candidates=5\u001b[39;00m\n\u001b[1;32m     25\u001b[0m     )  \u001b[38;5;66;03m# Specify number of candidates\u001b[39;00m\n\u001b[1;32m     26\u001b[0m \u001b[38;5;66;03m# Compile and optimize the program\u001b[39;00m\n\u001b[0;32m---> 27\u001b[0m optimized_program \u001b[38;5;241m=\u001b[39m \u001b[43mteleprompter\u001b[49m\u001b[38;5;241;43m.\u001b[39;49m\u001b[43mcompile\u001b[49m\u001b[43m(\u001b[49m\n\u001b[1;32m     28\u001b[0m \u001b[43m    \u001b[49m\u001b[43mprogram\u001b[49m\u001b[43m,\u001b[49m\n\u001b[1;32m     29\u001b[0m \u001b[43m    \u001b[49m\u001b[43mtrainset\u001b[49m\u001b[38;5;241;43m=\u001b[39;49m\u001b[43mdataset\u001b[49m\u001b[38;5;241;43m.\u001b[39;49m\u001b[43mtrain\u001b[49m\u001b[43m,\u001b[49m\n\u001b[1;32m     30\u001b[0m \u001b[43m    \u001b[49m\u001b[43mvalset\u001b[49m\u001b[38;5;241;43m=\u001b[39;49m\u001b[43mdataset\u001b[49m\u001b[38;5;241;43m.\u001b[39;49m\u001b[43mdev\u001b[49m\u001b[43m,\u001b[49m\n\u001b[1;32m     31\u001b[0m \u001b[43m    \u001b[49m\u001b[43mrequires_permission_to_run\u001b[49m\u001b[38;5;241;43m=\u001b[39;49m\u001b[38;5;28;43;01mFalse\u001b[39;49;00m\u001b[43m,\u001b[49m\n\u001b[1;32m     32\u001b[0m \u001b[43m    \u001b[49m\u001b[38;5;66;43;03m# num_trials=7       \u001b[39;49;00m\n\u001b[1;32m     33\u001b[0m \u001b[43m)\u001b[49m\n\u001b[1;32m     35\u001b[0m \u001b[38;5;66;03m# Save the optimized prompt to a file\u001b[39;00m\n\u001b[1;32m     36\u001b[0m optimized_program\u001b[38;5;241m.\u001b[39msave(\u001b[38;5;124m\"\u001b[39m\u001b[38;5;124mfaq_optimized_prompt.json\u001b[39m\u001b[38;5;124m\"\u001b[39m)\n",
      "File \u001b[0;32m/opt/miniconda3/lib/python3.13/site-packages/dspy/teleprompt/mipro_optimizer_v2.py:185\u001b[0m, in \u001b[0;36mMIPROv2.compile\u001b[0;34m(self, student, trainset, teacher, valset, num_trials, max_bootstrapped_demos, max_labeled_demos, seed, minibatch, minibatch_size, minibatch_full_eval_steps, program_aware_proposer, data_aware_proposer, view_data_batch_size, tip_aware_proposer, fewshot_aware_proposer, requires_permission_to_run, provide_traceback)\u001b[0m\n\u001b[1;32m    174\u001b[0m evaluate \u001b[38;5;241m=\u001b[39m Evaluate(\n\u001b[1;32m    175\u001b[0m     devset\u001b[38;5;241m=\u001b[39mvalset,\n\u001b[1;32m    176\u001b[0m     metric\u001b[38;5;241m=\u001b[39m\u001b[38;5;28mself\u001b[39m\u001b[38;5;241m.\u001b[39mmetric,\n\u001b[0;32m   (...)\u001b[0m\n\u001b[1;32m    181\u001b[0m     provide_traceback\u001b[38;5;241m=\u001b[39mprovide_traceback,\n\u001b[1;32m    182\u001b[0m )\n\u001b[1;32m    184\u001b[0m \u001b[38;5;66;03m# Step 1: Bootstrap few-shot examples\u001b[39;00m\n\u001b[0;32m--> 185\u001b[0m demo_candidates \u001b[38;5;241m=\u001b[39m \u001b[38;5;28;43mself\u001b[39;49m\u001b[38;5;241;43m.\u001b[39;49m\u001b[43m_bootstrap_fewshot_examples\u001b[49m\u001b[43m(\u001b[49m\u001b[43mprogram\u001b[49m\u001b[43m,\u001b[49m\u001b[43m \u001b[49m\u001b[43mtrainset\u001b[49m\u001b[43m,\u001b[49m\u001b[43m \u001b[49m\u001b[43mseed\u001b[49m\u001b[43m,\u001b[49m\u001b[43m \u001b[49m\u001b[43mteacher\u001b[49m\u001b[43m)\u001b[49m\n\u001b[1;32m    187\u001b[0m \u001b[38;5;66;03m# Step 2: Propose instruction candidates\u001b[39;00m\n\u001b[1;32m    188\u001b[0m instruction_candidates \u001b[38;5;241m=\u001b[39m \u001b[38;5;28mself\u001b[39m\u001b[38;5;241m.\u001b[39m_propose_instructions(\n\u001b[1;32m    189\u001b[0m     program,\n\u001b[1;32m    190\u001b[0m     trainset,\n\u001b[0;32m   (...)\u001b[0m\n\u001b[1;32m    196\u001b[0m     fewshot_aware_proposer,\n\u001b[1;32m    197\u001b[0m )\n",
      "File \u001b[0;32m/opt/miniconda3/lib/python3.13/site-packages/dspy/teleprompt/mipro_optimizer_v2.py:412\u001b[0m, in \u001b[0;36mMIPROv2._bootstrap_fewshot_examples\u001b[0;34m(self, program, trainset, seed, teacher)\u001b[0m\n\u001b[1;32m    409\u001b[0m zeroshot \u001b[38;5;241m=\u001b[39m \u001b[38;5;28mself\u001b[39m\u001b[38;5;241m.\u001b[39mmax_bootstrapped_demos \u001b[38;5;241m==\u001b[39m \u001b[38;5;241m0\u001b[39m \u001b[38;5;129;01mand\u001b[39;00m \u001b[38;5;28mself\u001b[39m\u001b[38;5;241m.\u001b[39mmax_labeled_demos \u001b[38;5;241m==\u001b[39m \u001b[38;5;241m0\u001b[39m\n\u001b[1;32m    411\u001b[0m \u001b[38;5;28;01mtry\u001b[39;00m:\n\u001b[0;32m--> 412\u001b[0m     demo_candidates \u001b[38;5;241m=\u001b[39m \u001b[43mcreate_n_fewshot_demo_sets\u001b[49m\u001b[43m(\u001b[49m\n\u001b[1;32m    413\u001b[0m \u001b[43m        \u001b[49m\u001b[43mstudent\u001b[49m\u001b[38;5;241;43m=\u001b[39;49m\u001b[43mprogram\u001b[49m\u001b[43m,\u001b[49m\n\u001b[1;32m    414\u001b[0m \u001b[43m        \u001b[49m\u001b[43mnum_candidate_sets\u001b[49m\u001b[38;5;241;43m=\u001b[39;49m\u001b[38;5;28;43mself\u001b[39;49m\u001b[38;5;241;43m.\u001b[39;49m\u001b[43mnum_fewshot_candidates\u001b[49m\u001b[43m,\u001b[49m\n\u001b[1;32m    415\u001b[0m \u001b[43m        \u001b[49m\u001b[43mtrainset\u001b[49m\u001b[38;5;241;43m=\u001b[39;49m\u001b[43mtrainset\u001b[49m\u001b[43m,\u001b[49m\n\u001b[1;32m    416\u001b[0m \u001b[43m        \u001b[49m\u001b[43mmax_labeled_demos\u001b[49m\u001b[38;5;241;43m=\u001b[39;49m\u001b[43m(\u001b[49m\u001b[43mLABELED_FEWSHOT_EXAMPLES_IN_CONTEXT\u001b[49m\u001b[43m \u001b[49m\u001b[38;5;28;43;01mif\u001b[39;49;00m\u001b[43m \u001b[49m\u001b[43mzeroshot\u001b[49m\u001b[43m \u001b[49m\u001b[38;5;28;43;01melse\u001b[39;49;00m\u001b[43m \u001b[49m\u001b[38;5;28;43mself\u001b[39;49m\u001b[38;5;241;43m.\u001b[39;49m\u001b[43mmax_labeled_demos\u001b[49m\u001b[43m)\u001b[49m\u001b[43m,\u001b[49m\n\u001b[1;32m    417\u001b[0m \u001b[43m        \u001b[49m\u001b[43mmax_bootstrapped_demos\u001b[49m\u001b[38;5;241;43m=\u001b[39;49m\u001b[43m(\u001b[49m\n\u001b[1;32m    418\u001b[0m \u001b[43m            \u001b[49m\u001b[43mBOOTSTRAPPED_FEWSHOT_EXAMPLES_IN_CONTEXT\u001b[49m\u001b[43m \u001b[49m\u001b[38;5;28;43;01mif\u001b[39;49;00m\u001b[43m \u001b[49m\u001b[43mzeroshot\u001b[49m\u001b[43m \u001b[49m\u001b[38;5;28;43;01melse\u001b[39;49;00m\u001b[43m \u001b[49m\u001b[38;5;28;43mself\u001b[39;49m\u001b[38;5;241;43m.\u001b[39;49m\u001b[43mmax_bootstrapped_demos\u001b[49m\n\u001b[1;32m    419\u001b[0m \u001b[43m        \u001b[49m\u001b[43m)\u001b[49m\u001b[43m,\u001b[49m\n\u001b[1;32m    420\u001b[0m \u001b[43m        \u001b[49m\u001b[43mmetric\u001b[49m\u001b[38;5;241;43m=\u001b[39;49m\u001b[38;5;28;43mself\u001b[39;49m\u001b[38;5;241;43m.\u001b[39;49m\u001b[43mmetric\u001b[49m\u001b[43m,\u001b[49m\n\u001b[1;32m    421\u001b[0m \u001b[43m        \u001b[49m\u001b[43mmax_errors\u001b[49m\u001b[38;5;241;43m=\u001b[39;49m\u001b[38;5;28;43mself\u001b[39;49m\u001b[38;5;241;43m.\u001b[39;49m\u001b[43mmax_errors\u001b[49m\u001b[43m,\u001b[49m\n\u001b[1;32m    422\u001b[0m \u001b[43m        \u001b[49m\u001b[43mteacher\u001b[49m\u001b[38;5;241;43m=\u001b[39;49m\u001b[43mteacher\u001b[49m\u001b[43m,\u001b[49m\n\u001b[1;32m    423\u001b[0m \u001b[43m        \u001b[49m\u001b[43mteacher_settings\u001b[49m\u001b[38;5;241;43m=\u001b[39;49m\u001b[38;5;28;43mself\u001b[39;49m\u001b[38;5;241;43m.\u001b[39;49m\u001b[43mteacher_settings\u001b[49m\u001b[43m,\u001b[49m\n\u001b[1;32m    424\u001b[0m \u001b[43m        \u001b[49m\u001b[43mseed\u001b[49m\u001b[38;5;241;43m=\u001b[39;49m\u001b[43mseed\u001b[49m\u001b[43m,\u001b[49m\n\u001b[1;32m    425\u001b[0m \u001b[43m        \u001b[49m\u001b[43mmetric_threshold\u001b[49m\u001b[38;5;241;43m=\u001b[39;49m\u001b[38;5;28;43mself\u001b[39;49m\u001b[38;5;241;43m.\u001b[39;49m\u001b[43mmetric_threshold\u001b[49m\u001b[43m,\u001b[49m\n\u001b[1;32m    426\u001b[0m \u001b[43m        \u001b[49m\u001b[43mrng\u001b[49m\u001b[38;5;241;43m=\u001b[39;49m\u001b[38;5;28;43mself\u001b[39;49m\u001b[38;5;241;43m.\u001b[39;49m\u001b[43mrng\u001b[49m\u001b[43m,\u001b[49m\n\u001b[1;32m    427\u001b[0m \u001b[43m    \u001b[49m\u001b[43m)\u001b[49m\n\u001b[1;32m    428\u001b[0m \u001b[38;5;28;01mexcept\u001b[39;00m \u001b[38;5;167;01mException\u001b[39;00m \u001b[38;5;28;01mas\u001b[39;00m e:\n\u001b[1;32m    429\u001b[0m     logger\u001b[38;5;241m.\u001b[39minfo(\u001b[38;5;124mf\u001b[39m\u001b[38;5;124m\"\u001b[39m\u001b[38;5;124mError generating few-shot examples: \u001b[39m\u001b[38;5;132;01m{\u001b[39;00me\u001b[38;5;132;01m}\u001b[39;00m\u001b[38;5;124m\"\u001b[39m)\n",
      "File \u001b[0;32m/opt/miniconda3/lib/python3.13/site-packages/dspy/teleprompt/utils.py:377\u001b[0m, in \u001b[0;36mcreate_n_fewshot_demo_sets\u001b[0;34m(student, num_candidate_sets, trainset, max_labeled_demos, max_bootstrapped_demos, metric, teacher_settings, max_errors, max_rounds, labeled_sample, min_num_samples, metric_threshold, teacher, include_non_bootstrapped, seed, rng)\u001b[0m\n\u001b[1;32m    367\u001b[0m \u001b[38;5;28;01melif\u001b[39;00m seed \u001b[38;5;241m==\u001b[39m \u001b[38;5;241m-\u001b[39m\u001b[38;5;241m1\u001b[39m:\n\u001b[1;32m    368\u001b[0m     \u001b[38;5;66;03m# unshuffled few-shot\u001b[39;00m\n\u001b[1;32m    369\u001b[0m     program \u001b[38;5;241m=\u001b[39m BootstrapFewShot(\n\u001b[1;32m    370\u001b[0m         metric\u001b[38;5;241m=\u001b[39mmetric,\n\u001b[1;32m    371\u001b[0m         max_errors\u001b[38;5;241m=\u001b[39mmax_errors,\n\u001b[0;32m   (...)\u001b[0m\n\u001b[1;32m    375\u001b[0m         max_rounds\u001b[38;5;241m=\u001b[39mmax_rounds,\n\u001b[1;32m    376\u001b[0m     )\n\u001b[0;32m--> 377\u001b[0m     program2 \u001b[38;5;241m=\u001b[39m \u001b[43mprogram\u001b[49m\u001b[38;5;241;43m.\u001b[39;49m\u001b[43mcompile\u001b[49m\u001b[43m(\u001b[49m\u001b[43mstudent\u001b[49m\u001b[43m,\u001b[49m\u001b[43m \u001b[49m\u001b[43mteacher\u001b[49m\u001b[38;5;241;43m=\u001b[39;49m\u001b[43mteacher\u001b[49m\u001b[43m,\u001b[49m\u001b[43m \u001b[49m\u001b[43mtrainset\u001b[49m\u001b[38;5;241;43m=\u001b[39;49m\u001b[43mtrainset_copy\u001b[49m\u001b[43m)\u001b[49m\n\u001b[1;32m    379\u001b[0m \u001b[38;5;28;01melse\u001b[39;00m:\n\u001b[1;32m    380\u001b[0m     \u001b[38;5;66;03m# shuffled few-shot\u001b[39;00m\n\u001b[1;32m    381\u001b[0m     rng\u001b[38;5;241m.\u001b[39mshuffle(trainset_copy)\n",
      "File \u001b[0;32m/opt/miniconda3/lib/python3.13/site-packages/dspy/teleprompt/bootstrap.py:83\u001b[0m, in \u001b[0;36mBootstrapFewShot.compile\u001b[0;34m(self, student, teacher, trainset)\u001b[0m\n\u001b[1;32m     81\u001b[0m \u001b[38;5;28mself\u001b[39m\u001b[38;5;241m.\u001b[39m_prepare_student_and_teacher(student, teacher)\n\u001b[1;32m     82\u001b[0m \u001b[38;5;28mself\u001b[39m\u001b[38;5;241m.\u001b[39m_prepare_predictor_mappings()\n\u001b[0;32m---> 83\u001b[0m \u001b[38;5;28;43mself\u001b[39;49m\u001b[38;5;241;43m.\u001b[39;49m\u001b[43m_bootstrap\u001b[49m\u001b[43m(\u001b[49m\u001b[43m)\u001b[49m\n\u001b[1;32m     85\u001b[0m \u001b[38;5;28mself\u001b[39m\u001b[38;5;241m.\u001b[39mstudent \u001b[38;5;241m=\u001b[39m \u001b[38;5;28mself\u001b[39m\u001b[38;5;241m.\u001b[39m_train()\n\u001b[1;32m     86\u001b[0m \u001b[38;5;28mself\u001b[39m\u001b[38;5;241m.\u001b[39mstudent\u001b[38;5;241m.\u001b[39m_compiled \u001b[38;5;241m=\u001b[39m \u001b[38;5;28;01mTrue\u001b[39;00m\n",
      "File \u001b[0;32m/opt/miniconda3/lib/python3.13/site-packages/dspy/teleprompt/bootstrap.py:158\u001b[0m, in \u001b[0;36mBootstrapFewShot._bootstrap\u001b[0;34m(self, max_bootstraps)\u001b[0m\n\u001b[1;32m    155\u001b[0m \u001b[38;5;28;01mfor\u001b[39;00m round_idx \u001b[38;5;129;01min\u001b[39;00m \u001b[38;5;28mrange\u001b[39m(\u001b[38;5;28mself\u001b[39m\u001b[38;5;241m.\u001b[39mmax_rounds):\n\u001b[1;32m    156\u001b[0m     bootstrap_attempts \u001b[38;5;241m+\u001b[39m\u001b[38;5;241m=\u001b[39m \u001b[38;5;241m1\u001b[39m\n\u001b[0;32m--> 158\u001b[0m     \u001b[38;5;28;01mif\u001b[39;00m \u001b[38;5;28;43mself\u001b[39;49m\u001b[38;5;241;43m.\u001b[39;49m\u001b[43m_bootstrap_one_example\u001b[49m\u001b[43m(\u001b[49m\u001b[43mexample\u001b[49m\u001b[43m,\u001b[49m\u001b[43m \u001b[49m\u001b[43mround_idx\u001b[49m\u001b[43m)\u001b[49m:\n\u001b[1;32m    159\u001b[0m         bootstrapped[example_idx] \u001b[38;5;241m=\u001b[39m \u001b[38;5;28;01mTrue\u001b[39;00m\n\u001b[1;32m    160\u001b[0m         \u001b[38;5;28;01mbreak\u001b[39;00m\n",
      "File \u001b[0;32m/opt/miniconda3/lib/python3.13/site-packages/dspy/teleprompt/bootstrap.py:201\u001b[0m, in \u001b[0;36mBootstrapFewShot._bootstrap_one_example\u001b[0;34m(self, example, round_idx)\u001b[0m\n\u001b[1;32m    198\u001b[0m         predictor\u001b[38;5;241m.\u001b[39mdemos \u001b[38;5;241m=\u001b[39m predictor_cache[name]\n\u001b[1;32m    200\u001b[0m \u001b[38;5;28;01mif\u001b[39;00m \u001b[38;5;28mself\u001b[39m\u001b[38;5;241m.\u001b[39mmetric:\n\u001b[0;32m--> 201\u001b[0m     metric_val \u001b[38;5;241m=\u001b[39m \u001b[38;5;28;43mself\u001b[39;49m\u001b[38;5;241;43m.\u001b[39;49m\u001b[43mmetric\u001b[49m\u001b[43m(\u001b[49m\u001b[43mexample\u001b[49m\u001b[43m,\u001b[49m\u001b[43m \u001b[49m\u001b[43mprediction\u001b[49m\u001b[43m,\u001b[49m\u001b[43m \u001b[49m\u001b[43mtrace\u001b[49m\u001b[43m)\u001b[49m\n\u001b[1;32m    202\u001b[0m     \u001b[38;5;28;01mif\u001b[39;00m \u001b[38;5;28mself\u001b[39m\u001b[38;5;241m.\u001b[39mmetric_threshold:\n\u001b[1;32m    203\u001b[0m         success \u001b[38;5;241m=\u001b[39m metric_val \u001b[38;5;241m>\u001b[39m\u001b[38;5;241m=\u001b[39m \u001b[38;5;28mself\u001b[39m\u001b[38;5;241m.\u001b[39mmetric_threshold\n",
      "Cell \u001b[0;32mIn[176], line 102\u001b[0m, in \u001b[0;36mFAQScore.__call__\u001b[0;34m(self, example, pred, trace)\u001b[0m\n\u001b[1;32m     99\u001b[0m     \u001b[38;5;66;03m# Build the question string with explicit string concatenation\u001b[39;00m\n\u001b[1;32m    100\u001b[0m     question_text \u001b[38;5;241m=\u001b[39m \u001b[38;5;124m\"\u001b[39m\u001b[38;5;130;01m\\n\u001b[39;00m\u001b[38;5;124m## Context:\u001b[39m\u001b[38;5;130;01m\\n\u001b[39;00m\u001b[38;5;124m\"\u001b[39m \u001b[38;5;241m+\u001b[39m context \u001b[38;5;241m+\u001b[39m \u001b[38;5;124m\"\u001b[39m\u001b[38;5;130;01m\\n\u001b[39;00m\u001b[38;5;124m## Chat History:\u001b[39m\u001b[38;5;130;01m\\n\u001b[39;00m\u001b[38;5;124m\"\u001b[39m \u001b[38;5;241m+\u001b[39m history \u001b[38;5;241m+\u001b[39m \u001b[38;5;124m\"\u001b[39m\u001b[38;5;130;01m\\n\u001b[39;00m\u001b[38;5;124m## Question:\u001b[39m\u001b[38;5;130;01m\\n\u001b[39;00m\u001b[38;5;124m\"\u001b[39m \u001b[38;5;241m+\u001b[39m question \u001b[38;5;241m+\u001b[39m \u001b[38;5;124m\"\u001b[39m\u001b[38;5;130;01m\\n\u001b[39;00m\u001b[38;5;124m## Answer:\u001b[39m\u001b[38;5;130;01m\\n\u001b[39;00m\u001b[38;5;124m\"\u001b[39m \u001b[38;5;241m+\u001b[39m \u001b[38;5;28mself\u001b[39m\u001b[38;5;241m.\u001b[39mselected_output_field \u001b[38;5;241m+\u001b[39m \u001b[38;5;124m\"\u001b[39m\u001b[38;5;124m: \u001b[39m\u001b[38;5;124m\"\u001b[39m\n\u001b[0;32m--> 102\u001b[0m     scores \u001b[38;5;241m=\u001b[39m \u001b[38;5;28;43mself\u001b[39;49m\u001b[38;5;241;43m.\u001b[39;49m\u001b[43mevaluate\u001b[49m\u001b[43m(\u001b[49m\n\u001b[1;32m    103\u001b[0m \u001b[43m        \u001b[49m\u001b[43mquestion\u001b[49m\u001b[38;5;241;43m=\u001b[39;49m\u001b[43mquestion_text\u001b[49m\u001b[43m,\u001b[49m\n\u001b[1;32m    104\u001b[0m \u001b[43m        \u001b[49m\u001b[43mground_truth\u001b[49m\u001b[38;5;241;43m=\u001b[39;49m\u001b[43mtarget\u001b[49m\u001b[43m,\u001b[49m\n\u001b[1;32m    105\u001b[0m \u001b[43m        \u001b[49m\u001b[43msystem_response\u001b[49m\u001b[38;5;241;43m=\u001b[39;49m\u001b[43mprediction\u001b[49m\u001b[43m,\u001b[49m\n\u001b[1;32m    106\u001b[0m \u001b[43m    \u001b[49m\u001b[43m)\u001b[49m                \n\u001b[1;32m    107\u001b[0m     \u001b[38;5;28;01mreturn\u001b[39;00m f1_score(scores\u001b[38;5;241m.\u001b[39mprecision, scores\u001b[38;5;241m.\u001b[39mrecall)\n\u001b[1;32m    108\u001b[0m \u001b[38;5;28;01melse\u001b[39;00m:\n",
      "File \u001b[0;32m/opt/miniconda3/lib/python3.13/site-packages/dspy/utils/callback.py:326\u001b[0m, in \u001b[0;36mwith_callbacks.<locals>.sync_wrapper\u001b[0;34m(instance, *args, **kwargs)\u001b[0m\n\u001b[1;32m    324\u001b[0m callbacks \u001b[38;5;241m=\u001b[39m _get_active_callbacks(instance)\n\u001b[1;32m    325\u001b[0m \u001b[38;5;28;01mif\u001b[39;00m \u001b[38;5;129;01mnot\u001b[39;00m callbacks:\n\u001b[0;32m--> 326\u001b[0m     \u001b[38;5;28;01mreturn\u001b[39;00m \u001b[43mfn\u001b[49m\u001b[43m(\u001b[49m\u001b[43minstance\u001b[49m\u001b[43m,\u001b[49m\u001b[43m \u001b[49m\u001b[38;5;241;43m*\u001b[39;49m\u001b[43margs\u001b[49m\u001b[43m,\u001b[49m\u001b[43m \u001b[49m\u001b[38;5;241;43m*\u001b[39;49m\u001b[38;5;241;43m*\u001b[39;49m\u001b[43mkwargs\u001b[49m\u001b[43m)\u001b[49m\n\u001b[1;32m    328\u001b[0m call_id \u001b[38;5;241m=\u001b[39m uuid\u001b[38;5;241m.\u001b[39muuid4()\u001b[38;5;241m.\u001b[39mhex\n\u001b[1;32m    330\u001b[0m _execute_start_callbacks(instance, fn, call_id, callbacks, args, kwargs)\n",
      "File \u001b[0;32m/opt/miniconda3/lib/python3.13/site-packages/dspy/primitives/program.py:60\u001b[0m, in \u001b[0;36mModule.__call__\u001b[0;34m(self, *args, **kwargs)\u001b[0m\n\u001b[1;32m     57\u001b[0m     output\u001b[38;5;241m.\u001b[39mset_lm_usage(usage_tracker\u001b[38;5;241m.\u001b[39mget_total_tokens())\n\u001b[1;32m     58\u001b[0m     \u001b[38;5;28;01mreturn\u001b[39;00m output\n\u001b[0;32m---> 60\u001b[0m \u001b[38;5;28;01mreturn\u001b[39;00m \u001b[38;5;28;43mself\u001b[39;49m\u001b[38;5;241;43m.\u001b[39;49m\u001b[43mforward\u001b[49m\u001b[43m(\u001b[49m\u001b[38;5;241;43m*\u001b[39;49m\u001b[43margs\u001b[49m\u001b[43m,\u001b[49m\u001b[43m \u001b[49m\u001b[38;5;241;43m*\u001b[39;49m\u001b[38;5;241;43m*\u001b[39;49m\u001b[43mkwargs\u001b[49m\u001b[43m)\u001b[49m\n",
      "File \u001b[0;32m/opt/miniconda3/lib/python3.13/site-packages/dspy/predict/chain_of_thought.py:38\u001b[0m, in \u001b[0;36mChainOfThought.forward\u001b[0;34m(self, **kwargs)\u001b[0m\n\u001b[1;32m     37\u001b[0m \u001b[38;5;28;01mdef\u001b[39;00m\u001b[38;5;250m \u001b[39m\u001b[38;5;21mforward\u001b[39m(\u001b[38;5;28mself\u001b[39m, \u001b[38;5;241m*\u001b[39m\u001b[38;5;241m*\u001b[39mkwargs):\n\u001b[0;32m---> 38\u001b[0m     \u001b[38;5;28;01mreturn\u001b[39;00m \u001b[38;5;28;43mself\u001b[39;49m\u001b[38;5;241;43m.\u001b[39;49m\u001b[43mpredict\u001b[49m\u001b[43m(\u001b[49m\u001b[38;5;241;43m*\u001b[39;49m\u001b[38;5;241;43m*\u001b[39;49m\u001b[43mkwargs\u001b[49m\u001b[43m)\u001b[49m\n",
      "File \u001b[0;32m/opt/miniconda3/lib/python3.13/site-packages/dspy/predict/predict.py:85\u001b[0m, in \u001b[0;36mPredict.__call__\u001b[0;34m(self, *args, **kwargs)\u001b[0m\n\u001b[1;32m     82\u001b[0m \u001b[38;5;28;01mif\u001b[39;00m args:\n\u001b[1;32m     83\u001b[0m     \u001b[38;5;28;01mraise\u001b[39;00m \u001b[38;5;167;01mValueError\u001b[39;00m(\u001b[38;5;28mself\u001b[39m\u001b[38;5;241m.\u001b[39m_get_positional_args_error_message())\n\u001b[0;32m---> 85\u001b[0m \u001b[38;5;28;01mreturn\u001b[39;00m \u001b[38;5;28;43msuper\u001b[39;49m\u001b[43m(\u001b[49m\u001b[43m)\u001b[49m\u001b[38;5;241;43m.\u001b[39;49m\u001b[38;5;21;43m__call__\u001b[39;49m\u001b[43m(\u001b[49m\u001b[38;5;241;43m*\u001b[39;49m\u001b[38;5;241;43m*\u001b[39;49m\u001b[43mkwargs\u001b[49m\u001b[43m)\u001b[49m\n",
      "File \u001b[0;32m/opt/miniconda3/lib/python3.13/site-packages/dspy/utils/callback.py:326\u001b[0m, in \u001b[0;36mwith_callbacks.<locals>.sync_wrapper\u001b[0;34m(instance, *args, **kwargs)\u001b[0m\n\u001b[1;32m    324\u001b[0m callbacks \u001b[38;5;241m=\u001b[39m _get_active_callbacks(instance)\n\u001b[1;32m    325\u001b[0m \u001b[38;5;28;01mif\u001b[39;00m \u001b[38;5;129;01mnot\u001b[39;00m callbacks:\n\u001b[0;32m--> 326\u001b[0m     \u001b[38;5;28;01mreturn\u001b[39;00m \u001b[43mfn\u001b[49m\u001b[43m(\u001b[49m\u001b[43minstance\u001b[49m\u001b[43m,\u001b[49m\u001b[43m \u001b[49m\u001b[38;5;241;43m*\u001b[39;49m\u001b[43margs\u001b[49m\u001b[43m,\u001b[49m\u001b[43m \u001b[49m\u001b[38;5;241;43m*\u001b[39;49m\u001b[38;5;241;43m*\u001b[39;49m\u001b[43mkwargs\u001b[49m\u001b[43m)\u001b[49m\n\u001b[1;32m    328\u001b[0m call_id \u001b[38;5;241m=\u001b[39m uuid\u001b[38;5;241m.\u001b[39muuid4()\u001b[38;5;241m.\u001b[39mhex\n\u001b[1;32m    330\u001b[0m _execute_start_callbacks(instance, fn, call_id, callbacks, args, kwargs)\n",
      "File \u001b[0;32m/opt/miniconda3/lib/python3.13/site-packages/dspy/primitives/program.py:60\u001b[0m, in \u001b[0;36mModule.__call__\u001b[0;34m(self, *args, **kwargs)\u001b[0m\n\u001b[1;32m     57\u001b[0m     output\u001b[38;5;241m.\u001b[39mset_lm_usage(usage_tracker\u001b[38;5;241m.\u001b[39mget_total_tokens())\n\u001b[1;32m     58\u001b[0m     \u001b[38;5;28;01mreturn\u001b[39;00m output\n\u001b[0;32m---> 60\u001b[0m \u001b[38;5;28;01mreturn\u001b[39;00m \u001b[38;5;28;43mself\u001b[39;49m\u001b[38;5;241;43m.\u001b[39;49m\u001b[43mforward\u001b[49m\u001b[43m(\u001b[49m\u001b[38;5;241;43m*\u001b[39;49m\u001b[43margs\u001b[49m\u001b[43m,\u001b[49m\u001b[43m \u001b[49m\u001b[38;5;241;43m*\u001b[39;49m\u001b[38;5;241;43m*\u001b[39;49m\u001b[43mkwargs\u001b[49m\u001b[43m)\u001b[49m\n",
      "File \u001b[0;32m/opt/miniconda3/lib/python3.13/site-packages/dspy/predict/predict.py:157\u001b[0m, in \u001b[0;36mPredict.forward\u001b[0;34m(self, **kwargs)\u001b[0m\n\u001b[1;32m    155\u001b[0m \u001b[38;5;28;01melse\u001b[39;00m:\n\u001b[1;32m    156\u001b[0m     \u001b[38;5;28;01mwith\u001b[39;00m settings\u001b[38;5;241m.\u001b[39mcontext(send_stream\u001b[38;5;241m=\u001b[39m\u001b[38;5;28;01mNone\u001b[39;00m):\n\u001b[0;32m--> 157\u001b[0m         completions \u001b[38;5;241m=\u001b[39m \u001b[43madapter\u001b[49m\u001b[43m(\u001b[49m\u001b[43mlm\u001b[49m\u001b[43m,\u001b[49m\u001b[43m \u001b[49m\u001b[43mlm_kwargs\u001b[49m\u001b[38;5;241;43m=\u001b[39;49m\u001b[43mconfig\u001b[49m\u001b[43m,\u001b[49m\u001b[43m \u001b[49m\u001b[43msignature\u001b[49m\u001b[38;5;241;43m=\u001b[39;49m\u001b[43msignature\u001b[49m\u001b[43m,\u001b[49m\u001b[43m \u001b[49m\u001b[43mdemos\u001b[49m\u001b[38;5;241;43m=\u001b[39;49m\u001b[43mdemos\u001b[49m\u001b[43m,\u001b[49m\u001b[43m \u001b[49m\u001b[43minputs\u001b[49m\u001b[38;5;241;43m=\u001b[39;49m\u001b[43mkwargs\u001b[49m\u001b[43m)\u001b[49m\n\u001b[1;32m    159\u001b[0m \u001b[38;5;28;01mreturn\u001b[39;00m \u001b[38;5;28mself\u001b[39m\u001b[38;5;241m.\u001b[39m_forward_postprocess(completions, signature, \u001b[38;5;241m*\u001b[39m\u001b[38;5;241m*\u001b[39mkwargs)\n",
      "File \u001b[0;32m/opt/miniconda3/lib/python3.13/site-packages/dspy/adapters/chat_adapter.py:42\u001b[0m, in \u001b[0;36mChatAdapter.__call__\u001b[0;34m(self, lm, lm_kwargs, signature, demos, inputs)\u001b[0m\n\u001b[1;32m     33\u001b[0m \u001b[38;5;28;01mdef\u001b[39;00m\u001b[38;5;250m \u001b[39m\u001b[38;5;21m__call__\u001b[39m(\n\u001b[1;32m     34\u001b[0m     \u001b[38;5;28mself\u001b[39m,\n\u001b[1;32m     35\u001b[0m     lm: LM,\n\u001b[0;32m   (...)\u001b[0m\n\u001b[1;32m     39\u001b[0m     inputs: \u001b[38;5;28mdict\u001b[39m[\u001b[38;5;28mstr\u001b[39m, Any],\n\u001b[1;32m     40\u001b[0m ) \u001b[38;5;241m-\u001b[39m\u001b[38;5;241m>\u001b[39m \u001b[38;5;28mlist\u001b[39m[\u001b[38;5;28mdict\u001b[39m[\u001b[38;5;28mstr\u001b[39m, Any]]:\n\u001b[1;32m     41\u001b[0m     \u001b[38;5;28;01mtry\u001b[39;00m:\n\u001b[0;32m---> 42\u001b[0m         \u001b[38;5;28;01mreturn\u001b[39;00m \u001b[38;5;28;43msuper\u001b[39;49m\u001b[43m(\u001b[49m\u001b[43m)\u001b[49m\u001b[38;5;241;43m.\u001b[39;49m\u001b[38;5;21;43m__call__\u001b[39;49m\u001b[43m(\u001b[49m\u001b[43mlm\u001b[49m\u001b[43m,\u001b[49m\u001b[43m \u001b[49m\u001b[43mlm_kwargs\u001b[49m\u001b[43m,\u001b[49m\u001b[43m \u001b[49m\u001b[43msignature\u001b[49m\u001b[43m,\u001b[49m\u001b[43m \u001b[49m\u001b[43mdemos\u001b[49m\u001b[43m,\u001b[49m\u001b[43m \u001b[49m\u001b[43minputs\u001b[49m\u001b[43m)\u001b[49m\n\u001b[1;32m     43\u001b[0m     \u001b[38;5;28;01mexcept\u001b[39;00m \u001b[38;5;167;01mException\u001b[39;00m \u001b[38;5;28;01mas\u001b[39;00m e:\n\u001b[1;32m     44\u001b[0m         \u001b[38;5;66;03m# fallback to JSONAdapter\u001b[39;00m\n\u001b[1;32m     45\u001b[0m         \u001b[38;5;28;01mfrom\u001b[39;00m\u001b[38;5;250m \u001b[39m\u001b[38;5;21;01mdspy\u001b[39;00m\u001b[38;5;21;01m.\u001b[39;00m\u001b[38;5;21;01madapters\u001b[39;00m\u001b[38;5;21;01m.\u001b[39;00m\u001b[38;5;21;01mjson_adapter\u001b[39;00m\u001b[38;5;250m \u001b[39m\u001b[38;5;28;01mimport\u001b[39;00m JSONAdapter\n",
      "File \u001b[0;32m/opt/miniconda3/lib/python3.13/site-packages/dspy/adapters/base.py:119\u001b[0m, in \u001b[0;36mAdapter.__call__\u001b[0;34m(self, lm, lm_kwargs, signature, demos, inputs)\u001b[0m\n\u001b[1;32m    116\u001b[0m processed_signature \u001b[38;5;241m=\u001b[39m \u001b[38;5;28mself\u001b[39m\u001b[38;5;241m.\u001b[39m_call_preprocess(lm, lm_kwargs, signature, inputs)\n\u001b[1;32m    117\u001b[0m inputs \u001b[38;5;241m=\u001b[39m \u001b[38;5;28mself\u001b[39m\u001b[38;5;241m.\u001b[39mformat(processed_signature, demos, inputs)\n\u001b[0;32m--> 119\u001b[0m outputs \u001b[38;5;241m=\u001b[39m \u001b[43mlm\u001b[49m\u001b[43m(\u001b[49m\u001b[43mmessages\u001b[49m\u001b[38;5;241;43m=\u001b[39;49m\u001b[43minputs\u001b[49m\u001b[43m,\u001b[49m\u001b[43m \u001b[49m\u001b[38;5;241;43m*\u001b[39;49m\u001b[38;5;241;43m*\u001b[39;49m\u001b[43mlm_kwargs\u001b[49m\u001b[43m)\u001b[49m\n\u001b[1;32m    120\u001b[0m \u001b[38;5;28;01mreturn\u001b[39;00m \u001b[38;5;28mself\u001b[39m\u001b[38;5;241m.\u001b[39m_call_postprocess(signature, outputs)\n",
      "File \u001b[0;32m/opt/miniconda3/lib/python3.13/site-packages/dspy/utils/callback.py:326\u001b[0m, in \u001b[0;36mwith_callbacks.<locals>.sync_wrapper\u001b[0;34m(instance, *args, **kwargs)\u001b[0m\n\u001b[1;32m    324\u001b[0m callbacks \u001b[38;5;241m=\u001b[39m _get_active_callbacks(instance)\n\u001b[1;32m    325\u001b[0m \u001b[38;5;28;01mif\u001b[39;00m \u001b[38;5;129;01mnot\u001b[39;00m callbacks:\n\u001b[0;32m--> 326\u001b[0m     \u001b[38;5;28;01mreturn\u001b[39;00m \u001b[43mfn\u001b[49m\u001b[43m(\u001b[49m\u001b[43minstance\u001b[49m\u001b[43m,\u001b[49m\u001b[43m \u001b[49m\u001b[38;5;241;43m*\u001b[39;49m\u001b[43margs\u001b[49m\u001b[43m,\u001b[49m\u001b[43m \u001b[49m\u001b[38;5;241;43m*\u001b[39;49m\u001b[38;5;241;43m*\u001b[39;49m\u001b[43mkwargs\u001b[49m\u001b[43m)\u001b[49m\n\u001b[1;32m    328\u001b[0m call_id \u001b[38;5;241m=\u001b[39m uuid\u001b[38;5;241m.\u001b[39muuid4()\u001b[38;5;241m.\u001b[39mhex\n\u001b[1;32m    330\u001b[0m _execute_start_callbacks(instance, fn, call_id, callbacks, args, kwargs)\n",
      "File \u001b[0;32m/opt/miniconda3/lib/python3.13/site-packages/dspy/clients/base_lm.py:96\u001b[0m, in \u001b[0;36mBaseLM.__call__\u001b[0;34m(self, prompt, messages, **kwargs)\u001b[0m\n\u001b[1;32m     94\u001b[0m \u001b[38;5;129m@with_callbacks\u001b[39m\n\u001b[1;32m     95\u001b[0m \u001b[38;5;28;01mdef\u001b[39;00m\u001b[38;5;250m \u001b[39m\u001b[38;5;21m__call__\u001b[39m(\u001b[38;5;28mself\u001b[39m, prompt\u001b[38;5;241m=\u001b[39m\u001b[38;5;28;01mNone\u001b[39;00m, messages\u001b[38;5;241m=\u001b[39m\u001b[38;5;28;01mNone\u001b[39;00m, \u001b[38;5;241m*\u001b[39m\u001b[38;5;241m*\u001b[39mkwargs):\n\u001b[0;32m---> 96\u001b[0m     response \u001b[38;5;241m=\u001b[39m \u001b[38;5;28;43mself\u001b[39;49m\u001b[38;5;241;43m.\u001b[39;49m\u001b[43mforward\u001b[49m\u001b[43m(\u001b[49m\u001b[43mprompt\u001b[49m\u001b[38;5;241;43m=\u001b[39;49m\u001b[43mprompt\u001b[49m\u001b[43m,\u001b[49m\u001b[43m \u001b[49m\u001b[43mmessages\u001b[49m\u001b[38;5;241;43m=\u001b[39;49m\u001b[43mmessages\u001b[49m\u001b[43m,\u001b[49m\u001b[43m \u001b[49m\u001b[38;5;241;43m*\u001b[39;49m\u001b[38;5;241;43m*\u001b[39;49m\u001b[43mkwargs\u001b[49m\u001b[43m)\u001b[49m\n\u001b[1;32m     97\u001b[0m     outputs \u001b[38;5;241m=\u001b[39m \u001b[38;5;28mself\u001b[39m\u001b[38;5;241m.\u001b[39m_process_lm_response(response, prompt, messages, \u001b[38;5;241m*\u001b[39m\u001b[38;5;241m*\u001b[39mkwargs)\n\u001b[1;32m     99\u001b[0m     \u001b[38;5;28;01mreturn\u001b[39;00m outputs\n",
      "File \u001b[0;32m/opt/miniconda3/lib/python3.13/site-packages/dspy/clients/lm.py:127\u001b[0m, in \u001b[0;36mLM.forward\u001b[0;34m(self, prompt, messages, **kwargs)\u001b[0m\n\u001b[1;32m    124\u001b[0m completion \u001b[38;5;241m=\u001b[39m litellm_completion \u001b[38;5;28;01mif\u001b[39;00m \u001b[38;5;28mself\u001b[39m\u001b[38;5;241m.\u001b[39mmodel_type \u001b[38;5;241m==\u001b[39m \u001b[38;5;124m\"\u001b[39m\u001b[38;5;124mchat\u001b[39m\u001b[38;5;124m\"\u001b[39m \u001b[38;5;28;01melse\u001b[39;00m litellm_text_completion\n\u001b[1;32m    125\u001b[0m completion, litellm_cache_args \u001b[38;5;241m=\u001b[39m \u001b[38;5;28mself\u001b[39m\u001b[38;5;241m.\u001b[39m_get_cached_completion_fn(completion, cache, enable_memory_cache)\n\u001b[0;32m--> 127\u001b[0m results \u001b[38;5;241m=\u001b[39m \u001b[43mcompletion\u001b[49m\u001b[43m(\u001b[49m\n\u001b[1;32m    128\u001b[0m \u001b[43m    \u001b[49m\u001b[43mrequest\u001b[49m\u001b[38;5;241;43m=\u001b[39;49m\u001b[38;5;28;43mdict\u001b[39;49m\u001b[43m(\u001b[49m\u001b[43mmodel\u001b[49m\u001b[38;5;241;43m=\u001b[39;49m\u001b[38;5;28;43mself\u001b[39;49m\u001b[38;5;241;43m.\u001b[39;49m\u001b[43mmodel\u001b[49m\u001b[43m,\u001b[49m\u001b[43m \u001b[49m\u001b[43mmessages\u001b[49m\u001b[38;5;241;43m=\u001b[39;49m\u001b[43mmessages\u001b[49m\u001b[43m,\u001b[49m\u001b[43m \u001b[49m\u001b[38;5;241;43m*\u001b[39;49m\u001b[38;5;241;43m*\u001b[39;49m\u001b[43mkwargs\u001b[49m\u001b[43m)\u001b[49m\u001b[43m,\u001b[49m\n\u001b[1;32m    129\u001b[0m \u001b[43m    \u001b[49m\u001b[43mnum_retries\u001b[49m\u001b[38;5;241;43m=\u001b[39;49m\u001b[38;5;28;43mself\u001b[39;49m\u001b[38;5;241;43m.\u001b[39;49m\u001b[43mnum_retries\u001b[49m\u001b[43m,\u001b[49m\n\u001b[1;32m    130\u001b[0m \u001b[43m    \u001b[49m\u001b[43mcache\u001b[49m\u001b[38;5;241;43m=\u001b[39;49m\u001b[43mlitellm_cache_args\u001b[49m\u001b[43m,\u001b[49m\n\u001b[1;32m    131\u001b[0m \u001b[43m\u001b[49m\u001b[43m)\u001b[49m\n\u001b[1;32m    133\u001b[0m \u001b[38;5;28;01mif\u001b[39;00m \u001b[38;5;28many\u001b[39m(c\u001b[38;5;241m.\u001b[39mfinish_reason \u001b[38;5;241m==\u001b[39m \u001b[38;5;124m\"\u001b[39m\u001b[38;5;124mlength\u001b[39m\u001b[38;5;124m\"\u001b[39m \u001b[38;5;28;01mfor\u001b[39;00m c \u001b[38;5;129;01min\u001b[39;00m results[\u001b[38;5;124m\"\u001b[39m\u001b[38;5;124mchoices\u001b[39m\u001b[38;5;124m\"\u001b[39m]):\n\u001b[1;32m    134\u001b[0m     logger\u001b[38;5;241m.\u001b[39mwarning(\n\u001b[1;32m    135\u001b[0m         \u001b[38;5;124mf\u001b[39m\u001b[38;5;124m\"\u001b[39m\u001b[38;5;124mLM response was truncated due to exceeding max_tokens=\u001b[39m\u001b[38;5;132;01m{\u001b[39;00m\u001b[38;5;28mself\u001b[39m\u001b[38;5;241m.\u001b[39mkwargs[\u001b[38;5;124m'\u001b[39m\u001b[38;5;124mmax_tokens\u001b[39m\u001b[38;5;124m'\u001b[39m]\u001b[38;5;132;01m}\u001b[39;00m\u001b[38;5;124m. \u001b[39m\u001b[38;5;124m\"\u001b[39m\n\u001b[1;32m    136\u001b[0m         \u001b[38;5;124m\"\u001b[39m\u001b[38;5;124mYou can inspect the latest LM interactions with `dspy.inspect_history()`. \u001b[39m\u001b[38;5;124m\"\u001b[39m\n\u001b[0;32m   (...)\u001b[0m\n\u001b[1;32m    139\u001b[0m         \u001b[38;5;124m\"\u001b[39m\u001b[38;5;124m if the reason for truncation is repetition.\u001b[39m\u001b[38;5;124m\"\u001b[39m\n\u001b[1;32m    140\u001b[0m     )\n",
      "File \u001b[0;32m/opt/miniconda3/lib/python3.13/site-packages/dspy/clients/cache.py:232\u001b[0m, in \u001b[0;36mrequest_cache.<locals>.decorator.<locals>.sync_wrapper\u001b[0;34m(*args, **kwargs)\u001b[0m\n\u001b[1;32m    229\u001b[0m     \u001b[38;5;28;01mreturn\u001b[39;00m cached_result\n\u001b[1;32m    231\u001b[0m \u001b[38;5;66;03m# Otherwise, compute and store the result\u001b[39;00m\n\u001b[0;32m--> 232\u001b[0m result \u001b[38;5;241m=\u001b[39m \u001b[43mfn\u001b[49m\u001b[43m(\u001b[49m\u001b[38;5;241;43m*\u001b[39;49m\u001b[43margs\u001b[49m\u001b[43m,\u001b[49m\u001b[43m \u001b[49m\u001b[38;5;241;43m*\u001b[39;49m\u001b[38;5;241;43m*\u001b[39;49m\u001b[43mkwargs\u001b[49m\u001b[43m)\u001b[49m\n\u001b[1;32m    233\u001b[0m \u001b[38;5;66;03m# `enable_memory_cache` can be provided at call time to avoid indefinite growth.\u001b[39;00m\n\u001b[1;32m    234\u001b[0m cache\u001b[38;5;241m.\u001b[39mput(modified_request, result, ignored_args_for_cache_key, enable_memory_cache)\n",
      "File \u001b[0;32m/opt/miniconda3/lib/python3.13/site-packages/dspy/clients/lm.py:304\u001b[0m, in \u001b[0;36mlitellm_completion\u001b[0;34m(request, num_retries, cache)\u001b[0m\n\u001b[1;32m    302\u001b[0m stream_completion \u001b[38;5;241m=\u001b[39m _get_stream_completion_fn(request, cache, sync\u001b[38;5;241m=\u001b[39m\u001b[38;5;28;01mTrue\u001b[39;00m)\n\u001b[1;32m    303\u001b[0m \u001b[38;5;28;01mif\u001b[39;00m stream_completion \u001b[38;5;129;01mis\u001b[39;00m \u001b[38;5;28;01mNone\u001b[39;00m:\n\u001b[0;32m--> 304\u001b[0m     \u001b[38;5;28;01mreturn\u001b[39;00m \u001b[43mlitellm\u001b[49m\u001b[38;5;241;43m.\u001b[39;49m\u001b[43mcompletion\u001b[49m\u001b[43m(\u001b[49m\n\u001b[1;32m    305\u001b[0m \u001b[43m        \u001b[49m\u001b[43mcache\u001b[49m\u001b[38;5;241;43m=\u001b[39;49m\u001b[43mcache\u001b[49m\u001b[43m,\u001b[49m\n\u001b[1;32m    306\u001b[0m \u001b[43m        \u001b[49m\u001b[43mnum_retries\u001b[49m\u001b[38;5;241;43m=\u001b[39;49m\u001b[43mnum_retries\u001b[49m\u001b[43m,\u001b[49m\n\u001b[1;32m    307\u001b[0m \u001b[43m        \u001b[49m\u001b[43mretry_strategy\u001b[49m\u001b[38;5;241;43m=\u001b[39;49m\u001b[38;5;124;43m\"\u001b[39;49m\u001b[38;5;124;43mexponential_backoff_retry\u001b[39;49m\u001b[38;5;124;43m\"\u001b[39;49m\u001b[43m,\u001b[49m\n\u001b[1;32m    308\u001b[0m \u001b[43m        \u001b[49m\u001b[38;5;241;43m*\u001b[39;49m\u001b[38;5;241;43m*\u001b[39;49m\u001b[43mrequest\u001b[49m\u001b[43m,\u001b[49m\n\u001b[1;32m    309\u001b[0m \u001b[43m    \u001b[49m\u001b[43m)\u001b[49m\n\u001b[1;32m    311\u001b[0m \u001b[38;5;28;01mreturn\u001b[39;00m stream_completion()\n",
      "File \u001b[0;32m/opt/miniconda3/lib/python3.13/site-packages/litellm/utils.py:1163\u001b[0m, in \u001b[0;36mclient.<locals>.wrapper\u001b[0;34m(*args, **kwargs)\u001b[0m\n\u001b[1;32m   1161\u001b[0m         print_verbose(\u001b[38;5;124mf\u001b[39m\u001b[38;5;124m\"\u001b[39m\u001b[38;5;124mError while checking max token limit: \u001b[39m\u001b[38;5;132;01m{\u001b[39;00m\u001b[38;5;28mstr\u001b[39m(e)\u001b[38;5;132;01m}\u001b[39;00m\u001b[38;5;124m\"\u001b[39m)\n\u001b[1;32m   1162\u001b[0m \u001b[38;5;66;03m# MODEL CALL\u001b[39;00m\n\u001b[0;32m-> 1163\u001b[0m result \u001b[38;5;241m=\u001b[39m \u001b[43moriginal_function\u001b[49m\u001b[43m(\u001b[49m\u001b[38;5;241;43m*\u001b[39;49m\u001b[43margs\u001b[49m\u001b[43m,\u001b[49m\u001b[43m \u001b[49m\u001b[38;5;241;43m*\u001b[39;49m\u001b[38;5;241;43m*\u001b[39;49m\u001b[43mkwargs\u001b[49m\u001b[43m)\u001b[49m\n\u001b[1;32m   1164\u001b[0m end_time \u001b[38;5;241m=\u001b[39m datetime\u001b[38;5;241m.\u001b[39mdatetime\u001b[38;5;241m.\u001b[39mnow()\n\u001b[1;32m   1165\u001b[0m \u001b[38;5;28;01mif\u001b[39;00m \u001b[38;5;124m\"\u001b[39m\u001b[38;5;124mstream\u001b[39m\u001b[38;5;124m\"\u001b[39m \u001b[38;5;129;01min\u001b[39;00m kwargs \u001b[38;5;129;01mand\u001b[39;00m kwargs[\u001b[38;5;124m\"\u001b[39m\u001b[38;5;124mstream\u001b[39m\u001b[38;5;124m\"\u001b[39m] \u001b[38;5;129;01mis\u001b[39;00m \u001b[38;5;28;01mTrue\u001b[39;00m:\n",
      "File \u001b[0;32m/opt/miniconda3/lib/python3.13/site-packages/litellm/main.py:1838\u001b[0m, in \u001b[0;36mcompletion\u001b[0;34m(model, messages, timeout, temperature, top_p, n, stream, stream_options, stop, max_completion_tokens, max_tokens, modalities, prediction, audio, presence_penalty, frequency_penalty, logit_bias, user, reasoning_effort, response_format, seed, tools, tool_choice, logprobs, top_logprobs, parallel_tool_calls, web_search_options, deployment_id, extra_headers, functions, function_call, base_url, api_version, api_key, model_list, thinking, **kwargs)\u001b[0m\n\u001b[1;32m   1836\u001b[0m \u001b[38;5;66;03m## COMPLETION CALL\u001b[39;00m\n\u001b[1;32m   1837\u001b[0m \u001b[38;5;28;01mtry\u001b[39;00m:\n\u001b[0;32m-> 1838\u001b[0m     response \u001b[38;5;241m=\u001b[39m \u001b[43mopenai_chat_completions\u001b[49m\u001b[38;5;241;43m.\u001b[39;49m\u001b[43mcompletion\u001b[49m\u001b[43m(\u001b[49m\n\u001b[1;32m   1839\u001b[0m \u001b[43m        \u001b[49m\u001b[43mmodel\u001b[49m\u001b[38;5;241;43m=\u001b[39;49m\u001b[43mmodel\u001b[49m\u001b[43m,\u001b[49m\n\u001b[1;32m   1840\u001b[0m \u001b[43m        \u001b[49m\u001b[43mmessages\u001b[49m\u001b[38;5;241;43m=\u001b[39;49m\u001b[43mmessages\u001b[49m\u001b[43m,\u001b[49m\n\u001b[1;32m   1841\u001b[0m \u001b[43m        \u001b[49m\u001b[43mheaders\u001b[49m\u001b[38;5;241;43m=\u001b[39;49m\u001b[43mheaders\u001b[49m\u001b[43m,\u001b[49m\n\u001b[1;32m   1842\u001b[0m \u001b[43m        \u001b[49m\u001b[43mmodel_response\u001b[49m\u001b[38;5;241;43m=\u001b[39;49m\u001b[43mmodel_response\u001b[49m\u001b[43m,\u001b[49m\n\u001b[1;32m   1843\u001b[0m \u001b[43m        \u001b[49m\u001b[43mprint_verbose\u001b[49m\u001b[38;5;241;43m=\u001b[39;49m\u001b[43mprint_verbose\u001b[49m\u001b[43m,\u001b[49m\n\u001b[1;32m   1844\u001b[0m \u001b[43m        \u001b[49m\u001b[43mapi_key\u001b[49m\u001b[38;5;241;43m=\u001b[39;49m\u001b[43mapi_key\u001b[49m\u001b[43m,\u001b[49m\n\u001b[1;32m   1845\u001b[0m \u001b[43m        \u001b[49m\u001b[43mapi_base\u001b[49m\u001b[38;5;241;43m=\u001b[39;49m\u001b[43mapi_base\u001b[49m\u001b[43m,\u001b[49m\n\u001b[1;32m   1846\u001b[0m \u001b[43m        \u001b[49m\u001b[43macompletion\u001b[49m\u001b[38;5;241;43m=\u001b[39;49m\u001b[43macompletion\u001b[49m\u001b[43m,\u001b[49m\n\u001b[1;32m   1847\u001b[0m \u001b[43m        \u001b[49m\u001b[43mlogging_obj\u001b[49m\u001b[38;5;241;43m=\u001b[39;49m\u001b[43mlogging\u001b[49m\u001b[43m,\u001b[49m\n\u001b[1;32m   1848\u001b[0m \u001b[43m        \u001b[49m\u001b[43moptional_params\u001b[49m\u001b[38;5;241;43m=\u001b[39;49m\u001b[43moptional_params\u001b[49m\u001b[43m,\u001b[49m\n\u001b[1;32m   1849\u001b[0m \u001b[43m        \u001b[49m\u001b[43mlitellm_params\u001b[49m\u001b[38;5;241;43m=\u001b[39;49m\u001b[43mlitellm_params\u001b[49m\u001b[43m,\u001b[49m\n\u001b[1;32m   1850\u001b[0m \u001b[43m        \u001b[49m\u001b[43mlogger_fn\u001b[49m\u001b[38;5;241;43m=\u001b[39;49m\u001b[43mlogger_fn\u001b[49m\u001b[43m,\u001b[49m\n\u001b[1;32m   1851\u001b[0m \u001b[43m        \u001b[49m\u001b[43mtimeout\u001b[49m\u001b[38;5;241;43m=\u001b[39;49m\u001b[43mtimeout\u001b[49m\u001b[43m,\u001b[49m\u001b[43m  \u001b[49m\u001b[38;5;66;43;03m# type: ignore\u001b[39;49;00m\n\u001b[1;32m   1852\u001b[0m \u001b[43m        \u001b[49m\u001b[43mcustom_prompt_dict\u001b[49m\u001b[38;5;241;43m=\u001b[39;49m\u001b[43mcustom_prompt_dict\u001b[49m\u001b[43m,\u001b[49m\n\u001b[1;32m   1853\u001b[0m \u001b[43m        \u001b[49m\u001b[43mclient\u001b[49m\u001b[38;5;241;43m=\u001b[39;49m\u001b[43mclient\u001b[49m\u001b[43m,\u001b[49m\u001b[43m  \u001b[49m\u001b[38;5;66;43;03m# pass AsyncOpenAI, OpenAI client\u001b[39;49;00m\n\u001b[1;32m   1854\u001b[0m \u001b[43m        \u001b[49m\u001b[43morganization\u001b[49m\u001b[38;5;241;43m=\u001b[39;49m\u001b[43morganization\u001b[49m\u001b[43m,\u001b[49m\n\u001b[1;32m   1855\u001b[0m \u001b[43m        \u001b[49m\u001b[43mcustom_llm_provider\u001b[49m\u001b[38;5;241;43m=\u001b[39;49m\u001b[43mcustom_llm_provider\u001b[49m\u001b[43m,\u001b[49m\n\u001b[1;32m   1856\u001b[0m \u001b[43m    \u001b[49m\u001b[43m)\u001b[49m\n\u001b[1;32m   1857\u001b[0m \u001b[38;5;28;01mexcept\u001b[39;00m \u001b[38;5;167;01mException\u001b[39;00m \u001b[38;5;28;01mas\u001b[39;00m e:\n\u001b[1;32m   1858\u001b[0m     \u001b[38;5;66;03m## LOGGING - log the original exception returned\u001b[39;00m\n\u001b[1;32m   1859\u001b[0m     logging\u001b[38;5;241m.\u001b[39mpost_call(\n\u001b[1;32m   1860\u001b[0m         \u001b[38;5;28minput\u001b[39m\u001b[38;5;241m=\u001b[39mmessages,\n\u001b[1;32m   1861\u001b[0m         api_key\u001b[38;5;241m=\u001b[39mapi_key,\n\u001b[1;32m   1862\u001b[0m         original_response\u001b[38;5;241m=\u001b[39m\u001b[38;5;28mstr\u001b[39m(e),\n\u001b[1;32m   1863\u001b[0m         additional_args\u001b[38;5;241m=\u001b[39m{\u001b[38;5;124m\"\u001b[39m\u001b[38;5;124mheaders\u001b[39m\u001b[38;5;124m\"\u001b[39m: headers},\n\u001b[1;32m   1864\u001b[0m     )\n",
      "File \u001b[0;32m/opt/miniconda3/lib/python3.13/site-packages/litellm/llms/openai/openai.py:653\u001b[0m, in \u001b[0;36mOpenAIChatCompletion.completion\u001b[0;34m(self, model_response, timeout, optional_params, litellm_params, logging_obj, model, messages, print_verbose, api_key, api_base, api_version, dynamic_params, azure_ad_token, acompletion, logger_fn, headers, custom_prompt_dict, client, organization, custom_llm_provider, drop_params)\u001b[0m\n\u001b[1;32m    638\u001b[0m \u001b[38;5;66;03m## LOGGING\u001b[39;00m\n\u001b[1;32m    639\u001b[0m logging_obj\u001b[38;5;241m.\u001b[39mpre_call(\n\u001b[1;32m    640\u001b[0m     \u001b[38;5;28minput\u001b[39m\u001b[38;5;241m=\u001b[39mmessages,\n\u001b[1;32m    641\u001b[0m     api_key\u001b[38;5;241m=\u001b[39mopenai_client\u001b[38;5;241m.\u001b[39mapi_key,\n\u001b[0;32m   (...)\u001b[0m\n\u001b[1;32m    647\u001b[0m     },\n\u001b[1;32m    648\u001b[0m )\n\u001b[1;32m    650\u001b[0m (\n\u001b[1;32m    651\u001b[0m     headers,\n\u001b[1;32m    652\u001b[0m     response,\n\u001b[0;32m--> 653\u001b[0m ) \u001b[38;5;241m=\u001b[39m \u001b[38;5;28;43mself\u001b[39;49m\u001b[38;5;241;43m.\u001b[39;49m\u001b[43mmake_sync_openai_chat_completion_request\u001b[49m\u001b[43m(\u001b[49m\n\u001b[1;32m    654\u001b[0m \u001b[43m    \u001b[49m\u001b[43mopenai_client\u001b[49m\u001b[38;5;241;43m=\u001b[39;49m\u001b[43mopenai_client\u001b[49m\u001b[43m,\u001b[49m\n\u001b[1;32m    655\u001b[0m \u001b[43m    \u001b[49m\u001b[43mdata\u001b[49m\u001b[38;5;241;43m=\u001b[39;49m\u001b[43mdata\u001b[49m\u001b[43m,\u001b[49m\n\u001b[1;32m    656\u001b[0m \u001b[43m    \u001b[49m\u001b[43mtimeout\u001b[49m\u001b[38;5;241;43m=\u001b[39;49m\u001b[43mtimeout\u001b[49m\u001b[43m,\u001b[49m\n\u001b[1;32m    657\u001b[0m \u001b[43m    \u001b[49m\u001b[43mlogging_obj\u001b[49m\u001b[38;5;241;43m=\u001b[39;49m\u001b[43mlogging_obj\u001b[49m\u001b[43m,\u001b[49m\n\u001b[1;32m    658\u001b[0m \u001b[43m\u001b[49m\u001b[43m)\u001b[49m\n\u001b[1;32m    660\u001b[0m logging_obj\u001b[38;5;241m.\u001b[39mmodel_call_details[\u001b[38;5;124m\"\u001b[39m\u001b[38;5;124mresponse_headers\u001b[39m\u001b[38;5;124m\"\u001b[39m] \u001b[38;5;241m=\u001b[39m headers\n\u001b[1;32m    661\u001b[0m stringified_response \u001b[38;5;241m=\u001b[39m response\u001b[38;5;241m.\u001b[39mmodel_dump()\n",
      "File \u001b[0;32m/opt/miniconda3/lib/python3.13/site-packages/litellm/litellm_core_utils/logging_utils.py:149\u001b[0m, in \u001b[0;36mtrack_llm_api_timing.<locals>.decorator.<locals>.sync_wrapper\u001b[0;34m(*args, **kwargs)\u001b[0m\n\u001b[1;32m    147\u001b[0m start_time \u001b[38;5;241m=\u001b[39m datetime\u001b[38;5;241m.\u001b[39mnow()\n\u001b[1;32m    148\u001b[0m \u001b[38;5;28;01mtry\u001b[39;00m:\n\u001b[0;32m--> 149\u001b[0m     result \u001b[38;5;241m=\u001b[39m \u001b[43mfunc\u001b[49m\u001b[43m(\u001b[49m\u001b[38;5;241;43m*\u001b[39;49m\u001b[43margs\u001b[49m\u001b[43m,\u001b[49m\u001b[43m \u001b[49m\u001b[38;5;241;43m*\u001b[39;49m\u001b[38;5;241;43m*\u001b[39;49m\u001b[43mkwargs\u001b[49m\u001b[43m)\u001b[49m\n\u001b[1;32m    150\u001b[0m     \u001b[38;5;28;01mreturn\u001b[39;00m result\n\u001b[1;32m    151\u001b[0m \u001b[38;5;28;01mfinally\u001b[39;00m:\n",
      "File \u001b[0;32m/opt/miniconda3/lib/python3.13/site-packages/litellm/llms/openai/openai.py:453\u001b[0m, in \u001b[0;36mOpenAIChatCompletion.make_sync_openai_chat_completion_request\u001b[0;34m(self, openai_client, data, timeout, logging_obj)\u001b[0m\n\u001b[1;32m    451\u001b[0m raw_response \u001b[38;5;241m=\u001b[39m \u001b[38;5;28;01mNone\u001b[39;00m\n\u001b[1;32m    452\u001b[0m \u001b[38;5;28;01mtry\u001b[39;00m:\n\u001b[0;32m--> 453\u001b[0m     raw_response \u001b[38;5;241m=\u001b[39m \u001b[43mopenai_client\u001b[49m\u001b[38;5;241;43m.\u001b[39;49m\u001b[43mchat\u001b[49m\u001b[38;5;241;43m.\u001b[39;49m\u001b[43mcompletions\u001b[49m\u001b[38;5;241;43m.\u001b[39;49m\u001b[43mwith_raw_response\u001b[49m\u001b[38;5;241;43m.\u001b[39;49m\u001b[43mcreate\u001b[49m\u001b[43m(\u001b[49m\n\u001b[1;32m    454\u001b[0m \u001b[43m        \u001b[49m\u001b[38;5;241;43m*\u001b[39;49m\u001b[38;5;241;43m*\u001b[39;49m\u001b[43mdata\u001b[49m\u001b[43m,\u001b[49m\u001b[43m \u001b[49m\u001b[43mtimeout\u001b[49m\u001b[38;5;241;43m=\u001b[39;49m\u001b[43mtimeout\u001b[49m\n\u001b[1;32m    455\u001b[0m \u001b[43m    \u001b[49m\u001b[43m)\u001b[49m\n\u001b[1;32m    457\u001b[0m     \u001b[38;5;28;01mif\u001b[39;00m \u001b[38;5;28mhasattr\u001b[39m(raw_response, \u001b[38;5;124m\"\u001b[39m\u001b[38;5;124mheaders\u001b[39m\u001b[38;5;124m\"\u001b[39m):\n\u001b[1;32m    458\u001b[0m         headers \u001b[38;5;241m=\u001b[39m \u001b[38;5;28mdict\u001b[39m(raw_response\u001b[38;5;241m.\u001b[39mheaders)\n",
      "File \u001b[0;32m/opt/miniconda3/lib/python3.13/site-packages/openai/_legacy_response.py:364\u001b[0m, in \u001b[0;36mto_raw_response_wrapper.<locals>.wrapped\u001b[0;34m(*args, **kwargs)\u001b[0m\n\u001b[1;32m    360\u001b[0m extra_headers[RAW_RESPONSE_HEADER] \u001b[38;5;241m=\u001b[39m \u001b[38;5;124m\"\u001b[39m\u001b[38;5;124mtrue\u001b[39m\u001b[38;5;124m\"\u001b[39m\n\u001b[1;32m    362\u001b[0m kwargs[\u001b[38;5;124m\"\u001b[39m\u001b[38;5;124mextra_headers\u001b[39m\u001b[38;5;124m\"\u001b[39m] \u001b[38;5;241m=\u001b[39m extra_headers\n\u001b[0;32m--> 364\u001b[0m \u001b[38;5;28;01mreturn\u001b[39;00m cast(LegacyAPIResponse[R], \u001b[43mfunc\u001b[49m\u001b[43m(\u001b[49m\u001b[38;5;241;43m*\u001b[39;49m\u001b[43margs\u001b[49m\u001b[43m,\u001b[49m\u001b[43m \u001b[49m\u001b[38;5;241;43m*\u001b[39;49m\u001b[38;5;241;43m*\u001b[39;49m\u001b[43mkwargs\u001b[49m\u001b[43m)\u001b[49m)\n",
      "File \u001b[0;32m/opt/miniconda3/lib/python3.13/site-packages/openai/_utils/_utils.py:287\u001b[0m, in \u001b[0;36mrequired_args.<locals>.inner.<locals>.wrapper\u001b[0;34m(*args, **kwargs)\u001b[0m\n\u001b[1;32m    285\u001b[0m             msg \u001b[38;5;241m=\u001b[39m \u001b[38;5;124mf\u001b[39m\u001b[38;5;124m\"\u001b[39m\u001b[38;5;124mMissing required argument: \u001b[39m\u001b[38;5;132;01m{\u001b[39;00mquote(missing[\u001b[38;5;241m0\u001b[39m])\u001b[38;5;132;01m}\u001b[39;00m\u001b[38;5;124m\"\u001b[39m\n\u001b[1;32m    286\u001b[0m     \u001b[38;5;28;01mraise\u001b[39;00m \u001b[38;5;167;01mTypeError\u001b[39;00m(msg)\n\u001b[0;32m--> 287\u001b[0m \u001b[38;5;28;01mreturn\u001b[39;00m \u001b[43mfunc\u001b[49m\u001b[43m(\u001b[49m\u001b[38;5;241;43m*\u001b[39;49m\u001b[43margs\u001b[49m\u001b[43m,\u001b[49m\u001b[43m \u001b[49m\u001b[38;5;241;43m*\u001b[39;49m\u001b[38;5;241;43m*\u001b[39;49m\u001b[43mkwargs\u001b[49m\u001b[43m)\u001b[49m\n",
      "File \u001b[0;32m/opt/miniconda3/lib/python3.13/site-packages/openai/resources/chat/completions/completions.py:925\u001b[0m, in \u001b[0;36mCompletions.create\u001b[0;34m(self, messages, model, audio, frequency_penalty, function_call, functions, logit_bias, logprobs, max_completion_tokens, max_tokens, metadata, modalities, n, parallel_tool_calls, prediction, presence_penalty, reasoning_effort, response_format, seed, service_tier, stop, store, stream, stream_options, temperature, tool_choice, tools, top_logprobs, top_p, user, web_search_options, extra_headers, extra_query, extra_body, timeout)\u001b[0m\n\u001b[1;32m    882\u001b[0m \u001b[38;5;129m@required_args\u001b[39m([\u001b[38;5;124m\"\u001b[39m\u001b[38;5;124mmessages\u001b[39m\u001b[38;5;124m\"\u001b[39m, \u001b[38;5;124m\"\u001b[39m\u001b[38;5;124mmodel\u001b[39m\u001b[38;5;124m\"\u001b[39m], [\u001b[38;5;124m\"\u001b[39m\u001b[38;5;124mmessages\u001b[39m\u001b[38;5;124m\"\u001b[39m, \u001b[38;5;124m\"\u001b[39m\u001b[38;5;124mmodel\u001b[39m\u001b[38;5;124m\"\u001b[39m, \u001b[38;5;124m\"\u001b[39m\u001b[38;5;124mstream\u001b[39m\u001b[38;5;124m\"\u001b[39m])\n\u001b[1;32m    883\u001b[0m \u001b[38;5;28;01mdef\u001b[39;00m\u001b[38;5;250m \u001b[39m\u001b[38;5;21mcreate\u001b[39m(\n\u001b[1;32m    884\u001b[0m     \u001b[38;5;28mself\u001b[39m,\n\u001b[0;32m   (...)\u001b[0m\n\u001b[1;32m    922\u001b[0m     timeout: \u001b[38;5;28mfloat\u001b[39m \u001b[38;5;241m|\u001b[39m httpx\u001b[38;5;241m.\u001b[39mTimeout \u001b[38;5;241m|\u001b[39m \u001b[38;5;28;01mNone\u001b[39;00m \u001b[38;5;241m|\u001b[39m NotGiven \u001b[38;5;241m=\u001b[39m NOT_GIVEN,\n\u001b[1;32m    923\u001b[0m ) \u001b[38;5;241m-\u001b[39m\u001b[38;5;241m>\u001b[39m ChatCompletion \u001b[38;5;241m|\u001b[39m Stream[ChatCompletionChunk]:\n\u001b[1;32m    924\u001b[0m     validate_response_format(response_format)\n\u001b[0;32m--> 925\u001b[0m     \u001b[38;5;28;01mreturn\u001b[39;00m \u001b[38;5;28;43mself\u001b[39;49m\u001b[38;5;241;43m.\u001b[39;49m\u001b[43m_post\u001b[49m\u001b[43m(\u001b[49m\n\u001b[1;32m    926\u001b[0m \u001b[43m        \u001b[49m\u001b[38;5;124;43m\"\u001b[39;49m\u001b[38;5;124;43m/chat/completions\u001b[39;49m\u001b[38;5;124;43m\"\u001b[39;49m\u001b[43m,\u001b[49m\n\u001b[1;32m    927\u001b[0m \u001b[43m        \u001b[49m\u001b[43mbody\u001b[49m\u001b[38;5;241;43m=\u001b[39;49m\u001b[43mmaybe_transform\u001b[49m\u001b[43m(\u001b[49m\n\u001b[1;32m    928\u001b[0m \u001b[43m            \u001b[49m\u001b[43m{\u001b[49m\n\u001b[1;32m    929\u001b[0m \u001b[43m                \u001b[49m\u001b[38;5;124;43m\"\u001b[39;49m\u001b[38;5;124;43mmessages\u001b[39;49m\u001b[38;5;124;43m\"\u001b[39;49m\u001b[43m:\u001b[49m\u001b[43m \u001b[49m\u001b[43mmessages\u001b[49m\u001b[43m,\u001b[49m\n\u001b[1;32m    930\u001b[0m \u001b[43m                \u001b[49m\u001b[38;5;124;43m\"\u001b[39;49m\u001b[38;5;124;43mmodel\u001b[39;49m\u001b[38;5;124;43m\"\u001b[39;49m\u001b[43m:\u001b[49m\u001b[43m \u001b[49m\u001b[43mmodel\u001b[49m\u001b[43m,\u001b[49m\n\u001b[1;32m    931\u001b[0m \u001b[43m                \u001b[49m\u001b[38;5;124;43m\"\u001b[39;49m\u001b[38;5;124;43maudio\u001b[39;49m\u001b[38;5;124;43m\"\u001b[39;49m\u001b[43m:\u001b[49m\u001b[43m \u001b[49m\u001b[43maudio\u001b[49m\u001b[43m,\u001b[49m\n\u001b[1;32m    932\u001b[0m \u001b[43m                \u001b[49m\u001b[38;5;124;43m\"\u001b[39;49m\u001b[38;5;124;43mfrequency_penalty\u001b[39;49m\u001b[38;5;124;43m\"\u001b[39;49m\u001b[43m:\u001b[49m\u001b[43m \u001b[49m\u001b[43mfrequency_penalty\u001b[49m\u001b[43m,\u001b[49m\n\u001b[1;32m    933\u001b[0m \u001b[43m                \u001b[49m\u001b[38;5;124;43m\"\u001b[39;49m\u001b[38;5;124;43mfunction_call\u001b[39;49m\u001b[38;5;124;43m\"\u001b[39;49m\u001b[43m:\u001b[49m\u001b[43m \u001b[49m\u001b[43mfunction_call\u001b[49m\u001b[43m,\u001b[49m\n\u001b[1;32m    934\u001b[0m \u001b[43m                \u001b[49m\u001b[38;5;124;43m\"\u001b[39;49m\u001b[38;5;124;43mfunctions\u001b[39;49m\u001b[38;5;124;43m\"\u001b[39;49m\u001b[43m:\u001b[49m\u001b[43m \u001b[49m\u001b[43mfunctions\u001b[49m\u001b[43m,\u001b[49m\n\u001b[1;32m    935\u001b[0m \u001b[43m                \u001b[49m\u001b[38;5;124;43m\"\u001b[39;49m\u001b[38;5;124;43mlogit_bias\u001b[39;49m\u001b[38;5;124;43m\"\u001b[39;49m\u001b[43m:\u001b[49m\u001b[43m \u001b[49m\u001b[43mlogit_bias\u001b[49m\u001b[43m,\u001b[49m\n\u001b[1;32m    936\u001b[0m \u001b[43m                \u001b[49m\u001b[38;5;124;43m\"\u001b[39;49m\u001b[38;5;124;43mlogprobs\u001b[39;49m\u001b[38;5;124;43m\"\u001b[39;49m\u001b[43m:\u001b[49m\u001b[43m \u001b[49m\u001b[43mlogprobs\u001b[49m\u001b[43m,\u001b[49m\n\u001b[1;32m    937\u001b[0m \u001b[43m                \u001b[49m\u001b[38;5;124;43m\"\u001b[39;49m\u001b[38;5;124;43mmax_completion_tokens\u001b[39;49m\u001b[38;5;124;43m\"\u001b[39;49m\u001b[43m:\u001b[49m\u001b[43m \u001b[49m\u001b[43mmax_completion_tokens\u001b[49m\u001b[43m,\u001b[49m\n\u001b[1;32m    938\u001b[0m \u001b[43m                \u001b[49m\u001b[38;5;124;43m\"\u001b[39;49m\u001b[38;5;124;43mmax_tokens\u001b[39;49m\u001b[38;5;124;43m\"\u001b[39;49m\u001b[43m:\u001b[49m\u001b[43m \u001b[49m\u001b[43mmax_tokens\u001b[49m\u001b[43m,\u001b[49m\n\u001b[1;32m    939\u001b[0m \u001b[43m                \u001b[49m\u001b[38;5;124;43m\"\u001b[39;49m\u001b[38;5;124;43mmetadata\u001b[39;49m\u001b[38;5;124;43m\"\u001b[39;49m\u001b[43m:\u001b[49m\u001b[43m \u001b[49m\u001b[43mmetadata\u001b[49m\u001b[43m,\u001b[49m\n\u001b[1;32m    940\u001b[0m \u001b[43m                \u001b[49m\u001b[38;5;124;43m\"\u001b[39;49m\u001b[38;5;124;43mmodalities\u001b[39;49m\u001b[38;5;124;43m\"\u001b[39;49m\u001b[43m:\u001b[49m\u001b[43m \u001b[49m\u001b[43mmodalities\u001b[49m\u001b[43m,\u001b[49m\n\u001b[1;32m    941\u001b[0m \u001b[43m                \u001b[49m\u001b[38;5;124;43m\"\u001b[39;49m\u001b[38;5;124;43mn\u001b[39;49m\u001b[38;5;124;43m\"\u001b[39;49m\u001b[43m:\u001b[49m\u001b[43m \u001b[49m\u001b[43mn\u001b[49m\u001b[43m,\u001b[49m\n\u001b[1;32m    942\u001b[0m \u001b[43m                \u001b[49m\u001b[38;5;124;43m\"\u001b[39;49m\u001b[38;5;124;43mparallel_tool_calls\u001b[39;49m\u001b[38;5;124;43m\"\u001b[39;49m\u001b[43m:\u001b[49m\u001b[43m \u001b[49m\u001b[43mparallel_tool_calls\u001b[49m\u001b[43m,\u001b[49m\n\u001b[1;32m    943\u001b[0m \u001b[43m                \u001b[49m\u001b[38;5;124;43m\"\u001b[39;49m\u001b[38;5;124;43mprediction\u001b[39;49m\u001b[38;5;124;43m\"\u001b[39;49m\u001b[43m:\u001b[49m\u001b[43m \u001b[49m\u001b[43mprediction\u001b[49m\u001b[43m,\u001b[49m\n\u001b[1;32m    944\u001b[0m \u001b[43m                \u001b[49m\u001b[38;5;124;43m\"\u001b[39;49m\u001b[38;5;124;43mpresence_penalty\u001b[39;49m\u001b[38;5;124;43m\"\u001b[39;49m\u001b[43m:\u001b[49m\u001b[43m \u001b[49m\u001b[43mpresence_penalty\u001b[49m\u001b[43m,\u001b[49m\n\u001b[1;32m    945\u001b[0m \u001b[43m                \u001b[49m\u001b[38;5;124;43m\"\u001b[39;49m\u001b[38;5;124;43mreasoning_effort\u001b[39;49m\u001b[38;5;124;43m\"\u001b[39;49m\u001b[43m:\u001b[49m\u001b[43m \u001b[49m\u001b[43mreasoning_effort\u001b[49m\u001b[43m,\u001b[49m\n\u001b[1;32m    946\u001b[0m \u001b[43m                \u001b[49m\u001b[38;5;124;43m\"\u001b[39;49m\u001b[38;5;124;43mresponse_format\u001b[39;49m\u001b[38;5;124;43m\"\u001b[39;49m\u001b[43m:\u001b[49m\u001b[43m \u001b[49m\u001b[43mresponse_format\u001b[49m\u001b[43m,\u001b[49m\n\u001b[1;32m    947\u001b[0m \u001b[43m                \u001b[49m\u001b[38;5;124;43m\"\u001b[39;49m\u001b[38;5;124;43mseed\u001b[39;49m\u001b[38;5;124;43m\"\u001b[39;49m\u001b[43m:\u001b[49m\u001b[43m \u001b[49m\u001b[43mseed\u001b[49m\u001b[43m,\u001b[49m\n\u001b[1;32m    948\u001b[0m \u001b[43m                \u001b[49m\u001b[38;5;124;43m\"\u001b[39;49m\u001b[38;5;124;43mservice_tier\u001b[39;49m\u001b[38;5;124;43m\"\u001b[39;49m\u001b[43m:\u001b[49m\u001b[43m \u001b[49m\u001b[43mservice_tier\u001b[49m\u001b[43m,\u001b[49m\n\u001b[1;32m    949\u001b[0m \u001b[43m                \u001b[49m\u001b[38;5;124;43m\"\u001b[39;49m\u001b[38;5;124;43mstop\u001b[39;49m\u001b[38;5;124;43m\"\u001b[39;49m\u001b[43m:\u001b[49m\u001b[43m \u001b[49m\u001b[43mstop\u001b[49m\u001b[43m,\u001b[49m\n\u001b[1;32m    950\u001b[0m \u001b[43m                \u001b[49m\u001b[38;5;124;43m\"\u001b[39;49m\u001b[38;5;124;43mstore\u001b[39;49m\u001b[38;5;124;43m\"\u001b[39;49m\u001b[43m:\u001b[49m\u001b[43m \u001b[49m\u001b[43mstore\u001b[49m\u001b[43m,\u001b[49m\n\u001b[1;32m    951\u001b[0m \u001b[43m                \u001b[49m\u001b[38;5;124;43m\"\u001b[39;49m\u001b[38;5;124;43mstream\u001b[39;49m\u001b[38;5;124;43m\"\u001b[39;49m\u001b[43m:\u001b[49m\u001b[43m \u001b[49m\u001b[43mstream\u001b[49m\u001b[43m,\u001b[49m\n\u001b[1;32m    952\u001b[0m \u001b[43m                \u001b[49m\u001b[38;5;124;43m\"\u001b[39;49m\u001b[38;5;124;43mstream_options\u001b[39;49m\u001b[38;5;124;43m\"\u001b[39;49m\u001b[43m:\u001b[49m\u001b[43m \u001b[49m\u001b[43mstream_options\u001b[49m\u001b[43m,\u001b[49m\n\u001b[1;32m    953\u001b[0m \u001b[43m                \u001b[49m\u001b[38;5;124;43m\"\u001b[39;49m\u001b[38;5;124;43mtemperature\u001b[39;49m\u001b[38;5;124;43m\"\u001b[39;49m\u001b[43m:\u001b[49m\u001b[43m \u001b[49m\u001b[43mtemperature\u001b[49m\u001b[43m,\u001b[49m\n\u001b[1;32m    954\u001b[0m \u001b[43m                \u001b[49m\u001b[38;5;124;43m\"\u001b[39;49m\u001b[38;5;124;43mtool_choice\u001b[39;49m\u001b[38;5;124;43m\"\u001b[39;49m\u001b[43m:\u001b[49m\u001b[43m \u001b[49m\u001b[43mtool_choice\u001b[49m\u001b[43m,\u001b[49m\n\u001b[1;32m    955\u001b[0m \u001b[43m                \u001b[49m\u001b[38;5;124;43m\"\u001b[39;49m\u001b[38;5;124;43mtools\u001b[39;49m\u001b[38;5;124;43m\"\u001b[39;49m\u001b[43m:\u001b[49m\u001b[43m \u001b[49m\u001b[43mtools\u001b[49m\u001b[43m,\u001b[49m\n\u001b[1;32m    956\u001b[0m \u001b[43m                \u001b[49m\u001b[38;5;124;43m\"\u001b[39;49m\u001b[38;5;124;43mtop_logprobs\u001b[39;49m\u001b[38;5;124;43m\"\u001b[39;49m\u001b[43m:\u001b[49m\u001b[43m \u001b[49m\u001b[43mtop_logprobs\u001b[49m\u001b[43m,\u001b[49m\n\u001b[1;32m    957\u001b[0m \u001b[43m                \u001b[49m\u001b[38;5;124;43m\"\u001b[39;49m\u001b[38;5;124;43mtop_p\u001b[39;49m\u001b[38;5;124;43m\"\u001b[39;49m\u001b[43m:\u001b[49m\u001b[43m \u001b[49m\u001b[43mtop_p\u001b[49m\u001b[43m,\u001b[49m\n\u001b[1;32m    958\u001b[0m \u001b[43m                \u001b[49m\u001b[38;5;124;43m\"\u001b[39;49m\u001b[38;5;124;43muser\u001b[39;49m\u001b[38;5;124;43m\"\u001b[39;49m\u001b[43m:\u001b[49m\u001b[43m \u001b[49m\u001b[43muser\u001b[49m\u001b[43m,\u001b[49m\n\u001b[1;32m    959\u001b[0m \u001b[43m                \u001b[49m\u001b[38;5;124;43m\"\u001b[39;49m\u001b[38;5;124;43mweb_search_options\u001b[39;49m\u001b[38;5;124;43m\"\u001b[39;49m\u001b[43m:\u001b[49m\u001b[43m \u001b[49m\u001b[43mweb_search_options\u001b[49m\u001b[43m,\u001b[49m\n\u001b[1;32m    960\u001b[0m \u001b[43m            \u001b[49m\u001b[43m}\u001b[49m\u001b[43m,\u001b[49m\n\u001b[1;32m    961\u001b[0m \u001b[43m            \u001b[49m\u001b[43mcompletion_create_params\u001b[49m\u001b[38;5;241;43m.\u001b[39;49m\u001b[43mCompletionCreateParamsStreaming\u001b[49m\n\u001b[1;32m    962\u001b[0m \u001b[43m            \u001b[49m\u001b[38;5;28;43;01mif\u001b[39;49;00m\u001b[43m \u001b[49m\u001b[43mstream\u001b[49m\n\u001b[1;32m    963\u001b[0m \u001b[43m            \u001b[49m\u001b[38;5;28;43;01melse\u001b[39;49;00m\u001b[43m \u001b[49m\u001b[43mcompletion_create_params\u001b[49m\u001b[38;5;241;43m.\u001b[39;49m\u001b[43mCompletionCreateParamsNonStreaming\u001b[49m\u001b[43m,\u001b[49m\n\u001b[1;32m    964\u001b[0m \u001b[43m        \u001b[49m\u001b[43m)\u001b[49m\u001b[43m,\u001b[49m\n\u001b[1;32m    965\u001b[0m \u001b[43m        \u001b[49m\u001b[43moptions\u001b[49m\u001b[38;5;241;43m=\u001b[39;49m\u001b[43mmake_request_options\u001b[49m\u001b[43m(\u001b[49m\n\u001b[1;32m    966\u001b[0m \u001b[43m            \u001b[49m\u001b[43mextra_headers\u001b[49m\u001b[38;5;241;43m=\u001b[39;49m\u001b[43mextra_headers\u001b[49m\u001b[43m,\u001b[49m\u001b[43m \u001b[49m\u001b[43mextra_query\u001b[49m\u001b[38;5;241;43m=\u001b[39;49m\u001b[43mextra_query\u001b[49m\u001b[43m,\u001b[49m\u001b[43m \u001b[49m\u001b[43mextra_body\u001b[49m\u001b[38;5;241;43m=\u001b[39;49m\u001b[43mextra_body\u001b[49m\u001b[43m,\u001b[49m\u001b[43m \u001b[49m\u001b[43mtimeout\u001b[49m\u001b[38;5;241;43m=\u001b[39;49m\u001b[43mtimeout\u001b[49m\n\u001b[1;32m    967\u001b[0m \u001b[43m        \u001b[49m\u001b[43m)\u001b[49m\u001b[43m,\u001b[49m\n\u001b[1;32m    968\u001b[0m \u001b[43m        \u001b[49m\u001b[43mcast_to\u001b[49m\u001b[38;5;241;43m=\u001b[39;49m\u001b[43mChatCompletion\u001b[49m\u001b[43m,\u001b[49m\n\u001b[1;32m    969\u001b[0m \u001b[43m        \u001b[49m\u001b[43mstream\u001b[49m\u001b[38;5;241;43m=\u001b[39;49m\u001b[43mstream\u001b[49m\u001b[43m \u001b[49m\u001b[38;5;129;43;01mor\u001b[39;49;00m\u001b[43m \u001b[49m\u001b[38;5;28;43;01mFalse\u001b[39;49;00m\u001b[43m,\u001b[49m\n\u001b[1;32m    970\u001b[0m \u001b[43m        \u001b[49m\u001b[43mstream_cls\u001b[49m\u001b[38;5;241;43m=\u001b[39;49m\u001b[43mStream\u001b[49m\u001b[43m[\u001b[49m\u001b[43mChatCompletionChunk\u001b[49m\u001b[43m]\u001b[49m\u001b[43m,\u001b[49m\n\u001b[1;32m    971\u001b[0m \u001b[43m    \u001b[49m\u001b[43m)\u001b[49m\n",
      "File \u001b[0;32m/opt/miniconda3/lib/python3.13/site-packages/openai/_base_client.py:1239\u001b[0m, in \u001b[0;36mSyncAPIClient.post\u001b[0;34m(self, path, cast_to, body, options, files, stream, stream_cls)\u001b[0m\n\u001b[1;32m   1225\u001b[0m \u001b[38;5;28;01mdef\u001b[39;00m\u001b[38;5;250m \u001b[39m\u001b[38;5;21mpost\u001b[39m(\n\u001b[1;32m   1226\u001b[0m     \u001b[38;5;28mself\u001b[39m,\n\u001b[1;32m   1227\u001b[0m     path: \u001b[38;5;28mstr\u001b[39m,\n\u001b[0;32m   (...)\u001b[0m\n\u001b[1;32m   1234\u001b[0m     stream_cls: \u001b[38;5;28mtype\u001b[39m[_StreamT] \u001b[38;5;241m|\u001b[39m \u001b[38;5;28;01mNone\u001b[39;00m \u001b[38;5;241m=\u001b[39m \u001b[38;5;28;01mNone\u001b[39;00m,\n\u001b[1;32m   1235\u001b[0m ) \u001b[38;5;241m-\u001b[39m\u001b[38;5;241m>\u001b[39m ResponseT \u001b[38;5;241m|\u001b[39m _StreamT:\n\u001b[1;32m   1236\u001b[0m     opts \u001b[38;5;241m=\u001b[39m FinalRequestOptions\u001b[38;5;241m.\u001b[39mconstruct(\n\u001b[1;32m   1237\u001b[0m         method\u001b[38;5;241m=\u001b[39m\u001b[38;5;124m\"\u001b[39m\u001b[38;5;124mpost\u001b[39m\u001b[38;5;124m\"\u001b[39m, url\u001b[38;5;241m=\u001b[39mpath, json_data\u001b[38;5;241m=\u001b[39mbody, files\u001b[38;5;241m=\u001b[39mto_httpx_files(files), \u001b[38;5;241m*\u001b[39m\u001b[38;5;241m*\u001b[39moptions\n\u001b[1;32m   1238\u001b[0m     )\n\u001b[0;32m-> 1239\u001b[0m     \u001b[38;5;28;01mreturn\u001b[39;00m cast(ResponseT, \u001b[38;5;28;43mself\u001b[39;49m\u001b[38;5;241;43m.\u001b[39;49m\u001b[43mrequest\u001b[49m\u001b[43m(\u001b[49m\u001b[43mcast_to\u001b[49m\u001b[43m,\u001b[49m\u001b[43m \u001b[49m\u001b[43mopts\u001b[49m\u001b[43m,\u001b[49m\u001b[43m \u001b[49m\u001b[43mstream\u001b[49m\u001b[38;5;241;43m=\u001b[39;49m\u001b[43mstream\u001b[49m\u001b[43m,\u001b[49m\u001b[43m \u001b[49m\u001b[43mstream_cls\u001b[49m\u001b[38;5;241;43m=\u001b[39;49m\u001b[43mstream_cls\u001b[49m\u001b[43m)\u001b[49m)\n",
      "File \u001b[0;32m/opt/miniconda3/lib/python3.13/site-packages/openai/_base_client.py:969\u001b[0m, in \u001b[0;36mSyncAPIClient.request\u001b[0;34m(self, cast_to, options, stream, stream_cls)\u001b[0m\n\u001b[1;32m    967\u001b[0m response \u001b[38;5;241m=\u001b[39m \u001b[38;5;28;01mNone\u001b[39;00m\n\u001b[1;32m    968\u001b[0m \u001b[38;5;28;01mtry\u001b[39;00m:\n\u001b[0;32m--> 969\u001b[0m     response \u001b[38;5;241m=\u001b[39m \u001b[38;5;28;43mself\u001b[39;49m\u001b[38;5;241;43m.\u001b[39;49m\u001b[43m_client\u001b[49m\u001b[38;5;241;43m.\u001b[39;49m\u001b[43msend\u001b[49m\u001b[43m(\u001b[49m\n\u001b[1;32m    970\u001b[0m \u001b[43m        \u001b[49m\u001b[43mrequest\u001b[49m\u001b[43m,\u001b[49m\n\u001b[1;32m    971\u001b[0m \u001b[43m        \u001b[49m\u001b[43mstream\u001b[49m\u001b[38;5;241;43m=\u001b[39;49m\u001b[43mstream\u001b[49m\u001b[43m \u001b[49m\u001b[38;5;129;43;01mor\u001b[39;49;00m\u001b[43m \u001b[49m\u001b[38;5;28;43mself\u001b[39;49m\u001b[38;5;241;43m.\u001b[39;49m\u001b[43m_should_stream_response_body\u001b[49m\u001b[43m(\u001b[49m\u001b[43mrequest\u001b[49m\u001b[38;5;241;43m=\u001b[39;49m\u001b[43mrequest\u001b[49m\u001b[43m)\u001b[49m\u001b[43m,\u001b[49m\n\u001b[1;32m    972\u001b[0m \u001b[43m        \u001b[49m\u001b[38;5;241;43m*\u001b[39;49m\u001b[38;5;241;43m*\u001b[39;49m\u001b[43mkwargs\u001b[49m\u001b[43m,\u001b[49m\n\u001b[1;32m    973\u001b[0m \u001b[43m    \u001b[49m\u001b[43m)\u001b[49m\n\u001b[1;32m    974\u001b[0m \u001b[38;5;28;01mexcept\u001b[39;00m httpx\u001b[38;5;241m.\u001b[39mTimeoutException \u001b[38;5;28;01mas\u001b[39;00m err:\n\u001b[1;32m    975\u001b[0m     log\u001b[38;5;241m.\u001b[39mdebug(\u001b[38;5;124m\"\u001b[39m\u001b[38;5;124mEncountered httpx.TimeoutException\u001b[39m\u001b[38;5;124m\"\u001b[39m, exc_info\u001b[38;5;241m=\u001b[39m\u001b[38;5;28;01mTrue\u001b[39;00m)\n",
      "File \u001b[0;32m/opt/miniconda3/lib/python3.13/site-packages/httpx/_client.py:914\u001b[0m, in \u001b[0;36mClient.send\u001b[0;34m(self, request, stream, auth, follow_redirects)\u001b[0m\n\u001b[1;32m    910\u001b[0m \u001b[38;5;28mself\u001b[39m\u001b[38;5;241m.\u001b[39m_set_timeout(request)\n\u001b[1;32m    912\u001b[0m auth \u001b[38;5;241m=\u001b[39m \u001b[38;5;28mself\u001b[39m\u001b[38;5;241m.\u001b[39m_build_request_auth(request, auth)\n\u001b[0;32m--> 914\u001b[0m response \u001b[38;5;241m=\u001b[39m \u001b[38;5;28;43mself\u001b[39;49m\u001b[38;5;241;43m.\u001b[39;49m\u001b[43m_send_handling_auth\u001b[49m\u001b[43m(\u001b[49m\n\u001b[1;32m    915\u001b[0m \u001b[43m    \u001b[49m\u001b[43mrequest\u001b[49m\u001b[43m,\u001b[49m\n\u001b[1;32m    916\u001b[0m \u001b[43m    \u001b[49m\u001b[43mauth\u001b[49m\u001b[38;5;241;43m=\u001b[39;49m\u001b[43mauth\u001b[49m\u001b[43m,\u001b[49m\n\u001b[1;32m    917\u001b[0m \u001b[43m    \u001b[49m\u001b[43mfollow_redirects\u001b[49m\u001b[38;5;241;43m=\u001b[39;49m\u001b[43mfollow_redirects\u001b[49m\u001b[43m,\u001b[49m\n\u001b[1;32m    918\u001b[0m \u001b[43m    \u001b[49m\u001b[43mhistory\u001b[49m\u001b[38;5;241;43m=\u001b[39;49m\u001b[43m[\u001b[49m\u001b[43m]\u001b[49m\u001b[43m,\u001b[49m\n\u001b[1;32m    919\u001b[0m \u001b[43m\u001b[49m\u001b[43m)\u001b[49m\n\u001b[1;32m    920\u001b[0m \u001b[38;5;28;01mtry\u001b[39;00m:\n\u001b[1;32m    921\u001b[0m     \u001b[38;5;28;01mif\u001b[39;00m \u001b[38;5;129;01mnot\u001b[39;00m stream:\n",
      "File \u001b[0;32m/opt/miniconda3/lib/python3.13/site-packages/httpx/_client.py:942\u001b[0m, in \u001b[0;36mClient._send_handling_auth\u001b[0;34m(self, request, auth, follow_redirects, history)\u001b[0m\n\u001b[1;32m    939\u001b[0m request \u001b[38;5;241m=\u001b[39m \u001b[38;5;28mnext\u001b[39m(auth_flow)\n\u001b[1;32m    941\u001b[0m \u001b[38;5;28;01mwhile\u001b[39;00m \u001b[38;5;28;01mTrue\u001b[39;00m:\n\u001b[0;32m--> 942\u001b[0m     response \u001b[38;5;241m=\u001b[39m \u001b[38;5;28;43mself\u001b[39;49m\u001b[38;5;241;43m.\u001b[39;49m\u001b[43m_send_handling_redirects\u001b[49m\u001b[43m(\u001b[49m\n\u001b[1;32m    943\u001b[0m \u001b[43m        \u001b[49m\u001b[43mrequest\u001b[49m\u001b[43m,\u001b[49m\n\u001b[1;32m    944\u001b[0m \u001b[43m        \u001b[49m\u001b[43mfollow_redirects\u001b[49m\u001b[38;5;241;43m=\u001b[39;49m\u001b[43mfollow_redirects\u001b[49m\u001b[43m,\u001b[49m\n\u001b[1;32m    945\u001b[0m \u001b[43m        \u001b[49m\u001b[43mhistory\u001b[49m\u001b[38;5;241;43m=\u001b[39;49m\u001b[43mhistory\u001b[49m\u001b[43m,\u001b[49m\n\u001b[1;32m    946\u001b[0m \u001b[43m    \u001b[49m\u001b[43m)\u001b[49m\n\u001b[1;32m    947\u001b[0m     \u001b[38;5;28;01mtry\u001b[39;00m:\n\u001b[1;32m    948\u001b[0m         \u001b[38;5;28;01mtry\u001b[39;00m:\n",
      "File \u001b[0;32m/opt/miniconda3/lib/python3.13/site-packages/httpx/_client.py:979\u001b[0m, in \u001b[0;36mClient._send_handling_redirects\u001b[0;34m(self, request, follow_redirects, history)\u001b[0m\n\u001b[1;32m    976\u001b[0m \u001b[38;5;28;01mfor\u001b[39;00m hook \u001b[38;5;129;01min\u001b[39;00m \u001b[38;5;28mself\u001b[39m\u001b[38;5;241m.\u001b[39m_event_hooks[\u001b[38;5;124m\"\u001b[39m\u001b[38;5;124mrequest\u001b[39m\u001b[38;5;124m\"\u001b[39m]:\n\u001b[1;32m    977\u001b[0m     hook(request)\n\u001b[0;32m--> 979\u001b[0m response \u001b[38;5;241m=\u001b[39m \u001b[38;5;28;43mself\u001b[39;49m\u001b[38;5;241;43m.\u001b[39;49m\u001b[43m_send_single_request\u001b[49m\u001b[43m(\u001b[49m\u001b[43mrequest\u001b[49m\u001b[43m)\u001b[49m\n\u001b[1;32m    980\u001b[0m \u001b[38;5;28;01mtry\u001b[39;00m:\n\u001b[1;32m    981\u001b[0m     \u001b[38;5;28;01mfor\u001b[39;00m hook \u001b[38;5;129;01min\u001b[39;00m \u001b[38;5;28mself\u001b[39m\u001b[38;5;241m.\u001b[39m_event_hooks[\u001b[38;5;124m\"\u001b[39m\u001b[38;5;124mresponse\u001b[39m\u001b[38;5;124m\"\u001b[39m]:\n",
      "File \u001b[0;32m/opt/miniconda3/lib/python3.13/site-packages/httpx/_client.py:1014\u001b[0m, in \u001b[0;36mClient._send_single_request\u001b[0;34m(self, request)\u001b[0m\n\u001b[1;32m   1009\u001b[0m     \u001b[38;5;28;01mraise\u001b[39;00m \u001b[38;5;167;01mRuntimeError\u001b[39;00m(\n\u001b[1;32m   1010\u001b[0m         \u001b[38;5;124m\"\u001b[39m\u001b[38;5;124mAttempted to send an async request with a sync Client instance.\u001b[39m\u001b[38;5;124m\"\u001b[39m\n\u001b[1;32m   1011\u001b[0m     )\n\u001b[1;32m   1013\u001b[0m \u001b[38;5;28;01mwith\u001b[39;00m request_context(request\u001b[38;5;241m=\u001b[39mrequest):\n\u001b[0;32m-> 1014\u001b[0m     response \u001b[38;5;241m=\u001b[39m \u001b[43mtransport\u001b[49m\u001b[38;5;241;43m.\u001b[39;49m\u001b[43mhandle_request\u001b[49m\u001b[43m(\u001b[49m\u001b[43mrequest\u001b[49m\u001b[43m)\u001b[49m\n\u001b[1;32m   1016\u001b[0m \u001b[38;5;28;01massert\u001b[39;00m \u001b[38;5;28misinstance\u001b[39m(response\u001b[38;5;241m.\u001b[39mstream, SyncByteStream)\n\u001b[1;32m   1018\u001b[0m response\u001b[38;5;241m.\u001b[39mrequest \u001b[38;5;241m=\u001b[39m request\n",
      "File \u001b[0;32m/opt/miniconda3/lib/python3.13/site-packages/httpx/_transports/default.py:250\u001b[0m, in \u001b[0;36mHTTPTransport.handle_request\u001b[0;34m(self, request)\u001b[0m\n\u001b[1;32m    237\u001b[0m req \u001b[38;5;241m=\u001b[39m httpcore\u001b[38;5;241m.\u001b[39mRequest(\n\u001b[1;32m    238\u001b[0m     method\u001b[38;5;241m=\u001b[39mrequest\u001b[38;5;241m.\u001b[39mmethod,\n\u001b[1;32m    239\u001b[0m     url\u001b[38;5;241m=\u001b[39mhttpcore\u001b[38;5;241m.\u001b[39mURL(\n\u001b[0;32m   (...)\u001b[0m\n\u001b[1;32m    247\u001b[0m     extensions\u001b[38;5;241m=\u001b[39mrequest\u001b[38;5;241m.\u001b[39mextensions,\n\u001b[1;32m    248\u001b[0m )\n\u001b[1;32m    249\u001b[0m \u001b[38;5;28;01mwith\u001b[39;00m map_httpcore_exceptions():\n\u001b[0;32m--> 250\u001b[0m     resp \u001b[38;5;241m=\u001b[39m \u001b[38;5;28;43mself\u001b[39;49m\u001b[38;5;241;43m.\u001b[39;49m\u001b[43m_pool\u001b[49m\u001b[38;5;241;43m.\u001b[39;49m\u001b[43mhandle_request\u001b[49m\u001b[43m(\u001b[49m\u001b[43mreq\u001b[49m\u001b[43m)\u001b[49m\n\u001b[1;32m    252\u001b[0m \u001b[38;5;28;01massert\u001b[39;00m \u001b[38;5;28misinstance\u001b[39m(resp\u001b[38;5;241m.\u001b[39mstream, typing\u001b[38;5;241m.\u001b[39mIterable)\n\u001b[1;32m    254\u001b[0m \u001b[38;5;28;01mreturn\u001b[39;00m Response(\n\u001b[1;32m    255\u001b[0m     status_code\u001b[38;5;241m=\u001b[39mresp\u001b[38;5;241m.\u001b[39mstatus,\n\u001b[1;32m    256\u001b[0m     headers\u001b[38;5;241m=\u001b[39mresp\u001b[38;5;241m.\u001b[39mheaders,\n\u001b[1;32m    257\u001b[0m     stream\u001b[38;5;241m=\u001b[39mResponseStream(resp\u001b[38;5;241m.\u001b[39mstream),\n\u001b[1;32m    258\u001b[0m     extensions\u001b[38;5;241m=\u001b[39mresp\u001b[38;5;241m.\u001b[39mextensions,\n\u001b[1;32m    259\u001b[0m )\n",
      "File \u001b[0;32m/opt/miniconda3/lib/python3.13/site-packages/httpcore/_sync/connection_pool.py:256\u001b[0m, in \u001b[0;36mConnectionPool.handle_request\u001b[0;34m(self, request)\u001b[0m\n\u001b[1;32m    253\u001b[0m         closing \u001b[38;5;241m=\u001b[39m \u001b[38;5;28mself\u001b[39m\u001b[38;5;241m.\u001b[39m_assign_requests_to_connections()\n\u001b[1;32m    255\u001b[0m     \u001b[38;5;28mself\u001b[39m\u001b[38;5;241m.\u001b[39m_close_connections(closing)\n\u001b[0;32m--> 256\u001b[0m     \u001b[38;5;28;01mraise\u001b[39;00m exc \u001b[38;5;28;01mfrom\u001b[39;00m\u001b[38;5;250m \u001b[39m\u001b[38;5;28;01mNone\u001b[39;00m\n\u001b[1;32m    258\u001b[0m \u001b[38;5;66;03m# Return the response. Note that in this case we still have to manage\u001b[39;00m\n\u001b[1;32m    259\u001b[0m \u001b[38;5;66;03m# the point at which the response is closed.\u001b[39;00m\n\u001b[1;32m    260\u001b[0m \u001b[38;5;28;01massert\u001b[39;00m \u001b[38;5;28misinstance\u001b[39m(response\u001b[38;5;241m.\u001b[39mstream, typing\u001b[38;5;241m.\u001b[39mIterable)\n",
      "File \u001b[0;32m/opt/miniconda3/lib/python3.13/site-packages/httpcore/_sync/connection_pool.py:236\u001b[0m, in \u001b[0;36mConnectionPool.handle_request\u001b[0;34m(self, request)\u001b[0m\n\u001b[1;32m    232\u001b[0m connection \u001b[38;5;241m=\u001b[39m pool_request\u001b[38;5;241m.\u001b[39mwait_for_connection(timeout\u001b[38;5;241m=\u001b[39mtimeout)\n\u001b[1;32m    234\u001b[0m \u001b[38;5;28;01mtry\u001b[39;00m:\n\u001b[1;32m    235\u001b[0m     \u001b[38;5;66;03m# Send the request on the assigned connection.\u001b[39;00m\n\u001b[0;32m--> 236\u001b[0m     response \u001b[38;5;241m=\u001b[39m \u001b[43mconnection\u001b[49m\u001b[38;5;241;43m.\u001b[39;49m\u001b[43mhandle_request\u001b[49m\u001b[43m(\u001b[49m\n\u001b[1;32m    237\u001b[0m \u001b[43m        \u001b[49m\u001b[43mpool_request\u001b[49m\u001b[38;5;241;43m.\u001b[39;49m\u001b[43mrequest\u001b[49m\n\u001b[1;32m    238\u001b[0m \u001b[43m    \u001b[49m\u001b[43m)\u001b[49m\n\u001b[1;32m    239\u001b[0m \u001b[38;5;28;01mexcept\u001b[39;00m ConnectionNotAvailable:\n\u001b[1;32m    240\u001b[0m     \u001b[38;5;66;03m# In some cases a connection may initially be available to\u001b[39;00m\n\u001b[1;32m    241\u001b[0m     \u001b[38;5;66;03m# handle a request, but then become unavailable.\u001b[39;00m\n\u001b[1;32m    242\u001b[0m     \u001b[38;5;66;03m#\u001b[39;00m\n\u001b[1;32m    243\u001b[0m     \u001b[38;5;66;03m# In this case we clear the connection and try again.\u001b[39;00m\n\u001b[1;32m    244\u001b[0m     pool_request\u001b[38;5;241m.\u001b[39mclear_connection()\n",
      "File \u001b[0;32m/opt/miniconda3/lib/python3.13/site-packages/httpcore/_sync/connection.py:103\u001b[0m, in \u001b[0;36mHTTPConnection.handle_request\u001b[0;34m(self, request)\u001b[0m\n\u001b[1;32m    100\u001b[0m     \u001b[38;5;28mself\u001b[39m\u001b[38;5;241m.\u001b[39m_connect_failed \u001b[38;5;241m=\u001b[39m \u001b[38;5;28;01mTrue\u001b[39;00m\n\u001b[1;32m    101\u001b[0m     \u001b[38;5;28;01mraise\u001b[39;00m exc\n\u001b[0;32m--> 103\u001b[0m \u001b[38;5;28;01mreturn\u001b[39;00m \u001b[38;5;28;43mself\u001b[39;49m\u001b[38;5;241;43m.\u001b[39;49m\u001b[43m_connection\u001b[49m\u001b[38;5;241;43m.\u001b[39;49m\u001b[43mhandle_request\u001b[49m\u001b[43m(\u001b[49m\u001b[43mrequest\u001b[49m\u001b[43m)\u001b[49m\n",
      "File \u001b[0;32m/opt/miniconda3/lib/python3.13/site-packages/httpcore/_sync/http11.py:136\u001b[0m, in \u001b[0;36mHTTP11Connection.handle_request\u001b[0;34m(self, request)\u001b[0m\n\u001b[1;32m    134\u001b[0m     \u001b[38;5;28;01mwith\u001b[39;00m Trace(\u001b[38;5;124m\"\u001b[39m\u001b[38;5;124mresponse_closed\u001b[39m\u001b[38;5;124m\"\u001b[39m, logger, request) \u001b[38;5;28;01mas\u001b[39;00m trace:\n\u001b[1;32m    135\u001b[0m         \u001b[38;5;28mself\u001b[39m\u001b[38;5;241m.\u001b[39m_response_closed()\n\u001b[0;32m--> 136\u001b[0m \u001b[38;5;28;01mraise\u001b[39;00m exc\n",
      "File \u001b[0;32m/opt/miniconda3/lib/python3.13/site-packages/httpcore/_sync/http11.py:106\u001b[0m, in \u001b[0;36mHTTP11Connection.handle_request\u001b[0;34m(self, request)\u001b[0m\n\u001b[1;32m     95\u001b[0m     \u001b[38;5;28;01mpass\u001b[39;00m\n\u001b[1;32m     97\u001b[0m \u001b[38;5;28;01mwith\u001b[39;00m Trace(\n\u001b[1;32m     98\u001b[0m     \u001b[38;5;124m\"\u001b[39m\u001b[38;5;124mreceive_response_headers\u001b[39m\u001b[38;5;124m\"\u001b[39m, logger, request, kwargs\n\u001b[1;32m     99\u001b[0m ) \u001b[38;5;28;01mas\u001b[39;00m trace:\n\u001b[1;32m    100\u001b[0m     (\n\u001b[1;32m    101\u001b[0m         http_version,\n\u001b[1;32m    102\u001b[0m         status,\n\u001b[1;32m    103\u001b[0m         reason_phrase,\n\u001b[1;32m    104\u001b[0m         headers,\n\u001b[1;32m    105\u001b[0m         trailing_data,\n\u001b[0;32m--> 106\u001b[0m     ) \u001b[38;5;241m=\u001b[39m \u001b[38;5;28;43mself\u001b[39;49m\u001b[38;5;241;43m.\u001b[39;49m\u001b[43m_receive_response_headers\u001b[49m\u001b[43m(\u001b[49m\u001b[38;5;241;43m*\u001b[39;49m\u001b[38;5;241;43m*\u001b[39;49m\u001b[43mkwargs\u001b[49m\u001b[43m)\u001b[49m\n\u001b[1;32m    107\u001b[0m     trace\u001b[38;5;241m.\u001b[39mreturn_value \u001b[38;5;241m=\u001b[39m (\n\u001b[1;32m    108\u001b[0m         http_version,\n\u001b[1;32m    109\u001b[0m         status,\n\u001b[1;32m    110\u001b[0m         reason_phrase,\n\u001b[1;32m    111\u001b[0m         headers,\n\u001b[1;32m    112\u001b[0m     )\n\u001b[1;32m    114\u001b[0m network_stream \u001b[38;5;241m=\u001b[39m \u001b[38;5;28mself\u001b[39m\u001b[38;5;241m.\u001b[39m_network_stream\n",
      "File \u001b[0;32m/opt/miniconda3/lib/python3.13/site-packages/httpcore/_sync/http11.py:177\u001b[0m, in \u001b[0;36mHTTP11Connection._receive_response_headers\u001b[0;34m(self, request)\u001b[0m\n\u001b[1;32m    174\u001b[0m timeout \u001b[38;5;241m=\u001b[39m timeouts\u001b[38;5;241m.\u001b[39mget(\u001b[38;5;124m\"\u001b[39m\u001b[38;5;124mread\u001b[39m\u001b[38;5;124m\"\u001b[39m, \u001b[38;5;28;01mNone\u001b[39;00m)\n\u001b[1;32m    176\u001b[0m \u001b[38;5;28;01mwhile\u001b[39;00m \u001b[38;5;28;01mTrue\u001b[39;00m:\n\u001b[0;32m--> 177\u001b[0m     event \u001b[38;5;241m=\u001b[39m \u001b[38;5;28;43mself\u001b[39;49m\u001b[38;5;241;43m.\u001b[39;49m\u001b[43m_receive_event\u001b[49m\u001b[43m(\u001b[49m\u001b[43mtimeout\u001b[49m\u001b[38;5;241;43m=\u001b[39;49m\u001b[43mtimeout\u001b[49m\u001b[43m)\u001b[49m\n\u001b[1;32m    178\u001b[0m     \u001b[38;5;28;01mif\u001b[39;00m \u001b[38;5;28misinstance\u001b[39m(event, h11\u001b[38;5;241m.\u001b[39mResponse):\n\u001b[1;32m    179\u001b[0m         \u001b[38;5;28;01mbreak\u001b[39;00m\n",
      "File \u001b[0;32m/opt/miniconda3/lib/python3.13/site-packages/httpcore/_sync/http11.py:217\u001b[0m, in \u001b[0;36mHTTP11Connection._receive_event\u001b[0;34m(self, timeout)\u001b[0m\n\u001b[1;32m    214\u001b[0m     event \u001b[38;5;241m=\u001b[39m \u001b[38;5;28mself\u001b[39m\u001b[38;5;241m.\u001b[39m_h11_state\u001b[38;5;241m.\u001b[39mnext_event()\n\u001b[1;32m    216\u001b[0m \u001b[38;5;28;01mif\u001b[39;00m event \u001b[38;5;129;01mis\u001b[39;00m h11\u001b[38;5;241m.\u001b[39mNEED_DATA:\n\u001b[0;32m--> 217\u001b[0m     data \u001b[38;5;241m=\u001b[39m \u001b[38;5;28;43mself\u001b[39;49m\u001b[38;5;241;43m.\u001b[39;49m\u001b[43m_network_stream\u001b[49m\u001b[38;5;241;43m.\u001b[39;49m\u001b[43mread\u001b[49m\u001b[43m(\u001b[49m\n\u001b[1;32m    218\u001b[0m \u001b[43m        \u001b[49m\u001b[38;5;28;43mself\u001b[39;49m\u001b[38;5;241;43m.\u001b[39;49m\u001b[43mREAD_NUM_BYTES\u001b[49m\u001b[43m,\u001b[49m\u001b[43m \u001b[49m\u001b[43mtimeout\u001b[49m\u001b[38;5;241;43m=\u001b[39;49m\u001b[43mtimeout\u001b[49m\n\u001b[1;32m    219\u001b[0m \u001b[43m    \u001b[49m\u001b[43m)\u001b[49m\n\u001b[1;32m    221\u001b[0m     \u001b[38;5;66;03m# If we feed this case through h11 we'll raise an exception like:\u001b[39;00m\n\u001b[1;32m    222\u001b[0m     \u001b[38;5;66;03m#\u001b[39;00m\n\u001b[1;32m    223\u001b[0m     \u001b[38;5;66;03m#     httpcore.RemoteProtocolError: can't handle event type\u001b[39;00m\n\u001b[0;32m   (...)\u001b[0m\n\u001b[1;32m    227\u001b[0m     \u001b[38;5;66;03m# perspective. Instead we handle this case distinctly and treat\u001b[39;00m\n\u001b[1;32m    228\u001b[0m     \u001b[38;5;66;03m# it as a ConnectError.\u001b[39;00m\n\u001b[1;32m    229\u001b[0m     \u001b[38;5;28;01mif\u001b[39;00m data \u001b[38;5;241m==\u001b[39m \u001b[38;5;124mb\u001b[39m\u001b[38;5;124m\"\u001b[39m\u001b[38;5;124m\"\u001b[39m \u001b[38;5;129;01mand\u001b[39;00m \u001b[38;5;28mself\u001b[39m\u001b[38;5;241m.\u001b[39m_h11_state\u001b[38;5;241m.\u001b[39mtheir_state \u001b[38;5;241m==\u001b[39m h11\u001b[38;5;241m.\u001b[39mSEND_RESPONSE:\n",
      "File \u001b[0;32m/opt/miniconda3/lib/python3.13/site-packages/httpcore/_backends/sync.py:128\u001b[0m, in \u001b[0;36mSyncStream.read\u001b[0;34m(self, max_bytes, timeout)\u001b[0m\n\u001b[1;32m    126\u001b[0m \u001b[38;5;28;01mwith\u001b[39;00m map_exceptions(exc_map):\n\u001b[1;32m    127\u001b[0m     \u001b[38;5;28mself\u001b[39m\u001b[38;5;241m.\u001b[39m_sock\u001b[38;5;241m.\u001b[39msettimeout(timeout)\n\u001b[0;32m--> 128\u001b[0m     \u001b[38;5;28;01mreturn\u001b[39;00m \u001b[38;5;28;43mself\u001b[39;49m\u001b[38;5;241;43m.\u001b[39;49m\u001b[43m_sock\u001b[49m\u001b[38;5;241;43m.\u001b[39;49m\u001b[43mrecv\u001b[49m\u001b[43m(\u001b[49m\u001b[43mmax_bytes\u001b[49m\u001b[43m)\u001b[49m\n",
      "File \u001b[0;32m/opt/miniconda3/lib/python3.13/ssl.py:1285\u001b[0m, in \u001b[0;36mSSLSocket.recv\u001b[0;34m(self, buflen, flags)\u001b[0m\n\u001b[1;32m   1281\u001b[0m     \u001b[38;5;28;01mif\u001b[39;00m flags \u001b[38;5;241m!=\u001b[39m \u001b[38;5;241m0\u001b[39m:\n\u001b[1;32m   1282\u001b[0m         \u001b[38;5;28;01mraise\u001b[39;00m \u001b[38;5;167;01mValueError\u001b[39;00m(\n\u001b[1;32m   1283\u001b[0m             \u001b[38;5;124m\"\u001b[39m\u001b[38;5;124mnon-zero flags not allowed in calls to recv() on \u001b[39m\u001b[38;5;132;01m%s\u001b[39;00m\u001b[38;5;124m\"\u001b[39m \u001b[38;5;241m%\u001b[39m\n\u001b[1;32m   1284\u001b[0m             \u001b[38;5;28mself\u001b[39m\u001b[38;5;241m.\u001b[39m\u001b[38;5;18m__class__\u001b[39m)\n\u001b[0;32m-> 1285\u001b[0m     \u001b[38;5;28;01mreturn\u001b[39;00m \u001b[38;5;28;43mself\u001b[39;49m\u001b[38;5;241;43m.\u001b[39;49m\u001b[43mread\u001b[49m\u001b[43m(\u001b[49m\u001b[43mbuflen\u001b[49m\u001b[43m)\u001b[49m\n\u001b[1;32m   1286\u001b[0m \u001b[38;5;28;01melse\u001b[39;00m:\n\u001b[1;32m   1287\u001b[0m     \u001b[38;5;28;01mreturn\u001b[39;00m \u001b[38;5;28msuper\u001b[39m()\u001b[38;5;241m.\u001b[39mrecv(buflen, flags)\n",
      "File \u001b[0;32m/opt/miniconda3/lib/python3.13/ssl.py:1140\u001b[0m, in \u001b[0;36mSSLSocket.read\u001b[0;34m(self, len, buffer)\u001b[0m\n\u001b[1;32m   1138\u001b[0m         \u001b[38;5;28;01mreturn\u001b[39;00m \u001b[38;5;28mself\u001b[39m\u001b[38;5;241m.\u001b[39m_sslobj\u001b[38;5;241m.\u001b[39mread(\u001b[38;5;28mlen\u001b[39m, buffer)\n\u001b[1;32m   1139\u001b[0m     \u001b[38;5;28;01melse\u001b[39;00m:\n\u001b[0;32m-> 1140\u001b[0m         \u001b[38;5;28;01mreturn\u001b[39;00m \u001b[38;5;28;43mself\u001b[39;49m\u001b[38;5;241;43m.\u001b[39;49m\u001b[43m_sslobj\u001b[49m\u001b[38;5;241;43m.\u001b[39;49m\u001b[43mread\u001b[49m\u001b[43m(\u001b[49m\u001b[38;5;28;43mlen\u001b[39;49m\u001b[43m)\u001b[49m\n\u001b[1;32m   1141\u001b[0m \u001b[38;5;28;01mexcept\u001b[39;00m SSLError \u001b[38;5;28;01mas\u001b[39;00m x:\n\u001b[1;32m   1142\u001b[0m     \u001b[38;5;28;01mif\u001b[39;00m x\u001b[38;5;241m.\u001b[39margs[\u001b[38;5;241m0\u001b[39m] \u001b[38;5;241m==\u001b[39m SSL_ERROR_EOF \u001b[38;5;129;01mand\u001b[39;00m \u001b[38;5;28mself\u001b[39m\u001b[38;5;241m.\u001b[39msuppress_ragged_eofs:\n",
      "\u001b[0;31mKeyboardInterrupt\u001b[0m: "
     ]
    }
   ],
   "source": [
    "# Set up optimization parameters for FAQ dataset\n",
    "prompt_of_field_to_optimize = \"ground_truth\"\n",
    "semantic = True\n",
    "\n",
    "# Load the FAQ dataset and a target field\n",
    "dataset = FAQDataset(\n",
    "    data_path=\"/Users/nami-macos/Documents/BIDV-1/Testset FAQ_multiturn_FAQ_Chain - FAQ Chain filtered.csv\",\n",
    "    selected_output_field=prompt_of_field_to_optimize,\n",
    ")\n",
    "metric = FAQScore(\n",
    "    selected_output_field=prompt_of_field_to_optimize, semantic=semantic\n",
    ")\n",
    "\n",
    "# Set up the optimization program\n",
    "program = dspy.ChainOfThought(FAQProgSig)\n",
    "\n",
    "# Configure the teleprompter for optimization with DSPy 2.6.27\n",
    "teleprompter = MIPROv2(\n",
    "    metric=metric, \n",
    "    max_bootstrapped_demos=0, \n",
    "    max_labeled_demos=0, \n",
    "    auto='light',\n",
    "    # num_threads=10\n",
    "    # num_candidates=5\n",
    "    )  # Specify number of candidates\n",
    "# Compile and optimize the program\n",
    "optimized_program = teleprompter.compile(\n",
    "    program,\n",
    "    trainset=dataset.train,\n",
    "    valset=dataset.dev,\n",
    "    requires_permission_to_run=False,\n",
    "    # num_trials=7       \n",
    ")\n",
    "\n",
    "# Save the optimized prompt to a file\n",
    "optimized_program.save(\"faq_optimized_prompt.json\")"
   ]
  },
  {
   "cell_type": "markdown",
   "metadata": {},
   "source": [
    "# Reference"
   ]
  },
  {
   "cell_type": "code",
   "execution_count": null,
   "metadata": {},
   "outputs": [
    {
     "ename": "NameError",
     "evalue": "name 'BonbozTelesalesCall' is not defined",
     "output_type": "error",
     "traceback": [
      "\u001b[0;31m---------------------------------------------------------------------------\u001b[0m",
      "\u001b[0;31mNameError\u001b[0m                                 Traceback (most recent call last)",
      "Cell \u001b[0;32mIn[9], line 5\u001b[0m\n\u001b[1;32m      2\u001b[0m semantic \u001b[38;5;241m=\u001b[39m \u001b[38;5;28;01mTrue\u001b[39;00m\n\u001b[1;32m      4\u001b[0m \u001b[38;5;66;03m# Load dataset and a target field (to avoid giving spurious information)\u001b[39;00m\n\u001b[0;32m----> 5\u001b[0m dataset \u001b[38;5;241m=\u001b[39m \u001b[43mBonbozTelesalesCall\u001b[49m(\n\u001b[1;32m      6\u001b[0m     path\u001b[38;5;241m=\u001b[39m\u001b[38;5;124m\"\u001b[39m\u001b[38;5;124m/home/anhnht/Anywhere-LLM/data/bonboz_call_analysis.csv\u001b[39m\u001b[38;5;124m\"\u001b[39m,\n\u001b[1;32m      7\u001b[0m     selected_output_field\u001b[38;5;241m=\u001b[39mprompt_of_field_to_optimize,\n\u001b[1;32m      8\u001b[0m )\n\u001b[1;32m      9\u001b[0m metric \u001b[38;5;241m=\u001b[39m BonbozTelesalesScore(\n\u001b[1;32m     10\u001b[0m     selected_output_field\u001b[38;5;241m=\u001b[39mprompt_of_field_to_optimize, semantic\u001b[38;5;241m=\u001b[39msemantic\n\u001b[1;32m     11\u001b[0m )\n\u001b[1;32m     14\u001b[0m \u001b[38;5;28;01mclass\u001b[39;00m\u001b[38;5;250m \u001b[39m\u001b[38;5;21;01mProgSig\u001b[39;00m(dspy\u001b[38;5;241m.\u001b[39mSignature):\n",
      "\u001b[0;31mNameError\u001b[0m: name 'BonbozTelesalesCall' is not defined"
     ]
    }
   ],
   "source": [
    "prompt_of_field_to_optimize = \"clinic_advantages_used_by_employee_for_introduction\"\n",
    "semantic = True\n",
    "\n",
    "# Load dataset and a target field (to avoid giving spurious information)\n",
    "dataset = BonbozTelesalesCall(\n",
    "    path=\"/home/anhnht/Anywhere-LLM/data/bonboz_call_analysis.csv\",\n",
    "    selected_output_field=prompt_of_field_to_optimize,\n",
    ")\n",
    "metric = BonbozTelesalesScore(\n",
    "    selected_output_field=prompt_of_field_to_optimize, semantic=semantic\n",
    ")\n",
    "\n",
    "\n",
    "class ProgSig(dspy.Signature):\n",
    "    \"\"\"Act as a direct, efficient, knowledgeable and bilingual (Vietnamese and English) assistant for a cosmetic surgery clinic. Your task is to read the transcript of a skincare telesale agent with a potential customer, then deliver a meaningful output based on your reading of the conversation as instructed.\n",
    "\n",
    "    I have the following the list of elements (I will call them: \"LIST_ELEMENTS_AAA\") that the skincare telesale agent usually use to persuade customers:\n",
    "    - Bằng cấp giấy phép phòng khám\n",
    "    - Mời trải nghiệm để xin đánh giá\n",
    "    - Không bán mỹ phẩm\n",
    "    - Phân biệt với spa\n",
    "    - Không mất phí\n",
    "    - Không mang CCCD\n",
    "    - Giải thích trường hợp phát sinh phí\n",
    "    - Bác sĩ trực tiếp thăm khám\n",
    "    - Liệu trình chỉ 60-90p\n",
    "\n",
    "    Your task is reading and checking if skincare telesale agent usually use elements in \"LIST_ELEMENTS_AAA\" to persuade customers. Afterthat, return the answer following format\n",
    "\n",
    "    - Bằng cấp giấy phép phòng khám: <YES/NO>\n",
    "    - Mời trải nghiệm để xin đánh giá: <YES/NO>\n",
    "    - Không bán mỹ phẩm: <YES/NO>\n",
    "    - Phân biệt với spa: <YES/NO>\n",
    "    - Không mất phí: <YES/NO>\n",
    "    - Không mang CCCD: <YES/NO>\n",
    "    - Giải thích trường hợp phát sinh phí: <YES/NO>\n",
    "    - Bác sĩ trực tiếp thăm khám: <YES/NO>\n",
    "    - Liệu trình chỉ 60-90p: <YES/NO>\n",
    "\n",
    "    If there is no explicit or the information in the conversation is lacking or too ambiguous, you should answer that the information is missing.  You MUST be aware of phonetic errors, diarization errors, and translation errors in the machine-translated transcript and make educated guesses in ambiguous cases. After the output, you will quote specific lines from the conversations that support your output. All output must be in Vietnamese only, not bold and italic.\"\"\"\n",
    "\n",
    "    transcript = dspy.InputField(format=\"str\")\n",
    "\n",
    "    clinic_advantages_used_by_employee_for_introduction = dspy.OutputField()\n",
    "\n",
    "\n",
    "program = dspy.ChainOfThought(ProgSig)\n",
    "\n",
    "teleprompter = MIPROv2(\n",
    "    metric=metric, max_bootstrapped_demos=0, max_labeled_demos=0, auto=\"light\"\n",
    ")\n",
    "\n",
    "optimized_program = teleprompter.compile(\n",
    "    program,\n",
    "    trainset=dataset.train,\n",
    "    valset=dataset.dev,\n",
    "    requires_permission_to_run=False,\n",
    ")\n",
    "optimized_program.save(\"optimized_prompt.json\")"
   ]
  },
  {
   "cell_type": "code",
   "execution_count": null,
   "metadata": {},
   "outputs": [],
   "source": [
    "class BonbozTelesalesCall(Dataset):\n",
    "    def __init__(self, path: str, selected_output_field: str | None = None):\n",
    "        super().__init__(input_keys=[\"transcript\"])\n",
    "\n",
    "        if path.endswith(\".csv\"):\n",
    "            df = pd.read_csv(path)\n",
    "        elif path.endswith(\".xlsx\"):\n",
    "            df = pd.read_excel(path)\n",
    "        else:\n",
    "            raise ValueError(\"Unsupported file format.\")\n",
    "\n",
    "        if selected_output_field is not None:\n",
    "            col_to_keep = [\"transcript\", selected_output_field]\n",
    "            if \"evidence_\" + selected_output_field in df.columns:\n",
    "                col_to_keep.append(\"evidence_\" + selected_output_field)\n",
    "\n",
    "            df = df[col_to_keep]\n",
    "\n",
    "        dataset = []\n",
    "        for _, row in df.iterrows():\n",
    "            dataset.append(row.to_dict())\n",
    "\n",
    "        length = len(dataset)\n",
    "        rng = random.Random(42)\n",
    "        rng.shuffle(dataset)\n",
    "\n",
    "        self._train = dataset[: int(0.5 * length)]\n",
    "        self._dev = dataset[int(0.5 * length) :]\n",
    "\n",
    "\n",
    "class BonbozTelesalesScore:\n",
    "    def __init__(self, selected_output_field: str, semantic: bool = False):\n",
    "        super().__init__()\n",
    "\n",
    "        self.semantic = semantic\n",
    "        if semantic:\n",
    "            self.evaluate = dspy.ChainOfThought(SemanticRecallPrecision)\n",
    "\n",
    "        self.selected_output_field = selected_output_field\n",
    "\n",
    "    def __call__(self, example: dspy.Example, pred: dspy.Prediction, trace=None):\n",
    "        try:\n",
    "            target = example.toDict()[self.selected_output_field]\n",
    "            prediction = pred.toDict()[self.selected_output_field]\n",
    "\n",
    "            if isinstance(target, str):\n",
    "                target = target.strip().lower()\n",
    "\n",
    "            if isinstance(target, str):\n",
    "                prediction = prediction.strip().lower()\n",
    "\n",
    "            if self.semantic:\n",
    "                scores = self.evaluate(\n",
    "                    question=\"## Transcript\\n\"\n",
    "                    + example.transcript\n",
    "                    + \"\\n## Analysis\\n\"\n",
    "                    + self.selected_output_field\n",
    "                    + \": \",\n",
    "                    ground_truth=str(target),\n",
    "                    system_response=str(prediction),\n",
    "                )\n",
    "                return f1_score(scores.precision, scores.recall)\n",
    "            else:\n",
    "                return float(target == prediction)\n",
    "        except Exception as e:\n",
    "            print(str(e))\n",
    "            return 0.0\n",
    "\n",
    "lm = dspy.LM(model=\"azure/gpt-4o\", max_tokens=4096, cache=True, num_retries=3)\n",
    "dspy.configure(lm=lm)"
   ]
  },
  {
   "cell_type": "code",
   "execution_count": null,
   "metadata": {},
   "outputs": [],
   "source": [
    "fields_of_interest = [\n",
    "    \"telesales_employee_introduction\",\n",
    "    \"customer_agrees_to_schedule_appointment_at_end_of_call\",\n",
    "    \"customer_rejects_at_start_of_call\",\n",
    "    \"customer_rejects_at_least_once\",\n",
    "    \"customer_reluctant_due_to_distance\",\n",
    "    \"customer_skeptical_of_free_service_and_fears_additional_purchases\",\n",
    "    \"customer_does_not_need_skin_care\",\n",
    "    \"customer_receiving_skin_care_elsewhere\",\n",
    "    \"customer_inquires_about_procedure_details\",\n",
    "    \"clinic_advantages_used_by_employee_for_introduction\",\n",
    "]"
   ]
  },
  {
   "cell_type": "code",
   "execution_count": null,
   "metadata": {},
   "outputs": [],
   "source": [
    "\n",
    "# class FAQDataset(Dataset):\n",
    "#     def __init__(self, data_path, selected_output_field=None):\n",
    "#         super().__init__(input_keys=[\"question\", \"context_extracted\", \"chat_history_extracted\"])\n",
    "        \n",
    "#         if data_path.endswith(\".csv\"):\n",
    "#             df = pd.read_csv(data_path)\n",
    "#         elif data_path.endswith(\".xlsx\"):\n",
    "#             df = pd.read_excel(data_path)\n",
    "#         else:\n",
    "#             raise ValueError(\"Unsupported file format.\")\n",
    "            \n",
    "#         if selected_output_field is not None:\n",
    "#             cols_to_keep = [\"question\", \"context_extracted\", \"chat_history_extracted\", selected_output_field]\n",
    "#             df = df[cols_to_keep]\n",
    "            \n",
    "#         dataset = []\n",
    "#         for _, row in df.iterrows():\n",
    "#             # Convert dictionary to dspy.Example\n",
    "#             row_dict = row.to_dict()\n",
    "#             example = dspy.Example(\n",
    "#                 question=row_dict[\"question\"],\n",
    "#                 context_extracted=row_dict[\"context_extracted\"],\n",
    "#                 chat_history_extracted=row_dict[\"chat_history_extracted\"]\n",
    "#             )\n",
    "            \n",
    "#             # Add the output field if present\n",
    "#             if selected_output_field and selected_output_field in row_dict:\n",
    "#                 example[selected_output_field] = row_dict[selected_output_field]\n",
    "                \n",
    "#             dataset.append(example)\n",
    "            \n",
    "#         length = len(dataset)\n",
    "#         rng = random.Random(42)\n",
    "#         rng.shuffle(dataset)\n",
    "        \n",
    "#         self._train = dataset[: int(0.5 * length)]\n",
    "#         self._dev = dataset[int(0.5 * length) :]\n",
    "        \n",
    "#     @property\n",
    "#     def train(self):\n",
    "#         return self._train\n",
    "        \n",
    "#     @property\n",
    "#     def dev(self):\n",
    "#         return self._dev\n",
    "    "
   ]
  },
  {
   "cell_type": "code",
   "execution_count": null,
   "metadata": {},
   "outputs": [
    {
     "name": "stderr",
     "output_type": "stream",
     "text": [
      "2024/11/14 13:32:56 INFO dspy.teleprompt.mipro_optimizer_v2: \n",
      "RUNNING WITH THE FOLLOWING LIGHT AUTO RUN SETTINGS:\n",
      "num_trials: 7\n",
      "minibatch: False\n",
      "num_candidates: 7\n",
      "valset size: 23\n",
      "\n",
      "2024/11/14 13:32:56 INFO dspy.teleprompt.mipro_optimizer_v2: \n",
      "==> STEP 1: BOOTSTRAP FEWSHOT EXAMPLES <==\n",
      "2024/11/14 13:32:56 INFO dspy.teleprompt.mipro_optimizer_v2: These will be used for informing instruction proposal.\n",
      "\n",
      "2024/11/14 13:32:56 INFO dspy.teleprompt.mipro_optimizer_v2: Bootstrapping N=7 sets of demonstrations...\n"
     ]
    },
    {
     "name": "stdout",
     "output_type": "stream",
     "text": [
      "Bootstrapping set 1/7\n",
      "Bootstrapping set 2/7\n"
     ]
    },
    {
     "name": "stderr",
     "output_type": "stream",
     "text": [
      " 14%|█▎        | 3/22 [00:30<03:12, 10.15s/it]\n"
     ]
    },
    {
     "name": "stdout",
     "output_type": "stream",
     "text": [
      "Bootstrapped 3 full traces after 3 examples for up to 1 rounds, amounting to 3 attempts.\n",
      "Bootstrapping set 3/7\n"
     ]
    },
    {
     "name": "stderr",
     "output_type": "stream",
     "text": [
      " 14%|█▎        | 3/22 [00:15<01:37,  5.11s/it]\n"
     ]
    },
    {
     "name": "stdout",
     "output_type": "stream",
     "text": [
      "Bootstrapped 3 full traces after 3 examples for up to 1 rounds, amounting to 3 attempts.\n",
      "Bootstrapping set 4/7\n"
     ]
    },
    {
     "name": "stderr",
     "output_type": "stream",
     "text": [
      " 14%|█▎        | 3/22 [00:15<01:37,  5.12s/it]\n"
     ]
    },
    {
     "name": "stdout",
     "output_type": "stream",
     "text": [
      "Bootstrapped 3 full traces after 3 examples for up to 1 rounds, amounting to 3 attempts.\n",
      "Bootstrapping set 5/7\n"
     ]
    },
    {
     "name": "stderr",
     "output_type": "stream",
     "text": [
      " 14%|█▎        | 3/22 [00:18<01:55,  6.08s/it]\n"
     ]
    },
    {
     "name": "stdout",
     "output_type": "stream",
     "text": [
      "Bootstrapped 3 full traces after 3 examples for up to 1 rounds, amounting to 3 attempts.\n",
      "Bootstrapping set 6/7\n"
     ]
    },
    {
     "name": "stderr",
     "output_type": "stream",
     "text": [
      "  5%|▍         | 1/22 [00:00<00:00, 255.07it/s]\n"
     ]
    },
    {
     "name": "stdout",
     "output_type": "stream",
     "text": [
      "Bootstrapped 1 full traces after 1 examples for up to 1 rounds, amounting to 1 attempts.\n",
      "Bootstrapping set 7/7\n"
     ]
    },
    {
     "name": "stderr",
     "output_type": "stream",
     "text": [
      "  9%|▉         | 2/22 [00:00<00:00, 313.72it/s]\n",
      "2024/11/14 13:34:15 INFO dspy.teleprompt.mipro_optimizer_v2: \n",
      "==> STEP 2: PROPOSE INSTRUCTION CANDIDATES <==\n",
      "2024/11/14 13:34:15 INFO dspy.teleprompt.mipro_optimizer_v2: We will use the few-shot examples from the previous step, a generated dataset summary, a summary of the program code, and a randomly selected prompting tip to propose instructions.\n"
     ]
    },
    {
     "name": "stdout",
     "output_type": "stream",
     "text": [
      "Bootstrapped 2 full traces after 2 examples for up to 1 rounds, amounting to 2 attempts.\n"
     ]
    },
    {
     "name": "stderr",
     "output_type": "stream",
     "text": [
      "2024/11/14 13:34:37 INFO dspy.teleprompt.mipro_optimizer_v2: \n",
      "Proposing instructions...\n",
      "\n",
      "2024/11/14 13:36:30 INFO dspy.teleprompt.mipro_optimizer_v2: Proposed Instructions for Predictor 0:\n",
      "\n",
      "2024/11/14 13:36:30 INFO dspy.teleprompt.mipro_optimizer_v2: 0: As a proficient Vietnamese assistant for a beauty clinic, your task is to analyze call transcripts between an agent and a potential customer. Your primary objective is to accurately extract the introductory segment where the telesales agent introduces themselves and the service offer. Be vigilant of potential diarization errors and misassigned speaker tags in the transcript, making educated guesses in ambiguous situations. Provide a detailed reasoning, including specific quotes from the transcript, to support your conclusions. Use double quotes for text and square brackets for timestamps. Ensure telesales employee introduction is in Vietnamese.\n",
      "\n",
      "2024/11/14 13:36:30 INFO dspy.teleprompt.mipro_optimizer_v2: 1: You are a skilled Vietnamese language assistant working for a beauty clinic. Your task is to carefully analyze call transcripts between a telesales agent and a potential customer. Focus on accurately identifying and extracting the introductory segment where the agent introduces themselves and presents the service offer. Pay special attention to diarization errors or misassigned speaker tags, and make informed guesses when necessary. Provide a thorough reasoning process, citing specific quotes from the transcript to substantiate your conclusions. Use double quotes for text and square brackets for timestamps, and ensure that the telesales employee introduction is presented in Vietnamese.\n",
      "\n",
      "2024/11/14 13:36:30 INFO dspy.teleprompt.mipro_optimizer_v2: 2: As a highly skilled Vietnamese assistant for a beauty clinic, your role is to meticulously examine call transcripts between telesales agents and potential clients. Your core task is to precisely identify and extract the introductory segment where the telesales agent introduces themselves and the service offer. Pay close attention to potential diarization errors and misassigned speaker tags, and use your judgment to make informed guesses in ambiguous cases. Provide a comprehensive reasoning, utilizing specific quotes from the transcript to substantiate your findings. Use double quotes for text and square brackets for timestamps, ensuring the extracted telesales employee introduction remains in Vietnamese. Aim for clarity and accuracy in your extraction process, while adapting to the conversational nuances present in the dialogue.\n",
      "\n",
      "2024/11/14 13:36:30 INFO dspy.teleprompt.mipro_optimizer_v2: 3: You are tasked with the critical role of a Vietnamese telesales assistant for a beauty clinic. Your mission is to meticulously analyze call transcripts between a telesales agent and a prospective client, focusing on extracting the introductory segment where the agent introduces themselves and the service offer. This task is pivotal in ensuring effective client engagement and service presentation. Given the high stakes of maintaining accurate client relations, be exceptionally vigilant of potential diarization errors and misassigned speaker tags. In cases of ambiguity, make informed decisions to deduce the correct speaker. Provide a comprehensive reasoning for your extraction, citing specific quotes from the transcript. Ensure that the telesales employee introduction is accurately captured in Vietnamese. Your ability to perform this task accurately can significantly impact the clinic's business success.\n",
      "\n",
      "2024/11/14 13:36:30 INFO dspy.teleprompt.mipro_optimizer_v2: 4: You are a skilled Vietnamese language analyst working for a beauty clinic. Your task is to scrutinize call transcripts between a telesales agent and potential clients to pinpoint the introductory segment where the telesales agent introduces themselves and the service offer. Be attentive to potential diarization errors and misassigned speaker tags within the transcript, making informed assumptions in ambiguous scenarios. Provide a comprehensive reasoning, including specific quotes from the transcript, to substantiate your conclusions. Use double quotes for text and square brackets for timestamps. Ensure the telesales employee introduction is accurately extracted and presented in Vietnamese.\n",
      "\n",
      "2024/11/14 13:36:30 INFO dspy.teleprompt.mipro_optimizer_v2: 5: Analyze the provided call transcript between a telesales agent and a potential customer. Your task is to identify and extract the segment where the telesales agent introduces themselves and the service offer. Pay attention to potential diarization errors and misassigned speaker tags, and make educated guesses if necessary. Provide a detailed reasoning that includes specific quotes from the transcript to support your conclusions. Ensure the extracted introduction is in Vietnamese and use double quotes for text excerpts.\n",
      "\n",
      "2024/11/14 13:36:30 INFO dspy.teleprompt.mipro_optimizer_v2: 6: As a skilled Vietnamese assistant for a beauty clinic, you are tasked with analyzing telesales call transcripts to extract the introductory segment where the telesales agent introduces themselves and the service offer. Pay close attention to potential diarization errors and misassigned speaker tags, and make educated guesses when the situation is ambiguous. Your analysis should include a detailed reasoning process, supported by specific quotes from the transcript, to justify your identification of the introduction segment. Use double quotes to denote text and square brackets for timestamps. Ensure that the extracted telesales employee introduction is in Vietnamese and comprehensively captures the agent's greeting, identity, and the service being offered. Provide a step-by-step reasoning to enhance clarity and accuracy.\n",
      "\n",
      "2024/11/14 13:36:30 INFO dspy.teleprompt.mipro_optimizer_v2: \n",
      "\n",
      "2024/11/14 13:36:30 INFO dspy.teleprompt.mipro_optimizer_v2: Evaluating the default program...\n",
      "\n",
      "Average Metric: 4.721056721056721 / 7  (67.4):  30%|███       | 7/23 [00:39<00:59,  3.72s/it] "
     ]
    },
    {
     "name": "stdout",
     "output_type": "stream",
     "text": [
      "litellm.RateLimitError: AzureException RateLimitError - Error code: 429 - {'error': {'code': '429', 'message': 'Requests to the ChatCompletions_Create Operation under Azure OpenAI API version 2024-02-15-preview have exceeded token rate limit of your current OpenAI S0 pricing tier. Please retry after 5 seconds. Please go here: https://aka.ms/oai/quotaincrease if you would like to further increase the default rate limit.'}}\n"
     ]
    },
    {
     "name": "stderr",
     "output_type": "stream",
     "text": [
      "Average Metric: 14.398141151614496 / 20  (72.0):  87%|████████▋ | 20/23 [01:48<00:15,  5.21s/it]"
     ]
    },
    {
     "name": "stdout",
     "output_type": "stream",
     "text": [
      "litellm.RateLimitError: AzureException RateLimitError - Error code: 429 - {'error': {'code': '429', 'message': 'Requests to the ChatCompletions_Create Operation under Azure OpenAI API version 2024-02-15-preview have exceeded token rate limit of your current OpenAI S0 pricing tier. Please retry after 2 seconds. Please go here: https://aka.ms/oai/quotaincrease if you would like to further increase the default rate limit.'}}\n"
     ]
    },
    {
     "name": "stderr",
     "output_type": "stream",
     "text": [
      "Average Metric: 16.678842906000458 / 23  (72.5): 100%|██████████| 23/23 [01:51<00:00,  4.84s/it]\n",
      "2024/11/14 13:38:22 INFO dspy.evaluate.evaluate: Average Metric: 16.678842906000458 / 23 (72.5%)\n",
      "2024/11/14 13:38:22 INFO dspy.teleprompt.mipro_optimizer_v2: Default program score: 72.52\n",
      "\n",
      "2024/11/14 13:38:22 INFO dspy.teleprompt.mipro_optimizer_v2: ==> STEP 3: FINDING OPTIMAL PROMPT PARAMETERS <==\n",
      "2024/11/14 13:38:22 INFO dspy.teleprompt.mipro_optimizer_v2: We will evaluate the program over a series of trials with different combinations of instructions and few-shot examples to find the optimal combination using Bayesian Optimization.\n",
      "\n",
      "/home/anhnht/miniforge3/envs/llm/lib/python3.11/site-packages/optuna/samplers/_tpe/sampler.py:319: ExperimentalWarning: ``multivariate`` option is an experimental feature. The interface can change in the future.\n",
      "  warnings.warn(\n",
      "2024/11/14 13:38:22 INFO dspy.teleprompt.mipro_optimizer_v2: ===== Trial 1 / 7 =====\n",
      "Average Metric: 17.476871777713544 / 22  (79.4):  96%|█████████▌| 22/23 [01:14<00:02,  2.60s/it]"
     ]
    },
    {
     "name": "stdout",
     "output_type": "stream",
     "text": [
      "litellm.BadRequestError: litellm.ContentPolicyViolationError: litellm.ContentPolicyViolationError: AzureException - Error code: 400 - {'error': {'message': \"The response was filtered due to the prompt triggering Azure OpenAI's content management policy. Please modify your prompt and retry. To learn more about our content filtering policies please read our documentation: https://go.microsoft.com/fwlink/?linkid=2198766\", 'type': None, 'param': 'prompt', 'code': 'content_filter', 'status': 400, 'innererror': {'code': 'ResponsibleAIPolicyViolation', 'content_filter_result': {'hate': {'filtered': False, 'severity': 'safe'}, 'self_harm': {'filtered': False, 'severity': 'safe'}, 'sexual': {'filtered': True, 'severity': 'low'}, 'violence': {'filtered': False, 'severity': 'safe'}}}}}\n"
     ]
    },
    {
     "name": "stderr",
     "output_type": "stream",
     "text": [
      "Average Metric: 18.476871777713544 / 23  (80.3): 100%|██████████| 23/23 [01:18<00:00,  3.42s/it]\n",
      "2024/11/14 13:39:40 INFO dspy.evaluate.evaluate: Average Metric: 18.476871777713544 / 23 (80.3%)\n",
      "2024/11/14 13:39:40 INFO dspy.teleprompt.mipro_optimizer_v2: \u001b[92mBest full score so far!\u001b[0m Score: 80.33\n",
      "2024/11/14 13:39:40 INFO dspy.teleprompt.mipro_optimizer_v2: Score: 80.33 with parameters ['Predictor 0: Instruction 1'].\n",
      "2024/11/14 13:39:40 INFO dspy.teleprompt.mipro_optimizer_v2: Scores so far: [72.52, 80.33]\n",
      "2024/11/14 13:39:40 INFO dspy.teleprompt.mipro_optimizer_v2: Best score so far: 80.33\n",
      "2024/11/14 13:39:40 INFO dspy.teleprompt.mipro_optimizer_v2: =======================\n",
      "\n",
      "\n",
      "2024/11/14 13:39:40 INFO dspy.teleprompt.mipro_optimizer_v2: ===== Trial 2 / 7 =====\n",
      "Average Metric: 17.259058588470353 / 23  (75.0): 100%|██████████| 23/23 [01:49<00:00,  4.76s/it]\n",
      "2024/11/14 13:41:30 INFO dspy.evaluate.evaluate: Average Metric: 17.259058588470353 / 23 (75.0%)\n",
      "2024/11/14 13:41:30 INFO dspy.teleprompt.mipro_optimizer_v2: Score: 75.04 with parameters ['Predictor 0: Instruction 5'].\n",
      "2024/11/14 13:41:30 INFO dspy.teleprompt.mipro_optimizer_v2: Scores so far: [72.52, 80.33, 75.04]\n",
      "2024/11/14 13:41:30 INFO dspy.teleprompt.mipro_optimizer_v2: Best score so far: 80.33\n",
      "2024/11/14 13:41:30 INFO dspy.teleprompt.mipro_optimizer_v2: =======================\n",
      "\n",
      "\n",
      "2024/11/14 13:41:30 INFO dspy.teleprompt.mipro_optimizer_v2: ===== Trial 3 / 7 =====\n"
     ]
    },
    {
     "name": "stdout",
     "output_type": "stream",
     "text": [
      "litellm.BadRequestError: litellm.ContentPolicyViolationError: litellm.ContentPolicyViolationError: AzureException - Error code: 400 - {'error': {'message': \"The response was filtered due to the prompt triggering Azure OpenAI's content management policy. Please modify your prompt and retry. To learn more about our content filtering policies please read our documentation: https://go.microsoft.com/fwlink/?linkid=2198766\", 'type': None, 'param': 'prompt', 'code': 'content_filter', 'status': 400, 'innererror': {'code': 'ResponsibleAIPolicyViolation', 'content_filter_result': {'hate': {'filtered': False, 'severity': 'safe'}, 'self_harm': {'filtered': False, 'severity': 'safe'}, 'sexual': {'filtered': True, 'severity': 'low'}, 'violence': {'filtered': False, 'severity': 'safe'}}}}}\n"
     ]
    },
    {
     "name": "stderr",
     "output_type": "stream",
     "text": [
      "Average Metric: 17.10521098236854 / 21  (81.5):  91%|█████████▏| 21/23 [01:16<00:05,  2.68s/it] "
     ]
    },
    {
     "name": "stdout",
     "output_type": "stream",
     "text": [
      "litellm.BadRequestError: litellm.ContentPolicyViolationError: litellm.ContentPolicyViolationError: AzureException - Error code: 400 - {'error': {'message': \"The response was filtered due to the prompt triggering Azure OpenAI's content management policy. Please modify your prompt and retry. To learn more about our content filtering policies please read our documentation: https://go.microsoft.com/fwlink/?linkid=2198766\", 'type': None, 'param': 'prompt', 'code': 'content_filter', 'status': 400, 'innererror': {'code': 'ResponsibleAIPolicyViolation', 'content_filter_result': {'hate': {'filtered': False, 'severity': 'safe'}, 'self_harm': {'filtered': False, 'severity': 'safe'}, 'sexual': {'filtered': True, 'severity': 'low'}, 'violence': {'filtered': False, 'severity': 'safe'}}}}}\n"
     ]
    },
    {
     "name": "stderr",
     "output_type": "stream",
     "text": [
      "Average Metric: 17.771877649035208 / 23  (77.3): 100%|██████████| 23/23 [01:21<00:00,  3.56s/it]\n",
      "2024/11/14 13:42:52 INFO dspy.evaluate.evaluate: Average Metric: 17.771877649035208 / 23 (77.3%)\n",
      "2024/11/14 13:42:52 INFO dspy.teleprompt.mipro_optimizer_v2: Score: 77.27 with parameters ['Predictor 0: Instruction 2'].\n",
      "2024/11/14 13:42:52 INFO dspy.teleprompt.mipro_optimizer_v2: Scores so far: [72.52, 80.33, 75.04, 77.27]\n",
      "2024/11/14 13:42:52 INFO dspy.teleprompt.mipro_optimizer_v2: Best score so far: 80.33\n",
      "2024/11/14 13:42:52 INFO dspy.teleprompt.mipro_optimizer_v2: =======================\n",
      "\n",
      "\n",
      "2024/11/14 13:42:52 INFO dspy.teleprompt.mipro_optimizer_v2: ===== Trial 4 / 7 =====\n",
      "Average Metric: 17.259058588470353 / 23  (75.0): 100%|██████████| 23/23 [00:18<00:00,  1.23it/s] \n",
      "2024/11/14 13:43:11 INFO dspy.evaluate.evaluate: Average Metric: 17.259058588470353 / 23 (75.0%)\n",
      "2024/11/14 13:43:11 INFO dspy.teleprompt.mipro_optimizer_v2: Score: 75.04 with parameters ['Predictor 0: Instruction 5'].\n",
      "2024/11/14 13:43:11 INFO dspy.teleprompt.mipro_optimizer_v2: Scores so far: [72.52, 80.33, 75.04, 77.27, 75.04]\n",
      "2024/11/14 13:43:11 INFO dspy.teleprompt.mipro_optimizer_v2: Best score so far: 80.33\n",
      "2024/11/14 13:43:11 INFO dspy.teleprompt.mipro_optimizer_v2: =======================\n",
      "\n",
      "\n",
      "2024/11/14 13:43:11 INFO dspy.teleprompt.mipro_optimizer_v2: ===== Trial 5 / 7 =====\n"
     ]
    },
    {
     "name": "stdout",
     "output_type": "stream",
     "text": [
      "litellm.BadRequestError: litellm.ContentPolicyViolationError: litellm.ContentPolicyViolationError: AzureException - Error code: 400 - {'error': {'message': \"The response was filtered due to the prompt triggering Azure OpenAI's content management policy. Please modify your prompt and retry. To learn more about our content filtering policies please read our documentation: https://go.microsoft.com/fwlink/?linkid=2198766\", 'type': None, 'param': 'prompt', 'code': 'content_filter', 'status': 400, 'innererror': {'code': 'ResponsibleAIPolicyViolation', 'content_filter_result': {'hate': {'filtered': False, 'severity': 'safe'}, 'self_harm': {'filtered': False, 'severity': 'safe'}, 'sexual': {'filtered': True, 'severity': 'low'}, 'violence': {'filtered': False, 'severity': 'safe'}}}}}\n"
     ]
    },
    {
     "name": "stderr",
     "output_type": "stream",
     "text": [
      "Average Metric: 12.965418318891663 / 16  (81.0):  70%|██████▉   | 16/23 [00:39<00:17,  2.57s/it]2024/11/14 13:43:50 ERROR dspy.evaluate.evaluate: Error for example in dev set: \t\t litellm.RateLimitError: AzureException RateLimitError - Error code: 429 - {'error': {'code': '429', 'message': 'Requests to the ChatCompletions_Create Operation under Azure OpenAI API version 2024-02-15-preview have exceeded token rate limit of your current OpenAI S0 pricing tier. Please retry after 4 seconds. Please go here: https://aka.ms/oai/quotaincrease if you would like to further increase the default rate limit.'}}. Set `provide_traceback=True` to see the stack trace.\n",
      "Average Metric: 12.965418318891663 / 17  (76.3):  70%|██████▉   | 16/23 [00:39<00:17,  2.57s/it]"
     ]
    },
    {
     "name": "stdout",
     "output_type": "stream",
     "text": [
      "litellm.RateLimitError: AzureException RateLimitError - Error code: 429 - {'error': {'code': '429', 'message': 'Requests to the ChatCompletions_Create Operation under Azure OpenAI API version 2024-02-15-preview have exceeded token rate limit of your current OpenAI S0 pricing tier. Please retry after 4 seconds. Please go here: https://aka.ms/oai/quotaincrease if you would like to further increase the default rate limit.'}}\n"
     ]
    },
    {
     "name": "stderr",
     "output_type": "stream",
     "text": [
      "Average Metric: 15.9535135569869 / 22  (72.5):  96%|█████████▌| 22/23 [01:04<00:04,  4.06s/it]  "
     ]
    },
    {
     "name": "stdout",
     "output_type": "stream",
     "text": [
      "litellm.BadRequestError: litellm.ContentPolicyViolationError: litellm.ContentPolicyViolationError: AzureException - Error code: 400 - {'error': {'message': \"The response was filtered due to the prompt triggering Azure OpenAI's content management policy. Please modify your prompt and retry. To learn more about our content filtering policies please read our documentation: https://go.microsoft.com/fwlink/?linkid=2198766\", 'type': None, 'param': 'prompt', 'code': 'content_filter', 'status': 400, 'innererror': {'code': 'ResponsibleAIPolicyViolation', 'content_filter_result': {'hate': {'filtered': False, 'severity': 'safe'}, 'self_harm': {'filtered': False, 'severity': 'safe'}, 'sexual': {'filtered': True, 'severity': 'low'}, 'violence': {'filtered': False, 'severity': 'safe'}}}}}\n"
     ]
    },
    {
     "name": "stderr",
     "output_type": "stream",
     "text": [
      "Average Metric: 16.3535135569869 / 23  (71.1): 100%|██████████| 23/23 [01:22<00:00,  3.59s/it]\n",
      "2024/11/14 13:44:33 INFO dspy.evaluate.evaluate: Average Metric: 16.3535135569869 / 23 (71.1%)\n",
      "2024/11/14 13:44:34 INFO dspy.teleprompt.mipro_optimizer_v2: Score: 71.1 with parameters ['Predictor 0: Instruction 4'].\n",
      "2024/11/14 13:44:34 INFO dspy.teleprompt.mipro_optimizer_v2: Scores so far: [72.52, 80.33, 75.04, 77.27, 75.04, 71.1]\n",
      "2024/11/14 13:44:34 INFO dspy.teleprompt.mipro_optimizer_v2: Best score so far: 80.33\n",
      "2024/11/14 13:44:34 INFO dspy.teleprompt.mipro_optimizer_v2: =======================\n",
      "\n",
      "\n",
      "2024/11/14 13:44:34 INFO dspy.teleprompt.mipro_optimizer_v2: ===== Trial 6 / 7 =====\n",
      "Average Metric: 18.476871777713544 / 23  (80.3): 100%|██████████| 23/23 [00:16<00:00,  1.38it/s] \n",
      "2024/11/14 13:44:50 INFO dspy.evaluate.evaluate: Average Metric: 18.476871777713544 / 23 (80.3%)\n",
      "2024/11/14 13:44:50 INFO dspy.teleprompt.mipro_optimizer_v2: Score: 80.33 with parameters ['Predictor 0: Instruction 1'].\n",
      "2024/11/14 13:44:50 INFO dspy.teleprompt.mipro_optimizer_v2: Scores so far: [72.52, 80.33, 75.04, 77.27, 75.04, 71.1, 80.33]\n",
      "2024/11/14 13:44:50 INFO dspy.teleprompt.mipro_optimizer_v2: Best score so far: 80.33\n",
      "2024/11/14 13:44:50 INFO dspy.teleprompt.mipro_optimizer_v2: =======================\n",
      "\n",
      "\n",
      "2024/11/14 13:44:50 INFO dspy.teleprompt.mipro_optimizer_v2: ===== Trial 7 / 7 =====\n"
     ]
    },
    {
     "name": "stdout",
     "output_type": "stream",
     "text": [
      "litellm.BadRequestError: litellm.ContentPolicyViolationError: litellm.ContentPolicyViolationError: AzureException - Error code: 400 - {'error': {'message': \"The response was filtered due to the prompt triggering Azure OpenAI's content management policy. Please modify your prompt and retry. To learn more about our content filtering policies please read our documentation: https://go.microsoft.com/fwlink/?linkid=2198766\", 'type': None, 'param': 'prompt', 'code': 'content_filter', 'status': 400, 'innererror': {'code': 'ResponsibleAIPolicyViolation', 'content_filter_result': {'hate': {'filtered': False, 'severity': 'safe'}, 'self_harm': {'filtered': False, 'severity': 'safe'}, 'sexual': {'filtered': True, 'severity': 'low'}, 'violence': {'filtered': False, 'severity': 'safe'}}}}}\n"
     ]
    },
    {
     "name": "stderr",
     "output_type": "stream",
     "text": [
      "Average Metric: 17.59966740314075 / 22  (80.0):  96%|█████████▌| 22/23 [01:10<00:04,  4.53s/it] "
     ]
    },
    {
     "name": "stdout",
     "output_type": "stream",
     "text": [
      "litellm.BadRequestError: litellm.ContentPolicyViolationError: litellm.ContentPolicyViolationError: AzureException - Error code: 400 - {'error': {'message': \"The response was filtered due to the prompt triggering Azure OpenAI's content management policy. Please modify your prompt and retry. To learn more about our content filtering policies please read our documentation: https://go.microsoft.com/fwlink/?linkid=2198766\", 'type': None, 'param': 'prompt', 'code': 'content_filter', 'status': 400, 'innererror': {'code': 'ResponsibleAIPolicyViolation', 'content_filter_result': {'hate': {'filtered': False, 'severity': 'safe'}, 'self_harm': {'filtered': False, 'severity': 'safe'}, 'sexual': {'filtered': True, 'severity': 'low'}, 'violence': {'filtered': False, 'severity': 'safe'}}}}}\n"
     ]
    },
    {
     "name": "stderr",
     "output_type": "stream",
     "text": [
      "Average Metric: 18.266334069807417 / 23  (79.4): 100%|██████████| 23/23 [01:12<00:00,  3.14s/it]\n",
      "2024/11/14 13:46:02 INFO dspy.evaluate.evaluate: Average Metric: 18.266334069807417 / 23 (79.4%)\n",
      "2024/11/14 13:46:02 INFO dspy.teleprompt.mipro_optimizer_v2: Score: 79.42 with parameters ['Predictor 0: Instruction 6'].\n",
      "2024/11/14 13:46:02 INFO dspy.teleprompt.mipro_optimizer_v2: Scores so far: [72.52, 80.33, 75.04, 77.27, 75.04, 71.1, 80.33, 79.42]\n",
      "2024/11/14 13:46:02 INFO dspy.teleprompt.mipro_optimizer_v2: Best score so far: 80.33\n",
      "2024/11/14 13:46:02 INFO dspy.teleprompt.mipro_optimizer_v2: =======================\n",
      "\n",
      "\n",
      "2024/11/14 13:46:02 INFO dspy.teleprompt.mipro_optimizer_v2: Returning best identified program with score 80.33!\n"
     ]
    }
   ],
   "source": [
    "# prompt_of_field_to_optimize = \"telesales_employee_introduction\"\n",
    "# semantic = True\n",
    "\n",
    "# # Load dataset and a target field (to avoid giving spurious information)\n",
    "# dataset = BonbozTelesalesCall(\n",
    "#     path=\"/home/anhnht/Anywhere-LLM/data/bonboz_call_analysis.csv\",\n",
    "#     selected_output_field=prompt_of_field_to_optimize,\n",
    "# )\n",
    "# metric = BonbozTelesalesScore(\n",
    "#     selected_output_field=prompt_of_field_to_optimize, semantic=semantic\n",
    "# )\n",
    "\n",
    "\n",
    "# class ProgSig(dspy.Signature):\n",
    "#     \"\"\"As a proficient Vietnamese assistant for a beauty clinic, your task is to analyze call transcripts between an agent and a potential customer. Your primary objective is to accurately extract the introductory segment where the telesales agent introduces themselves and the service offer. Be vigilant of potential diarization errors and misassigned speaker tags in the transcript, making educated guesses in ambiguous situations. Provide a detailed reasoning, including specific quotes from the transcript, to support your conclusions. Use double quotes for text and square brackets for timestamps. Ensure telesales employee introduction is in Vietnamese.\"\"\"\n",
    "\n",
    "#     transcript = dspy.InputField(format=\"str\")\n",
    "\n",
    "#     telesales_employee_introduction = dspy.OutputField(default=\"thiếu thông tin\")\n",
    "\n",
    "\n",
    "# program = dspy.ChainOfThought(ProgSig)\n",
    "\n",
    "# teleprompter = MIPROv2(\n",
    "#     metric=metric, max_bootstrapped_demos=0, max_labeled_demos=0, auto=\"light\"\n",
    "# )\n",
    "\n",
    "# optimized_program = teleprompter.compile(\n",
    "#     program,\n",
    "#     trainset=dataset.train,\n",
    "#     valset=dataset.dev,\n",
    "#     requires_permission_to_run=False,\n",
    "# )\n",
    "# optimized_program.save(\"optimized_prompt_intro.json\")"
   ]
  },
  {
   "cell_type": "code",
   "execution_count": null,
   "metadata": {},
   "outputs": [
    {
     "name": "stderr",
     "output_type": "stream",
     "text": [
      "2024/11/14 13:48:27 INFO dspy.teleprompt.mipro_optimizer_v2: \n",
      "RUNNING WITH THE FOLLOWING LIGHT AUTO RUN SETTINGS:\n",
      "num_trials: 7\n",
      "minibatch: False\n",
      "num_candidates: 7\n",
      "valset size: 23\n",
      "\n",
      "2024/11/14 13:48:27 INFO dspy.teleprompt.mipro_optimizer_v2: \n",
      "==> STEP 1: BOOTSTRAP FEWSHOT EXAMPLES <==\n",
      "2024/11/14 13:48:27 INFO dspy.teleprompt.mipro_optimizer_v2: These will be used for informing instruction proposal.\n",
      "\n",
      "2024/11/14 13:48:27 INFO dspy.teleprompt.mipro_optimizer_v2: Bootstrapping N=7 sets of demonstrations...\n"
     ]
    },
    {
     "name": "stdout",
     "output_type": "stream",
     "text": [
      "Bootstrapping set 1/7\n",
      "Bootstrapping set 2/7\n"
     ]
    },
    {
     "name": "stderr",
     "output_type": "stream",
     "text": [
      " 18%|█▊        | 4/22 [00:15<01:09,  3.87s/it]\n"
     ]
    },
    {
     "name": "stdout",
     "output_type": "stream",
     "text": [
      "Bootstrapped 3 full traces after 4 examples for up to 1 rounds, amounting to 4 attempts.\n",
      "Bootstrapping set 3/7\n"
     ]
    },
    {
     "name": "stderr",
     "output_type": "stream",
     "text": [
      " 14%|█▎        | 3/22 [00:09<01:01,  3.24s/it]\n"
     ]
    },
    {
     "name": "stdout",
     "output_type": "stream",
     "text": [
      "Bootstrapped 3 full traces after 3 examples for up to 1 rounds, amounting to 3 attempts.\n",
      "Bootstrapping set 4/7\n"
     ]
    },
    {
     "name": "stderr",
     "output_type": "stream",
     "text": [
      " 14%|█▎        | 3/22 [00:03<00:23,  1.23s/it]\n"
     ]
    },
    {
     "name": "stdout",
     "output_type": "stream",
     "text": [
      "Bootstrapped 3 full traces after 3 examples for up to 1 rounds, amounting to 3 attempts.\n",
      "Bootstrapping set 5/7\n"
     ]
    },
    {
     "name": "stderr",
     "output_type": "stream",
     "text": [
      " 18%|█▊        | 4/22 [00:15<01:08,  3.80s/it]\n"
     ]
    },
    {
     "name": "stdout",
     "output_type": "stream",
     "text": [
      "Bootstrapped 3 full traces after 4 examples for up to 1 rounds, amounting to 4 attempts.\n",
      "Bootstrapping set 6/7\n"
     ]
    },
    {
     "name": "stderr",
     "output_type": "stream",
     "text": [
      "  5%|▍         | 1/22 [00:00<00:00, 322.02it/s]\n"
     ]
    },
    {
     "name": "stdout",
     "output_type": "stream",
     "text": [
      "Bootstrapped 1 full traces after 1 examples for up to 1 rounds, amounting to 1 attempts.\n",
      "Bootstrapping set 7/7\n"
     ]
    },
    {
     "name": "stderr",
     "output_type": "stream",
     "text": [
      "  9%|▉         | 2/22 [00:00<00:00, 422.66it/s]\n",
      "2024/11/14 13:49:12 INFO dspy.teleprompt.mipro_optimizer_v2: \n",
      "==> STEP 2: PROPOSE INSTRUCTION CANDIDATES <==\n",
      "2024/11/14 13:49:12 INFO dspy.teleprompt.mipro_optimizer_v2: We will use the few-shot examples from the previous step, a generated dataset summary, a summary of the program code, and a randomly selected prompting tip to propose instructions.\n",
      "2024/11/14 13:49:12 INFO dspy.teleprompt.mipro_optimizer_v2: \n",
      "Proposing instructions...\n",
      "\n"
     ]
    },
    {
     "name": "stdout",
     "output_type": "stream",
     "text": [
      "Bootstrapped 2 full traces after 2 examples for up to 1 rounds, amounting to 2 attempts.\n"
     ]
    },
    {
     "name": "stderr",
     "output_type": "stream",
     "text": [
      "2024/11/14 13:51:18 INFO dspy.teleprompt.mipro_optimizer_v2: Proposed Instructions for Predictor 0:\n",
      "\n",
      "2024/11/14 13:51:18 INFO dspy.teleprompt.mipro_optimizer_v2: 0: As a Vietnamese language analyst, your task is to thoroughly analyze the provided call transcript between a beauty clinic's agent and a potential client. Your objective is to determine the customer's decision at the end of the call: \"từ chối\" (decline), \"đồng ý\" (agree), or \"gửi thêm thông tin\" (request more information). Carefully consider the dialogue for any indications of the customer's intent, and be mindful of potential diarization errors or misattributed speaker tags. Use specific quotes from the transcript, enclosed in double quotes, and provide timestamps in square brackets to support your analysis. Conclude with a clear determination of the customer's decision regarding the appointment.\n",
      "\n",
      "2024/11/14 13:51:18 INFO dspy.teleprompt.mipro_optimizer_v2: 1: You are a Vietnamese language analyst specializing in customer interaction analysis. Your task is to meticulously review the call transcript between a beauty clinic's representative and a potential client. Your goal is to ascertain the customer's final decision regarding scheduling an appointment, categorizing it as either \"từ chối\" (decline), \"đồng ý\" (agree), or \"gửi thêm thông tin\" (request more information). Pay close attention to the dialogue for any clues indicating the customer's intent, and be vigilant for possible diarization errors or misattributed speaker tags. Use direct quotes from the transcript, enclosed in double quotes, and include timestamps in square brackets to substantiate your analysis. Conclude with a definitive determination of the customer's decision about the appointment.\n",
      "\n",
      "2024/11/14 13:51:18 INFO dspy.teleprompt.mipro_optimizer_v2: 2: As a Vietnamese language analyst, your task is to meticulously examine the provided call transcript between a beauty clinic's representative and a prospective client. Your goal is to assess the customer's decision at the conclusion of the call, categorizing it as \"từ chối\" (decline), \"đồng ý\" (agree), or \"gửi thêm thông tin\" (request more information). Pay close attention to the dialogue for any signals of the customer's intention, considering possible diarization errors or incorrect speaker attribution. Extract precise quotes from the transcript, using double quotes, and include timestamps in square brackets to substantiate your analysis. Summarize your findings with a definitive conclusion on the customer's decision about scheduling an appointment, supported by your detailed reasoning.\n",
      "\n",
      "2024/11/14 13:51:18 INFO dspy.teleprompt.mipro_optimizer_v2: 3: Imagine you are a Vietnamese language analyst working for a beauty clinic that relies heavily on securing appointments through phone interactions. Your task is to meticulously analyze the provided call transcript between a beauty clinic's agent and a potential client. The stakes are high: your analysis will directly impact the clinic's ability to follow up effectively and secure client visits. Your objective is to determine the customer's decision at the end of the call: \"từ chối\" (decline), \"đồng ý\" (agree), or \"gửi thêm thông tin\" (request more information). Pay close attention to the dialogue for any signs of the customer's intentions, and be cautious of potential diarization errors or misattributed speaker tags. Use specific quotes from the transcript, enclosed in double quotes, and provide timestamps in square brackets to substantiate your analysis. Conclude with a definitive judgment of the customer's decision regarding the appointment, as this will guide the clinic's next steps in client engagement.\n",
      "\n",
      "2024/11/14 13:51:18 INFO dspy.teleprompt.mipro_optimizer_v2: 4: As a skilled Vietnamese language analyst specializing in customer interaction analysis, your task is to meticulously examine the provided call transcript between a beauty clinic's representative and a potential client. Your goal is to discern the customer's decision at the conclusion of the call: \"từ chối\" (decline), \"đồng ý\" (agree), or \"gửi thêm thông tin\" (request more information). Pay close attention to the dialogue for any clues indicating the customer's intent, while being vigilant of potential diarization errors or misattributed speaker tags. Utilize specific quotes from the transcript, enclosed in double quotes, and provide timestamps in square brackets to substantiate your analysis. Finish with a definitive conclusion regarding the customer's decision about scheduling an appointment.\n",
      "\n",
      "2024/11/14 13:51:18 INFO dspy.teleprompt.mipro_optimizer_v2: 5: Analyze the provided Vietnamese call transcript between a beauty clinic's agent and a potential client. Your goal is to identify the client's decision at the end of the call, categorizing it as \"từ chối\" (decline), \"đồng ý\" (agree), or \"gửi thêm thông tin\" (request more information). Pay close attention to the dialogue for any cues about the client's intent, while being aware of possible diarization errors and speaker tag misattribution. Use specific quotes from the transcript, enclosed in double quotes, and include timestamps in square brackets to substantiate your analysis. Provide a reasoned conclusion indicating the client's decision regarding the appointment.\n",
      "\n",
      "2024/11/14 13:51:18 INFO dspy.teleprompt.mipro_optimizer_v2: 6: As a Vietnamese language analyst, you are tasked with analyzing the provided call transcript between a beauty clinic's agent and a potential client. Your goal is to determine the customer's decision at the end of the call, categorizing it into one of the following: \"từ chối\" (decline), \"đồng ý\" (agree), or \"gửi thêm thông tin\" (request more information). Pay close attention to the dialogue, identifying any cues or expressions that indicate the customer's intent or decision. Be vigilant about potential diarization errors or misattributed speaker tags that may affect your analysis. Utilize specific quotes from the transcript, placing them in double quotes, and include timestamps in square brackets to substantiate your reasoning. Finally, provide a well-reasoned conclusion that clearly states the customer's decision regarding scheduling an appointment with the clinic. Ensure your analysis is comprehensive, informative, and detailed to accurately reflect the customer's stance at the end of the conversation.\n",
      "\n",
      "2024/11/14 13:51:18 INFO dspy.teleprompt.mipro_optimizer_v2: \n",
      "\n",
      "2024/11/14 13:51:18 INFO dspy.teleprompt.mipro_optimizer_v2: Evaluating the default program...\n",
      "\n",
      "Average Metric: 19.0 / 23  (82.6): 100%|██████████| 23/23 [00:46<00:00,  2.03s/it]\n",
      "2024/11/14 13:52:04 INFO dspy.evaluate.evaluate: Average Metric: 19.0 / 23 (82.6%)\n",
      "2024/11/14 13:52:04 INFO dspy.teleprompt.mipro_optimizer_v2: Default program score: 82.61\n",
      "\n",
      "2024/11/14 13:52:04 INFO dspy.teleprompt.mipro_optimizer_v2: ==> STEP 3: FINDING OPTIMAL PROMPT PARAMETERS <==\n",
      "2024/11/14 13:52:04 INFO dspy.teleprompt.mipro_optimizer_v2: We will evaluate the program over a series of trials with different combinations of instructions and few-shot examples to find the optimal combination using Bayesian Optimization.\n",
      "\n",
      "/home/anhnht/miniforge3/envs/llm/lib/python3.11/site-packages/optuna/samplers/_tpe/sampler.py:319: ExperimentalWarning: ``multivariate`` option is an experimental feature. The interface can change in the future.\n",
      "  warnings.warn(\n",
      "2024/11/14 13:52:04 INFO dspy.teleprompt.mipro_optimizer_v2: ===== Trial 1 / 7 =====\n",
      "Average Metric: 20.0 / 23  (87.0): 100%|██████████| 23/23 [00:59<00:00,  2.57s/it]\n",
      "2024/11/14 13:53:03 INFO dspy.evaluate.evaluate: Average Metric: 20.0 / 23 (87.0%)\n",
      "2024/11/14 13:53:03 INFO dspy.teleprompt.mipro_optimizer_v2: \u001b[92mBest full score so far!\u001b[0m Score: 86.96\n",
      "2024/11/14 13:53:03 INFO dspy.teleprompt.mipro_optimizer_v2: Score: 86.96 with parameters ['Predictor 0: Instruction 1'].\n",
      "2024/11/14 13:53:03 INFO dspy.teleprompt.mipro_optimizer_v2: Scores so far: [82.61, 86.96]\n",
      "2024/11/14 13:53:03 INFO dspy.teleprompt.mipro_optimizer_v2: Best score so far: 86.96\n",
      "2024/11/14 13:53:03 INFO dspy.teleprompt.mipro_optimizer_v2: =======================\n",
      "\n",
      "\n",
      "2024/11/14 13:53:03 INFO dspy.teleprompt.mipro_optimizer_v2: ===== Trial 2 / 7 =====\n",
      "Average Metric: 18.0 / 23  (78.3): 100%|██████████| 23/23 [00:46<00:00,  2.02s/it]\n",
      "2024/11/14 13:53:50 INFO dspy.evaluate.evaluate: Average Metric: 18.0 / 23 (78.3%)\n",
      "2024/11/14 13:53:50 INFO dspy.teleprompt.mipro_optimizer_v2: Score: 78.26 with parameters ['Predictor 0: Instruction 5'].\n",
      "2024/11/14 13:53:50 INFO dspy.teleprompt.mipro_optimizer_v2: Scores so far: [82.61, 86.96, 78.26]\n",
      "2024/11/14 13:53:50 INFO dspy.teleprompt.mipro_optimizer_v2: Best score so far: 86.96\n",
      "2024/11/14 13:53:50 INFO dspy.teleprompt.mipro_optimizer_v2: =======================\n",
      "\n",
      "\n",
      "2024/11/14 13:53:50 INFO dspy.teleprompt.mipro_optimizer_v2: ===== Trial 3 / 7 =====\n",
      "Average Metric: 19.0 / 23  (82.6): 100%|██████████| 23/23 [00:53<00:00,  2.34s/it]\n",
      "2024/11/14 13:54:44 INFO dspy.evaluate.evaluate: Average Metric: 19.0 / 23 (82.6%)\n",
      "2024/11/14 13:54:44 INFO dspy.teleprompt.mipro_optimizer_v2: Score: 82.61 with parameters ['Predictor 0: Instruction 2'].\n",
      "2024/11/14 13:54:44 INFO dspy.teleprompt.mipro_optimizer_v2: Scores so far: [82.61, 86.96, 78.26, 82.61]\n",
      "2024/11/14 13:54:44 INFO dspy.teleprompt.mipro_optimizer_v2: Best score so far: 86.96\n",
      "2024/11/14 13:54:44 INFO dspy.teleprompt.mipro_optimizer_v2: =======================\n",
      "\n",
      "\n",
      "2024/11/14 13:54:44 INFO dspy.teleprompt.mipro_optimizer_v2: ===== Trial 4 / 7 =====\n",
      "Average Metric: 18.0 / 23  (78.3): 100%|██████████| 23/23 [00:00<00:00, 1022.10it/s]\n",
      "2024/11/14 13:54:44 INFO dspy.evaluate.evaluate: Average Metric: 18.0 / 23 (78.3%)\n",
      "2024/11/14 13:54:44 INFO dspy.teleprompt.mipro_optimizer_v2: Score: 78.26 with parameters ['Predictor 0: Instruction 5'].\n",
      "2024/11/14 13:54:44 INFO dspy.teleprompt.mipro_optimizer_v2: Scores so far: [82.61, 86.96, 78.26, 82.61, 78.26]\n",
      "2024/11/14 13:54:44 INFO dspy.teleprompt.mipro_optimizer_v2: Best score so far: 86.96\n",
      "2024/11/14 13:54:44 INFO dspy.teleprompt.mipro_optimizer_v2: =======================\n",
      "\n",
      "\n",
      "2024/11/14 13:54:44 INFO dspy.teleprompt.mipro_optimizer_v2: ===== Trial 5 / 7 =====\n",
      "Average Metric: 21.0 / 23  (91.3): 100%|██████████| 23/23 [00:54<00:00,  2.38s/it]\n",
      "2024/11/14 13:55:39 INFO dspy.evaluate.evaluate: Average Metric: 21.0 / 23 (91.3%)\n",
      "2024/11/14 13:55:39 INFO dspy.teleprompt.mipro_optimizer_v2: \u001b[92mBest full score so far!\u001b[0m Score: 91.3\n",
      "2024/11/14 13:55:39 INFO dspy.teleprompt.mipro_optimizer_v2: Score: 91.3 with parameters ['Predictor 0: Instruction 4'].\n",
      "2024/11/14 13:55:39 INFO dspy.teleprompt.mipro_optimizer_v2: Scores so far: [82.61, 86.96, 78.26, 82.61, 78.26, 91.3]\n",
      "2024/11/14 13:55:39 INFO dspy.teleprompt.mipro_optimizer_v2: Best score so far: 91.3\n",
      "2024/11/14 13:55:39 INFO dspy.teleprompt.mipro_optimizer_v2: =======================\n",
      "\n",
      "\n",
      "2024/11/14 13:55:39 INFO dspy.teleprompt.mipro_optimizer_v2: ===== Trial 6 / 7 =====\n",
      "Average Metric: 20.0 / 23  (87.0): 100%|██████████| 23/23 [00:00<00:00, 994.41it/s] \n",
      "2024/11/14 13:55:39 INFO dspy.evaluate.evaluate: Average Metric: 20.0 / 23 (87.0%)\n",
      "2024/11/14 13:55:39 INFO dspy.teleprompt.mipro_optimizer_v2: Score: 86.96 with parameters ['Predictor 0: Instruction 1'].\n",
      "2024/11/14 13:55:39 INFO dspy.teleprompt.mipro_optimizer_v2: Scores so far: [82.61, 86.96, 78.26, 82.61, 78.26, 91.3, 86.96]\n",
      "2024/11/14 13:55:39 INFO dspy.teleprompt.mipro_optimizer_v2: Best score so far: 91.3\n",
      "2024/11/14 13:55:39 INFO dspy.teleprompt.mipro_optimizer_v2: =======================\n",
      "\n",
      "\n",
      "2024/11/14 13:55:39 INFO dspy.teleprompt.mipro_optimizer_v2: ===== Trial 7 / 7 =====\n",
      "Average Metric: 20.0 / 23  (87.0): 100%|██████████| 23/23 [00:57<00:00,  2.51s/it]\n",
      "2024/11/14 13:56:37 INFO dspy.evaluate.evaluate: Average Metric: 20.0 / 23 (87.0%)\n",
      "2024/11/14 13:56:37 INFO dspy.teleprompt.mipro_optimizer_v2: Score: 86.96 with parameters ['Predictor 0: Instruction 6'].\n",
      "2024/11/14 13:56:37 INFO dspy.teleprompt.mipro_optimizer_v2: Scores so far: [82.61, 86.96, 78.26, 82.61, 78.26, 91.3, 86.96, 86.96]\n",
      "2024/11/14 13:56:37 INFO dspy.teleprompt.mipro_optimizer_v2: Best score so far: 91.3\n",
      "2024/11/14 13:56:37 INFO dspy.teleprompt.mipro_optimizer_v2: =======================\n",
      "\n",
      "\n",
      "2024/11/14 13:56:37 INFO dspy.teleprompt.mipro_optimizer_v2: Returning best identified program with score 91.3!\n"
     ]
    }
   ],
   "source": [
    "# prompt_of_field_to_optimize = \"customer_agrees_to_schedule_appointment_at_end_of_call\"\n",
    "# semantic = False\n",
    "\n",
    "# # Load dataset and a target field (to avoid giving spurious information)\n",
    "# dataset = BonbozTelesalesCall(\n",
    "#     path=\"/home/anhnht/Anywhere-LLM/data/bonboz_call_analysis.csv\",\n",
    "#     selected_output_field=prompt_of_field_to_optimize,\n",
    "# )\n",
    "# metric = BonbozTelesalesScore(\n",
    "#     selected_output_field=prompt_of_field_to_optimize, semantic=semantic\n",
    "# )\n",
    "\n",
    "# # from enum import Enum\n",
    "\n",
    "\n",
    "# # class TeleSalesResult(Enum):\n",
    "# #     từ_chối = \"từ chối\"\n",
    "# #     đồng_ý = \"đồng ý\"\n",
    "# #     gửi_thêm_thông_tin = \"gửi thêm thông tin\"\n",
    "\n",
    "# from typing import Literal\n",
    "\n",
    "\n",
    "# class ProgSig(dspy.Signature):\n",
    "#     \"\"\"As a Vietnamese language analyst, your task is to thoroughly analyze the provided call transcript between a beauty clinic's agent and a potential client. Your objective is to determine the customer's decision at the end of the call: \"từ chối\" (decline), \"đồng ý\" (agree), or \"gửi thêm thông tin\" (request more information). Carefully consider the dialogue for any indications of the customer's intent, and be mindful of potential diarization errors or misattributed speaker tags. Use specific quotes from the transcript, enclosed in double quotes, and provide timestamps in square brackets to support your analysis. Conclude with a clear determination of the customer's decision regarding the appointment.\"\"\"\n",
    "\n",
    "#     transcript = dspy.InputField(format=\"str\")\n",
    "\n",
    "#     customer_agrees_to_schedule_appointment_at_end_of_call: Literal[\n",
    "#         \"từ chối\", \"đồng ý\", \"gửi thêm thông tin\"\n",
    "#     ] = dspy.OutputField()\n",
    "\n",
    "\n",
    "# program = dspy.ChainOfThought(ProgSig)\n",
    "\n",
    "# teleprompter = MIPROv2(\n",
    "#     metric=metric, max_bootstrapped_demos=0, max_labeled_demos=0, auto=\"light\"\n",
    "# )\n",
    "\n",
    "# optimized_program = teleprompter.compile(\n",
    "#     program,\n",
    "#     trainset=dataset.train,\n",
    "#     valset=dataset.dev,\n",
    "#     requires_permission_to_run=False,\n",
    "# )\n",
    "# optimized_program.save(\"optimized_prompt.json\")"
   ]
  },
  {
   "cell_type": "code",
   "execution_count": null,
   "metadata": {},
   "outputs": [
    {
     "name": "stderr",
     "output_type": "stream",
     "text": [
      "2024/11/14 13:10:58 INFO dspy.teleprompt.mipro_optimizer_v2: \n",
      "RUNNING WITH THE FOLLOWING LIGHT AUTO RUN SETTINGS:\n",
      "num_trials: 7\n",
      "minibatch: False\n",
      "num_candidates: 7\n",
      "valset size: 23\n",
      "\n",
      "2024/11/14 13:10:58 INFO dspy.teleprompt.mipro_optimizer_v2: \n",
      "==> STEP 1: BOOTSTRAP FEWSHOT EXAMPLES <==\n",
      "2024/11/14 13:10:58 INFO dspy.teleprompt.mipro_optimizer_v2: These will be used for informing instruction proposal.\n",
      "\n",
      "2024/11/14 13:10:58 INFO dspy.teleprompt.mipro_optimizer_v2: Bootstrapping N=7 sets of demonstrations...\n"
     ]
    },
    {
     "name": "stdout",
     "output_type": "stream",
     "text": [
      "Bootstrapping set 1/7\n",
      "Bootstrapping set 2/7\n"
     ]
    },
    {
     "name": "stderr",
     "output_type": "stream",
     "text": [
      " 14%|█▎        | 3/22 [00:20<02:08,  6.77s/it]\n"
     ]
    },
    {
     "name": "stdout",
     "output_type": "stream",
     "text": [
      "Bootstrapped 3 full traces after 3 examples for up to 1 rounds, amounting to 3 attempts.\n",
      "Bootstrapping set 3/7\n"
     ]
    },
    {
     "name": "stderr",
     "output_type": "stream",
     "text": [
      " 14%|█▎        | 3/22 [00:19<02:00,  6.35s/it]\n"
     ]
    },
    {
     "name": "stdout",
     "output_type": "stream",
     "text": [
      "Bootstrapped 3 full traces after 3 examples for up to 1 rounds, amounting to 3 attempts.\n",
      "Bootstrapping set 4/7\n"
     ]
    },
    {
     "name": "stderr",
     "output_type": "stream",
     "text": [
      " 14%|█▎        | 3/22 [00:09<01:03,  3.33s/it]\n"
     ]
    },
    {
     "name": "stdout",
     "output_type": "stream",
     "text": [
      "Bootstrapped 3 full traces after 3 examples for up to 1 rounds, amounting to 3 attempts.\n",
      "Bootstrapping set 5/7\n"
     ]
    },
    {
     "name": "stderr",
     "output_type": "stream",
     "text": [
      " 14%|█▎        | 3/22 [00:08<00:56,  2.98s/it]\n"
     ]
    },
    {
     "name": "stdout",
     "output_type": "stream",
     "text": [
      "Bootstrapped 3 full traces after 3 examples for up to 1 rounds, amounting to 3 attempts.\n",
      "Bootstrapping set 6/7\n"
     ]
    },
    {
     "name": "stderr",
     "output_type": "stream",
     "text": [
      "  5%|▍         | 1/22 [00:00<00:00, 349.15it/s]\n"
     ]
    },
    {
     "name": "stdout",
     "output_type": "stream",
     "text": [
      "Bootstrapped 1 full traces after 1 examples for up to 1 rounds, amounting to 1 attempts.\n",
      "Bootstrapping set 7/7\n"
     ]
    },
    {
     "name": "stderr",
     "output_type": "stream",
     "text": [
      "  9%|▉         | 2/22 [00:00<00:00, 541.03it/s]\n",
      "2024/11/14 13:11:57 INFO dspy.teleprompt.mipro_optimizer_v2: \n",
      "==> STEP 2: PROPOSE INSTRUCTION CANDIDATES <==\n",
      "2024/11/14 13:11:57 INFO dspy.teleprompt.mipro_optimizer_v2: We will use the few-shot examples from the previous step, a generated dataset summary, a summary of the program code, and a randomly selected prompting tip to propose instructions.\n",
      "2024/11/14 13:11:57 INFO dspy.teleprompt.mipro_optimizer_v2: \n",
      "Proposing instructions...\n",
      "\n"
     ]
    },
    {
     "name": "stdout",
     "output_type": "stream",
     "text": [
      "Bootstrapped 2 full traces after 2 examples for up to 1 rounds, amounting to 2 attempts.\n"
     ]
    },
    {
     "name": "stderr",
     "output_type": "stream",
     "text": [
      "2024/11/14 13:13:39 INFO dspy.teleprompt.mipro_optimizer_v2: Proposed Instructions for Predictor 0:\n",
      "\n",
      "2024/11/14 13:13:39 INFO dspy.teleprompt.mipro_optimizer_v2: 0: As a culturally aware and detail-oriented Vietnamese telesales analyst for a beauty clinic, your task is to meticulously examine call transcripts between a telesales agent and a potential client. Your primary goal is to ascertain whether the customer rejects the offer from the telesales agent at the very beginning of the call. Pay close attention to potential diarization errors and misassigned speaker tags within the transcript, employing educated guesses when faced with ambiguous situations. Construct a comprehensive reasoning that includes specific quotes from the transcript, using double quotes for text and square brackets for timestamps, to substantiate your conclusions.\n",
      "\n",
      "2024/11/14 13:13:39 INFO dspy.teleprompt.mipro_optimizer_v2: 1: You are a culturally aware and detail-oriented Vietnamese telesales analyst working for a beauty clinic. Your task is to thoroughly analyze call transcripts between a telesales agent and a potential client to determine if the customer rejects the offer at the very start of the call. Be vigilant for diarization errors or misassigned speaker tags, and use educated guesses when the situation is ambiguous. Your analysis should include a comprehensive reasoning with specific quotes and timestamps from the transcript to support your conclusion.\n",
      "\n",
      "2024/11/14 13:13:39 INFO dspy.teleprompt.mipro_optimizer_v2: 2: As a culturally sensitive and detail-oriented analyst specializing in Vietnamese telesales interactions, your task is to thoroughly analyze call transcripts between telesales agents and potential clients from a beauty clinic. Your main objective is to determine if the customer rejects the telesales offer at the very beginning of the call. Carefully scrutinize the transcript for any errors in speaker identification and diarization, and make informed assumptions when ambiguities arise. Develop a detailed reasoning that incorporates direct quotes from the transcript, using double quotes for dialogue and square brackets for timestamps, to validate your findings. Ensure your analysis is nuanced and considers the cultural context of Vietnamese telesales practices.\n",
      "\n",
      "2024/11/14 13:13:39 INFO dspy.teleprompt.mipro_optimizer_v2: 3: Imagine you are a key analyst responsible for determining the success of our telesales strategy at a crucial beauty clinic campaign. Your task is to analyze call transcripts with precision and cultural sensitivity to identify if a potential client rejects the offer at the very beginning of the call. This decision holds significant weight as it impacts our understanding of customer engagement and strategy refinement. Be vigilant for any diarization errors or misassigned speaker tags within the transcript, and make educated guesses when ambiguity arises. Develop a detailed reasoning that uses specific quotes from the transcript, marked with double quotes, and timestamps in square brackets to justify your conclusion. Your accuracy in this task is vital for the campaign's success and the clinic's reputation in culturally sensitive telesales interactions.\n",
      "\n",
      "2024/11/14 13:13:39 INFO dspy.teleprompt.mipro_optimizer_v2: 4: You are a culturally aware and detail-oriented Vietnamese telesales analyst working for a beauty clinic. Your task is to carefully analyze call transcripts between a telesales agent and a potential client. Focus on determining whether the customer rejects the offer from the telesales agent at the very beginning of the call. Be vigilant for potential diarization errors and misassigned speaker tags within the transcript, and use educated guesses to navigate ambiguous situations. Provide a detailed reasoning that includes specific quotes from the transcript, using double quotes for text and square brackets for timestamps, to support your conclusions. Your analysis should reflect an understanding of Vietnamese cultural nuances in telesales interactions.\n",
      "\n",
      "2024/11/14 13:13:39 INFO dspy.teleprompt.mipro_optimizer_v2: 5: As a culturally aware and detail-oriented analyst, your task is to review the call transcript between a telesales agent and a potential client to determine if the client rejects the offer at the start of the conversation. Carefully analyze the transcript for any diarization errors or misassigned speaker tags, and make educated guesses when necessary. Provide a detailed reasoning that includes direct quotes from the transcript, with text in double quotes and timestamps in square brackets, to support your conclusion. Your output should include a boolean indicating whether the customer rejected the offer at the beginning of the call and a comprehensive explanation of your analysis.\n",
      "\n",
      "2024/11/14 13:13:39 INFO dspy.teleprompt.mipro_optimizer_v2: 6: As a culturally informed and attentive Vietnamese telesales analyst for a beauty clinic, your task is to thoroughly analyze call transcripts between a telesales agent and a potential client. Your main objective is to determine if the customer rejects the telesales offer right at the beginning of the call. Carefully assess the transcript for possible diarization errors and incorrect speaker tags, using logical reasoning to resolve any ambiguities. Provide a detailed reasoning that includes direct quotes from the transcript, marked with double quotes, and timestamps in square brackets to support your findings. Conclude with a boolean value indicating whether the customer rejected the offer at the start of the call.\n",
      "\n",
      "2024/11/14 13:13:39 INFO dspy.teleprompt.mipro_optimizer_v2: \n",
      "\n",
      "2024/11/14 13:13:39 INFO dspy.teleprompt.mipro_optimizer_v2: Evaluating the default program...\n",
      "\n",
      "Average Metric: 22.0 / 23  (95.7): 100%|██████████| 23/23 [00:00<00:00, 136.06it/s]\n",
      "2024/11/14 13:13:39 INFO dspy.evaluate.evaluate: Average Metric: 22.0 / 23 (95.7%)\n",
      "2024/11/14 13:13:39 INFO dspy.teleprompt.mipro_optimizer_v2: Default program score: 95.65\n",
      "\n",
      "2024/11/14 13:13:39 INFO dspy.teleprompt.mipro_optimizer_v2: ==> STEP 3: FINDING OPTIMAL PROMPT PARAMETERS <==\n",
      "2024/11/14 13:13:39 INFO dspy.teleprompt.mipro_optimizer_v2: We will evaluate the program over a series of trials with different combinations of instructions and few-shot examples to find the optimal combination using Bayesian Optimization.\n",
      "\n",
      "/home/anhnht/miniforge3/envs/llm/lib/python3.11/site-packages/optuna/samplers/_tpe/sampler.py:319: ExperimentalWarning: ``multivariate`` option is an experimental feature. The interface can change in the future.\n",
      "  warnings.warn(\n",
      "2024/11/14 13:13:39 INFO dspy.teleprompt.mipro_optimizer_v2: ===== Trial 1 / 7 =====\n",
      "Average Metric: 22.0 / 23  (95.7): 100%|██████████| 23/23 [00:50<00:00,  2.20s/it]\n",
      "2024/11/14 13:14:30 INFO dspy.evaluate.evaluate: Average Metric: 22.0 / 23 (95.7%)\n",
      "2024/11/14 13:14:30 INFO dspy.teleprompt.mipro_optimizer_v2: Score: 95.65 with parameters ['Predictor 0: Instruction 1'].\n",
      "2024/11/14 13:14:30 INFO dspy.teleprompt.mipro_optimizer_v2: Scores so far: [95.65, 95.65]\n",
      "2024/11/14 13:14:30 INFO dspy.teleprompt.mipro_optimizer_v2: Best score so far: 95.65\n",
      "2024/11/14 13:14:30 INFO dspy.teleprompt.mipro_optimizer_v2: =======================\n",
      "\n",
      "\n",
      "2024/11/14 13:14:30 INFO dspy.teleprompt.mipro_optimizer_v2: ===== Trial 2 / 7 =====\n",
      "Average Metric: 21.0 / 23  (91.3): 100%|██████████| 23/23 [00:53<00:00,  2.32s/it]\n",
      "2024/11/14 13:15:23 INFO dspy.evaluate.evaluate: Average Metric: 21.0 / 23 (91.3%)\n",
      "2024/11/14 13:15:23 INFO dspy.teleprompt.mipro_optimizer_v2: Score: 91.3 with parameters ['Predictor 0: Instruction 5'].\n",
      "2024/11/14 13:15:23 INFO dspy.teleprompt.mipro_optimizer_v2: Scores so far: [95.65, 95.65, 91.3]\n",
      "2024/11/14 13:15:23 INFO dspy.teleprompt.mipro_optimizer_v2: Best score so far: 95.65\n",
      "2024/11/14 13:15:23 INFO dspy.teleprompt.mipro_optimizer_v2: =======================\n",
      "\n",
      "\n",
      "2024/11/14 13:15:23 INFO dspy.teleprompt.mipro_optimizer_v2: ===== Trial 3 / 7 =====\n",
      "Average Metric: 21.0 / 23  (91.3): 100%|██████████| 23/23 [00:56<00:00,  2.45s/it]\n",
      "2024/11/14 13:16:20 INFO dspy.evaluate.evaluate: Average Metric: 21.0 / 23 (91.3%)\n",
      "2024/11/14 13:16:20 INFO dspy.teleprompt.mipro_optimizer_v2: Score: 91.3 with parameters ['Predictor 0: Instruction 2'].\n",
      "2024/11/14 13:16:20 INFO dspy.teleprompt.mipro_optimizer_v2: Scores so far: [95.65, 95.65, 91.3, 91.3]\n",
      "2024/11/14 13:16:20 INFO dspy.teleprompt.mipro_optimizer_v2: Best score so far: 95.65\n",
      "2024/11/14 13:16:20 INFO dspy.teleprompt.mipro_optimizer_v2: =======================\n",
      "\n",
      "\n",
      "2024/11/14 13:16:20 INFO dspy.teleprompt.mipro_optimizer_v2: ===== Trial 4 / 7 =====\n",
      "Average Metric: 21.0 / 23  (91.3): 100%|██████████| 23/23 [00:00<00:00, 1139.86it/s]\n",
      "2024/11/14 13:16:20 INFO dspy.evaluate.evaluate: Average Metric: 21.0 / 23 (91.3%)\n",
      "2024/11/14 13:16:20 INFO dspy.teleprompt.mipro_optimizer_v2: Score: 91.3 with parameters ['Predictor 0: Instruction 5'].\n",
      "2024/11/14 13:16:20 INFO dspy.teleprompt.mipro_optimizer_v2: Scores so far: [95.65, 95.65, 91.3, 91.3, 91.3]\n",
      "2024/11/14 13:16:20 INFO dspy.teleprompt.mipro_optimizer_v2: Best score so far: 95.65\n",
      "2024/11/14 13:16:20 INFO dspy.teleprompt.mipro_optimizer_v2: =======================\n",
      "\n",
      "\n",
      "2024/11/14 13:16:20 INFO dspy.teleprompt.mipro_optimizer_v2: ===== Trial 5 / 7 =====\n",
      "Average Metric: 22.0 / 23  (95.7): 100%|██████████| 23/23 [00:43<00:00,  1.89s/it] \n",
      "2024/11/14 13:17:03 INFO dspy.evaluate.evaluate: Average Metric: 22.0 / 23 (95.7%)\n",
      "2024/11/14 13:17:03 INFO dspy.teleprompt.mipro_optimizer_v2: Score: 95.65 with parameters ['Predictor 0: Instruction 4'].\n",
      "2024/11/14 13:17:03 INFO dspy.teleprompt.mipro_optimizer_v2: Scores so far: [95.65, 95.65, 91.3, 91.3, 91.3, 95.65]\n",
      "2024/11/14 13:17:03 INFO dspy.teleprompt.mipro_optimizer_v2: Best score so far: 95.65\n",
      "2024/11/14 13:17:03 INFO dspy.teleprompt.mipro_optimizer_v2: =======================\n",
      "\n",
      "\n",
      "2024/11/14 13:17:03 INFO dspy.teleprompt.mipro_optimizer_v2: ===== Trial 6 / 7 =====\n",
      "Average Metric: 22.0 / 23  (95.7): 100%|██████████| 23/23 [00:00<00:00, 1109.41it/s] \n",
      "2024/11/14 13:17:04 INFO dspy.evaluate.evaluate: Average Metric: 22.0 / 23 (95.7%)\n",
      "2024/11/14 13:17:04 INFO dspy.teleprompt.mipro_optimizer_v2: Score: 95.65 with parameters ['Predictor 0: Instruction 1'].\n",
      "2024/11/14 13:17:04 INFO dspy.teleprompt.mipro_optimizer_v2: Scores so far: [95.65, 95.65, 91.3, 91.3, 91.3, 95.65, 95.65]\n",
      "2024/11/14 13:17:04 INFO dspy.teleprompt.mipro_optimizer_v2: Best score so far: 95.65\n",
      "2024/11/14 13:17:04 INFO dspy.teleprompt.mipro_optimizer_v2: =======================\n",
      "\n",
      "\n",
      "2024/11/14 13:17:04 INFO dspy.teleprompt.mipro_optimizer_v2: ===== Trial 7 / 7 =====\n",
      "Average Metric: 21.0 / 23  (91.3): 100%|██████████| 23/23 [00:53<00:00,  2.31s/it]\n",
      "2024/11/14 13:17:57 INFO dspy.evaluate.evaluate: Average Metric: 21.0 / 23 (91.3%)\n",
      "2024/11/14 13:17:57 INFO dspy.teleprompt.mipro_optimizer_v2: Score: 91.3 with parameters ['Predictor 0: Instruction 6'].\n",
      "2024/11/14 13:17:57 INFO dspy.teleprompt.mipro_optimizer_v2: Scores so far: [95.65, 95.65, 91.3, 91.3, 91.3, 95.65, 95.65, 91.3]\n",
      "2024/11/14 13:17:57 INFO dspy.teleprompt.mipro_optimizer_v2: Best score so far: 95.65\n",
      "2024/11/14 13:17:57 INFO dspy.teleprompt.mipro_optimizer_v2: =======================\n",
      "\n",
      "\n",
      "2024/11/14 13:17:57 INFO dspy.teleprompt.mipro_optimizer_v2: Returning best identified program with score 95.65!\n"
     ]
    }
   ],
   "source": [
    "# prompt_of_field_to_optimize = \"customer_rejects_at_start_of_call\"\n",
    "# semantic = False\n",
    "\n",
    "# # Load dataset and a target field (to avoid giving spurious information)\n",
    "# dataset = BonbozTelesalesCall(\n",
    "#     path=\"/home/anhnht/Anywhere-LLM/data/bonboz_call_analysis.csv\",\n",
    "#     selected_output_field=prompt_of_field_to_optimize,\n",
    "# )\n",
    "# metric = BonbozTelesalesScore(\n",
    "#     selected_output_field=prompt_of_field_to_optimize, semantic=semantic\n",
    "# )\n",
    "\n",
    "\n",
    "# class ProgSig(dspy.Signature):\n",
    "#     \"\"\"As a culturally aware and detail-oriented Vietnamese telesales analyst for a beauty clinic, your task is to meticulously examine call transcripts between a telesales agent and a potential client. Your primary goal is to ascertain whether the customer rejects the offer from the telesales agent at the very beginning of the call. Pay close attention to potential diarization errors and misassigned speaker tags within the transcript, employing educated guesses when faced with ambiguous situations. Construct a comprehensive reasoning that includes specific quotes from the transcript, using double quotes for text and square brackets for timestamps, to substantiate your conclusions.\"\"\"\n",
    "\n",
    "#     transcript = dspy.InputField(format=\"str\")\n",
    "\n",
    "#     customer_rejects_at_start_of_call: bool = dspy.OutputField()\n",
    "\n",
    "\n",
    "# program = dspy.ChainOfThought(ProgSig)\n",
    "\n",
    "# teleprompter = MIPROv2(\n",
    "#     metric=metric, max_bootstrapped_demos=0, max_labeled_demos=0, auto=\"light\"\n",
    "# )\n",
    "\n",
    "# optimized_program = teleprompter.compile(\n",
    "#     program,\n",
    "#     trainset=dataset.train,\n",
    "#     valset=dataset.dev,\n",
    "#     requires_permission_to_run=False,\n",
    "# )\n",
    "# optimized_program.save(\"optimized_prompt_reject_at_start.json\")"
   ]
  },
  {
   "cell_type": "code",
   "execution_count": null,
   "metadata": {},
   "outputs": [
    {
     "name": "stderr",
     "output_type": "stream",
     "text": [
      "2024/11/14 13:02:05 INFO dspy.teleprompt.mipro_optimizer_v2: \n",
      "RUNNING WITH THE FOLLOWING LIGHT AUTO RUN SETTINGS:\n",
      "num_trials: 7\n",
      "minibatch: False\n",
      "num_candidates: 7\n",
      "valset size: 23\n",
      "\n",
      "2024/11/14 13:02:05 INFO dspy.teleprompt.mipro_optimizer_v2: \n",
      "==> STEP 1: BOOTSTRAP FEWSHOT EXAMPLES <==\n",
      "2024/11/14 13:02:05 INFO dspy.teleprompt.mipro_optimizer_v2: These will be used for informing instruction proposal.\n",
      "\n",
      "2024/11/14 13:02:05 INFO dspy.teleprompt.mipro_optimizer_v2: Bootstrapping N=7 sets of demonstrations...\n"
     ]
    },
    {
     "name": "stdout",
     "output_type": "stream",
     "text": [
      "Bootstrapping set 1/7\n",
      "Bootstrapping set 2/7\n"
     ]
    },
    {
     "name": "stderr",
     "output_type": "stream",
     "text": [
      "  0%|          | 0/22 [00:00<?, ?it/s]"
     ]
    },
    {
     "name": "stderr",
     "output_type": "stream",
     "text": [
      " 14%|█▎        | 3/22 [00:14<01:31,  4.79s/it]\n"
     ]
    },
    {
     "name": "stdout",
     "output_type": "stream",
     "text": [
      "Bootstrapped 3 full traces after 3 examples for up to 1 rounds, amounting to 3 attempts.\n",
      "Bootstrapping set 3/7\n"
     ]
    },
    {
     "name": "stderr",
     "output_type": "stream",
     "text": [
      " 14%|█▎        | 3/22 [00:09<01:01,  3.24s/it]\n"
     ]
    },
    {
     "name": "stdout",
     "output_type": "stream",
     "text": [
      "Bootstrapped 3 full traces after 3 examples for up to 1 rounds, amounting to 3 attempts.\n",
      "Bootstrapping set 4/7\n"
     ]
    },
    {
     "name": "stderr",
     "output_type": "stream",
     "text": [
      " 18%|█▊        | 4/22 [00:08<00:38,  2.16s/it]\n"
     ]
    },
    {
     "name": "stdout",
     "output_type": "stream",
     "text": [
      "Bootstrapped 3 full traces after 4 examples for up to 1 rounds, amounting to 4 attempts.\n",
      "Bootstrapping set 5/7\n"
     ]
    },
    {
     "name": "stderr",
     "output_type": "stream",
     "text": [
      " 27%|██▋       | 6/22 [00:14<00:39,  2.46s/it]\n"
     ]
    },
    {
     "name": "stdout",
     "output_type": "stream",
     "text": [
      "Bootstrapped 3 full traces after 6 examples for up to 1 rounds, amounting to 6 attempts.\n",
      "Bootstrapping set 6/7\n"
     ]
    },
    {
     "name": "stderr",
     "output_type": "stream",
     "text": [
      "  9%|▉         | 2/22 [00:06<01:02,  3.11s/it]\n"
     ]
    },
    {
     "name": "stdout",
     "output_type": "stream",
     "text": [
      "Bootstrapped 1 full traces after 2 examples for up to 1 rounds, amounting to 2 attempts.\n",
      "Bootstrapping set 7/7\n"
     ]
    },
    {
     "name": "stderr",
     "output_type": "stream",
     "text": [
      " 14%|█▎        | 3/22 [00:00<00:00, 493.51it/s]\n",
      "2024/11/14 13:02:59 INFO dspy.teleprompt.mipro_optimizer_v2: \n",
      "==> STEP 2: PROPOSE INSTRUCTION CANDIDATES <==\n",
      "2024/11/14 13:02:59 INFO dspy.teleprompt.mipro_optimizer_v2: We will use the few-shot examples from the previous step, a generated dataset summary, a summary of the program code, and a randomly selected prompting tip to propose instructions.\n",
      "2024/11/14 13:02:59 INFO dspy.teleprompt.mipro_optimizer_v2: \n",
      "Proposing instructions...\n",
      "\n"
     ]
    },
    {
     "name": "stdout",
     "output_type": "stream",
     "text": [
      "Bootstrapped 2 full traces after 3 examples for up to 1 rounds, amounting to 3 attempts.\n"
     ]
    },
    {
     "name": "stderr",
     "output_type": "stream",
     "text": [
      "2024/11/14 13:04:29 INFO dspy.teleprompt.mipro_optimizer_v2: Proposed Instructions for Predictor 0:\n",
      "\n",
      "2024/11/14 13:04:29 INFO dspy.teleprompt.mipro_optimizer_v2: 0: As a skilled Vietnamese language analyst for a beauty clinic, your role is to meticulously examine call transcripts between the clinic's agent and potential clients. Your main goal is to assess whether the customer rejects the offer from the telesales agent at least once in the call. Remain alert to potential diarization errors and incorrectly attributed speaker tags within the transcript, and make informed assumptions when faced with unclear situations. Provide a comprehensive analysis by including specific quotes from the transcript to substantiate your findings. Ensure that text is enclosed in double quotes and timestamps in square brackets.\n",
      "\n",
      "2024/11/14 13:04:29 INFO dspy.teleprompt.mipro_optimizer_v2: 1: As a skilled Vietnamese language analyst for a beauty clinic, your task is to carefully review call transcripts between the clinic's telesales agents and potential clients. Your primary objective is to determine if the customer has rejected the offer at least once during the call. Pay close attention to diarization errors and misattributed speaker tags within the transcript, and make logical assumptions in cases of ambiguity. Provide a detailed analysis by citing specific quotes from the transcript, ensuring that text is enclosed in double quotes and timestamps are in square brackets. Your analysis should clearly indicate whether the customer rejected the offer, supporting your conclusion with evidence from the conversation.\n",
      "\n",
      "2024/11/14 13:04:29 INFO dspy.teleprompt.mipro_optimizer_v2: 2: As a proficient Vietnamese language analyst for a beauty clinic, your task is to thoroughly analyze call transcripts between the clinic's telesales agents and potential clients. Your primary objective is to determine whether the customer expresses any form of rejection to the offer at least once during the conversation. Pay close attention to potential diarization errors and misattributed speaker tags within the transcript, and use logical reasoning to interpret ambiguous situations. Provide a detailed analysis by quoting specific sections of the transcript to support your conclusions, ensuring that text is placed within double quotes and timestamps are enclosed in square brackets. Highlight any instances of subtle rejections, such as hesitations or indirect refusals, to capture the full scope of customer interactions.\n",
      "\n",
      "2024/11/14 13:04:29 INFO dspy.teleprompt.mipro_optimizer_v2: 3: As a proficient Vietnamese language analyst working for a beauty clinic, your critical task is to scrutinize call transcripts between the clinic's telesales agents and potential clients. Your primary objective is to determine if the customer rejects the offer at least once during the call, a decision that could significantly impact the clinic's sales strategy and customer engagement tactics. Pay close attention to possible diarization errors and misattributed speaker tags within the transcript, making informed assumptions when necessary. Provide a thorough analysis by quoting specific dialogue from the transcript, ensuring text is enclosed in double quotes and timestamps in square brackets, to support your findings. Your analysis will directly influence the clinic's approach to overcoming customer objections and building trust, making your role pivotal in enhancing customer commitment and satisfaction.\n",
      "\n",
      "2024/11/14 13:04:29 INFO dspy.teleprompt.mipro_optimizer_v2: 4: As a proficient Vietnamese language analyst working with a beauty clinic, your task is to thoroughly analyze call transcripts between the clinic's telesales agents and potential clients. Your objective is to determine if the customer rejects the offer at least once during the conversation. Be vigilant for any diarization errors and misattributed speaker tags, and make informed assumptions when situations are ambiguous. Provide a detailed analysis by quoting specific parts of the transcript to support your findings. Use double quotes for text and square brackets for timestamps to ensure clarity in your report.\n",
      "\n",
      "2024/11/14 13:04:29 INFO dspy.teleprompt.mipro_optimizer_v2: 5: As a Vietnamese language analyst for a beauty clinic, your task is to carefully review call transcripts between the clinic's telesales agents and potential clients. Your objective is to determine if the customer rejects the offer at any point in the conversation. Pay close attention to potential diarization errors and misattributed speaker tags. Make well-informed assumptions when clarity is lacking. Provide a detailed analysis by quoting specific parts of the transcript and including timestamps in your reasoning. Your output should include a boolean value indicating whether the customer rejected the offer at least once, along with a thorough explanation supporting your conclusion.\n",
      "\n",
      "2024/11/14 13:04:29 INFO dspy.teleprompt.mipro_optimizer_v2: 6: As a proficient Vietnamese language analyst working for a beauty clinic, your task is to thoroughly review call transcripts between the clinic's telesales agents and potential customers. Your primary objective is to determine if the customer declines the offer from the telesales agent at any point during the conversation. Pay close attention to possible diarization errors and misattributed speaker tags within the transcript, and make judicious assumptions when faced with ambiguous situations. Provide a detailed analysis by citing specific quotes from the transcript to support your conclusions, ensuring that dialogue is enclosed in double quotes and timestamps are placed in square brackets. Your analysis should culminate in a boolean output indicating whether a rejection occurred, along with a step-by-step reasoning that clearly outlines your thought process in arriving at this determination.\n",
      "\n",
      "2024/11/14 13:04:29 INFO dspy.teleprompt.mipro_optimizer_v2: \n",
      "\n",
      "2024/11/14 13:04:29 INFO dspy.teleprompt.mipro_optimizer_v2: Evaluating the default program...\n",
      "\n",
      "Average Metric: 15.0 / 23  (65.2): 100%|██████████| 23/23 [00:43<00:00,  1.89s/it]\n",
      "2024/11/14 13:05:12 INFO dspy.evaluate.evaluate: Average Metric: 15.0 / 23 (65.2%)\n",
      "2024/11/14 13:05:12 INFO dspy.teleprompt.mipro_optimizer_v2: Default program score: 65.22\n",
      "\n",
      "2024/11/14 13:05:12 INFO dspy.teleprompt.mipro_optimizer_v2: ==> STEP 3: FINDING OPTIMAL PROMPT PARAMETERS <==\n",
      "2024/11/14 13:05:12 INFO dspy.teleprompt.mipro_optimizer_v2: We will evaluate the program over a series of trials with different combinations of instructions and few-shot examples to find the optimal combination using Bayesian Optimization.\n",
      "\n",
      "/home/anhnht/miniforge3/envs/llm/lib/python3.11/site-packages/optuna/samplers/_tpe/sampler.py:319: ExperimentalWarning: ``multivariate`` option is an experimental feature. The interface can change in the future.\n",
      "  warnings.warn(\n",
      "2024/11/14 13:05:12 INFO dspy.teleprompt.mipro_optimizer_v2: ===== Trial 1 / 7 =====\n",
      "Average Metric: 16.0 / 23  (69.6): 100%|██████████| 23/23 [00:57<00:00,  2.48s/it]\n",
      "2024/11/14 13:06:10 INFO dspy.evaluate.evaluate: Average Metric: 16.0 / 23 (69.6%)\n",
      "2024/11/14 13:06:10 INFO dspy.teleprompt.mipro_optimizer_v2: \u001b[92mBest full score so far!\u001b[0m Score: 69.57\n",
      "2024/11/14 13:06:10 INFO dspy.teleprompt.mipro_optimizer_v2: Score: 69.57 with parameters ['Predictor 0: Instruction 1'].\n",
      "2024/11/14 13:06:10 INFO dspy.teleprompt.mipro_optimizer_v2: Scores so far: [65.22, 69.57]\n",
      "2024/11/14 13:06:10 INFO dspy.teleprompt.mipro_optimizer_v2: Best score so far: 69.57\n",
      "2024/11/14 13:06:10 INFO dspy.teleprompt.mipro_optimizer_v2: =======================\n",
      "\n",
      "\n",
      "2024/11/14 13:06:10 INFO dspy.teleprompt.mipro_optimizer_v2: ===== Trial 2 / 7 =====\n",
      "Average Metric: 15.0 / 23  (65.2): 100%|██████████| 23/23 [00:53<00:00,  2.34s/it]\n",
      "2024/11/14 13:07:03 INFO dspy.evaluate.evaluate: Average Metric: 15.0 / 23 (65.2%)\n",
      "2024/11/14 13:07:03 INFO dspy.teleprompt.mipro_optimizer_v2: Score: 65.22 with parameters ['Predictor 0: Instruction 5'].\n",
      "2024/11/14 13:07:03 INFO dspy.teleprompt.mipro_optimizer_v2: Scores so far: [65.22, 69.57, 65.22]\n",
      "2024/11/14 13:07:03 INFO dspy.teleprompt.mipro_optimizer_v2: Best score so far: 69.57\n",
      "2024/11/14 13:07:03 INFO dspy.teleprompt.mipro_optimizer_v2: =======================\n",
      "\n",
      "\n",
      "2024/11/14 13:07:03 INFO dspy.teleprompt.mipro_optimizer_v2: ===== Trial 3 / 7 =====\n",
      "Average Metric: 12.0 / 23  (52.2): 100%|██████████| 23/23 [00:46<00:00,  2.03s/it]\n",
      "2024/11/14 13:07:50 INFO dspy.evaluate.evaluate: Average Metric: 12.0 / 23 (52.2%)\n",
      "2024/11/14 13:07:50 INFO dspy.teleprompt.mipro_optimizer_v2: Score: 52.17 with parameters ['Predictor 0: Instruction 2'].\n",
      "2024/11/14 13:07:50 INFO dspy.teleprompt.mipro_optimizer_v2: Scores so far: [65.22, 69.57, 65.22, 52.17]\n",
      "2024/11/14 13:07:50 INFO dspy.teleprompt.mipro_optimizer_v2: Best score so far: 69.57\n",
      "2024/11/14 13:07:50 INFO dspy.teleprompt.mipro_optimizer_v2: =======================\n",
      "\n",
      "\n",
      "2024/11/14 13:07:50 INFO dspy.teleprompt.mipro_optimizer_v2: ===== Trial 4 / 7 =====\n",
      "Average Metric: 15.0 / 23  (65.2): 100%|██████████| 23/23 [00:00<00:00, 1106.65it/s]\n",
      "2024/11/14 13:07:50 INFO dspy.evaluate.evaluate: Average Metric: 15.0 / 23 (65.2%)\n",
      "2024/11/14 13:07:50 INFO dspy.teleprompt.mipro_optimizer_v2: Score: 65.22 with parameters ['Predictor 0: Instruction 5'].\n",
      "2024/11/14 13:07:50 INFO dspy.teleprompt.mipro_optimizer_v2: Scores so far: [65.22, 69.57, 65.22, 52.17, 65.22]\n",
      "2024/11/14 13:07:50 INFO dspy.teleprompt.mipro_optimizer_v2: Best score so far: 69.57\n",
      "2024/11/14 13:07:50 INFO dspy.teleprompt.mipro_optimizer_v2: =======================\n",
      "\n",
      "\n",
      "2024/11/14 13:07:50 INFO dspy.teleprompt.mipro_optimizer_v2: ===== Trial 5 / 7 =====\n",
      "Average Metric: 16.0 / 23  (69.6): 100%|██████████| 23/23 [00:52<00:00,  2.27s/it]\n",
      "2024/11/14 13:08:43 INFO dspy.evaluate.evaluate: Average Metric: 16.0 / 23 (69.6%)\n",
      "2024/11/14 13:08:43 INFO dspy.teleprompt.mipro_optimizer_v2: Score: 69.57 with parameters ['Predictor 0: Instruction 4'].\n",
      "2024/11/14 13:08:43 INFO dspy.teleprompt.mipro_optimizer_v2: Scores so far: [65.22, 69.57, 65.22, 52.17, 65.22, 69.57]\n",
      "2024/11/14 13:08:43 INFO dspy.teleprompt.mipro_optimizer_v2: Best score so far: 69.57\n",
      "2024/11/14 13:08:43 INFO dspy.teleprompt.mipro_optimizer_v2: =======================\n",
      "\n",
      "\n",
      "2024/11/14 13:08:43 INFO dspy.teleprompt.mipro_optimizer_v2: ===== Trial 6 / 7 =====\n",
      "Average Metric: 16.0 / 23  (69.6): 100%|██████████| 23/23 [00:00<00:00, 779.26it/s]\n",
      "2024/11/14 13:08:43 INFO dspy.evaluate.evaluate: Average Metric: 16.0 / 23 (69.6%)\n",
      "2024/11/14 13:08:43 INFO dspy.teleprompt.mipro_optimizer_v2: Score: 69.57 with parameters ['Predictor 0: Instruction 1'].\n",
      "2024/11/14 13:08:43 INFO dspy.teleprompt.mipro_optimizer_v2: Scores so far: [65.22, 69.57, 65.22, 52.17, 65.22, 69.57, 69.57]\n",
      "2024/11/14 13:08:43 INFO dspy.teleprompt.mipro_optimizer_v2: Best score so far: 69.57\n",
      "2024/11/14 13:08:43 INFO dspy.teleprompt.mipro_optimizer_v2: =======================\n",
      "\n",
      "\n",
      "2024/11/14 13:08:43 INFO dspy.teleprompt.mipro_optimizer_v2: ===== Trial 7 / 7 =====\n",
      "Average Metric: 18.0 / 23  (78.3): 100%|██████████| 23/23 [00:58<00:00,  2.56s/it]\n",
      "2024/11/14 13:09:42 INFO dspy.evaluate.evaluate: Average Metric: 18.0 / 23 (78.3%)\n",
      "2024/11/14 13:09:42 INFO dspy.teleprompt.mipro_optimizer_v2: \u001b[92mBest full score so far!\u001b[0m Score: 78.26\n",
      "2024/11/14 13:09:42 INFO dspy.teleprompt.mipro_optimizer_v2: Score: 78.26 with parameters ['Predictor 0: Instruction 6'].\n",
      "2024/11/14 13:09:42 INFO dspy.teleprompt.mipro_optimizer_v2: Scores so far: [65.22, 69.57, 65.22, 52.17, 65.22, 69.57, 69.57, 78.26]\n",
      "2024/11/14 13:09:42 INFO dspy.teleprompt.mipro_optimizer_v2: Best score so far: 78.26\n",
      "2024/11/14 13:09:42 INFO dspy.teleprompt.mipro_optimizer_v2: =======================\n",
      "\n",
      "\n",
      "2024/11/14 13:09:42 INFO dspy.teleprompt.mipro_optimizer_v2: Returning best identified program with score 78.26!\n"
     ]
    }
   ],
   "source": [
    "# prompt_of_field_to_optimize = \"customer_rejects_at_least_once\"\n",
    "# semantic = False\n",
    "\n",
    "# # Load dataset and a target field (to avoid giving spurious information)\n",
    "# dataset = BonbozTelesalesCall(\n",
    "#     path=\"/home/anhnht/Anywhere-LLM/data/bonboz_call_analysis.csv\",\n",
    "#     selected_output_field=prompt_of_field_to_optimize,\n",
    "# )\n",
    "# metric = BonbozTelesalesScore(\n",
    "#     selected_output_field=prompt_of_field_to_optimize, semantic=semantic\n",
    "# )\n",
    "\n",
    "\n",
    "# class ProgSig(dspy.Signature):\n",
    "#     \"\"\"As a skilled Vietnamese language analyst for a beauty clinic, your role is to meticulously examine call transcripts between the clinic's agent and potential clients. Your main goal is to assess whether the customer rejects the offer from the telesales agent at least once in the call. Remain alert to potential diarization errors and incorrectly attributed speaker tags within the transcript, and make informed assumptions when faced with unclear situations. Provide a comprehensive analysis by including specific quotes from the transcript to substantiate your findings. Ensure that text is enclosed in double quotes and timestamps in square brackets.\"\"\"\n",
    "\n",
    "#     transcript = dspy.InputField(format=\"str\")\n",
    "\n",
    "#     customer_rejects_at_least_once: bool = dspy.OutputField()\n",
    "\n",
    "\n",
    "# program = dspy.ChainOfThought(ProgSig)\n",
    "\n",
    "# teleprompter = MIPROv2(\n",
    "#     metric=metric, max_bootstrapped_demos=0, max_labeled_demos=0, auto=\"light\"\n",
    "# )\n",
    "\n",
    "# optimized_program = teleprompter.compile(\n",
    "#     program,\n",
    "#     trainset=dataset.train,\n",
    "#     valset=dataset.dev,\n",
    "#     requires_permission_to_run=False,\n",
    "# )\n",
    "# optimized_program.save(\"optimized_prompt.json\")"
   ]
  },
  {
   "cell_type": "code",
   "execution_count": null,
   "metadata": {},
   "outputs": [
    {
     "name": "stderr",
     "output_type": "stream",
     "text": [
      "2024/11/13 17:02:52 INFO dspy.teleprompt.mipro_optimizer_v2: \n",
      "RUNNING WITH THE FOLLOWING LIGHT AUTO RUN SETTINGS:\n",
      "num_trials: 7\n",
      "minibatch: False\n",
      "num_candidates: 7\n",
      "valset size: 23\n",
      "\n",
      "2024/11/13 17:02:52 INFO dspy.teleprompt.mipro_optimizer_v2: \n",
      "==> STEP 1: BOOTSTRAP FEWSHOT EXAMPLES <==\n",
      "2024/11/13 17:02:52 INFO dspy.teleprompt.mipro_optimizer_v2: These will be used for informing instruction proposal.\n",
      "\n",
      "2024/11/13 17:02:52 INFO dspy.teleprompt.mipro_optimizer_v2: Bootstrapping N=7 sets of demonstrations...\n"
     ]
    },
    {
     "name": "stdout",
     "output_type": "stream",
     "text": [
      "Bootstrapping set 1/7\n",
      "Bootstrapping set 2/7\n"
     ]
    },
    {
     "name": "stderr",
     "output_type": "stream",
     "text": [
      " 18%|█▊        | 4/22 [00:25<01:53,  6.32s/it]\n"
     ]
    },
    {
     "name": "stdout",
     "output_type": "stream",
     "text": [
      "Bootstrapped 3 full traces after 4 examples for up to 1 rounds, amounting to 4 attempts.\n",
      "Bootstrapping set 3/7\n"
     ]
    },
    {
     "name": "stderr",
     "output_type": "stream",
     "text": [
      " 14%|█▎        | 3/22 [00:10<01:04,  3.37s/it]\n"
     ]
    },
    {
     "name": "stdout",
     "output_type": "stream",
     "text": [
      "Bootstrapped 3 full traces after 3 examples for up to 1 rounds, amounting to 3 attempts.\n",
      "Bootstrapping set 4/7\n"
     ]
    },
    {
     "name": "stderr",
     "output_type": "stream",
     "text": [
      " 18%|█▊        | 4/22 [00:07<00:32,  1.83s/it]\n"
     ]
    },
    {
     "name": "stdout",
     "output_type": "stream",
     "text": [
      "Bootstrapped 3 full traces after 4 examples for up to 1 rounds, amounting to 4 attempts.\n",
      "Bootstrapping set 5/7\n"
     ]
    },
    {
     "name": "stderr",
     "output_type": "stream",
     "text": [
      " 14%|█▎        | 3/22 [00:09<00:59,  3.13s/it]\n"
     ]
    },
    {
     "name": "stdout",
     "output_type": "stream",
     "text": [
      "Bootstrapped 3 full traces after 3 examples for up to 1 rounds, amounting to 3 attempts.\n",
      "Bootstrapping set 6/7\n"
     ]
    },
    {
     "name": "stderr",
     "output_type": "stream",
     "text": [
      "  5%|▍         | 1/22 [00:00<00:00, 333.89it/s]\n"
     ]
    },
    {
     "name": "stdout",
     "output_type": "stream",
     "text": [
      "Bootstrapped 1 full traces after 1 examples for up to 1 rounds, amounting to 1 attempts.\n",
      "Bootstrapping set 7/7\n"
     ]
    },
    {
     "name": "stderr",
     "output_type": "stream",
     "text": [
      "  9%|▉         | 2/22 [00:00<00:00, 401.87it/s]\n",
      "2024/11/13 17:03:44 INFO dspy.teleprompt.mipro_optimizer_v2: \n",
      "==> STEP 2: PROPOSE INSTRUCTION CANDIDATES <==\n",
      "2024/11/13 17:03:44 INFO dspy.teleprompt.mipro_optimizer_v2: We will use the few-shot examples from the previous step, a generated dataset summary, a summary of the program code, and a randomly selected prompting tip to propose instructions.\n"
     ]
    },
    {
     "name": "stdout",
     "output_type": "stream",
     "text": [
      "Bootstrapped 2 full traces after 2 examples for up to 1 rounds, amounting to 2 attempts.\n"
     ]
    },
    {
     "name": "stderr",
     "output_type": "stream",
     "text": [
      "2024/11/13 17:04:09 INFO dspy.teleprompt.mipro_optimizer_v2: \n",
      "Proposing instructions...\n",
      "\n",
      "2024/11/13 17:05:39 INFO dspy.teleprompt.mipro_optimizer_v2: Proposed Instructions for Predictor 0:\n",
      "\n",
      "2024/11/13 17:05:39 INFO dspy.teleprompt.mipro_optimizer_v2: 0: As a proficient Vietnamese assistant for a beauty clinic, your task is to analyze call transcripts between an agent and a potential customer. Your primary objective is to determine if customer is reluctant with the offer due to distance. Be vigilant of potential diarization errors and misassigned speaker tags in the transcript, making educated guesses in ambiguous situations. Provide a detailed reasoning, including specific quotes from the transcript, to support your conclusions. Use double quotes for text and square brackets for timestamps.\n",
      "\n",
      "2024/11/13 17:05:39 INFO dspy.teleprompt.mipro_optimizer_v2: 1: You are a skilled Vietnamese language analyst specializing in beauty clinic marketing interactions. Your task is to review call transcripts between a beauty clinic agent and potential customers to identify if the customer's hesitation to accept an offer is influenced by the clinic's location. Carefully examine the dialogue for indications of reluctance related to travel distance, considering potential diarization errors and misassigned speaker tags. In ambiguous cases, make educated guesses. Provide a thorough explanation, citing specific dialogue and timestamps to substantiate your findings. Use double quotes for dialogue and square brackets for timestamps.\n",
      "\n",
      "2024/11/13 17:05:39 INFO dspy.teleprompt.mipro_optimizer_v2: 2: As a skilled Vietnamese assistant for a beauty clinic, your task is to meticulously review call transcripts between a clinic agent and a potential customer. Your main goal is to assess whether the customer's hesitance in accepting an offer is due to the clinic's location. Pay close attention to any potential diarization errors or misassigned speaker tags within the transcript, and make informed assumptions in cases of ambiguity. Provide a comprehensive analysis, citing specific quotes from the transcript to substantiate your conclusions. Use double quotes for citing text and square brackets for timestamps. Your final output should include both a detailed reasoning and a boolean indicator of whether the distance is a factor in the customer's reluctance.\n",
      "\n",
      "2024/11/13 17:05:39 INFO dspy.teleprompt.mipro_optimizer_v2: 3: Imagine you are a skilled Vietnamese assistant working for a beauty clinic, tasked with analyzing call transcripts to identify potential customer hesitations. Your critical mission is to determine if a customer's reluctance to accept a beauty treatment offer is primarily due to the distance to the clinic. This is a high-stakes scenario, as understanding this reluctance can significantly impact the clinic's marketing strategy and customer outreach. Carefully examine the transcripts for any signs of distance-related reluctance, keeping an eye out for diarization errors and misassigned speaker tags. Make informed decisions in ambiguous situations and provide a comprehensive reasoning with precise quotes from the transcript, using double quotes for text and square brackets for timestamps. Your analysis will guide the clinic's efforts in addressing geographical barriers and improving customer engagement.\n",
      "\n",
      "2024/11/13 17:05:39 INFO dspy.teleprompt.mipro_optimizer_v2: 4: As a skilled Vietnamese language analyst for a beauty clinic, your role is to meticulously examine call transcripts between the clinic's agent and potential clients. Your main goal is to assess whether the client's hesitance to accept the offer is influenced by the geographical distance to the clinic. Remain alert to potential diarization errors and incorrectly attributed speaker tags within the transcript, and make informed assumptions when faced with unclear situations. Provide a comprehensive analysis by including specific quotes from the transcript to substantiate your findings. Ensure that text is enclosed in double quotes and timestamps in square brackets.\n",
      "\n",
      "2024/11/13 17:05:39 INFO dspy.teleprompt.mipro_optimizer_v2: 5: As a proficient Vietnamese assistant for a beauty clinic, your task is to thoroughly examine call transcripts between a clinic agent and a potential customer. Your main goal is to identify if the customer's reluctance to accept the offer is due to the distance of the clinic. Pay close attention to potential diarization errors and misassigned speaker tags, and make educated guesses when situations are ambiguous. Provide a comprehensive reasoning that includes specific quotes from the transcript to back up your conclusions. Ensure you use double quotes for text and square brackets for timestamps to maintain clarity and structure in your analysis.\n",
      "\n",
      "2024/11/13 17:05:39 INFO dspy.teleprompt.mipro_optimizer_v2: 6: As a skilled Vietnamese assistant for a beauty clinic, your role is to meticulously analyze call transcripts between a marketing agent and a potential customer to assess whether the customer's hesitation to accept the offer is primarily due to the distance from the clinic. Carefully examine the dialogue for any indications of reluctance related to location, while being aware of potential diarization errors and misassigned speaker tags. In cases of ambiguity, make informed guesses to ensure accurate interpretation. Provide a comprehensive reasoning that includes specific quotes from the transcript, accompanied by timestamps in square brackets, to substantiate your conclusions. Your analysis should ultimately yield a boolean result indicating whether distance is a significant factor in the customer's reluctance.\n",
      "\n",
      "2024/11/13 17:05:39 INFO dspy.teleprompt.mipro_optimizer_v2: \n",
      "\n",
      "2024/11/13 17:05:39 INFO dspy.teleprompt.mipro_optimizer_v2: Evaluating the default program...\n",
      "\n",
      "Average Metric: 19.0 / 23  (82.6): 100%|██████████| 23/23 [00:54<00:00,  2.37s/it]\n",
      "2024/11/13 17:06:34 INFO dspy.evaluate.evaluate: Average Metric: 19.0 / 23 (82.6%)\n",
      "2024/11/13 17:06:34 INFO dspy.teleprompt.mipro_optimizer_v2: Default program score: 82.61\n",
      "\n",
      "2024/11/13 17:06:34 INFO dspy.teleprompt.mipro_optimizer_v2: ==> STEP 3: FINDING OPTIMAL PROMPT PARAMETERS <==\n",
      "2024/11/13 17:06:34 INFO dspy.teleprompt.mipro_optimizer_v2: We will evaluate the program over a series of trials with different combinations of instructions and few-shot examples to find the optimal combination using Bayesian Optimization.\n",
      "\n",
      "/home/anhnht/miniforge3/envs/llm/lib/python3.11/site-packages/optuna/samplers/_tpe/sampler.py:319: ExperimentalWarning: ``multivariate`` option is an experimental feature. The interface can change in the future.\n",
      "  warnings.warn(\n",
      "2024/11/13 17:06:34 INFO dspy.teleprompt.mipro_optimizer_v2: ===== Trial 1 / 7 =====\n",
      "Average Metric: 20.0 / 23  (87.0): 100%|██████████| 23/23 [00:58<00:00,  2.53s/it] \n",
      "2024/11/13 17:07:32 INFO dspy.evaluate.evaluate: Average Metric: 20.0 / 23 (87.0%)\n",
      "2024/11/13 17:07:32 INFO dspy.teleprompt.mipro_optimizer_v2: \u001b[92mBest full score so far!\u001b[0m Score: 86.96\n",
      "2024/11/13 17:07:32 INFO dspy.teleprompt.mipro_optimizer_v2: Score: 86.96 with parameters ['Predictor 0: Instruction 1'].\n",
      "2024/11/13 17:07:32 INFO dspy.teleprompt.mipro_optimizer_v2: Scores so far: [82.61, 86.96]\n",
      "2024/11/13 17:07:32 INFO dspy.teleprompt.mipro_optimizer_v2: Best score so far: 86.96\n",
      "2024/11/13 17:07:32 INFO dspy.teleprompt.mipro_optimizer_v2: =======================\n",
      "\n",
      "\n",
      "2024/11/13 17:07:32 INFO dspy.teleprompt.mipro_optimizer_v2: ===== Trial 2 / 7 =====\n",
      "Average Metric: 20.0 / 23  (87.0): 100%|██████████| 23/23 [00:48<00:00,  2.12s/it] \n",
      "2024/11/13 17:08:21 INFO dspy.evaluate.evaluate: Average Metric: 20.0 / 23 (87.0%)\n",
      "2024/11/13 17:08:21 INFO dspy.teleprompt.mipro_optimizer_v2: Score: 86.96 with parameters ['Predictor 0: Instruction 5'].\n",
      "2024/11/13 17:08:21 INFO dspy.teleprompt.mipro_optimizer_v2: Scores so far: [82.61, 86.96, 86.96]\n",
      "2024/11/13 17:08:21 INFO dspy.teleprompt.mipro_optimizer_v2: Best score so far: 86.96\n",
      "2024/11/13 17:08:21 INFO dspy.teleprompt.mipro_optimizer_v2: =======================\n",
      "\n",
      "\n",
      "2024/11/13 17:08:21 INFO dspy.teleprompt.mipro_optimizer_v2: ===== Trial 3 / 7 =====\n",
      "Average Metric: 20.0 / 23  (87.0): 100%|██████████| 23/23 [00:44<00:00,  1.94s/it] \n",
      "2024/11/13 17:09:06 INFO dspy.evaluate.evaluate: Average Metric: 20.0 / 23 (87.0%)\n",
      "2024/11/13 17:09:06 INFO dspy.teleprompt.mipro_optimizer_v2: Score: 86.96 with parameters ['Predictor 0: Instruction 2'].\n",
      "2024/11/13 17:09:06 INFO dspy.teleprompt.mipro_optimizer_v2: Scores so far: [82.61, 86.96, 86.96, 86.96]\n",
      "2024/11/13 17:09:06 INFO dspy.teleprompt.mipro_optimizer_v2: Best score so far: 86.96\n",
      "2024/11/13 17:09:06 INFO dspy.teleprompt.mipro_optimizer_v2: =======================\n",
      "\n",
      "\n",
      "2024/11/13 17:09:06 INFO dspy.teleprompt.mipro_optimizer_v2: ===== Trial 4 / 7 =====\n",
      "Average Metric: 20.0 / 23  (87.0): 100%|██████████| 23/23 [00:00<00:00, 790.77it/s] \n",
      "2024/11/13 17:09:06 INFO dspy.evaluate.evaluate: Average Metric: 20.0 / 23 (87.0%)\n",
      "2024/11/13 17:09:06 INFO dspy.teleprompt.mipro_optimizer_v2: Score: 86.96 with parameters ['Predictor 0: Instruction 5'].\n",
      "2024/11/13 17:09:06 INFO dspy.teleprompt.mipro_optimizer_v2: Scores so far: [82.61, 86.96, 86.96, 86.96, 86.96]\n",
      "2024/11/13 17:09:06 INFO dspy.teleprompt.mipro_optimizer_v2: Best score so far: 86.96\n",
      "2024/11/13 17:09:06 INFO dspy.teleprompt.mipro_optimizer_v2: =======================\n",
      "\n",
      "\n",
      "2024/11/13 17:09:06 INFO dspy.teleprompt.mipro_optimizer_v2: ===== Trial 5 / 7 =====\n",
      "Average Metric: 21.0 / 23  (91.3): 100%|██████████| 23/23 [01:03<00:00,  2.78s/it] \n",
      "2024/11/13 17:10:10 INFO dspy.evaluate.evaluate: Average Metric: 21.0 / 23 (91.3%)\n",
      "2024/11/13 17:10:10 INFO dspy.teleprompt.mipro_optimizer_v2: \u001b[92mBest full score so far!\u001b[0m Score: 91.3\n",
      "2024/11/13 17:10:10 INFO dspy.teleprompt.mipro_optimizer_v2: Score: 91.3 with parameters ['Predictor 0: Instruction 4'].\n",
      "2024/11/13 17:10:10 INFO dspy.teleprompt.mipro_optimizer_v2: Scores so far: [82.61, 86.96, 86.96, 86.96, 86.96, 91.3]\n",
      "2024/11/13 17:10:10 INFO dspy.teleprompt.mipro_optimizer_v2: Best score so far: 91.3\n",
      "2024/11/13 17:10:10 INFO dspy.teleprompt.mipro_optimizer_v2: =======================\n",
      "\n",
      "\n",
      "2024/11/13 17:10:10 INFO dspy.teleprompt.mipro_optimizer_v2: ===== Trial 6 / 7 =====\n",
      "Average Metric: 20.0 / 23  (87.0): 100%|██████████| 23/23 [00:00<00:00, 519.14it/s]\n",
      "2024/11/13 17:10:10 INFO dspy.evaluate.evaluate: Average Metric: 20.0 / 23 (87.0%)\n",
      "2024/11/13 17:10:10 INFO dspy.teleprompt.mipro_optimizer_v2: Score: 86.96 with parameters ['Predictor 0: Instruction 1'].\n",
      "2024/11/13 17:10:10 INFO dspy.teleprompt.mipro_optimizer_v2: Scores so far: [82.61, 86.96, 86.96, 86.96, 86.96, 91.3, 86.96]\n",
      "2024/11/13 17:10:10 INFO dspy.teleprompt.mipro_optimizer_v2: Best score so far: 91.3\n",
      "2024/11/13 17:10:10 INFO dspy.teleprompt.mipro_optimizer_v2: =======================\n",
      "\n",
      "\n",
      "2024/11/13 17:10:10 INFO dspy.teleprompt.mipro_optimizer_v2: ===== Trial 7 / 7 =====\n",
      "Average Metric: 20.0 / 23  (87.0): 100%|██████████| 23/23 [00:45<00:00,  2.00s/it] \n",
      "2024/11/13 17:10:56 INFO dspy.evaluate.evaluate: Average Metric: 20.0 / 23 (87.0%)\n",
      "2024/11/13 17:10:56 INFO dspy.teleprompt.mipro_optimizer_v2: Score: 86.96 with parameters ['Predictor 0: Instruction 6'].\n",
      "2024/11/13 17:10:56 INFO dspy.teleprompt.mipro_optimizer_v2: Scores so far: [82.61, 86.96, 86.96, 86.96, 86.96, 91.3, 86.96, 86.96]\n",
      "2024/11/13 17:10:56 INFO dspy.teleprompt.mipro_optimizer_v2: Best score so far: 91.3\n",
      "2024/11/13 17:10:56 INFO dspy.teleprompt.mipro_optimizer_v2: =======================\n",
      "\n",
      "\n",
      "2024/11/13 17:10:56 INFO dspy.teleprompt.mipro_optimizer_v2: Returning best identified program with score 91.3!\n"
     ]
    }
   ],
   "source": [
    "# prompt_of_field_to_optimize = \"customer_reluctant_due_to_distance\"\n",
    "# semantic = False\n",
    "\n",
    "# # Load dataset and a target field (to avoid giving spurious information)\n",
    "# dataset = BonbozTelesalesCall(\n",
    "#     path=\"/home/anhnht/Anywhere-LLM/data/bonboz_call_analysis.csv\",\n",
    "#     selected_output_field=prompt_of_field_to_optimize,\n",
    "# )\n",
    "# metric = BonbozTelesalesScore(\n",
    "#     selected_output_field=prompt_of_field_to_optimize, semantic=semantic\n",
    "# )\n",
    "\n",
    "\n",
    "# class ProgSig(dspy.Signature):\n",
    "#     \"\"\"As a proficient Vietnamese assistant for a beauty clinic, your task is to analyze call transcripts between an agent and a potential customer. Your primary objective is to determine if customer is reluctant with the offer due to distance. Be vigilant of potential diarization errors and misassigned speaker tags in the transcript, making educated guesses in ambiguous situations. Provide a detailed reasoning, including specific quotes from the transcript, to support your conclusions. Use double quotes for text and square brackets for timestamps.\"\"\"\n",
    "\n",
    "#     transcript = dspy.InputField(format=\"str\")\n",
    "\n",
    "#     customer_reluctant_due_to_distance: bool = dspy.OutputField()\n",
    "\n",
    "\n",
    "# program = dspy.ChainOfThought(ProgSig)\n",
    "\n",
    "# teleprompter = MIPROv2(\n",
    "#     metric=metric, max_bootstrapped_demos=0, max_labeled_demos=0, auto=\"light\"\n",
    "# )\n",
    "\n",
    "# optimized_program = teleprompter.compile(\n",
    "#     program,\n",
    "#     trainset=dataset.train,\n",
    "#     valset=dataset.dev,\n",
    "#     requires_permission_to_run=False,\n",
    "# )\n",
    "# optimized_program.save(\"optimized_prompt.json\")"
   ]
  },
  {
   "cell_type": "code",
   "execution_count": null,
   "metadata": {},
   "outputs": [
    {
     "name": "stderr",
     "output_type": "stream",
     "text": [
      "2024/11/14 12:02:28 INFO dspy.teleprompt.mipro_optimizer_v2: \n",
      "RUNNING WITH THE FOLLOWING LIGHT AUTO RUN SETTINGS:\n",
      "num_trials: 7\n",
      "minibatch: False\n",
      "num_candidates: 7\n",
      "valset size: 23\n",
      "\n",
      "2024/11/14 12:02:28 INFO dspy.teleprompt.mipro_optimizer_v2: \n",
      "==> STEP 1: BOOTSTRAP FEWSHOT EXAMPLES <==\n",
      "2024/11/14 12:02:28 INFO dspy.teleprompt.mipro_optimizer_v2: These will be used for informing instruction proposal.\n",
      "\n",
      "2024/11/14 12:02:28 INFO dspy.teleprompt.mipro_optimizer_v2: Bootstrapping N=7 sets of demonstrations...\n"
     ]
    },
    {
     "name": "stdout",
     "output_type": "stream",
     "text": [
      "Bootstrapping set 1/7\n",
      "Bootstrapping set 2/7\n"
     ]
    },
    {
     "name": "stderr",
     "output_type": "stream",
     "text": [
      "  0%|          | 0/22 [00:00<?, ?it/s]"
     ]
    },
    {
     "name": "stderr",
     "output_type": "stream",
     "text": [
      " 18%|█▊        | 4/22 [00:20<01:30,  5.04s/it]\n"
     ]
    },
    {
     "name": "stdout",
     "output_type": "stream",
     "text": [
      "Bootstrapped 3 full traces after 4 examples for up to 1 rounds, amounting to 4 attempts.\n",
      "Bootstrapping set 3/7\n"
     ]
    },
    {
     "name": "stderr",
     "output_type": "stream",
     "text": [
      " 14%|█▎        | 3/22 [00:08<00:50,  2.68s/it]\n"
     ]
    },
    {
     "name": "stdout",
     "output_type": "stream",
     "text": [
      "Bootstrapped 3 full traces after 3 examples for up to 1 rounds, amounting to 3 attempts.\n",
      "Bootstrapping set 4/7\n"
     ]
    },
    {
     "name": "stderr",
     "output_type": "stream",
     "text": [
      " 14%|█▎        | 3/22 [00:03<00:23,  1.22s/it]\n"
     ]
    },
    {
     "name": "stdout",
     "output_type": "stream",
     "text": [
      "Bootstrapped 3 full traces after 3 examples for up to 1 rounds, amounting to 3 attempts.\n",
      "Bootstrapping set 5/7\n"
     ]
    },
    {
     "name": "stderr",
     "output_type": "stream",
     "text": [
      " 27%|██▋       | 6/22 [00:18<00:50,  3.14s/it]\n"
     ]
    },
    {
     "name": "stdout",
     "output_type": "stream",
     "text": [
      "Bootstrapped 3 full traces after 6 examples for up to 1 rounds, amounting to 6 attempts.\n",
      "Bootstrapping set 6/7\n"
     ]
    },
    {
     "name": "stderr",
     "output_type": "stream",
     "text": [
      "  5%|▍         | 1/22 [00:00<00:00, 718.20it/s]\n"
     ]
    },
    {
     "name": "stdout",
     "output_type": "stream",
     "text": [
      "Bootstrapped 1 full traces after 1 examples for up to 1 rounds, amounting to 1 attempts.\n",
      "Bootstrapping set 7/7\n"
     ]
    },
    {
     "name": "stderr",
     "output_type": "stream",
     "text": [
      "  9%|▉         | 2/22 [00:00<00:00, 489.05it/s]\n",
      "2024/11/14 12:03:19 INFO dspy.teleprompt.mipro_optimizer_v2: \n",
      "==> STEP 2: PROPOSE INSTRUCTION CANDIDATES <==\n",
      "2024/11/14 12:03:19 INFO dspy.teleprompt.mipro_optimizer_v2: We will use the few-shot examples from the previous step, a generated dataset summary, a summary of the program code, and a randomly selected prompting tip to propose instructions.\n"
     ]
    },
    {
     "name": "stdout",
     "output_type": "stream",
     "text": [
      "Bootstrapped 2 full traces after 2 examples for up to 1 rounds, amounting to 2 attempts.\n"
     ]
    },
    {
     "name": "stderr",
     "output_type": "stream",
     "text": [
      "2024/11/14 12:03:44 INFO dspy.teleprompt.mipro_optimizer_v2: \n",
      "Proposing instructions...\n",
      "\n",
      "2024/11/14 12:05:12 INFO dspy.teleprompt.mipro_optimizer_v2: Proposed Instructions for Predictor 0:\n",
      "\n",
      "2024/11/14 12:05:12 INFO dspy.teleprompt.mipro_optimizer_v2: 0: As a skilled Vietnamese language analyst for a beauty clinic, your role is to meticulously examine call transcripts between the clinic's agent and potential clients. Your main goal is to assess whether the customer is skeptical of free service or fears additional purchases. Remain alert to potential diarization errors and incorrectly attributed speaker tags within the transcript, and make informed assumptions when faced with unclear situations. Provide a comprehensive analysis by including specific quotes from the transcript to substantiate your findings. Ensure that text is enclosed in double quotes and timestamps in square brackets.\n",
      "\n",
      "2024/11/14 12:05:12 INFO dspy.teleprompt.mipro_optimizer_v2: 1: You are a Vietnamese language analyst specializing in promotional communication strategies for a beauty clinic. Your task is to thoroughly review call transcripts between the clinic's representatives and potential clients. Focus on identifying any signs of customer skepticism about the free service offered or concerns about potential additional purchases. Be vigilant for any diarization errors or incorrect speaker tags within the transcript. When the dialogue is unclear, use your expertise to make informed assumptions. Provide a detailed analysis with specific quotes from the transcript to support your conclusions, ensuring that all quoted text is enclosed in double quotes and any timestamps are in square brackets. Your analysis will guide the clinic in refining their communication approach to better address customer concerns and build trust.\n",
      "\n",
      "2024/11/14 12:05:12 INFO dspy.teleprompt.mipro_optimizer_v2: 2: As a Vietnamese language analyst for a beauty clinic, your task is to analyze call transcripts between the clinic's agent and potential clients to evaluate the level of customer skepticism regarding free services or fears of additional purchases. Carefully examine the dialogue, paying attention to any signs of doubt or concern expressed by the customer. Be mindful of any diarization errors or misattributed speaker tags, and make informed assumptions when the context is unclear. Provide a detailed analysis supported by specific quotes from the transcript, ensuring that text is enclosed in double quotes and timestamps in square brackets. Your goal is to determine whether the customer is skeptical or apprehensive, and to convey your findings clearly and accurately.\n",
      "\n",
      "2024/11/14 12:05:12 INFO dspy.teleprompt.mipro_optimizer_v2: 3: Imagine you are tasked with the crucial role of a Vietnamese language analyst for a beauty clinic, where your analysis directly impacts the clinic's ability to build trust and successfully engage potential clients. Your mission is to thoroughly examine call transcripts between the clinic's representatives and potential clients to determine if there is customer skepticism regarding free services or concerns about additional purchases. This is vital as it influences the clinic's strategy to address and overcome customer doubts. Pay close attention to diarization errors and misattributed speaker tags, as these could lead to misunderstandings. Make informed assumptions in ambiguous situations, ensuring your analysis is backed by specific quotes from the transcript, enclosed in double quotes, and timestamps in square brackets. Your findings will not only reveal customer sentiment but also guide the clinic in refining its communication strategies.\n",
      "\n",
      "2024/11/14 12:05:12 INFO dspy.teleprompt.mipro_optimizer_v2: 4: You are a proficient Vietnamese language analyst working for a beauty clinic. Your task is to thoroughly analyze call transcripts between the clinic's representative and potential customers. Your primary objective is to determine if the customer exhibits skepticism towards the free service offered or expresses concerns about potential additional purchases. Pay close attention to any diarization errors or misattributed speaker tags in the transcript, and use your judgment to make informed assumptions in ambiguous situations. Your analysis should be detailed and supported by specific quotes from the transcript, ensuring that text is enclosed in double quotes and timestamps are in square brackets.\n",
      "\n",
      "2024/11/14 12:05:12 INFO dspy.teleprompt.mipro_optimizer_v2: 5: As a proficient Vietnamese language analyst tasked with evaluating beauty clinic call transcripts, your objective is to determine if the customer exhibits skepticism towards a free service or has concerns about potential additional purchases. Carefully examine the transcript for any indications of doubt or apprehension, paying close attention to any diarization errors or misattributed speaker tags. When the dialogue is unclear, make reasoned assumptions. Support your analysis by extracting specific quotes from the transcript, ensuring quotes are in double quotes and timestamps in square brackets. Provide a detailed reasoning for your assessment and conclude with a boolean indication of the customer's skepticism or fear of additional costs.\n",
      "\n",
      "2024/11/14 12:05:12 INFO dspy.teleprompt.mipro_optimizer_v2: 6: As a Vietnamese language analyst specializing in customer interactions for a beauty clinic, your task is to thoroughly analyze call transcripts between the clinic's representatives and potential clients. Focus on identifying any skepticism from the customer regarding the free services offered or concerns about potential additional purchases. Pay close attention to diarization errors and ensure speakers are correctly identified. When faced with ambiguous parts of the transcript, make informed assumptions. Use specific quotes from the conversation, enclosed in double quotes, and include timestamps in square brackets to support your analysis. Your goal is to provide a detailed reasoning that concludes with a boolean assessment indicating whether the customer is skeptical or fearful of additional costs.\n",
      "\n",
      "2024/11/14 12:05:12 INFO dspy.teleprompt.mipro_optimizer_v2: \n",
      "\n",
      "2024/11/14 12:05:12 INFO dspy.teleprompt.mipro_optimizer_v2: Evaluating the default program...\n",
      "\n",
      "Average Metric: 10.0 / 16  (62.5):  70%|██████▉   | 16/23 [00:32<00:16,  2.30s/it]2024/11/14 12:05:45 ERROR dspy.evaluate.evaluate: Error for example in dev set: \t\t litellm.RateLimitError: AzureException RateLimitError - Error code: 429 - {'error': {'code': '429', 'message': 'Requests to the ChatCompletions_Create Operation under Azure OpenAI API version 2024-02-15-preview have exceeded token rate limit of your current OpenAI S0 pricing tier. Please retry after 3 seconds. Please go here: https://aka.ms/oai/quotaincrease if you would like to further increase the default rate limit.'}}. Set `provide_traceback=True` to see the stack trace.\n",
      "Average Metric: 13.0 / 21  (61.9):  91%|█████████▏| 21/23 [00:39<00:02,  1.41s/it]2024/11/14 12:05:59 ERROR dspy.evaluate.evaluate: Error for example in dev set: \t\t litellm.RateLimitError: AzureException RateLimitError - Error code: 429 - {'error': {'code': '429', 'message': 'Requests to the ChatCompletions_Create Operation under Azure OpenAI API version 2024-02-15-preview have exceeded token rate limit of your current OpenAI S0 pricing tier. Please retry after 2 seconds. Please go here: https://aka.ms/oai/quotaincrease if you would like to further increase the default rate limit.'}}. Set `provide_traceback=True` to see the stack trace.\n",
      "Average Metric: 14.0 / 23  (60.9): 100%|██████████| 23/23 [00:49<00:00,  2.14s/it]\n",
      "2024/11/14 12:06:01 INFO dspy.evaluate.evaluate: Average Metric: 14.0 / 23 (60.9%)\n",
      "2024/11/14 12:06:01 INFO dspy.teleprompt.mipro_optimizer_v2: Default program score: 60.87\n",
      "\n",
      "2024/11/14 12:06:01 INFO dspy.teleprompt.mipro_optimizer_v2: ==> STEP 3: FINDING OPTIMAL PROMPT PARAMETERS <==\n",
      "2024/11/14 12:06:01 INFO dspy.teleprompt.mipro_optimizer_v2: We will evaluate the program over a series of trials with different combinations of instructions and few-shot examples to find the optimal combination using Bayesian Optimization.\n",
      "\n",
      "/home/anhnht/miniforge3/envs/llm/lib/python3.11/site-packages/optuna/samplers/_tpe/sampler.py:319: ExperimentalWarning: ``multivariate`` option is an experimental feature. The interface can change in the future.\n",
      "  warnings.warn(\n",
      "2024/11/14 12:06:01 INFO dspy.teleprompt.mipro_optimizer_v2: ===== Trial 1 / 7 =====\n",
      "Average Metric: 14.0 / 23  (60.9): 100%|██████████| 23/23 [00:48<00:00,  2.10s/it]\n",
      "2024/11/14 12:06:50 INFO dspy.evaluate.evaluate: Average Metric: 14.0 / 23 (60.9%)\n",
      "2024/11/14 12:06:50 INFO dspy.teleprompt.mipro_optimizer_v2: Score: 60.87 with parameters ['Predictor 0: Instruction 1'].\n",
      "2024/11/14 12:06:50 INFO dspy.teleprompt.mipro_optimizer_v2: Scores so far: [60.87, 60.87]\n",
      "2024/11/14 12:06:50 INFO dspy.teleprompt.mipro_optimizer_v2: Best score so far: 60.87\n",
      "2024/11/14 12:06:50 INFO dspy.teleprompt.mipro_optimizer_v2: =======================\n",
      "\n",
      "\n",
      "2024/11/14 12:06:50 INFO dspy.teleprompt.mipro_optimizer_v2: ===== Trial 2 / 7 =====\n",
      "Average Metric: 13.0 / 18  (72.2):  78%|███████▊  | 18/23 [00:41<00:08,  1.63s/it]2024/11/14 12:07:33 ERROR dspy.evaluate.evaluate: Error for example in dev set: \t\t litellm.RateLimitError: AzureException RateLimitError - Error code: 429 - {'error': {'code': '429', 'message': 'Requests to the ChatCompletions_Create Operation under Azure OpenAI API version 2024-02-15-preview have exceeded token rate limit of your current OpenAI S0 pricing tier. Please retry after 3 seconds. Please go here: https://aka.ms/oai/quotaincrease if you would like to further increase the default rate limit.'}}. Set `provide_traceback=True` to see the stack trace.\n",
      "Average Metric: 16.0 / 23  (69.6): 100%|██████████| 23/23 [00:49<00:00,  2.16s/it]\n",
      "2024/11/14 12:07:39 INFO dspy.evaluate.evaluate: Average Metric: 16.0 / 23 (69.6%)\n",
      "2024/11/14 12:07:39 INFO dspy.teleprompt.mipro_optimizer_v2: \u001b[92mBest full score so far!\u001b[0m Score: 69.57\n",
      "2024/11/14 12:07:39 INFO dspy.teleprompt.mipro_optimizer_v2: Score: 69.57 with parameters ['Predictor 0: Instruction 5'].\n",
      "2024/11/14 12:07:39 INFO dspy.teleprompt.mipro_optimizer_v2: Scores so far: [60.87, 60.87, 69.57]\n",
      "2024/11/14 12:07:39 INFO dspy.teleprompt.mipro_optimizer_v2: Best score so far: 69.57\n",
      "2024/11/14 12:07:39 INFO dspy.teleprompt.mipro_optimizer_v2: =======================\n",
      "\n",
      "\n",
      "2024/11/14 12:07:39 INFO dspy.teleprompt.mipro_optimizer_v2: ===== Trial 3 / 7 =====\n",
      "Average Metric: 12.0 / 17  (70.6):  74%|███████▍  | 17/23 [00:40<00:07,  1.30s/it]2024/11/14 12:08:21 ERROR dspy.evaluate.evaluate: Error for example in dev set: \t\t litellm.RateLimitError: AzureException RateLimitError - Error code: 429 - {'error': {'code': '429', 'message': 'Requests to the ChatCompletions_Create Operation under Azure OpenAI API version 2024-02-15-preview have exceeded token rate limit of your current OpenAI S0 pricing tier. Please retry after 4 seconds. Please go here: https://aka.ms/oai/quotaincrease if you would like to further increase the default rate limit.'}}. Set `provide_traceback=True` to see the stack trace.\n",
      "Average Metric: 16.0 / 23  (69.6): 100%|██████████| 23/23 [00:52<00:00,  2.27s/it]\n",
      "2024/11/14 12:08:32 INFO dspy.evaluate.evaluate: Average Metric: 16.0 / 23 (69.6%)\n",
      "2024/11/14 12:08:32 INFO dspy.teleprompt.mipro_optimizer_v2: Score: 69.57 with parameters ['Predictor 0: Instruction 2'].\n",
      "2024/11/14 12:08:32 INFO dspy.teleprompt.mipro_optimizer_v2: Scores so far: [60.87, 60.87, 69.57, 69.57]\n",
      "2024/11/14 12:08:32 INFO dspy.teleprompt.mipro_optimizer_v2: Best score so far: 69.57\n",
      "2024/11/14 12:08:32 INFO dspy.teleprompt.mipro_optimizer_v2: =======================\n",
      "\n",
      "\n",
      "2024/11/14 12:08:32 INFO dspy.teleprompt.mipro_optimizer_v2: ===== Trial 4 / 7 =====\n",
      "Average Metric: 16.0 / 23  (69.6): 100%|██████████| 23/23 [00:03<00:00,  6.59it/s] \n",
      "2024/11/14 12:08:35 INFO dspy.evaluate.evaluate: Average Metric: 16.0 / 23 (69.6%)\n",
      "2024/11/14 12:08:35 INFO dspy.teleprompt.mipro_optimizer_v2: Score: 69.57 with parameters ['Predictor 0: Instruction 5'].\n",
      "2024/11/14 12:08:35 INFO dspy.teleprompt.mipro_optimizer_v2: Scores so far: [60.87, 60.87, 69.57, 69.57, 69.57]\n",
      "2024/11/14 12:08:35 INFO dspy.teleprompt.mipro_optimizer_v2: Best score so far: 69.57\n",
      "2024/11/14 12:08:35 INFO dspy.teleprompt.mipro_optimizer_v2: =======================\n",
      "\n",
      "\n",
      "2024/11/14 12:08:35 INFO dspy.teleprompt.mipro_optimizer_v2: ===== Trial 5 / 7 =====\n",
      "Average Metric: 17.0 / 23  (73.9): 100%|██████████| 23/23 [00:57<00:00,  2.50s/it]\n",
      "2024/11/14 12:09:33 INFO dspy.evaluate.evaluate: Average Metric: 17.0 / 23 (73.9%)\n",
      "2024/11/14 12:09:33 INFO dspy.teleprompt.mipro_optimizer_v2: \u001b[92mBest full score so far!\u001b[0m Score: 73.91\n",
      "2024/11/14 12:09:33 INFO dspy.teleprompt.mipro_optimizer_v2: Score: 73.91 with parameters ['Predictor 0: Instruction 4'].\n",
      "2024/11/14 12:09:33 INFO dspy.teleprompt.mipro_optimizer_v2: Scores so far: [60.87, 60.87, 69.57, 69.57, 69.57, 73.91]\n",
      "2024/11/14 12:09:33 INFO dspy.teleprompt.mipro_optimizer_v2: Best score so far: 73.91\n",
      "2024/11/14 12:09:33 INFO dspy.teleprompt.mipro_optimizer_v2: =======================\n",
      "\n",
      "\n",
      "2024/11/14 12:09:33 INFO dspy.teleprompt.mipro_optimizer_v2: ===== Trial 6 / 7 =====\n",
      "Average Metric: 14.0 / 23  (60.9): 100%|██████████| 23/23 [00:00<00:00, 947.00it/s] \n",
      "2024/11/14 12:09:33 INFO dspy.evaluate.evaluate: Average Metric: 14.0 / 23 (60.9%)\n",
      "2024/11/14 12:09:33 INFO dspy.teleprompt.mipro_optimizer_v2: Score: 60.87 with parameters ['Predictor 0: Instruction 1'].\n",
      "2024/11/14 12:09:33 INFO dspy.teleprompt.mipro_optimizer_v2: Scores so far: [60.87, 60.87, 69.57, 69.57, 69.57, 73.91, 60.87]\n",
      "2024/11/14 12:09:33 INFO dspy.teleprompt.mipro_optimizer_v2: Best score so far: 73.91\n",
      "2024/11/14 12:09:33 INFO dspy.teleprompt.mipro_optimizer_v2: =======================\n",
      "\n",
      "\n",
      "2024/11/14 12:09:33 INFO dspy.teleprompt.mipro_optimizer_v2: ===== Trial 7 / 7 =====\n",
      "Average Metric: 15.0 / 23  (65.2): 100%|██████████| 23/23 [00:53<00:00,  2.33s/it]\n",
      "2024/11/14 12:10:27 INFO dspy.evaluate.evaluate: Average Metric: 15.0 / 23 (65.2%)\n",
      "2024/11/14 12:10:27 INFO dspy.teleprompt.mipro_optimizer_v2: Score: 65.22 with parameters ['Predictor 0: Instruction 6'].\n",
      "2024/11/14 12:10:27 INFO dspy.teleprompt.mipro_optimizer_v2: Scores so far: [60.87, 60.87, 69.57, 69.57, 69.57, 73.91, 60.87, 65.22]\n",
      "2024/11/14 12:10:27 INFO dspy.teleprompt.mipro_optimizer_v2: Best score so far: 73.91\n",
      "2024/11/14 12:10:27 INFO dspy.teleprompt.mipro_optimizer_v2: =======================\n",
      "\n",
      "\n",
      "2024/11/14 12:10:27 INFO dspy.teleprompt.mipro_optimizer_v2: Returning best identified program with score 73.91!\n"
     ]
    }
   ],
   "source": [
    "# prompt_of_field_to_optimize = \"customer_skeptical_of_free_service_or_fears_additional_purchases\"\n",
    "# semantic = False\n",
    "\n",
    "# # Load dataset and a target field (to avoid giving spurious information)\n",
    "# dataset = BonbozTelesalesCall(\n",
    "#     path=\"/home/anhnht/Anywhere-LLM/data/bonboz_call_analysis.csv\",\n",
    "#     selected_output_field=prompt_of_field_to_optimize,\n",
    "# )\n",
    "# metric = BonbozTelesalesScore(\n",
    "#     selected_output_field=prompt_of_field_to_optimize, semantic=semantic\n",
    "# )\n",
    "\n",
    "\n",
    "# class ProgSig(dspy.Signature):\n",
    "#     \"\"\"As a skilled Vietnamese language analyst for a beauty clinic, your role is to meticulously examine call transcripts between the clinic's agent and potential clients. Your main goal is to assess whether the customer is skeptical of free service or fears additional purchases. Remain alert to potential diarization errors and incorrectly attributed speaker tags within the transcript, and make informed assumptions when faced with unclear situations. Provide a comprehensive analysis by including specific quotes from the transcript to substantiate your findings. Ensure that text is enclosed in double quotes and timestamps in square brackets.\"\"\"\n",
    "\n",
    "#     transcript = dspy.InputField(format=\"str\")\n",
    "\n",
    "#     customer_skeptical_of_free_service_or_fears_additional_purchases: bool = dspy.OutputField()\n",
    "\n",
    "\n",
    "# program = dspy.ChainOfThought(ProgSig)\n",
    "\n",
    "# teleprompter = MIPROv2(\n",
    "#     metric=metric, max_bootstrapped_demos=0, max_labeled_demos=0, auto=\"light\"\n",
    "# )\n",
    "\n",
    "# optimized_program = teleprompter.compile(\n",
    "#     program,\n",
    "#     trainset=dataset.train,\n",
    "#     valset=dataset.dev,\n",
    "#     requires_permission_to_run=False,\n",
    "# )\n",
    "# optimized_program.save(\"optimized_prompt.json\")"
   ]
  },
  {
   "cell_type": "code",
   "execution_count": null,
   "metadata": {},
   "outputs": [
    {
     "name": "stderr",
     "output_type": "stream",
     "text": [
      "2024/11/13 17:30:45 INFO dspy.teleprompt.mipro_optimizer_v2: \n",
      "RUNNING WITH THE FOLLOWING LIGHT AUTO RUN SETTINGS:\n",
      "num_trials: 7\n",
      "minibatch: False\n",
      "num_candidates: 7\n",
      "valset size: 23\n",
      "\n",
      "2024/11/13 17:30:45 INFO dspy.teleprompt.mipro_optimizer_v2: \n",
      "==> STEP 1: BOOTSTRAP FEWSHOT EXAMPLES <==\n",
      "2024/11/13 17:30:45 INFO dspy.teleprompt.mipro_optimizer_v2: These will be used for informing instruction proposal.\n",
      "\n",
      "2024/11/13 17:30:45 INFO dspy.teleprompt.mipro_optimizer_v2: Bootstrapping N=7 sets of demonstrations...\n"
     ]
    },
    {
     "name": "stdout",
     "output_type": "stream",
     "text": [
      "Bootstrapping set 1/7\n",
      "Bootstrapping set 2/7\n"
     ]
    },
    {
     "name": "stderr",
     "output_type": "stream",
     "text": [
      " 18%|█▊        | 4/22 [00:14<01:03,  3.51s/it]\n"
     ]
    },
    {
     "name": "stdout",
     "output_type": "stream",
     "text": [
      "Bootstrapped 3 full traces after 4 examples for up to 1 rounds, amounting to 4 attempts.\n",
      "Bootstrapping set 3/7\n"
     ]
    },
    {
     "name": "stderr",
     "output_type": "stream",
     "text": [
      " 14%|█▎        | 3/22 [00:09<01:02,  3.27s/it]\n"
     ]
    },
    {
     "name": "stdout",
     "output_type": "stream",
     "text": [
      "Bootstrapped 3 full traces after 3 examples for up to 1 rounds, amounting to 3 attempts.\n",
      "Bootstrapping set 4/7\n"
     ]
    },
    {
     "name": "stderr",
     "output_type": "stream",
     "text": [
      " 14%|█▎        | 3/22 [00:03<00:22,  1.21s/it]\n"
     ]
    },
    {
     "name": "stdout",
     "output_type": "stream",
     "text": [
      "Bootstrapped 3 full traces after 3 examples for up to 1 rounds, amounting to 3 attempts.\n",
      "Bootstrapping set 5/7\n"
     ]
    },
    {
     "name": "stderr",
     "output_type": "stream",
     "text": [
      " 18%|█▊        | 4/22 [00:14<01:03,  3.50s/it]\n"
     ]
    },
    {
     "name": "stdout",
     "output_type": "stream",
     "text": [
      "Bootstrapped 3 full traces after 4 examples for up to 1 rounds, amounting to 4 attempts.\n",
      "Bootstrapping set 6/7\n"
     ]
    },
    {
     "name": "stderr",
     "output_type": "stream",
     "text": [
      "  5%|▍         | 1/22 [00:00<00:00, 1134.21it/s]\n"
     ]
    },
    {
     "name": "stdout",
     "output_type": "stream",
     "text": [
      "Bootstrapped 1 full traces after 1 examples for up to 1 rounds, amounting to 1 attempts.\n",
      "Bootstrapping set 7/7\n"
     ]
    },
    {
     "name": "stderr",
     "output_type": "stream",
     "text": [
      "  9%|▉         | 2/22 [00:00<00:00, 1159.45it/s]\n",
      "2024/11/13 17:31:27 INFO dspy.teleprompt.mipro_optimizer_v2: \n",
      "==> STEP 2: PROPOSE INSTRUCTION CANDIDATES <==\n",
      "2024/11/13 17:31:27 INFO dspy.teleprompt.mipro_optimizer_v2: We will use the few-shot examples from the previous step, a generated dataset summary, a summary of the program code, and a randomly selected prompting tip to propose instructions.\n"
     ]
    },
    {
     "name": "stdout",
     "output_type": "stream",
     "text": [
      "Bootstrapped 2 full traces after 2 examples for up to 1 rounds, amounting to 2 attempts.\n"
     ]
    },
    {
     "name": "stderr",
     "output_type": "stream",
     "text": [
      "2024/11/13 17:31:51 INFO dspy.teleprompt.mipro_optimizer_v2: \n",
      "Proposing instructions...\n",
      "\n",
      "2024/11/13 17:33:53 INFO dspy.teleprompt.mipro_optimizer_v2: Proposed Instructions for Predictor 0:\n",
      "\n",
      "2024/11/13 17:33:53 INFO dspy.teleprompt.mipro_optimizer_v2: 0: As a skilled Vietnamese language analyst for a beauty clinic, your role is to meticulously examine call transcripts between the clinic's agent and potential clients. Your main goal is to assess whether the customer rejects offer because they do not need skin care. Remain alert to potential diarization errors and incorrectly attributed speaker tags within the transcript, and make informed assumptions when faced with unclear situations. Provide a comprehensive analysis by including specific quotes from the transcript to substantiate your findings. Ensure that text is enclosed in double quotes and timestamps in square brackets.\n",
      "\n",
      "2024/11/13 17:33:53 INFO dspy.teleprompt.mipro_optimizer_v2: 1: You are a skilled Vietnamese language analyst working for a beauty clinic. Your task is to carefully analyze call transcripts between the clinic's agent and potential clients to determine if the customer rejects the offer because they do not need skin care. Pay close attention to potential diarization errors and incorrectly attributed speaker tags within the transcript, and make informed assumptions when faced with unclear situations. Your analysis should be comprehensive and include specific quotes from the transcript to support your findings, ensuring that text is enclosed in double quotes and timestamps are in square brackets.\n",
      "\n",
      "2024/11/13 17:33:53 INFO dspy.teleprompt.mipro_optimizer_v2: 2: As a proficient Vietnamese language analyst for a beauty clinic, your task is to thoroughly analyze call transcripts between the clinic's representatives and potential clients. Your primary objective is to determine if the customer declines the offer due to a lack of need for skin care services. Pay close attention to the nuances of the conversation, including potential diarization errors and speaker tag misattributions. Use critical thinking to make informed judgments in ambiguous situations. Provide a detailed analysis by quoting specific parts of the transcript to support your conclusions, ensuring all text is within double quotes and timestamps are in square brackets. Conclude with a boolean output indicating if the customer does not need skin care.\n",
      "\n",
      "2024/11/13 17:33:53 INFO dspy.teleprompt.mipro_optimizer_v2: 3: Imagine you are a critical analyst for a top-tier beauty clinic tasked with determining the success of our outreach strategy. You are given call transcripts between our clinic's agents and potential clients. Your primary objective is to evaluate whether the customer declines our skincare offer due to a lack of need for skincare services. This task is crucial as it directly impacts our marketing strategy and resource allocation. Be vigilant for any diarization errors or misattributed speaker tags, and make educated assumptions when faced with ambiguities. Your analysis should be thorough, citing specific quotes from the transcript with text in double quotes and timestamps in square brackets to support your conclusions. Remember, your findings will guide key business decisions, so accuracy and attention to detail are paramount.\n",
      "\n",
      "2024/11/13 17:33:53 INFO dspy.teleprompt.mipro_optimizer_v2: 4: As an expert Vietnamese language analyst specializing in customer interaction for a skincare clinic, your task is to thoroughly analyze call transcripts between clinic representatives and potential clients. Your primary objective is to determine if the customer rejects the skincare offer due to a lack of need for the service. Be vigilant for diarization errors and misattributed speaker tags within the transcripts. In cases of ambiguity, make well-reasoned assumptions. Provide a detailed analysis, citing specific quotes from the transcript to support your conclusions. Ensure all quoted text is enclosed in double quotes and timestamps are in square brackets.\n",
      "\n",
      "2024/11/13 17:33:53 INFO dspy.teleprompt.mipro_optimizer_v2: 5: Analyze the provided call transcript between a beauty clinic representative and a potential customer to determine if the customer is rejecting the offer due to a lack of need for skin care services. Pay close attention to potential diarization errors and incorrectly attributed speaker tags. Make informed assumptions when necessary, and support your analysis with specific quotes from the transcript, ensuring text is enclosed in double quotes and timestamps in square brackets. Conclude your assessment with a step-by-step reasoning and a boolean output indicating whether the customer does not need skin care.\n",
      "\n",
      "2024/11/13 17:33:53 INFO dspy.teleprompt.mipro_optimizer_v2: 6: As a Vietnamese language analyst specializing in beauty clinic communications, your task is to thoroughly analyze call transcripts between the clinic's agent and potential clients. Your primary objective is to determine if the customer declines the offer due to a lack of need for skincare services. Pay close attention to potential diarization errors and misattributed speaker tags within the transcript, and make informed assumptions when dialogues are ambiguous. Provide a detailed analysis by incorporating direct quotes from the transcript, ensuring they are enclosed in double quotes, and use timestamps in square brackets to support your conclusions. Your output should include a step-by-step reasoning section and a boolean indicator of whether the customer does not need skincare.\n",
      "\n",
      "2024/11/13 17:33:53 INFO dspy.teleprompt.mipro_optimizer_v2: \n",
      "\n",
      "2024/11/13 17:33:53 INFO dspy.teleprompt.mipro_optimizer_v2: Evaluating the default program...\n",
      "\n",
      "Average Metric: 23.0 / 23  (100.0): 100%|██████████| 23/23 [00:51<00:00,  2.22s/it]\n",
      "2024/11/13 17:34:44 INFO dspy.evaluate.evaluate: Average Metric: 23.0 / 23 (100.0%)\n",
      "2024/11/13 17:34:44 INFO dspy.teleprompt.mipro_optimizer_v2: Default program score: 100.0\n",
      "\n",
      "2024/11/13 17:34:44 INFO dspy.teleprompt.mipro_optimizer_v2: ==> STEP 3: FINDING OPTIMAL PROMPT PARAMETERS <==\n",
      "2024/11/13 17:34:44 INFO dspy.teleprompt.mipro_optimizer_v2: We will evaluate the program over a series of trials with different combinations of instructions and few-shot examples to find the optimal combination using Bayesian Optimization.\n",
      "\n",
      "/home/anhnht/miniforge3/envs/llm/lib/python3.11/site-packages/optuna/samplers/_tpe/sampler.py:319: ExperimentalWarning: ``multivariate`` option is an experimental feature. The interface can change in the future.\n",
      "  warnings.warn(\n",
      "2024/11/13 17:34:44 INFO dspy.teleprompt.mipro_optimizer_v2: ===== Trial 1 / 7 =====\n",
      "Average Metric: 22.0 / 23  (95.7): 100%|██████████| 23/23 [00:55<00:00,  2.42s/it]\n",
      "2024/11/13 17:35:40 INFO dspy.evaluate.evaluate: Average Metric: 22.0 / 23 (95.7%)\n",
      "2024/11/13 17:35:40 INFO dspy.teleprompt.mipro_optimizer_v2: Score: 95.65 with parameters ['Predictor 0: Instruction 1'].\n",
      "2024/11/13 17:35:40 INFO dspy.teleprompt.mipro_optimizer_v2: Scores so far: [100.0, 95.65]\n",
      "2024/11/13 17:35:40 INFO dspy.teleprompt.mipro_optimizer_v2: Best score so far: 100.0\n",
      "2024/11/13 17:35:40 INFO dspy.teleprompt.mipro_optimizer_v2: =======================\n",
      "\n",
      "\n",
      "2024/11/13 17:35:40 INFO dspy.teleprompt.mipro_optimizer_v2: ===== Trial 2 / 7 =====\n",
      "Average Metric: 4.0 / 4  (100.0):  17%|█▋        | 4/23 [00:10<00:42,  2.25s/it]2024/11/13 17:35:50 ERROR dspy.evaluate.evaluate: Error for example in dev set: \t\t the JSON object must be str, bytes or bytearray, not NoneType. Set `provide_traceback=True` to see the stack trace.\n",
      "Average Metric: 20.0 / 23  (87.0): 100%|██████████| 23/23 [00:51<00:00,  2.22s/it]\n",
      "2024/11/13 17:36:31 INFO dspy.evaluate.evaluate: Average Metric: 20.0 / 23 (87.0%)\n",
      "2024/11/13 17:36:31 INFO dspy.teleprompt.mipro_optimizer_v2: Score: 86.96 with parameters ['Predictor 0: Instruction 5'].\n",
      "2024/11/13 17:36:31 INFO dspy.teleprompt.mipro_optimizer_v2: Scores so far: [100.0, 95.65, 86.96]\n",
      "2024/11/13 17:36:31 INFO dspy.teleprompt.mipro_optimizer_v2: Best score so far: 100.0\n",
      "2024/11/13 17:36:31 INFO dspy.teleprompt.mipro_optimizer_v2: =======================\n",
      "\n",
      "\n",
      "2024/11/13 17:36:31 INFO dspy.teleprompt.mipro_optimizer_v2: ===== Trial 3 / 7 =====\n",
      "Average Metric: 21.0 / 23  (91.3): 100%|██████████| 23/23 [00:50<00:00,  2.21s/it]\n",
      "2024/11/13 17:37:22 INFO dspy.evaluate.evaluate: Average Metric: 21.0 / 23 (91.3%)\n",
      "2024/11/13 17:37:22 INFO dspy.teleprompt.mipro_optimizer_v2: Score: 91.3 with parameters ['Predictor 0: Instruction 2'].\n",
      "2024/11/13 17:37:22 INFO dspy.teleprompt.mipro_optimizer_v2: Scores so far: [100.0, 95.65, 86.96, 91.3]\n",
      "2024/11/13 17:37:22 INFO dspy.teleprompt.mipro_optimizer_v2: Best score so far: 100.0\n",
      "2024/11/13 17:37:22 INFO dspy.teleprompt.mipro_optimizer_v2: =======================\n",
      "\n",
      "\n",
      "2024/11/13 17:37:22 INFO dspy.teleprompt.mipro_optimizer_v2: ===== Trial 4 / 7 =====\n",
      "2024/11/13 17:37:22 ERROR dspy.evaluate.evaluate: Error for example in dev set: \t\t the JSON object must be str, bytes or bytearray, not NoneType. Set `provide_traceback=True` to see the stack trace.\n",
      "Average Metric: 20.0 / 23  (87.0): 100%|██████████| 23/23 [00:00<00:00, 1020.19it/s]\n",
      "2024/11/13 17:37:22 INFO dspy.evaluate.evaluate: Average Metric: 20.0 / 23 (87.0%)\n",
      "2024/11/13 17:37:22 INFO dspy.teleprompt.mipro_optimizer_v2: Score: 86.96 with parameters ['Predictor 0: Instruction 5'].\n",
      "2024/11/13 17:37:22 INFO dspy.teleprompt.mipro_optimizer_v2: Scores so far: [100.0, 95.65, 86.96, 91.3, 86.96]\n",
      "2024/11/13 17:37:22 INFO dspy.teleprompt.mipro_optimizer_v2: Best score so far: 100.0\n",
      "2024/11/13 17:37:22 INFO dspy.teleprompt.mipro_optimizer_v2: =======================\n",
      "\n",
      "\n",
      "2024/11/13 17:37:22 INFO dspy.teleprompt.mipro_optimizer_v2: ===== Trial 5 / 7 =====\n",
      "Average Metric: 21.0 / 23  (91.3): 100%|██████████| 23/23 [00:51<00:00,  2.25s/it]\n",
      "2024/11/13 17:38:14 INFO dspy.evaluate.evaluate: Average Metric: 21.0 / 23 (91.3%)\n",
      "2024/11/13 17:38:14 INFO dspy.teleprompt.mipro_optimizer_v2: Score: 91.3 with parameters ['Predictor 0: Instruction 4'].\n",
      "2024/11/13 17:38:14 INFO dspy.teleprompt.mipro_optimizer_v2: Scores so far: [100.0, 95.65, 86.96, 91.3, 86.96, 91.3]\n",
      "2024/11/13 17:38:14 INFO dspy.teleprompt.mipro_optimizer_v2: Best score so far: 100.0\n",
      "2024/11/13 17:38:14 INFO dspy.teleprompt.mipro_optimizer_v2: =======================\n",
      "\n",
      "\n",
      "2024/11/13 17:38:14 INFO dspy.teleprompt.mipro_optimizer_v2: ===== Trial 6 / 7 =====\n",
      "Average Metric: 22.0 / 23  (95.7): 100%|██████████| 23/23 [00:00<00:00, 1047.02it/s] \n",
      "2024/11/13 17:38:14 INFO dspy.evaluate.evaluate: Average Metric: 22.0 / 23 (95.7%)\n",
      "2024/11/13 17:38:14 INFO dspy.teleprompt.mipro_optimizer_v2: Score: 95.65 with parameters ['Predictor 0: Instruction 1'].\n",
      "2024/11/13 17:38:14 INFO dspy.teleprompt.mipro_optimizer_v2: Scores so far: [100.0, 95.65, 86.96, 91.3, 86.96, 91.3, 95.65]\n",
      "2024/11/13 17:38:14 INFO dspy.teleprompt.mipro_optimizer_v2: Best score so far: 100.0\n",
      "2024/11/13 17:38:14 INFO dspy.teleprompt.mipro_optimizer_v2: =======================\n",
      "\n",
      "\n",
      "2024/11/13 17:38:14 INFO dspy.teleprompt.mipro_optimizer_v2: ===== Trial 7 / 7 =====\n",
      "Average Metric: 20.0 / 23  (87.0): 100%|██████████| 23/23 [01:05<00:00,  2.83s/it] \n",
      "2024/11/13 17:39:19 INFO dspy.evaluate.evaluate: Average Metric: 20.0 / 23 (87.0%)\n",
      "2024/11/13 17:39:19 INFO dspy.teleprompt.mipro_optimizer_v2: Score: 86.96 with parameters ['Predictor 0: Instruction 6'].\n",
      "2024/11/13 17:39:19 INFO dspy.teleprompt.mipro_optimizer_v2: Scores so far: [100.0, 95.65, 86.96, 91.3, 86.96, 91.3, 95.65, 86.96]\n",
      "2024/11/13 17:39:19 INFO dspy.teleprompt.mipro_optimizer_v2: Best score so far: 100.0\n",
      "2024/11/13 17:39:19 INFO dspy.teleprompt.mipro_optimizer_v2: =======================\n",
      "\n",
      "\n",
      "2024/11/13 17:39:19 INFO dspy.teleprompt.mipro_optimizer_v2: Returning best identified program with score 100.0!\n"
     ]
    }
   ],
   "source": [
    "# prompt_of_field_to_optimize = \"customer_does_not_need_skin_care\"\n",
    "# semantic = False\n",
    "\n",
    "# # Load dataset and a target field (to avoid giving spurious information)\n",
    "# dataset = BonbozTelesalesCall(\n",
    "#     path=\"/home/anhnht/Anywhere-LLM/data/bonboz_call_analysis.csv\",\n",
    "#     selected_output_field=prompt_of_field_to_optimize,\n",
    "# )\n",
    "# metric = BonbozTelesalesScore(\n",
    "#     selected_output_field=prompt_of_field_to_optimize, semantic=semantic\n",
    "# )\n",
    "\n",
    "\n",
    "# class ProgSig(dspy.Signature):\n",
    "#     \"\"\"As a skilled Vietnamese language analyst for a beauty clinic, your role is to meticulously examine call transcripts between the clinic's agent and potential clients. Your main goal is to assess whether the customer rejects offer because they do not need skin care. Remain alert to potential diarization errors and incorrectly attributed speaker tags within the transcript, and make informed assumptions when faced with unclear situations. Provide a comprehensive analysis by including specific quotes from the transcript to substantiate your findings. Ensure that text is enclosed in double quotes and timestamps in square brackets.\"\"\"\n",
    "\n",
    "#     transcript = dspy.InputField(format=\"str\")\n",
    "\n",
    "#     customer_does_not_need_skin_care: bool = dspy.OutputField()\n",
    "\n",
    "\n",
    "# program = dspy.ChainOfThought(ProgSig)\n",
    "\n",
    "# teleprompter = MIPROv2(\n",
    "#     metric=metric, max_bootstrapped_demos=0, max_labeled_demos=0, auto=\"light\"\n",
    "# )\n",
    "\n",
    "# optimized_program = teleprompter.compile(\n",
    "#     program,\n",
    "#     trainset=dataset.train,\n",
    "#     valset=dataset.dev,\n",
    "#     requires_permission_to_run=False,\n",
    "# )\n",
    "# optimized_program.save(\"optimized_prompt.json\")"
   ]
  },
  {
   "cell_type": "code",
   "execution_count": null,
   "metadata": {},
   "outputs": [
    {
     "name": "stderr",
     "output_type": "stream",
     "text": [
      "2024/11/13 17:42:44 INFO dspy.teleprompt.mipro_optimizer_v2: \n",
      "RUNNING WITH THE FOLLOWING LIGHT AUTO RUN SETTINGS:\n",
      "num_trials: 7\n",
      "minibatch: False\n",
      "num_candidates: 7\n",
      "valset size: 23\n",
      "\n",
      "2024/11/13 17:42:44 INFO dspy.teleprompt.mipro_optimizer_v2: \n",
      "==> STEP 1: BOOTSTRAP FEWSHOT EXAMPLES <==\n",
      "2024/11/13 17:42:44 INFO dspy.teleprompt.mipro_optimizer_v2: These will be used for informing instruction proposal.\n",
      "\n",
      "2024/11/13 17:42:44 INFO dspy.teleprompt.mipro_optimizer_v2: Bootstrapping N=7 sets of demonstrations...\n"
     ]
    },
    {
     "name": "stdout",
     "output_type": "stream",
     "text": [
      "Bootstrapping set 1/7\n",
      "Bootstrapping set 2/7\n"
     ]
    },
    {
     "name": "stderr",
     "output_type": "stream",
     "text": [
      " 14%|█▎        | 3/22 [00:19<02:03,  6.50s/it]\n"
     ]
    },
    {
     "name": "stdout",
     "output_type": "stream",
     "text": [
      "Bootstrapped 3 full traces after 3 examples for up to 1 rounds, amounting to 3 attempts.\n",
      "Bootstrapping set 3/7\n"
     ]
    },
    {
     "name": "stderr",
     "output_type": "stream",
     "text": [
      " 14%|█▎        | 3/22 [00:09<01:02,  3.30s/it]\n"
     ]
    },
    {
     "name": "stdout",
     "output_type": "stream",
     "text": [
      "Bootstrapped 3 full traces after 3 examples for up to 1 rounds, amounting to 3 attempts.\n",
      "Bootstrapping set 4/7\n"
     ]
    },
    {
     "name": "stderr",
     "output_type": "stream",
     "text": [
      " 14%|█▎        | 3/22 [00:07<00:49,  2.62s/it]\n"
     ]
    },
    {
     "name": "stdout",
     "output_type": "stream",
     "text": [
      "Bootstrapped 3 full traces after 3 examples for up to 1 rounds, amounting to 3 attempts.\n",
      "Bootstrapping set 5/7\n"
     ]
    },
    {
     "name": "stderr",
     "output_type": "stream",
     "text": [
      " 14%|█▎        | 3/22 [00:19<02:05,  6.58s/it]\n"
     ]
    },
    {
     "name": "stdout",
     "output_type": "stream",
     "text": [
      "Bootstrapped 3 full traces after 3 examples for up to 1 rounds, amounting to 3 attempts.\n",
      "Bootstrapping set 6/7\n"
     ]
    },
    {
     "name": "stderr",
     "output_type": "stream",
     "text": [
      "  5%|▍         | 1/22 [00:00<00:00, 394.98it/s]\n"
     ]
    },
    {
     "name": "stdout",
     "output_type": "stream",
     "text": [
      "Bootstrapped 1 full traces after 1 examples for up to 1 rounds, amounting to 1 attempts.\n",
      "Bootstrapping set 7/7\n"
     ]
    },
    {
     "name": "stderr",
     "output_type": "stream",
     "text": [
      "  9%|▉         | 2/22 [00:00<00:00, 433.27it/s]\n",
      "2024/11/13 17:43:41 INFO dspy.teleprompt.mipro_optimizer_v2: \n",
      "==> STEP 2: PROPOSE INSTRUCTION CANDIDATES <==\n",
      "2024/11/13 17:43:41 INFO dspy.teleprompt.mipro_optimizer_v2: We will use the few-shot examples from the previous step, a generated dataset summary, a summary of the program code, and a randomly selected prompting tip to propose instructions.\n"
     ]
    },
    {
     "name": "stdout",
     "output_type": "stream",
     "text": [
      "Bootstrapped 2 full traces after 2 examples for up to 1 rounds, amounting to 2 attempts.\n"
     ]
    },
    {
     "name": "stderr",
     "output_type": "stream",
     "text": [
      "2024/11/13 17:44:00 INFO dspy.teleprompt.mipro_optimizer_v2: \n",
      "Proposing instructions...\n",
      "\n",
      "2024/11/13 17:46:13 INFO dspy.teleprompt.mipro_optimizer_v2: Proposed Instructions for Predictor 0:\n",
      "\n",
      "2024/11/13 17:46:13 INFO dspy.teleprompt.mipro_optimizer_v2: 0: As a skilled Vietnamese language analyst for a beauty clinic, your role is to meticulously examine call transcripts between the clinic's agent and potential clients. Your main goal is to assess whether the customer rejects offer because they are receiving skin care elsewhere. Remain alert to potential diarization errors and incorrectly attributed speaker tags within the transcript, and make informed assumptions when faced with unclear situations. Provide a comprehensive analysis by including specific quotes from the transcript to substantiate your findings. Ensure that text is enclosed in double quotes and timestamps in square brackets.\n",
      "\n",
      "2024/11/13 17:46:13 INFO dspy.teleprompt.mipro_optimizer_v2: 1: Imagine you are a Vietnamese language analyst specializing in beauty clinic interactions. Your task is to closely analyze call transcripts between the clinic's agent and potential clients to determine if the customer declines the offer due to receiving skin care services from another provider. Pay close attention to potential diarization errors and incorrectly attributed speaker tags, making informed assumptions in ambiguous situations. Provide a thorough analysis supported by specific quotes from the transcript, ensuring text is enclosed in double quotes and timestamps in square brackets. Your goal is to accurately assess the customer's current engagement with other skin care services and document your findings clearly.\n",
      "\n",
      "2024/11/13 17:46:13 INFO dspy.teleprompt.mipro_optimizer_v2: 2: As a proficient Vietnamese language analyst working for a beauty clinic, your task is to thoroughly analyze call transcripts between the clinic's agents and prospective clients. Your primary objective is to ascertain whether a customer declines the clinic's offer due to receiving skincare services from another provider. Stay vigilant for potential diarization errors and misattributed speaker tags within the transcript. When encountering ambiguous situations, make informed assumptions. Deliver a detailed analysis by citing specific excerpts from the transcript to support your conclusions. Enclose quoted text in double quotes and timestamps in square brackets. Your output should include a step-by-step reasoning process, culminating in a boolean determination of whether the customer is receiving skincare elsewhere.\n",
      "\n",
      "2024/11/13 17:46:13 INFO dspy.teleprompt.mipro_optimizer_v2: 3: As an expert Vietnamese language analyst for a beauty clinic, your mission is to critically analyze call transcripts between the clinic's agent and potential clients to determine if the customer declines the offer because they are already receiving skin care services elsewhere. This task is crucial for optimizing our marketing strategy and ensuring our resources are directed towards potential clients who are not already committed to other providers. Be vigilant for diarization errors and incorrectly attributed speaker tags, and make informed assumptions when faced with ambiguous situations. Your analysis should be comprehensive, citing specific quotes from the transcript with timestamps to support your conclusions. All text should be enclosed in double quotes and timestamps in square brackets. This analysis will directly impact our business decisions, so accuracy and attention to detail are paramount.\n",
      "\n",
      "2024/11/13 17:46:13 INFO dspy.teleprompt.mipro_optimizer_v2: 4: As a proficient Vietnamese language analyst working for a beauty clinic, your task is to thoroughly analyze call transcripts between the clinic's agent and potential clients. Your primary objective is to determine if a customer's rejection of the offer is due to them receiving skincare services from another provider. Pay close attention to the dialogue for any indications of existing skincare commitments. Be vigilant about potential diarization errors and incorrectly attributed speaker tags, and make well-informed assumptions in cases of ambiguity. Provide a detailed analysis by quoting specific parts of the transcript to support your conclusions. Ensure that all quoted text is enclosed in double quotes and timestamps are enclosed in square brackets.\n",
      "\n",
      "2024/11/13 17:46:13 INFO dspy.teleprompt.mipro_optimizer_v2: 5: Analyze the provided Vietnamese call transcript between a beauty clinic's agent and a potential client. Your task is to determine if the client's rejection of the skincare offer is due to them receiving similar services elsewhere. Carefully review the conversation for any direct or indirect references to the client already having skincare services. Be mindful of any diarization errors or misattributed speaker tags, and make reasonable assumptions when information is unclear. Provide a detailed analysis with specific quotes from the transcript, using double quotes for text and square brackets for timestamps. Conclude with a reasoning field explaining your thought process and a boolean field indicating whether the client is receiving skincare elsewhere.\n",
      "\n",
      "2024/11/13 17:46:13 INFO dspy.teleprompt.mipro_optimizer_v2: 6: As a proficient Vietnamese language analyst working for a beauty clinic, your task is to thoroughly analyze call transcripts between the clinic's agent and potential clients to determine if the customer declines the offer due to receiving skincare services from another provider. Pay close attention to possible diarization errors and incorrectly attributed speaker tags within the transcript. Use your analytical skills to make informed assumptions in ambiguous situations and provide a detailed analysis supported by specific quotes from the transcript. Ensure that all quotes are enclosed in double quotes and timestamps are provided in square brackets for clarity. Your analysis should clearly indicate whether the customer is receiving skincare services elsewhere by utilizing a reasoning field to elaborate on your thought process and a boolean field to confirm your conclusion.\n",
      "\n",
      "2024/11/13 17:46:13 INFO dspy.teleprompt.mipro_optimizer_v2: \n",
      "\n",
      "2024/11/13 17:46:13 INFO dspy.teleprompt.mipro_optimizer_v2: Evaluating the default program...\n",
      "\n",
      "Average Metric: 22.0 / 23  (95.7): 100%|██████████| 23/23 [00:44<00:00,  1.93s/it] \n",
      "2024/11/13 17:46:58 INFO dspy.evaluate.evaluate: Average Metric: 22.0 / 23 (95.7%)\n",
      "2024/11/13 17:46:58 INFO dspy.teleprompt.mipro_optimizer_v2: Default program score: 95.65\n",
      "\n",
      "2024/11/13 17:46:58 INFO dspy.teleprompt.mipro_optimizer_v2: ==> STEP 3: FINDING OPTIMAL PROMPT PARAMETERS <==\n",
      "2024/11/13 17:46:58 INFO dspy.teleprompt.mipro_optimizer_v2: We will evaluate the program over a series of trials with different combinations of instructions and few-shot examples to find the optimal combination using Bayesian Optimization.\n",
      "\n",
      "/home/anhnht/miniforge3/envs/llm/lib/python3.11/site-packages/optuna/samplers/_tpe/sampler.py:319: ExperimentalWarning: ``multivariate`` option is an experimental feature. The interface can change in the future.\n",
      "  warnings.warn(\n",
      "2024/11/13 17:46:58 INFO dspy.teleprompt.mipro_optimizer_v2: ===== Trial 1 / 7 =====\n",
      "Average Metric: 22.0 / 23  (95.7): 100%|██████████| 23/23 [00:55<00:00,  2.40s/it] \n",
      "2024/11/13 17:47:53 INFO dspy.evaluate.evaluate: Average Metric: 22.0 / 23 (95.7%)\n",
      "2024/11/13 17:47:53 INFO dspy.teleprompt.mipro_optimizer_v2: Score: 95.65 with parameters ['Predictor 0: Instruction 1'].\n",
      "2024/11/13 17:47:53 INFO dspy.teleprompt.mipro_optimizer_v2: Scores so far: [95.65, 95.65]\n",
      "2024/11/13 17:47:53 INFO dspy.teleprompt.mipro_optimizer_v2: Best score so far: 95.65\n",
      "2024/11/13 17:47:53 INFO dspy.teleprompt.mipro_optimizer_v2: =======================\n",
      "\n",
      "\n",
      "2024/11/13 17:47:53 INFO dspy.teleprompt.mipro_optimizer_v2: ===== Trial 2 / 7 =====\n",
      "Average Metric: 22.0 / 23  (95.7): 100%|██████████| 23/23 [00:52<00:00,  2.28s/it] \n",
      "2024/11/13 17:48:46 INFO dspy.evaluate.evaluate: Average Metric: 22.0 / 23 (95.7%)\n",
      "2024/11/13 17:48:46 INFO dspy.teleprompt.mipro_optimizer_v2: Score: 95.65 with parameters ['Predictor 0: Instruction 5'].\n",
      "2024/11/13 17:48:46 INFO dspy.teleprompt.mipro_optimizer_v2: Scores so far: [95.65, 95.65, 95.65]\n",
      "2024/11/13 17:48:46 INFO dspy.teleprompt.mipro_optimizer_v2: Best score so far: 95.65\n",
      "2024/11/13 17:48:46 INFO dspy.teleprompt.mipro_optimizer_v2: =======================\n",
      "\n",
      "\n",
      "2024/11/13 17:48:46 INFO dspy.teleprompt.mipro_optimizer_v2: ===== Trial 3 / 7 =====\n",
      "Average Metric: 22.0 / 23  (95.7): 100%|██████████| 23/23 [00:53<00:00,  2.33s/it] \n",
      "2024/11/13 17:49:39 INFO dspy.evaluate.evaluate: Average Metric: 22.0 / 23 (95.7%)\n",
      "2024/11/13 17:49:39 INFO dspy.teleprompt.mipro_optimizer_v2: Score: 95.65 with parameters ['Predictor 0: Instruction 2'].\n",
      "2024/11/13 17:49:39 INFO dspy.teleprompt.mipro_optimizer_v2: Scores so far: [95.65, 95.65, 95.65, 95.65]\n",
      "2024/11/13 17:49:39 INFO dspy.teleprompt.mipro_optimizer_v2: Best score so far: 95.65\n",
      "2024/11/13 17:49:39 INFO dspy.teleprompt.mipro_optimizer_v2: =======================\n",
      "\n",
      "\n",
      "2024/11/13 17:49:39 INFO dspy.teleprompt.mipro_optimizer_v2: ===== Trial 4 / 7 =====\n",
      "Average Metric: 22.0 / 23  (95.7): 100%|██████████| 23/23 [00:00<00:00, 546.00it/s]\n",
      "2024/11/13 17:49:40 INFO dspy.evaluate.evaluate: Average Metric: 22.0 / 23 (95.7%)\n",
      "2024/11/13 17:49:40 INFO dspy.teleprompt.mipro_optimizer_v2: Score: 95.65 with parameters ['Predictor 0: Instruction 5'].\n",
      "2024/11/13 17:49:40 INFO dspy.teleprompt.mipro_optimizer_v2: Scores so far: [95.65, 95.65, 95.65, 95.65, 95.65]\n",
      "2024/11/13 17:49:40 INFO dspy.teleprompt.mipro_optimizer_v2: Best score so far: 95.65\n",
      "2024/11/13 17:49:40 INFO dspy.teleprompt.mipro_optimizer_v2: =======================\n",
      "\n",
      "\n",
      "2024/11/13 17:49:40 INFO dspy.teleprompt.mipro_optimizer_v2: ===== Trial 5 / 7 =====\n",
      "Average Metric: 22.0 / 23  (95.7): 100%|██████████| 23/23 [00:54<00:00,  2.35s/it] \n",
      "2024/11/13 17:50:34 INFO dspy.evaluate.evaluate: Average Metric: 22.0 / 23 (95.7%)\n",
      "2024/11/13 17:50:34 INFO dspy.teleprompt.mipro_optimizer_v2: Score: 95.65 with parameters ['Predictor 0: Instruction 4'].\n",
      "2024/11/13 17:50:34 INFO dspy.teleprompt.mipro_optimizer_v2: Scores so far: [95.65, 95.65, 95.65, 95.65, 95.65, 95.65]\n",
      "2024/11/13 17:50:34 INFO dspy.teleprompt.mipro_optimizer_v2: Best score so far: 95.65\n",
      "2024/11/13 17:50:34 INFO dspy.teleprompt.mipro_optimizer_v2: =======================\n",
      "\n",
      "\n",
      "2024/11/13 17:50:34 INFO dspy.teleprompt.mipro_optimizer_v2: ===== Trial 6 / 7 =====\n",
      "Average Metric: 22.0 / 23  (95.7): 100%|██████████| 23/23 [00:00<00:00, 1086.61it/s]\n",
      "2024/11/13 17:50:34 INFO dspy.evaluate.evaluate: Average Metric: 22.0 / 23 (95.7%)\n",
      "2024/11/13 17:50:34 INFO dspy.teleprompt.mipro_optimizer_v2: Score: 95.65 with parameters ['Predictor 0: Instruction 1'].\n",
      "2024/11/13 17:50:34 INFO dspy.teleprompt.mipro_optimizer_v2: Scores so far: [95.65, 95.65, 95.65, 95.65, 95.65, 95.65, 95.65]\n",
      "2024/11/13 17:50:34 INFO dspy.teleprompt.mipro_optimizer_v2: Best score so far: 95.65\n",
      "2024/11/13 17:50:34 INFO dspy.teleprompt.mipro_optimizer_v2: =======================\n",
      "\n",
      "\n",
      "2024/11/13 17:50:34 INFO dspy.teleprompt.mipro_optimizer_v2: ===== Trial 7 / 7 =====\n",
      "Average Metric: 22.0 / 23  (95.7): 100%|██████████| 23/23 [00:54<00:00,  2.37s/it] \n",
      "2024/11/13 17:51:28 INFO dspy.evaluate.evaluate: Average Metric: 22.0 / 23 (95.7%)\n",
      "2024/11/13 17:51:28 INFO dspy.teleprompt.mipro_optimizer_v2: Score: 95.65 with parameters ['Predictor 0: Instruction 6'].\n",
      "2024/11/13 17:51:28 INFO dspy.teleprompt.mipro_optimizer_v2: Scores so far: [95.65, 95.65, 95.65, 95.65, 95.65, 95.65, 95.65, 95.65]\n",
      "2024/11/13 17:51:28 INFO dspy.teleprompt.mipro_optimizer_v2: Best score so far: 95.65\n",
      "2024/11/13 17:51:28 INFO dspy.teleprompt.mipro_optimizer_v2: =======================\n",
      "\n",
      "\n",
      "2024/11/13 17:51:28 INFO dspy.teleprompt.mipro_optimizer_v2: Returning best identified program with score 95.65!\n"
     ]
    }
   ],
   "source": [
    "# prompt_of_field_to_optimize = \"customer_receiving_skin_care_elsewhere\"\n",
    "# semantic = False\n",
    "\n",
    "# # Load dataset and a target field (to avoid giving spurious information)\n",
    "# dataset = BonbozTelesalesCall(\n",
    "#     path=\"/home/anhnht/Anywhere-LLM/data/bonboz_call_analysis.csv\",\n",
    "#     selected_output_field=prompt_of_field_to_optimize,\n",
    "# )\n",
    "# metric = BonbozTelesalesScore(\n",
    "#     selected_output_field=prompt_of_field_to_optimize, semantic=semantic\n",
    "# )\n",
    "\n",
    "\n",
    "# class ProgSig(dspy.Signature):\n",
    "#     \"\"\"As a skilled Vietnamese language analyst for a beauty clinic, your role is to meticulously examine call transcripts between the clinic's agent and potential clients. Your main goal is to assess whether the customer rejects offer because they are receiving skin care elsewhere. Remain alert to potential diarization errors and incorrectly attributed speaker tags within the transcript, and make informed assumptions when faced with unclear situations. Provide a comprehensive analysis by including specific quotes from the transcript to substantiate your findings. Ensure that text is enclosed in double quotes and timestamps in square brackets.\"\"\"\n",
    "\n",
    "#     transcript = dspy.InputField(format=\"str\")\n",
    "\n",
    "#     customer_receiving_skin_care_elsewhere: bool = dspy.OutputField()\n",
    "\n",
    "\n",
    "# program = dspy.ChainOfThought(ProgSig)\n",
    "\n",
    "# teleprompter = MIPROv2(\n",
    "#     metric=metric, max_bootstrapped_demos=0, max_labeled_demos=0, auto=\"light\"\n",
    "# )\n",
    "\n",
    "# optimized_program = teleprompter.compile(\n",
    "#     program,\n",
    "#     trainset=dataset.train,\n",
    "#     valset=dataset.dev,\n",
    "#     requires_permission_to_run=False,\n",
    "# )\n",
    "# optimized_program.save(\"optimized_prompt.json\")"
   ]
  },
  {
   "cell_type": "code",
   "execution_count": null,
   "metadata": {},
   "outputs": [
    {
     "name": "stderr",
     "output_type": "stream",
     "text": [
      "2024/11/14 14:05:38 INFO dspy.teleprompt.mipro_optimizer_v2: \n",
      "RUNNING WITH THE FOLLOWING LIGHT AUTO RUN SETTINGS:\n",
      "num_trials: 7\n",
      "minibatch: False\n",
      "num_candidates: 7\n",
      "valset size: 23\n",
      "\n",
      "2024/11/14 14:05:38 INFO dspy.teleprompt.mipro_optimizer_v2: \n",
      "==> STEP 1: BOOTSTRAP FEWSHOT EXAMPLES <==\n",
      "2024/11/14 14:05:38 INFO dspy.teleprompt.mipro_optimizer_v2: These will be used for informing instruction proposal.\n",
      "\n",
      "2024/11/14 14:05:38 INFO dspy.teleprompt.mipro_optimizer_v2: Bootstrapping N=7 sets of demonstrations...\n"
     ]
    },
    {
     "name": "stdout",
     "output_type": "stream",
     "text": [
      "Bootstrapping set 1/7\n",
      "Bootstrapping set 2/7\n"
     ]
    },
    {
     "name": "stderr",
     "output_type": "stream",
     "text": [
      " 36%|███▋      | 8/22 [00:27<00:48,  3.44s/it]\n"
     ]
    },
    {
     "name": "stdout",
     "output_type": "stream",
     "text": [
      "Bootstrapped 3 full traces after 8 examples for up to 1 rounds, amounting to 8 attempts.\n",
      "Bootstrapping set 3/7\n"
     ]
    },
    {
     "name": "stderr",
     "output_type": "stream",
     "text": [
      " 14%|█▎        | 3/22 [00:06<00:42,  2.23s/it]\n"
     ]
    },
    {
     "name": "stdout",
     "output_type": "stream",
     "text": [
      "Bootstrapped 3 full traces after 3 examples for up to 1 rounds, amounting to 3 attempts.\n",
      "Bootstrapping set 4/7\n"
     ]
    },
    {
     "name": "stderr",
     "output_type": "stream",
     "text": [
      " 23%|██▎       | 5/22 [00:08<00:29,  1.76s/it]\n"
     ]
    },
    {
     "name": "stdout",
     "output_type": "stream",
     "text": [
      "Bootstrapped 3 full traces after 5 examples for up to 1 rounds, amounting to 5 attempts.\n",
      "Bootstrapping set 5/7\n"
     ]
    },
    {
     "name": "stderr",
     "output_type": "stream",
     "text": [
      " 32%|███▏      | 7/22 [00:14<00:30,  2.06s/it]\n"
     ]
    },
    {
     "name": "stdout",
     "output_type": "stream",
     "text": [
      "Bootstrapped 3 full traces after 7 examples for up to 1 rounds, amounting to 7 attempts.\n",
      "Bootstrapping set 6/7\n"
     ]
    },
    {
     "name": "stderr",
     "output_type": "stream",
     "text": [
      "  5%|▍         | 1/22 [00:00<00:00, 151.92it/s]\n"
     ]
    },
    {
     "name": "stdout",
     "output_type": "stream",
     "text": [
      "Bootstrapped 1 full traces after 1 examples for up to 1 rounds, amounting to 1 attempts.\n",
      "Bootstrapping set 7/7\n"
     ]
    },
    {
     "name": "stderr",
     "output_type": "stream",
     "text": [
      "  9%|▉         | 2/22 [00:00<00:00, 688.44it/s]\n",
      "2024/11/14 14:06:35 INFO dspy.teleprompt.mipro_optimizer_v2: \n",
      "==> STEP 2: PROPOSE INSTRUCTION CANDIDATES <==\n",
      "2024/11/14 14:06:35 INFO dspy.teleprompt.mipro_optimizer_v2: We will use the few-shot examples from the previous step, a generated dataset summary, a summary of the program code, and a randomly selected prompting tip to propose instructions.\n"
     ]
    },
    {
     "name": "stdout",
     "output_type": "stream",
     "text": [
      "Bootstrapped 2 full traces after 2 examples for up to 1 rounds, amounting to 2 attempts.\n"
     ]
    },
    {
     "name": "stderr",
     "output_type": "stream",
     "text": [
      "2024/11/14 14:06:56 INFO dspy.teleprompt.mipro_optimizer_v2: \n",
      "Proposing instructions...\n",
      "\n",
      "2024/11/14 14:08:25 INFO dspy.teleprompt.mipro_optimizer_v2: Proposed Instructions for Predictor 0:\n",
      "\n",
      "2024/11/14 14:08:25 INFO dspy.teleprompt.mipro_optimizer_v2: 0: As a skilled Vietnamese language analyst for a beauty clinic, your role is to meticulously examine call transcripts between the clinic's agent and potential clients. Your main goal is to assess whether the customer inquires about procedure details. Remain alert to potential diarization errors and incorrectly attributed speaker tags within the transcript, and make informed assumptions when faced with unclear situations. Provide a comprehensive analysis by including specific quotes from the transcript to substantiate your findings. Ensure that text is enclosed in double quotes and timestamps in square brackets.\n",
      "\n",
      "2024/11/14 14:08:25 INFO dspy.teleprompt.mipro_optimizer_v2: 1: You are an expert Vietnamese language analyst working for a beauty clinic. Your task is to thoroughly review call transcripts between the clinic's agent and potential clients to determine if the customer inquires about procedure details. Pay close attention to potential diarization errors and any incorrectly attributed speaker tags, making informed assumptions in ambiguous situations. Your analysis should be detailed, including specific quotes from the transcript to support your conclusions. Make sure to enclose text in double quotes and timestamps in square brackets where applicable.\n",
      "\n",
      "2024/11/14 14:08:25 INFO dspy.teleprompt.mipro_optimizer_v2: 2: As an adept Vietnamese language analyst at a beauty clinic, your task is to thoroughly review call transcripts between the clinic's agent and potential clients to determine if the customer is inquiring about the details of the procedures offered. Be vigilant for any diarization errors or misattributed speaker tags within the transcript and make reasoned assumptions when the conversation is ambiguous. Provide a detailed analysis by citing specific quotes from the transcript that support your findings. Ensure that all text is within double quotes and timestamps are in square brackets. Your goal is to accurately identify customer inquiries about procedural specifics and deliver a clear, substantiated conclusion.\n",
      "\n",
      "2024/11/14 14:08:25 INFO dspy.teleprompt.mipro_optimizer_v2: 3: As a critical Vietnamese language analyst for a beauty clinic, you are tasked with the vital mission of scrutinizing call transcripts between the clinic's agent and potential clients. Your primary objective is to determine if the customer inquires about procedure details, which is essential for tailoring customer engagement strategies. Be vigilant for potential diarization errors and incorrectly attributed speaker tags, and exercise informed judgment when faced with ambiguous situations. Deliver a thorough analysis by citing specific quotes from the transcript to support your conclusions. Ensure quotes are enclosed in double quotes and timestamps in square brackets. Your analysis directly influences strategic decisions in enhancing customer trust and engagement, making your role pivotal in the clinic's success.\n",
      "\n",
      "2024/11/14 14:08:25 INFO dspy.teleprompt.mipro_optimizer_v2: 4: As an expert Vietnamese language analyst specializing in telesales interactions for a beauty clinic, your task is to thoroughly review call transcripts between the clinic's representative and potential clients. Your primary objective is to determine whether the customer asks for details about the skincare procedures being offered. Be vigilant for potential diarization errors and misattributed speaker tags within the transcript, and make reasoned judgments when clarity is lacking. Your analysis should be comprehensive, citing specific quotes from the transcript to support your conclusions. Ensure all text is enclosed in double quotes, and timestamps are in square brackets, to provide clear evidence for your reasoning.\n",
      "\n",
      "2024/11/14 14:08:25 INFO dspy.teleprompt.mipro_optimizer_v2: 5: Analyze the provided Vietnamese call transcript between a beauty clinic agent and a potential client. Determine if the customer inquires about procedure details such as duration, frequency, cost, and technology used. Be vigilant of potential diarization errors and speaker tag misattributions. Provide a detailed reasoning with specific quotes from the transcript to support your findings. Include text in double quotes and timestamps in square brackets where applicable. Conclude with a boolean value indicating whether the customer inquired about procedure details.\n",
      "\n",
      "2024/11/14 14:08:25 INFO dspy.teleprompt.mipro_optimizer_v2: 6: As a proficient Vietnamese language analyst working for a beauty clinic, your task is to thoroughly review call transcripts between the clinic's agent and potential clients. Your primary objective is to determine if the customer asks about the details of the beauty procedures offered. Pay close attention to potential diarization errors and any misattributed speaker tags within the transcript, making informed judgments when the context is unclear. Provide a detailed analysis by extracting and quoting specific parts of the transcript to support your conclusions. Ensure that all quoted text is enclosed in double quotes, and any timestamps are presented in square brackets. Your comprehensive analysis will help the clinic understand customer interests and improve their service offerings based on customer inquiries about their procedures.\n",
      "\n",
      "2024/11/14 14:08:25 INFO dspy.teleprompt.mipro_optimizer_v2: \n",
      "\n",
      "2024/11/14 14:08:25 INFO dspy.teleprompt.mipro_optimizer_v2: Evaluating the default program...\n",
      "\n",
      "Average Metric: 9.0 / 18  (50.0):  78%|███████▊  | 18/23 [00:38<00:14,  2.83s/it]2024/11/14 14:09:11 ERROR dspy.evaluate.evaluate: Error for example in dev set: \t\t litellm.RateLimitError: AzureException RateLimitError - Error code: 429 - {'error': {'code': '429', 'message': 'Requests to the ChatCompletions_Create Operation under Azure OpenAI API version 2024-02-15-preview have exceeded token rate limit of your current OpenAI S0 pricing tier. Please retry after 5 seconds. Please go here: https://aka.ms/oai/quotaincrease if you would like to further increase the default rate limit.'}}. Set `provide_traceback=True` to see the stack trace.\n",
      "Average Metric: 12.0 / 23  (52.2): 100%|██████████| 23/23 [00:54<00:00,  2.36s/it]\n",
      "2024/11/14 14:09:19 INFO dspy.evaluate.evaluate: Average Metric: 12.0 / 23 (52.2%)\n",
      "2024/11/14 14:09:19 INFO dspy.teleprompt.mipro_optimizer_v2: Default program score: 52.17\n",
      "\n",
      "2024/11/14 14:09:19 INFO dspy.teleprompt.mipro_optimizer_v2: ==> STEP 3: FINDING OPTIMAL PROMPT PARAMETERS <==\n",
      "2024/11/14 14:09:19 INFO dspy.teleprompt.mipro_optimizer_v2: We will evaluate the program over a series of trials with different combinations of instructions and few-shot examples to find the optimal combination using Bayesian Optimization.\n",
      "\n",
      "/home/anhnht/miniforge3/envs/llm/lib/python3.11/site-packages/optuna/samplers/_tpe/sampler.py:319: ExperimentalWarning: ``multivariate`` option is an experimental feature. The interface can change in the future.\n",
      "  warnings.warn(\n",
      "2024/11/14 14:09:19 INFO dspy.teleprompt.mipro_optimizer_v2: ===== Trial 1 / 7 =====\n",
      "Average Metric: 12.0 / 23  (52.2): 100%|██████████| 23/23 [00:45<00:00,  1.98s/it]\n",
      "2024/11/14 14:10:04 INFO dspy.evaluate.evaluate: Average Metric: 12.0 / 23 (52.2%)\n",
      "2024/11/14 14:10:04 INFO dspy.teleprompt.mipro_optimizer_v2: Score: 52.17 with parameters ['Predictor 0: Instruction 1'].\n",
      "2024/11/14 14:10:04 INFO dspy.teleprompt.mipro_optimizer_v2: Scores so far: [52.17, 52.17]\n",
      "2024/11/14 14:10:04 INFO dspy.teleprompt.mipro_optimizer_v2: Best score so far: 52.17\n",
      "2024/11/14 14:10:04 INFO dspy.teleprompt.mipro_optimizer_v2: =======================\n",
      "\n",
      "\n",
      "2024/11/14 14:10:04 INFO dspy.teleprompt.mipro_optimizer_v2: ===== Trial 2 / 7 =====\n",
      "Average Metric: 18.0 / 23  (78.3): 100%|██████████| 23/23 [00:56<00:00,  2.46s/it]\n",
      "2024/11/14 14:11:01 INFO dspy.evaluate.evaluate: Average Metric: 18.0 / 23 (78.3%)\n",
      "2024/11/14 14:11:01 INFO dspy.teleprompt.mipro_optimizer_v2: \u001b[92mBest full score so far!\u001b[0m Score: 78.26\n",
      "2024/11/14 14:11:01 INFO dspy.teleprompt.mipro_optimizer_v2: Score: 78.26 with parameters ['Predictor 0: Instruction 5'].\n",
      "2024/11/14 14:11:01 INFO dspy.teleprompt.mipro_optimizer_v2: Scores so far: [52.17, 52.17, 78.26]\n",
      "2024/11/14 14:11:01 INFO dspy.teleprompt.mipro_optimizer_v2: Best score so far: 78.26\n",
      "2024/11/14 14:11:01 INFO dspy.teleprompt.mipro_optimizer_v2: =======================\n",
      "\n",
      "\n",
      "2024/11/14 14:11:01 INFO dspy.teleprompt.mipro_optimizer_v2: ===== Trial 3 / 7 =====\n",
      "Average Metric: 15.0 / 23  (65.2): 100%|██████████| 23/23 [00:54<00:00,  2.36s/it]\n",
      "2024/11/14 14:11:55 INFO dspy.evaluate.evaluate: Average Metric: 15.0 / 23 (65.2%)\n",
      "2024/11/14 14:11:55 INFO dspy.teleprompt.mipro_optimizer_v2: Score: 65.22 with parameters ['Predictor 0: Instruction 2'].\n",
      "2024/11/14 14:11:55 INFO dspy.teleprompt.mipro_optimizer_v2: Scores so far: [52.17, 52.17, 78.26, 65.22]\n",
      "2024/11/14 14:11:55 INFO dspy.teleprompt.mipro_optimizer_v2: Best score so far: 78.26\n",
      "2024/11/14 14:11:55 INFO dspy.teleprompt.mipro_optimizer_v2: =======================\n",
      "\n",
      "\n",
      "2024/11/14 14:11:55 INFO dspy.teleprompt.mipro_optimizer_v2: ===== Trial 4 / 7 =====\n",
      "Average Metric: 18.0 / 23  (78.3): 100%|██████████| 23/23 [00:00<00:00, 1081.64it/s]\n",
      "2024/11/14 14:11:55 INFO dspy.evaluate.evaluate: Average Metric: 18.0 / 23 (78.3%)\n",
      "2024/11/14 14:11:55 INFO dspy.teleprompt.mipro_optimizer_v2: Score: 78.26 with parameters ['Predictor 0: Instruction 5'].\n",
      "2024/11/14 14:11:55 INFO dspy.teleprompt.mipro_optimizer_v2: Scores so far: [52.17, 52.17, 78.26, 65.22, 78.26]\n",
      "2024/11/14 14:11:55 INFO dspy.teleprompt.mipro_optimizer_v2: Best score so far: 78.26\n",
      "2024/11/14 14:11:55 INFO dspy.teleprompt.mipro_optimizer_v2: =======================\n",
      "\n",
      "\n",
      "2024/11/14 14:11:55 INFO dspy.teleprompt.mipro_optimizer_v2: ===== Trial 5 / 7 =====\n",
      "Average Metric: 16.0 / 23  (69.6): 100%|██████████| 23/23 [01:03<00:00,  2.76s/it]\n",
      "2024/11/14 14:12:59 INFO dspy.evaluate.evaluate: Average Metric: 16.0 / 23 (69.6%)\n",
      "2024/11/14 14:12:59 INFO dspy.teleprompt.mipro_optimizer_v2: Score: 69.57 with parameters ['Predictor 0: Instruction 4'].\n",
      "2024/11/14 14:12:59 INFO dspy.teleprompt.mipro_optimizer_v2: Scores so far: [52.17, 52.17, 78.26, 65.22, 78.26, 69.57]\n",
      "2024/11/14 14:12:59 INFO dspy.teleprompt.mipro_optimizer_v2: Best score so far: 78.26\n",
      "2024/11/14 14:12:59 INFO dspy.teleprompt.mipro_optimizer_v2: =======================\n",
      "\n",
      "\n",
      "2024/11/14 14:12:59 INFO dspy.teleprompt.mipro_optimizer_v2: ===== Trial 6 / 7 =====\n",
      "Average Metric: 12.0 / 23  (52.2): 100%|██████████| 23/23 [00:00<00:00, 944.86it/s] \n",
      "2024/11/14 14:12:59 INFO dspy.evaluate.evaluate: Average Metric: 12.0 / 23 (52.2%)\n",
      "2024/11/14 14:12:59 INFO dspy.teleprompt.mipro_optimizer_v2: Score: 52.17 with parameters ['Predictor 0: Instruction 1'].\n",
      "2024/11/14 14:12:59 INFO dspy.teleprompt.mipro_optimizer_v2: Scores so far: [52.17, 52.17, 78.26, 65.22, 78.26, 69.57, 52.17]\n",
      "2024/11/14 14:12:59 INFO dspy.teleprompt.mipro_optimizer_v2: Best score so far: 78.26\n",
      "2024/11/14 14:12:59 INFO dspy.teleprompt.mipro_optimizer_v2: =======================\n",
      "\n",
      "\n",
      "2024/11/14 14:12:59 INFO dspy.teleprompt.mipro_optimizer_v2: ===== Trial 7 / 7 =====\n",
      "Average Metric: 14.0 / 23  (60.9): 100%|██████████| 23/23 [00:58<00:00,  2.53s/it]\n",
      "2024/11/14 14:13:57 INFO dspy.evaluate.evaluate: Average Metric: 14.0 / 23 (60.9%)\n",
      "2024/11/14 14:13:57 INFO dspy.teleprompt.mipro_optimizer_v2: Score: 60.87 with parameters ['Predictor 0: Instruction 6'].\n",
      "2024/11/14 14:13:57 INFO dspy.teleprompt.mipro_optimizer_v2: Scores so far: [52.17, 52.17, 78.26, 65.22, 78.26, 69.57, 52.17, 60.87]\n",
      "2024/11/14 14:13:57 INFO dspy.teleprompt.mipro_optimizer_v2: Best score so far: 78.26\n",
      "2024/11/14 14:13:57 INFO dspy.teleprompt.mipro_optimizer_v2: =======================\n",
      "\n",
      "\n",
      "2024/11/14 14:13:57 INFO dspy.teleprompt.mipro_optimizer_v2: Returning best identified program with score 78.26!\n"
     ]
    }
   ],
   "source": [
    "# prompt_of_field_to_optimize = \"customer_inquires_about_procedure_details\"\n",
    "# semantic = False\n",
    "\n",
    "# # Load dataset and a target field (to avoid giving spurious information)\n",
    "# dataset = BonbozTelesalesCall(\n",
    "#     path=\"/home/anhnht/Anywhere-LLM/data/bonboz_call_analysis.csv\",\n",
    "#     selected_output_field=prompt_of_field_to_optimize,\n",
    "# )\n",
    "# metric = BonbozTelesalesScore(\n",
    "#     selected_output_field=prompt_of_field_to_optimize, semantic=semantic\n",
    "# )\n",
    "\n",
    "\n",
    "# class ProgSig(dspy.Signature):\n",
    "#     \"\"\"As a skilled Vietnamese language analyst for a beauty clinic, your role is to meticulously examine call transcripts between the clinic's agent and potential clients. Your main goal is to assess whether the customer inquires about procedure details. Remain alert to potential diarization errors and incorrectly attributed speaker tags within the transcript, and make informed assumptions when faced with unclear situations. Provide a comprehensive analysis by including specific quotes from the transcript to substantiate your findings. Ensure that text is enclosed in double quotes and timestamps in square brackets.\"\"\"\n",
    "\n",
    "#     transcript = dspy.InputField(format=\"str\")\n",
    "\n",
    "#     customer_inquires_about_procedure_details: bool = dspy.OutputField()\n",
    "\n",
    "\n",
    "# program = dspy.ChainOfThought(ProgSig)\n",
    "\n",
    "# teleprompter = MIPROv2(\n",
    "#     metric=metric, max_bootstrapped_demos=0, max_labeled_demos=0, auto=\"light\"\n",
    "# )\n",
    "\n",
    "# optimized_program = teleprompter.compile(\n",
    "#     program,\n",
    "#     trainset=dataset.train,\n",
    "#     valset=dataset.dev,\n",
    "#     requires_permission_to_run=False,\n",
    "# )\n",
    "# optimized_program.save(\"optimized_prompt.json\")"
   ]
  },
  {
   "cell_type": "code",
   "execution_count": null,
   "metadata": {},
   "outputs": [
    {
     "name": "stderr",
     "output_type": "stream",
     "text": [
      "2024/11/14 14:37:00 INFO dspy.teleprompt.mipro_optimizer_v2: \n",
      "RUNNING WITH THE FOLLOWING LIGHT AUTO RUN SETTINGS:\n",
      "num_trials: 7\n",
      "minibatch: False\n",
      "num_candidates: 7\n",
      "valset size: 23\n",
      "\n",
      "2024/11/14 14:37:00 INFO dspy.teleprompt.mipro_optimizer_v2: \n",
      "==> STEP 1: BOOTSTRAP FEWSHOT EXAMPLES <==\n",
      "2024/11/14 14:37:00 INFO dspy.teleprompt.mipro_optimizer_v2: These will be used for informing instruction proposal.\n",
      "\n",
      "2024/11/14 14:37:00 INFO dspy.teleprompt.mipro_optimizer_v2: Bootstrapping N=7 sets of demonstrations...\n"
     ]
    },
    {
     "name": "stdout",
     "output_type": "stream",
     "text": [
      "Bootstrapping set 1/7\n",
      "Bootstrapping set 2/7\n"
     ]
    },
    {
     "name": "stderr",
     "output_type": "stream",
     "text": [
      "  0%|          | 0/22 [00:00<?, ?it/s]"
     ]
    },
    {
     "name": "stderr",
     "output_type": "stream",
     "text": [
      " 18%|█▊        | 4/22 [00:43<03:15, 10.84s/it]\n"
     ]
    },
    {
     "name": "stdout",
     "output_type": "stream",
     "text": [
      "Bootstrapped 3 full traces after 4 examples for up to 1 rounds, amounting to 4 attempts.\n",
      "Bootstrapping set 3/7\n"
     ]
    },
    {
     "name": "stderr",
     "output_type": "stream",
     "text": [
      " 14%|█▎        | 3/22 [00:20<02:07,  6.73s/it]\n"
     ]
    },
    {
     "name": "stdout",
     "output_type": "stream",
     "text": [
      "Bootstrapped 3 full traces after 3 examples for up to 1 rounds, amounting to 3 attempts.\n",
      "Bootstrapping set 4/7\n"
     ]
    },
    {
     "name": "stderr",
     "output_type": "stream",
     "text": [
      " 14%|█▎        | 3/22 [00:14<01:32,  4.87s/it]\n"
     ]
    },
    {
     "name": "stdout",
     "output_type": "stream",
     "text": [
      "Bootstrapped 3 full traces after 3 examples for up to 1 rounds, amounting to 3 attempts.\n",
      "Bootstrapping set 5/7\n"
     ]
    },
    {
     "name": "stderr",
     "output_type": "stream",
     "text": [
      " 14%|█▎        | 3/22 [00:24<02:32,  8.05s/it]\n"
     ]
    },
    {
     "name": "stdout",
     "output_type": "stream",
     "text": [
      "Bootstrapped 3 full traces after 3 examples for up to 1 rounds, amounting to 3 attempts.\n",
      "Bootstrapping set 6/7\n"
     ]
    },
    {
     "name": "stderr",
     "output_type": "stream",
     "text": [
      "  5%|▍         | 1/22 [00:00<00:00, 256.93it/s]\n"
     ]
    },
    {
     "name": "stdout",
     "output_type": "stream",
     "text": [
      "Bootstrapped 1 full traces after 1 examples for up to 1 rounds, amounting to 1 attempts.\n",
      "Bootstrapping set 7/7\n"
     ]
    },
    {
     "name": "stderr",
     "output_type": "stream",
     "text": [
      "  9%|▉         | 2/22 [00:00<00:00, 305.56it/s]\n",
      "2024/11/14 14:38:43 INFO dspy.teleprompt.mipro_optimizer_v2: \n",
      "==> STEP 2: PROPOSE INSTRUCTION CANDIDATES <==\n",
      "2024/11/14 14:38:43 INFO dspy.teleprompt.mipro_optimizer_v2: We will use the few-shot examples from the previous step, a generated dataset summary, a summary of the program code, and a randomly selected prompting tip to propose instructions.\n"
     ]
    },
    {
     "name": "stdout",
     "output_type": "stream",
     "text": [
      "Bootstrapped 2 full traces after 2 examples for up to 1 rounds, amounting to 2 attempts.\n"
     ]
    },
    {
     "name": "stderr",
     "output_type": "stream",
     "text": [
      "2024/11/14 14:39:02 INFO dspy.teleprompt.mipro_optimizer_v2: \n",
      "Proposing instructions...\n",
      "\n",
      "2024/11/14 14:41:28 INFO dspy.teleprompt.mipro_optimizer_v2: Proposed Instructions for Predictor 0:\n",
      "\n",
      "2024/11/14 14:41:28 INFO dspy.teleprompt.mipro_optimizer_v2: 0: Act as a direct, efficient, knowledgeable and bilingual (Vietnamese and English) assistant for a cosmetic surgery clinic. Your task is to read the transcript of a skincare telesale agent with a potential customer, then deliver a meaningful output based on your reading of the conversation as instructed.\n",
      "\n",
      "I have the following the list of elements (I will call them: \"LIST_ELEMENTS_AAA\") that the skincare telesale agent usually use to persuade customers:\n",
      "- Bằng cấp giấy phép phòng khám\n",
      "- Mời trải nghiệm để xin đánh giá\n",
      "- Không bán mỹ phẩm\n",
      "- Phân biệt với spa\n",
      "- Không mất phí\n",
      "- Không mang CCCD\n",
      "- Giải thích trường hợp phát sinh phí\n",
      "- Bác sĩ trực tiếp thăm khám\n",
      "- Liệu trình chỉ 60-90p\n",
      "\n",
      "Your task is reading and checking if skincare telesale agent usually use elements in \"LIST_ELEMENTS_AAA\" to persuade customers. Afterthat, return the answer following format\n",
      "\n",
      "- Bằng cấp giấy phép phòng khám: <YES/NO>\n",
      "- Mời trải nghiệm để xin đánh giá: <YES/NO>\n",
      "- Không bán mỹ phẩm: <YES/NO>\n",
      "- Phân biệt với spa: <YES/NO>\n",
      "- Không mất phí: <YES/NO>\n",
      "- Không mang CCCD: <YES/NO>\n",
      "- Giải thích trường hợp phát sinh phí: <YES/NO>\n",
      "- Bác sĩ trực tiếp thăm khám: <YES/NO>\n",
      "- Liệu trình chỉ 60-90p: <YES/NO>\n",
      "\n",
      "If there is no explicit or the information in the conversation is lacking or too ambiguous, you should answer that the information is missing.  You MUST be aware of phonetic errors, diarization errors, and translation errors in the machine-translated transcript and make educated guesses in ambiguous cases. After the output, you will quote specific lines from the conversations that support your output. All output must be in Vietnamese only, not bold and italic.\n",
      "\n",
      "2024/11/14 14:41:28 INFO dspy.teleprompt.mipro_optimizer_v2: 1: You are a proficient and bilingual (Vietnamese and English) assistant for a cosmetic surgery clinic. Your task is to read the transcript of a skincare telesale agent's conversation with a potential customer. After reading, analyze and determine if the agent used specific persuasive elements, referred to as \"LIST_ELEMENTS_AAA,\" during the conversation. These elements include aspects like offering free services, not requiring ID, and having a licensed clinic.\n",
      "\n",
      "Your analysis should be structured as follows:\n",
      "\n",
      "- Bằng cấp giấy phép phòng khám: <YES/NO>\n",
      "- Mời trải nghiệm để xin đánh giá: <YES/NO>\n",
      "- Không bán mỹ phẩm: <YES/NO>\n",
      "- Phân biệt với spa: <YES/NO>\n",
      "- Không mất phí: <YES/NO>\n",
      "- Không mang CCCD: <YES/NO>\n",
      "- Giải thích trường hợp phát sinh phí: <YES/NO>\n",
      "- Bác sĩ trực tiếp thăm khám: <YES/NO>\n",
      "- Liệu trình chỉ 60-90p: <YES/NO>\n",
      "\n",
      "In cases where information is not explicitly mentioned or is ambiguous, indicate that the information is missing. Be mindful of potential phonetic errors, diarization errors, and translation errors in the machine-translated transcript, and make educated guesses where necessary. After your analysis, provide specific quotes from the conversation that support your conclusions. Ensure all output is in Vietnamese and avoid using bold or italic formatting.\n",
      "\n",
      "2024/11/14 14:41:28 INFO dspy.teleprompt.mipro_optimizer_v2: 2: As a bilingual (Vietnamese and English) assistant for a cosmetic clinic, your role is to analyze a transcript of a telesales conversation between a skincare agent and a potential customer. Identify and verify the use of specific persuasive elements outlined in \"LIST_ELEMENTS_AAA\" during the conversation. Provide your findings in the format below, indicating \"YES\" or \"NO\" for each element's presence. If the information is unclear or missing, note it as such. Consider potential phonetic, diarization, and translation errors in the transcript, and make educated assumptions where necessary. Conclude with specific quotes from the transcript supporting your analysis. Ensure all output is in Vietnamese, without using bold or italic formatting.\n",
      "\n",
      "- Bằng cấp giấy phép phòng khám: <YES/NO>\n",
      "- Mời trải nghiệm để xin đánh giá: <YES/NO>\n",
      "- Không bán mỹ phẩm: <YES/NO>\n",
      "- Phân biệt với spa: <YES/NO>\n",
      "- Không mất phí: <YES/NO>\n",
      "- Không mang CCCD: <YES/NO>\n",
      "- Giải thích trường hợp phát sinh phí: <YES/NO>\n",
      "- Bác sĩ trực tiếp thăm khám: <YES/NO>\n",
      "- Liệu trình chỉ 60-90p: <YES/NO>\n",
      "\n",
      "2024/11/14 14:41:28 INFO dspy.teleprompt.mipro_optimizer_v2: 3: Imagine you are a bilingual (Vietnamese and English) assistant working for a prestigious cosmetic surgery clinic. Your role is crucial as you evaluate the effectiveness of our skincare telesale agents' conversations with potential clients. Your task is to carefully analyze the transcript of these conversations and determine if the agents are effectively using key persuasive elements from our \"LIST_ELEMENTS_AAA\" to convince customers to visit our clinic. This evaluation is vital as it directly impacts our customer acquisition and retention strategy.\n",
      "\n",
      "The elements you need to look for are:\n",
      "- Bằng cấp giấy phép phòng khám\n",
      "- Mời trải nghiệm để xin đánh giá\n",
      "- Không bán mỹ phẩm\n",
      "- Phân biệt với spa\n",
      "- Không mất phí\n",
      "- Không mang CCCD\n",
      "- Giải thích trường hợp phát sinh phí\n",
      "- Bác sĩ trực tiếp thăm khám\n",
      "- Liệu trình chỉ 60-90p\n",
      "\n",
      "After analyzing the conversation, provide a detailed report on whether each element was used, using the format below:\n",
      "\n",
      "- Bằng cấp giấy phép phòng khám: <YES/NO>\n",
      "- Mời trải nghiệm để xin đánh giá: <YES/NO>\n",
      "- Không bán mỹ phẩm: <YES/NO>\n",
      "- Phân biệt với spa: <YES/NO>\n",
      "- Không mất phí: <YES/NO>\n",
      "- Không mang CCCD: <YES/NO>\n",
      "- Giải thích trường hợp phát sinh phí: <YES/NO>\n",
      "- Bác sĩ trực tiếp thăm khám: <YES/NO>\n",
      "- Liệu trình chỉ 60-90p: <YES/NO>\n",
      "\n",
      "In cases where the information is missing or ambiguous, indicate that the information is missing. Be vigilant for phonetic, diarization, and translation errors in the machine-translated transcript, and make educated guesses when necessary. Support your conclusions by quoting specific lines from the conversation. Remember, your output must be in Vietnamese only, and should not be in bold or italic.\n",
      "\n",
      "Your analysis is critical in ensuring that our clinic's advantages are clearly communicated and that our telesale agents are effectively convincing potential clients of the quality and legitimacy of our services.\n",
      "\n",
      "2024/11/14 14:41:28 INFO dspy.teleprompt.mipro_optimizer_v2: 4: You are a proficient, bilingual (Vietnamese and English) conversational analyst for a cosmetic surgery clinic. Your task is to examine the transcript of a conversation between a skincare telesale agent and a potential customer. Identify whether the agent uses specific persuasive elements, known as \"LIST_ELEMENTS_AAA,\" which include topics such as clinic licensing, inviting for feedback, non-sale of cosmetics, differentiation from spas, no fees, no need for identification documents, explanations for potential fees, direct consultations by doctors, and treatment duration. \n",
      "\n",
      "Read the transcript carefully and determine if each element is mentioned, responding with \"YES\" or \"NO\" for each item on the list. If the information is missing or unclear, indicate that the information is missing. Be vigilant for phonetic, diarization, and translation errors in the transcript, and make educated guesses in ambiguous situations. Conclude your analysis by quoting specific lines from the conversation to support your findings. Ensure all responses are in Vietnamese, without using bold or italic formatting.\n",
      "\n",
      "2024/11/14 14:41:28 INFO dspy.teleprompt.mipro_optimizer_v2: 5: As a bilingual (Vietnamese and English) assistant for a cosmetic surgery clinic, your task is to analyze a transcript of a conversation between a skincare telesale agent and a potential customer. Identify whether the agent uses specific persuasive elements from the provided list (\"LIST_ELEMENTS_AAA\") during the conversation. For each element, indicate its presence with a YES or NO, and provide supporting quotes from the transcript. Be cautious of potential phonetic, diarization, and translation errors in the machine-translated text, and make educated guesses when necessary. Ensure all responses are in Vietnamese and formatted as instructed.\n",
      "\n",
      "2024/11/14 14:41:28 INFO dspy.teleprompt.mipro_optimizer_v2: 6: You are tasked with acting as a bilingual (Vietnamese and English) assistant for a cosmetic surgery clinic. Your role is to analyze a transcript of a conversation between a skincare telesale agent and a potential customer. Focus on identifying whether the agent uses specific persuasive elements, referred to as \"LIST_ELEMENTS_AAA,\" during the conversation. These elements include:\n",
      "\n",
      "1. Bằng cấp giấy phép phòng khám (Clinic licensing)\n",
      "2. Mời trải nghiệm để xin đánh giá (Invitation for a free trial for feedback)\n",
      "3. Không bán mỹ phẩm (Not selling cosmetics)\n",
      "4. Phân biệt với spa (Differentiation from spas)\n",
      "5. Không mất phí (No cost involved)\n",
      "6. Không mang CCCD (No ID required)\n",
      "7. Giải thích trường hợp phát sinh phí (Explanation of potential fees)\n",
      "8. Bác sĩ trực tiếp thăm khám (Direct doctor consultation)\n",
      "9. Liệu trình chỉ 60-90p (Treatment duration of only 60-90 minutes)\n",
      "\n",
      "Your task is to determine if these elements are mentioned and return your findings in the following format:\n",
      "\n",
      "- Bằng cấp giấy phép phòng khám: <YES/NO>\n",
      "- Mời trải nghiệm để xin đánh giá: <YES/NO>\n",
      "- Không bán mỹ phẩm: <YES/NO>\n",
      "- Phân biệt với spa: <YES/NO>\n",
      "- Không mất phí: <YES/NO>\n",
      "- Không mang CCCD: <YES/NO>\n",
      "- Giải thích trường hợp phát sinh phí: <YES/NO>\n",
      "- Bác sĩ trực tiếp thăm khám: <YES/NO>\n",
      "- Liệu trình chỉ 60-90p: <YES/NO>\n",
      "\n",
      "If the information is not explicitly mentioned or is ambiguous, indicate that the information is missing. Be mindful of potential phonetic, diarization, and translation errors in the transcript and make educated guesses when necessary. After your analysis, provide specific quotes from the transcript to support your conclusions. Ensure that all your outputs are in Vietnamese and are not formatted in bold or italics.\n",
      "\n",
      "2024/11/14 14:41:28 INFO dspy.teleprompt.mipro_optimizer_v2: \n",
      "\n",
      "2024/11/14 14:41:28 INFO dspy.teleprompt.mipro_optimizer_v2: Evaluating the default program...\n",
      "\n",
      "Average Metric: 8.167676767676767 / 19  (43.0):  83%|████████▎ | 19/23 [01:29<00:13,  3.40s/it]"
     ]
    },
    {
     "name": "stdout",
     "output_type": "stream",
     "text": [
      "litellm.BadRequestError: litellm.ContentPolicyViolationError: litellm.ContentPolicyViolationError: AzureException - Error code: 400 - {'error': {'message': \"The response was filtered due to the prompt triggering Azure OpenAI's content management policy. Please modify your prompt and retry. To learn more about our content filtering policies please read our documentation: https://go.microsoft.com/fwlink/?linkid=2198766\", 'type': None, 'param': 'prompt', 'code': 'content_filter', 'status': 400, 'innererror': {'code': 'ResponsibleAIPolicyViolation', 'content_filter_result': {'hate': {'filtered': False, 'severity': 'safe'}, 'self_harm': {'filtered': False, 'severity': 'safe'}, 'sexual': {'filtered': True, 'severity': 'low'}, 'violence': {'filtered': False, 'severity': 'safe'}}}}}\n"
     ]
    },
    {
     "name": "stderr",
     "output_type": "stream",
     "text": [
      "Average Metric: 10.209343434343433 / 23  (44.4): 100%|██████████| 23/23 [01:59<00:00,  5.20s/it]\n",
      "2024/11/14 14:43:28 INFO dspy.evaluate.evaluate: Average Metric: 10.209343434343433 / 23 (44.4%)\n",
      "2024/11/14 14:43:28 INFO dspy.teleprompt.mipro_optimizer_v2: Default program score: 44.39\n",
      "\n",
      "2024/11/14 14:43:28 INFO dspy.teleprompt.mipro_optimizer_v2: ==> STEP 3: FINDING OPTIMAL PROMPT PARAMETERS <==\n",
      "2024/11/14 14:43:28 INFO dspy.teleprompt.mipro_optimizer_v2: We will evaluate the program over a series of trials with different combinations of instructions and few-shot examples to find the optimal combination using Bayesian Optimization.\n",
      "\n",
      "/home/anhnht/miniforge3/envs/llm/lib/python3.11/site-packages/optuna/samplers/_tpe/sampler.py:319: ExperimentalWarning: ``multivariate`` option is an experimental feature. The interface can change in the future.\n",
      "  warnings.warn(\n",
      "2024/11/14 14:43:28 INFO dspy.teleprompt.mipro_optimizer_v2: ===== Trial 1 / 7 =====\n",
      "Average Metric: 11.16065062388592 / 23  (48.5): 100%|██████████| 23/23 [01:45<00:00,  4.57s/it]\n",
      "2024/11/14 14:45:13 INFO dspy.evaluate.evaluate: Average Metric: 11.16065062388592 / 23 (48.5%)\n",
      "2024/11/14 14:45:13 INFO dspy.teleprompt.mipro_optimizer_v2: \u001b[92mBest full score so far!\u001b[0m Score: 48.52\n",
      "2024/11/14 14:45:13 INFO dspy.teleprompt.mipro_optimizer_v2: Score: 48.52 with parameters ['Predictor 0: Instruction 1'].\n",
      "2024/11/14 14:45:13 INFO dspy.teleprompt.mipro_optimizer_v2: Scores so far: [44.39, 48.52]\n",
      "2024/11/14 14:45:13 INFO dspy.teleprompt.mipro_optimizer_v2: Best score so far: 48.52\n",
      "2024/11/14 14:45:13 INFO dspy.teleprompt.mipro_optimizer_v2: =======================\n",
      "\n",
      "\n",
      "2024/11/14 14:45:13 INFO dspy.teleprompt.mipro_optimizer_v2: ===== Trial 2 / 7 =====\n"
     ]
    },
    {
     "name": "stdout",
     "output_type": "stream",
     "text": [
      "litellm.BadRequestError: litellm.ContentPolicyViolationError: litellm.ContentPolicyViolationError: AzureException - Error code: 400 - {'error': {'message': \"The response was filtered due to the prompt triggering Azure OpenAI's content management policy. Please modify your prompt and retry. To learn more about our content filtering policies please read our documentation: https://go.microsoft.com/fwlink/?linkid=2198766\", 'type': None, 'param': 'prompt', 'code': 'content_filter', 'status': 400, 'innererror': {'code': 'ResponsibleAIPolicyViolation', 'content_filter_result': {'hate': {'filtered': False, 'severity': 'safe'}, 'self_harm': {'filtered': False, 'severity': 'safe'}, 'sexual': {'filtered': True, 'severity': 'low'}, 'violence': {'filtered': False, 'severity': 'safe'}}}}}\n"
     ]
    },
    {
     "name": "stderr",
     "output_type": "stream",
     "text": [
      "Average Metric: 8.541964516964516 / 22  (38.8):  96%|█████████▌| 22/23 [02:29<00:05,  5.04s/it] "
     ]
    },
    {
     "name": "stdout",
     "output_type": "stream",
     "text": [
      "litellm.BadRequestError: litellm.ContentPolicyViolationError: litellm.ContentPolicyViolationError: AzureException - Error code: 400 - {'error': {'message': \"The response was filtered due to the prompt triggering Azure OpenAI's content management policy. Please modify your prompt and retry. To learn more about our content filtering policies please read our documentation: https://go.microsoft.com/fwlink/?linkid=2198766\", 'type': None, 'param': 'prompt', 'code': 'content_filter', 'status': 400, 'innererror': {'code': 'ResponsibleAIPolicyViolation', 'content_filter_result': {'hate': {'filtered': False, 'severity': 'safe'}, 'self_harm': {'filtered': False, 'severity': 'safe'}, 'sexual': {'filtered': True, 'severity': 'low'}, 'violence': {'filtered': False, 'severity': 'safe'}}}}}\n"
     ]
    },
    {
     "name": "stderr",
     "output_type": "stream",
     "text": [
      "Average Metric: 9.311195286195286 / 23  (40.5): 100%|██████████| 23/23 [02:33<00:00,  6.68s/it]\n",
      "2024/11/14 14:47:46 INFO dspy.evaluate.evaluate: Average Metric: 9.311195286195286 / 23 (40.5%)\n",
      "2024/11/14 14:47:46 INFO dspy.teleprompt.mipro_optimizer_v2: Score: 40.48 with parameters ['Predictor 0: Instruction 5'].\n",
      "2024/11/14 14:47:46 INFO dspy.teleprompt.mipro_optimizer_v2: Scores so far: [44.39, 48.52, 40.48]\n",
      "2024/11/14 14:47:46 INFO dspy.teleprompt.mipro_optimizer_v2: Best score so far: 48.52\n",
      "2024/11/14 14:47:46 INFO dspy.teleprompt.mipro_optimizer_v2: =======================\n",
      "\n",
      "\n",
      "2024/11/14 14:47:46 INFO dspy.teleprompt.mipro_optimizer_v2: ===== Trial 3 / 7 =====\n",
      "Average Metric: 8.098387723387722 / 20  (40.5):  87%|████████▋ | 20/23 [02:04<00:14,  4.70s/it]"
     ]
    },
    {
     "name": "stdout",
     "output_type": "stream",
     "text": [
      "litellm.BadRequestError: litellm.ContentPolicyViolationError: litellm.ContentPolicyViolationError: AzureException - Error code: 400 - {'error': {'message': \"The response was filtered due to the prompt triggering Azure OpenAI's content management policy. Please modify your prompt and retry. To learn more about our content filtering policies please read our documentation: https://go.microsoft.com/fwlink/?linkid=2198766\", 'type': None, 'param': 'prompt', 'code': 'content_filter', 'status': 400, 'innererror': {'code': 'ResponsibleAIPolicyViolation', 'content_filter_result': {'hate': {'filtered': False, 'severity': 'safe'}, 'self_harm': {'filtered': False, 'severity': 'safe'}, 'sexual': {'filtered': True, 'severity': 'low'}, 'violence': {'filtered': False, 'severity': 'safe'}}}}}\n"
     ]
    },
    {
     "name": "stderr",
     "output_type": "stream",
     "text": [
      "Average Metric: 10.667618492618493 / 23  (46.4): 100%|██████████| 23/23 [02:07<00:00,  5.56s/it]\n",
      "2024/11/14 14:49:54 INFO dspy.evaluate.evaluate: Average Metric: 10.667618492618493 / 23 (46.4%)\n",
      "2024/11/14 14:49:54 INFO dspy.teleprompt.mipro_optimizer_v2: Score: 46.38 with parameters ['Predictor 0: Instruction 2'].\n",
      "2024/11/14 14:49:54 INFO dspy.teleprompt.mipro_optimizer_v2: Scores so far: [44.39, 48.52, 40.48, 46.38]\n",
      "2024/11/14 14:49:54 INFO dspy.teleprompt.mipro_optimizer_v2: Best score so far: 48.52\n",
      "2024/11/14 14:49:54 INFO dspy.teleprompt.mipro_optimizer_v2: =======================\n",
      "\n",
      "\n",
      "2024/11/14 14:49:54 INFO dspy.teleprompt.mipro_optimizer_v2: ===== Trial 4 / 7 =====\n",
      "Average Metric: 9.311195286195286 / 23  (40.5): 100%|██████████| 23/23 [00:17<00:00,  1.31it/s] \n",
      "2024/11/14 14:50:12 INFO dspy.evaluate.evaluate: Average Metric: 9.311195286195286 / 23 (40.5%)\n",
      "2024/11/14 14:50:12 INFO dspy.teleprompt.mipro_optimizer_v2: Score: 40.48 with parameters ['Predictor 0: Instruction 5'].\n",
      "2024/11/14 14:50:12 INFO dspy.teleprompt.mipro_optimizer_v2: Scores so far: [44.39, 48.52, 40.48, 46.38, 40.48]\n",
      "2024/11/14 14:50:12 INFO dspy.teleprompt.mipro_optimizer_v2: Best score so far: 48.52\n",
      "2024/11/14 14:50:12 INFO dspy.teleprompt.mipro_optimizer_v2: =======================\n",
      "\n",
      "\n",
      "2024/11/14 14:50:12 INFO dspy.teleprompt.mipro_optimizer_v2: ===== Trial 5 / 7 =====\n"
     ]
    },
    {
     "name": "stdout",
     "output_type": "stream",
     "text": [
      "litellm.BadRequestError: litellm.ContentPolicyViolationError: litellm.ContentPolicyViolationError: AzureException - Error code: 400 - {'error': {'message': \"The response was filtered due to the prompt triggering Azure OpenAI's content management policy. Please modify your prompt and retry. To learn more about our content filtering policies please read our documentation: https://go.microsoft.com/fwlink/?linkid=2198766\", 'type': None, 'param': 'prompt', 'code': 'content_filter', 'status': 400, 'innererror': {'code': 'ResponsibleAIPolicyViolation', 'content_filter_result': {'hate': {'filtered': False, 'severity': 'safe'}, 'self_harm': {'filtered': False, 'severity': 'safe'}, 'sexual': {'filtered': True, 'severity': 'low'}, 'violence': {'filtered': False, 'severity': 'safe'}}}}}\n"
     ]
    },
    {
     "name": "stderr",
     "output_type": "stream",
     "text": [
      "Average Metric: 8.491851086716794 / 23  (36.9): 100%|██████████| 23/23 [02:05<00:00,  5.46s/it] \n",
      "2024/11/14 14:52:18 INFO dspy.evaluate.evaluate: Average Metric: 8.491851086716794 / 23 (36.9%)\n",
      "2024/11/14 14:52:18 INFO dspy.teleprompt.mipro_optimizer_v2: Score: 36.92 with parameters ['Predictor 0: Instruction 4'].\n",
      "2024/11/14 14:52:18 INFO dspy.teleprompt.mipro_optimizer_v2: Scores so far: [44.39, 48.52, 40.48, 46.38, 40.48, 36.92]\n",
      "2024/11/14 14:52:18 INFO dspy.teleprompt.mipro_optimizer_v2: Best score so far: 48.52\n",
      "2024/11/14 14:52:18 INFO dspy.teleprompt.mipro_optimizer_v2: =======================\n",
      "\n",
      "\n",
      "2024/11/14 14:52:18 INFO dspy.teleprompt.mipro_optimizer_v2: ===== Trial 6 / 7 =====\n"
     ]
    },
    {
     "name": "stdout",
     "output_type": "stream",
     "text": [
      "litellm.BadRequestError: litellm.ContentPolicyViolationError: litellm.ContentPolicyViolationError: AzureException - Error code: 400 - {'error': {'message': \"The response was filtered due to the prompt triggering Azure OpenAI's content management policy. Please modify your prompt and retry. To learn more about our content filtering policies please read our documentation: https://go.microsoft.com/fwlink/?linkid=2198766\", 'type': None, 'param': 'prompt', 'code': 'content_filter', 'status': 400, 'innererror': {'code': 'ResponsibleAIPolicyViolation', 'content_filter_result': {'hate': {'filtered': False, 'severity': 'safe'}, 'self_harm': {'filtered': False, 'severity': 'safe'}, 'sexual': {'filtered': True, 'severity': 'low'}, 'violence': {'filtered': False, 'severity': 'safe'}}}}}\n"
     ]
    },
    {
     "name": "stderr",
     "output_type": "stream",
     "text": [
      "Average Metric: 11.160650623885918 / 23  (48.5): 100%|██████████| 23/23 [00:24<00:00,  1.04s/it] \n",
      "2024/11/14 14:52:42 INFO dspy.evaluate.evaluate: Average Metric: 11.160650623885918 / 23 (48.5%)\n",
      "2024/11/14 14:52:42 INFO dspy.teleprompt.mipro_optimizer_v2: Score: 48.52 with parameters ['Predictor 0: Instruction 1'].\n",
      "2024/11/14 14:52:42 INFO dspy.teleprompt.mipro_optimizer_v2: Scores so far: [44.39, 48.52, 40.48, 46.38, 40.48, 36.92, 48.52]\n",
      "2024/11/14 14:52:42 INFO dspy.teleprompt.mipro_optimizer_v2: Best score so far: 48.52\n",
      "2024/11/14 14:52:42 INFO dspy.teleprompt.mipro_optimizer_v2: =======================\n",
      "\n",
      "\n",
      "2024/11/14 14:52:42 INFO dspy.teleprompt.mipro_optimizer_v2: ===== Trial 7 / 7 =====\n"
     ]
    },
    {
     "name": "stdout",
     "output_type": "stream",
     "text": [
      "litellm.BadRequestError: litellm.ContentPolicyViolationError: litellm.ContentPolicyViolationError: AzureException - Error code: 400 - {'error': {'message': \"The response was filtered due to the prompt triggering Azure OpenAI's content management policy. Please modify your prompt and retry. To learn more about our content filtering policies please read our documentation: https://go.microsoft.com/fwlink/?linkid=2198766\", 'type': None, 'param': 'prompt', 'code': 'content_filter', 'status': 400, 'innererror': {'code': 'ResponsibleAIPolicyViolation', 'content_filter_result': {'hate': {'filtered': False, 'severity': 'safe'}, 'self_harm': {'filtered': False, 'severity': 'safe'}, 'sexual': {'filtered': True, 'severity': 'low'}, 'violence': {'filtered': False, 'severity': 'safe'}}}}}\n"
     ]
    },
    {
     "name": "stderr",
     "output_type": "stream",
     "text": [
      "Average Metric: 10.113525363525362 / 23  (44.0): 100%|██████████| 23/23 [01:34<00:00,  4.12s/it]\n",
      "2024/11/14 14:54:17 INFO dspy.evaluate.evaluate: Average Metric: 10.113525363525362 / 23 (44.0%)\n",
      "2024/11/14 14:54:17 INFO dspy.teleprompt.mipro_optimizer_v2: Score: 43.97 with parameters ['Predictor 0: Instruction 6'].\n",
      "2024/11/14 14:54:17 INFO dspy.teleprompt.mipro_optimizer_v2: Scores so far: [44.39, 48.52, 40.48, 46.38, 40.48, 36.92, 48.52, 43.97]\n",
      "2024/11/14 14:54:17 INFO dspy.teleprompt.mipro_optimizer_v2: Best score so far: 48.52\n",
      "2024/11/14 14:54:17 INFO dspy.teleprompt.mipro_optimizer_v2: =======================\n",
      "\n",
      "\n",
      "2024/11/14 14:54:17 INFO dspy.teleprompt.mipro_optimizer_v2: Returning best identified program with score 48.52!\n"
     ]
    },
    {
     "name": "stdout",
     "output_type": "stream",
     "text": [
      "litellm.BadRequestError: litellm.ContentPolicyViolationError: litellm.ContentPolicyViolationError: AzureException - Error code: 400 - {'error': {'message': \"The response was filtered due to the prompt triggering Azure OpenAI's content management policy. Please modify your prompt and retry. To learn more about our content filtering policies please read our documentation: https://go.microsoft.com/fwlink/?linkid=2198766\", 'type': None, 'param': 'prompt', 'code': 'content_filter', 'status': 400, 'innererror': {'code': 'ResponsibleAIPolicyViolation', 'content_filter_result': {'hate': {'filtered': False, 'severity': 'safe'}, 'self_harm': {'filtered': False, 'severity': 'safe'}, 'sexual': {'filtered': True, 'severity': 'low'}, 'violence': {'filtered': False, 'severity': 'safe'}}}}}\n"
     ]
    }
   ],
   "source": [
    "prompt_of_field_to_optimize = \"clinic_advantages_used_by_employee_for_introduction\"\n",
    "semantic = True\n",
    "\n",
    "# Load dataset and a target field (to avoid giving spurious information)\n",
    "dataset = BonbozTelesalesCall(\n",
    "    path=\"/home/anhnht/Anywhere-LLM/data/bonboz_call_analysis.csv\",\n",
    "    selected_output_field=prompt_of_field_to_optimize,\n",
    ")\n",
    "metric = BonbozTelesalesScore(\n",
    "    selected_output_field=prompt_of_field_to_optimize, semantic=semantic\n",
    ")\n",
    "\n",
    "\n",
    "class ProgSig(dspy.Signature):\n",
    "    \"\"\"Act as a direct, efficient, knowledgeable and bilingual (Vietnamese and English) assistant for a cosmetic surgery clinic. Your task is to read the transcript of a skincare telesale agent with a potential customer, then deliver a meaningful output based on your reading of the conversation as instructed.\n",
    "\n",
    "    I have the following the list of elements (I will call them: \"LIST_ELEMENTS_AAA\") that the skincare telesale agent usually use to persuade customers:\n",
    "    - Bằng cấp giấy phép phòng khám\n",
    "    - Mời trải nghiệm để xin đánh giá\n",
    "    - Không bán mỹ phẩm\n",
    "    - Phân biệt với spa\n",
    "    - Không mất phí\n",
    "    - Không mang CCCD\n",
    "    - Giải thích trường hợp phát sinh phí\n",
    "    - Bác sĩ trực tiếp thăm khám\n",
    "    - Liệu trình chỉ 60-90p\n",
    "\n",
    "    Your task is reading and checking if skincare telesale agent usually use elements in \"LIST_ELEMENTS_AAA\" to persuade customers. Afterthat, return the answer following format\n",
    "\n",
    "    - Bằng cấp giấy phép phòng khám: <YES/NO>\n",
    "    - Mời trải nghiệm để xin đánh giá: <YES/NO>\n",
    "    - Không bán mỹ phẩm: <YES/NO>\n",
    "    - Phân biệt với spa: <YES/NO>\n",
    "    - Không mất phí: <YES/NO>\n",
    "    - Không mang CCCD: <YES/NO>\n",
    "    - Giải thích trường hợp phát sinh phí: <YES/NO>\n",
    "    - Bác sĩ trực tiếp thăm khám: <YES/NO>\n",
    "    - Liệu trình chỉ 60-90p: <YES/NO>\n",
    "\n",
    "    If there is no explicit or the information in the conversation is lacking or too ambiguous, you should answer that the information is missing.  You MUST be aware of phonetic errors, diarization errors, and translation errors in the machine-translated transcript and make educated guesses in ambiguous cases. After the output, you will quote specific lines from the conversations that support your output. All output must be in Vietnamese only, not bold and italic.\"\"\"\n",
    "\n",
    "    transcript = dspy.InputField(format=\"str\")\n",
    "\n",
    "    clinic_advantages_used_by_employee_for_introduction = dspy.OutputField()\n",
    "\n",
    "\n",
    "program = dspy.ChainOfThought(ProgSig)\n",
    "\n",
    "teleprompter = MIPROv2(\n",
    "    metric=metric, max_bootstrapped_demos=0, max_labeled_demos=0, auto=\"light\"\n",
    ")\n",
    "\n",
    "optimized_program = teleprompter.compile(\n",
    "    program,\n",
    "    trainset=dataset.train,\n",
    "    valset=dataset.dev,\n",
    "    requires_permission_to_run=False,\n",
    ")\n",
    "optimized_program.save(\"optimized_prompt.json\")"
   ]
  }
 ],
 "metadata": {
  "kernelspec": {
   "display_name": "base",
   "language": "python",
   "name": "python3"
  },
  "language_info": {
   "codemirror_mode": {
    "name": "ipython",
    "version": 3
   },
   "file_extension": ".py",
   "mimetype": "text/x-python",
   "name": "python",
   "nbconvert_exporter": "python",
   "pygments_lexer": "ipython3",
   "version": "3.13.2"
  }
 },
 "nbformat": 4,
 "nbformat_minor": 2
}
